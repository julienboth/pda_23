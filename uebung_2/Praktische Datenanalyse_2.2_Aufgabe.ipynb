{
 "cells": [
  {
   "cell_type": "markdown",
   "metadata": {},
   "source": [
    "# SF Löhne Übung\n",
    "\n",
    "Willkommen zurück zu einer kleinen Übungseinheit zur Datenanalyse mit Pandas. Wir werden dafür den [Lohndatensatz von San Francisco](https://www.kaggle.com/kaggle/sf-salaries) nutzen, der auf Kaggle bereitgestellt wird. \n",
    "\n",
    "Folgt dem Notebook und bearbeitet die **Aufgabenstellung** der Reihenfolge nach."
   ]
  },
  {
   "cell_type": "markdown",
   "metadata": {},
   "source": [
    "**Aufgabe 1:** Importiere pandas als pd."
   ]
  },
  {
   "cell_type": "code",
   "execution_count": null,
   "metadata": {
    "tags": []
   },
   "outputs": [],
   "source": [
    "### CODE HERE ###"
   ]
  },
  {
   "cell_type": "code",
   "execution_count": null,
   "metadata": {},
   "outputs": [],
   "source": [
    "### TEST HERE ###\n",
    "import sys\n",
    "\n",
    "modulename = \"pandas\"\n",
    "if modulename not in sys.modules:\n",
    "    print(\"You have not imported the {} module\".format(modulename))\n",
    "else:\n",
    "    print(\"You have imported the {} module\".format(modulename))"
   ]
  },
  {
   "cell_type": "markdown",
   "metadata": {},
   "source": [
    "**Aufgabe 2**: Lese Salaries.csv als Dataframe mit dem Namen `sal` ein. Achte darauf, den richtigen Index zu geben.\n",
    "\n",
    "**Hinweis:** Die Datei *Salaries.csv* als liegt im diesem Übungungsheft anbei. Wenn du diese von Kaggle herunterlädst, dann muss du die Daten noch etwas anpassen."
   ]
  },
  {
   "cell_type": "code",
   "execution_count": null,
   "metadata": {},
   "outputs": [],
   "source": [
    "### CODE HERE ###"
   ]
  },
  {
   "cell_type": "code",
   "execution_count": null,
   "metadata": {},
   "outputs": [],
   "source": [
    "### TEST HERE ###\n",
    "columns = [\n",
    "    \"EmployeeName\",\n",
    "    \"JobTitle\",\n",
    "    \"BasePay\",\n",
    "    \"OvertimePay\",\n",
    "    \"OtherPay\",\n",
    "    \"Benefits\",\n",
    "    \"TotalPay\",\n",
    "    \"TotalPayBenefits\",\n",
    "    \"Year\",\n",
    "    \"Notes\",\n",
    "    \"Agency\",\n",
    "    \"Status\",\n",
    "]\n",
    "\n",
    "if (\n",
    "    type(sal) == pd.core.frame.DataFrame\n",
    "    and sal.shape == (148654, 12)\n",
    "    and set(sal.columns).issubset(set(columns))\n",
    "):\n",
    "    print(\"Test successful\")"
   ]
  },
  {
   "cell_type": "markdown",
   "metadata": {},
   "source": [
    "**Aufgabe 3**: Sieh dir den *head* des Dataframe an."
   ]
  },
  {
   "cell_type": "code",
   "execution_count": null,
   "metadata": {},
   "outputs": [],
   "source": [
    "### CODE HERE ###"
   ]
  },
  {
   "cell_type": "markdown",
   "metadata": {},
   "source": [
    "**Aufgabe 4** Sieh dir die letzten 10 Einträge des Dataframes an."
   ]
  },
  {
   "cell_type": "code",
   "execution_count": null,
   "metadata": {},
   "outputs": [],
   "source": [
    "### CODE HERE ###"
   ]
  },
  {
   "cell_type": "markdown",
   "metadata": {},
   "source": [
    "**Aufgabe 5:** Welche Spalten hat das Dataframe? Gib die Spalten in einer Liste wieder und nenne diese `sal_columns`!"
   ]
  },
  {
   "cell_type": "code",
   "execution_count": null,
   "metadata": {},
   "outputs": [],
   "source": [
    "### CODE HERE ###"
   ]
  },
  {
   "cell_type": "code",
   "execution_count": null,
   "metadata": {},
   "outputs": [],
   "source": [
    "### TEST HERE ###\n",
    "if set(sal_columns).issubset(set(columns)):\n",
    "    print(\"Test successful\")"
   ]
  },
  {
   "cell_type": "markdown",
   "metadata": {},
   "source": [
    "**Aufgabe 6**: Speicher den Index in der Variable sal_index a"
   ]
  },
  {
   "cell_type": "code",
   "execution_count": null,
   "metadata": {},
   "outputs": [],
   "source": [
    "### CODE HERE ###"
   ]
  },
  {
   "cell_type": "code",
   "execution_count": null,
   "metadata": {},
   "outputs": [],
   "source": [
    "### TEST HERE ###\n",
    "import numpy as np\n",
    "\n",
    "index = np.arange(1, 148655, 1)\n",
    "\n",
    "if set(sal_index).issubset(set(index)):\n",
    "    print(\"Test successful\")"
   ]
  },
  {
   "cell_type": "markdown",
   "metadata": {},
   "source": [
    "**Aufgabe 7:** Zeige die *shape* des Dataframes an"
   ]
  },
  {
   "cell_type": "code",
   "execution_count": null,
   "metadata": {},
   "outputs": [],
   "source": [
    "### CODE HERE ###"
   ]
  },
  {
   "cell_type": "markdown",
   "metadata": {},
   "source": [
    "**Aufgabe 8:** Welche Datentypen (dtypes) hat das Dataframe? Speichere diese in `sal_dtypes` ab."
   ]
  },
  {
   "cell_type": "code",
   "execution_count": null,
   "metadata": {},
   "outputs": [],
   "source": [
    "### CODE HERE ###"
   ]
  },
  {
   "cell_type": "code",
   "execution_count": null,
   "metadata": {},
   "outputs": [],
   "source": [
    "### TEST HERE ###\n",
    "if list(sal_dtypes)[4] == \"float64\" and list(sal_dtypes)[10] == \"object\":\n",
    "    print(\"Test successful\")"
   ]
  },
  {
   "cell_type": "markdown",
   "metadata": {},
   "source": [
    "**Aufgabe 9**: Nutze die `info()` Methode, um herauszufinden, wie viele Einträge es gibt und ob es vielleicht Dopplungen geben könnte."
   ]
  },
  {
   "cell_type": "code",
   "execution_count": null,
   "metadata": {},
   "outputs": [],
   "source": [
    "### CODE HERE ###"
   ]
  },
  {
   "cell_type": "markdown",
   "metadata": {},
   "source": [
    "**Aufgabe 10:** Nutze die `count` Funktion und vergleiche die Ergebnisse pro Spalte mit der `info` methode. Speichere das Ergebnis unter dem Variablennamen `sal_count`."
   ]
  },
  {
   "cell_type": "code",
   "execution_count": null,
   "metadata": {},
   "outputs": [],
   "source": [
    "### CODE HERE ###"
   ]
  },
  {
   "cell_type": "code",
   "execution_count": null,
   "metadata": {},
   "outputs": [],
   "source": [
    "### TEST HERE ###\n",
    "if sal_count[5] == 112491 and sal_count[9] == 0:\n",
    "    print(\"Test successful\")"
   ]
  },
  {
   "cell_type": "markdown",
   "metadata": {},
   "source": [
    "**Aufgabe 10:** Wie viele Zeilen in der Spalte `Benefits` sind NaN-Einträge? Speichere das Ergebnisse in der Variable `sal_nan`."
   ]
  },
  {
   "cell_type": "code",
   "execution_count": null,
   "metadata": {},
   "outputs": [],
   "source": [
    "### CODE HERE ###"
   ]
  },
  {
   "cell_type": "code",
   "execution_count": null,
   "metadata": {},
   "outputs": [],
   "source": [
    "### TEST HERE ###\n",
    "if sal_nan == 36163:\n",
    "    print(\"Test successful\")"
   ]
  },
  {
   "cell_type": "markdown",
   "metadata": {},
   "source": [
    "**Aufgabe 11:** Zeige pro Spalte die wichtigsten Kennzahlen wie count, mean, std, min, Quartile, max in einer Tabelle an."
   ]
  },
  {
   "cell_type": "code",
   "execution_count": null,
   "metadata": {},
   "outputs": [],
   "source": [
    "### CODE HERE ###"
   ]
  },
  {
   "cell_type": "markdown",
   "metadata": {},
   "source": [
    "**Aufgabe 12:** Erstelle eine Tabelle mit allen Spalten in denen das 10%, 25%, 50%, 75%, und 95% Quantile angezeigt wird. Speichere die Tabelle unter `sal_quantile` ab."
   ]
  },
  {
   "cell_type": "code",
   "execution_count": null,
   "metadata": {},
   "outputs": [],
   "source": [
    "### CODE HERE ###"
   ]
  },
  {
   "cell_type": "code",
   "execution_count": null,
   "metadata": {},
   "outputs": [],
   "source": [
    "### TEST HERE ###\n",
    "overtime_pay_quantiles = [0.0, 0.0, 0.0, 4658.175, 27035.31249999997]\n",
    "\n",
    "if set(list(sal_quantile[\"OvertimePay\"].values)).issubset(set(overtime_pay_quantiles)):\n",
    "    print(\"Test successful\")"
   ]
  },
  {
   "cell_type": "markdown",
   "metadata": {},
   "source": [
    "**Aufgabe 13:** Zeige die Gesamtzahl aller eineindeutigen Werte für alle Spalten an. Speichere das Ergebnis unter `sal_unique`."
   ]
  },
  {
   "cell_type": "code",
   "execution_count": null,
   "metadata": {},
   "outputs": [],
   "source": [
    "### CODE HERE ###"
   ]
  },
  {
   "cell_type": "code",
   "execution_count": null,
   "metadata": {},
   "outputs": [],
   "source": [
    "### TEST HERE ###\n",
    "unique_values = [110811, 2159, 109489, 65998, 83225, 98465, 138486, 142098, 4, 0, 1, 0]\n",
    "\n",
    "if set(list(sal_unique.values)).issubset(set(unique_values)):\n",
    "    print(\"Test successful\")"
   ]
  },
  {
   "cell_type": "markdown",
   "metadata": {},
   "source": [
    "**Aufgabe 14:** Schreibe alle eindeutigen JobTitle in eine Liste mit dem Variablennamen `jobTitles`. Gebe anschließend die ersten 10 Filme JobTitle in aus."
   ]
  },
  {
   "cell_type": "code",
   "execution_count": null,
   "metadata": {},
   "outputs": [],
   "source": [
    "### CODE HERE ###"
   ]
  },
  {
   "cell_type": "code",
   "execution_count": null,
   "metadata": {},
   "outputs": [],
   "source": [
    "### TEST HERE ###\n",
    "title_list = [\"DEPUTY DIRECTOR OF INVESTMENTS\"]\n",
    "\n",
    "if title_list == jobTitles[6]:\n",
    "    print(\"Test successful\")"
   ]
  },
  {
   "cell_type": "markdown",
   "metadata": {},
   "source": [
    "**Aufgabe 15**: Was sind die fünf häufigsten Jobs? Speichere nur die Jobtitle in einer Liste mit dem Variablennamen `common_jobs`."
   ]
  },
  {
   "cell_type": "code",
   "execution_count": null,
   "metadata": {},
   "outputs": [],
   "source": [
    "### CODE HERE ###"
   ]
  },
  {
   "cell_type": "code",
   "execution_count": null,
   "metadata": {},
   "outputs": [],
   "source": [
    "### TEST HERE ###\n",
    "com_j = [\n",
    "    \"Transit Operator\",\n",
    "    \"Special Nurse\",\n",
    "    \"Registered Nurse\",\n",
    "    \"Public Svc Aide-Public Works\",\n",
    "    \"Police Officer 3\",\n",
    "]\n",
    "\n",
    "if set(common_jobs).issubset(set(com_j)):\n",
    "    print(\"Test successful\")"
   ]
  },
  {
   "cell_type": "markdown",
   "metadata": {},
   "source": [
    "**Aufgabe 16**: Zeige die Anzahl der Null values pro Spalte auf. Speichere die Ergebnisse in Variable `sal_null_count`."
   ]
  },
  {
   "cell_type": "code",
   "execution_count": null,
   "metadata": {},
   "outputs": [],
   "source": [
    "### CODE HERE ###"
   ]
  },
  {
   "cell_type": "code",
   "execution_count": null,
   "metadata": {},
   "outputs": [],
   "source": [
    "### TEST HERE ###\n",
    "if (\n",
    "    list(\n",
    "        sal_null_count.iloc[\n",
    "            2:3,\n",
    "        ].values\n",
    "    )[0]\n",
    "    == 609\n",
    "    and list(\n",
    "        sal_null_count.iloc[\n",
    "            5:6,\n",
    "        ].values\n",
    "    )[0]\n",
    "    == 36163\n",
    "):\n",
    "    print(\"Test successful\")"
   ]
  },
  {
   "cell_type": "markdown",
   "metadata": {},
   "source": [
    "**Aufgabe 17**: Suche nach Kim Brewer und zeige die komplette Zeile im Dataframe."
   ]
  },
  {
   "cell_type": "code",
   "execution_count": null,
   "metadata": {},
   "outputs": [],
   "source": [
    "### CODE HERE ###"
   ]
  },
  {
   "cell_type": "markdown",
   "metadata": {},
   "source": [
    "**Aufgabe 18:** Wie viele Duplikate gibt es beim EmployeeName? Summiere die Ergebnisse und sichere das Endresultat unter der Variable `duplicate_name_sum`."
   ]
  },
  {
   "cell_type": "code",
   "execution_count": null,
   "metadata": {},
   "outputs": [],
   "source": [
    "### CODE HERE ###"
   ]
  },
  {
   "cell_type": "code",
   "execution_count": null,
   "metadata": {},
   "outputs": [],
   "source": [
    "### TEST HERE ###\n",
    "if duplicate_name_sum == 37843:\n",
    "    print(\"Test successful\")"
   ]
  },
  {
   "cell_type": "markdown",
   "metadata": {},
   "source": [
    "**Aufgabe 19:** Speicher alle Duplikate in einen neuen Dataframe mit dem Namen `sal_duplicates`. Spiele mit dem Parameter `keep` herum, was fällt dir auf? Nutze dazu gerne wieder die Mitarbeiterin Kim Brewer."
   ]
  },
  {
   "cell_type": "code",
   "execution_count": null,
   "metadata": {},
   "outputs": [],
   "source": [
    "### CODE HERE ###"
   ]
  },
  {
   "cell_type": "markdown",
   "metadata": {},
   "source": [
    "**`[BEOBACHTUNGEN HERE]`**"
   ]
  },
  {
   "cell_type": "markdown",
   "metadata": {},
   "source": [
    "**Aufgabe 20** Was ist das durchschnittliche Grundgehalt (en. BasePay)? Speichere das Ergebnis in der Variable `avg_basepay`."
   ]
  },
  {
   "cell_type": "code",
   "execution_count": null,
   "metadata": {},
   "outputs": [],
   "source": [
    "### CODE HERE ###"
   ]
  },
  {
   "cell_type": "code",
   "execution_count": null,
   "metadata": {},
   "outputs": [],
   "source": [
    "### TEST HERE ###\n",
    "if avg_basepay == 66325.44884050643:\n",
    "    print(\"Test successful\")"
   ]
  },
  {
   "cell_type": "markdown",
   "metadata": {},
   "source": [
    "**Aufgabe 21:** Was ist der höchste Überstundenlohn (en. OvertimePay), der im Datensatz festgehalten ist? Speichere das Ergebnis in der Variable `max_otpay`."
   ]
  },
  {
   "cell_type": "code",
   "execution_count": null,
   "metadata": {},
   "outputs": [],
   "source": [
    "### CODE HERE ###"
   ]
  },
  {
   "cell_type": "code",
   "execution_count": null,
   "metadata": {},
   "outputs": [],
   "source": [
    "### TEST HERE ###\n",
    "if max_otpay == 245131.88:\n",
    "    print(\"Test successful\")"
   ]
  },
  {
   "cell_type": "markdown",
   "metadata": {},
   "source": [
    "**Aufgabe 22:** Wie lautet die Berufsbezeichnung (en. JobTitle) von JOSEPH DRISCOLL?\n",
    "\n",
    "*Achtung: Beim Namen nur Großbuchstaben verwenden!*"
   ]
  },
  {
   "cell_type": "code",
   "execution_count": null,
   "metadata": {},
   "outputs": [],
   "source": [
    "### CODE HERE ###"
   ]
  },
  {
   "cell_type": "markdown",
   "metadata": {},
   "source": [
    "**Aufgabe 23**: Wie viel verdient JOSEPH DRISCOLL (inkl. Zusatleistungen (en. Benefits))?"
   ]
  },
  {
   "cell_type": "code",
   "execution_count": null,
   "metadata": {},
   "outputs": [],
   "source": [
    "### CODE HERE ###"
   ]
  },
  {
   "cell_type": "markdown",
   "metadata": {},
   "source": [
    "**Aufgabe 24:** Wie heißt die höchstbezahlte Person (inkl. Zusatzleistungen)? Speichere den Namen in der Variable `best_pay`."
   ]
  },
  {
   "cell_type": "code",
   "execution_count": null,
   "metadata": {},
   "outputs": [],
   "source": [
    "### CODE HERE ###"
   ]
  },
  {
   "cell_type": "code",
   "execution_count": null,
   "metadata": {},
   "outputs": [],
   "source": [
    "### TEST HERE ###\n",
    "if best_pay == \"NATHANIEL FORD\":\n",
    "    print(\"Test successful\")"
   ]
  },
  {
   "cell_type": "markdown",
   "metadata": {},
   "source": [
    "**Aufgabe 25**: Wie lautet der Name der am niedrigsten bezahlten Person? Fällt dir etwas Merkwürdiges an ihrem Lohn auf?"
   ]
  },
  {
   "cell_type": "code",
   "execution_count": null,
   "metadata": {},
   "outputs": [],
   "source": [
    "### CODE HERE ###"
   ]
  },
  {
   "cell_type": "markdown",
   "metadata": {},
   "source": [
    "**`[BEOBACHTUNGEN HERE]`**"
   ]
  },
  {
   "cell_type": "markdown",
   "metadata": {},
   "source": [
    "**Aufgabe 26:** Wie ist der durchschnittliche (en. mean) Grundlohn (en. base pay) von allen Angestellten pro Jahr (2011-2014)? Speichere das Ergebnis in der Variable `avg_basepay_year`."
   ]
  },
  {
   "cell_type": "code",
   "execution_count": null,
   "metadata": {},
   "outputs": [],
   "source": [
    "### CODE HERE ###"
   ]
  },
  {
   "cell_type": "code",
   "execution_count": null,
   "metadata": {},
   "outputs": [],
   "source": [
    "### TEST HERE ###\n",
    "if avg_basepay_year.loc[2012] == 65436.40685742262:\n",
    "    print(\"Test successful\")"
   ]
  },
  {
   "cell_type": "markdown",
   "metadata": {},
   "source": [
    "**Aufgabe 27:** Wie viele Berufsbezeichnungen (en. job titles) wurden 2013 von nur einer Person getragen? Speichere das Ergebnis in `unique_jobs_2013`.\n",
    "\n",
    "*Hinweis: Haben nur eine Erscheinung in 2013*"
   ]
  },
  {
   "cell_type": "code",
   "execution_count": null,
   "metadata": {},
   "outputs": [],
   "source": [
    "### CODE HERE ###"
   ]
  },
  {
   "cell_type": "code",
   "execution_count": null,
   "metadata": {},
   "outputs": [],
   "source": [
    "### TEST HERE ###\n",
    "if unique_jobs_2013 == 202:\n",
    "    print(\"Test successful\")"
   ]
  },
  {
   "cell_type": "markdown",
   "metadata": {},
   "source": [
    "**Aufgabe 28 (Zusatzaufgabe):** Wie viele Angestellte tragen ein \"Chief\" in ihrer Berufsbezeichnung? Speichere das Ergebnis in `chef_jobs`.\n",
    "\n",
    "*Hinweis: Das ist eine etwas schwierigere Aufgabe, nehmt euch etwas Zeit dafür.*"
   ]
  },
  {
   "cell_type": "code",
   "execution_count": null,
   "metadata": {},
   "outputs": [],
   "source": [
    "### CODE HERE ###"
   ]
  },
  {
   "cell_type": "code",
   "execution_count": null,
   "metadata": {},
   "outputs": [],
   "source": [
    "### TEST HERE ###\n",
    "if chef_jobs == 477:\n",
    "    print(\"Test successful\")"
   ]
  },
  {
   "cell_type": "markdown",
   "metadata": {},
   "source": [
    "**Aufgabe 29 (Zusatzaufgabe):** Gibt es eine Korrelation zwischen der Länge einer Berufsbezeichnung und dem Lohn?"
   ]
  },
  {
   "cell_type": "code",
   "execution_count": null,
   "metadata": {},
   "outputs": [],
   "source": [
    "### CODE HERE ###"
   ]
  },
  {
   "cell_type": "markdown",
   "metadata": {},
   "source": [
    "**`[BEOBACHTUNGEN HERE]`**"
   ]
  },
  {
   "cell_type": "markdown",
   "metadata": {},
   "source": [
    "# Gut gemacht!"
   ]
  }
 ],
 "metadata": {
  "kernelspec": {
   "display_name": "Python 3 (ipykernel)",
   "language": "python",
   "name": "python3"
  },
  "language_info": {
   "codemirror_mode": {
    "name": "ipython",
    "version": 3
   },
   "file_extension": ".py",
   "mimetype": "text/x-python",
   "name": "python",
   "nbconvert_exporter": "python",
   "pygments_lexer": "ipython3",
   "version": "3.9.12"
  }
 },
 "nbformat": 4,
 "nbformat_minor": 4
}

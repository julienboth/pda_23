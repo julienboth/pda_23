{
 "cells": [
  {
   "cell_type": "code",
   "execution_count": 1,
   "metadata": {},
   "outputs": [],
   "source": [
    "#Import all packages needed\n",
    "import pandas as pd \n",
    "import numpy as np\n",
    "import matplotlib.pyplot as plt #Visualisierungs Package (Vorlesung 5)\n",
    "#Magic command, damit die Diagramme im Notebook angezeigt werden\n",
    "%matplotlib inline \n",
    "import json  #Package um mit json files arbeiten zu können\n",
    "import seaborn as sns #Visualisierungs Package (Vorlesung 5)"
   ]
  },
  {
   "cell_type": "markdown",
   "metadata": {},
   "source": [
    "# Aufgabe\n",
    "\n",
    "Quelle: *Diese Übung ist ein Teil aus einem Cornerstone Projekt aus dem Data Analyst Nanodegree von Udacity. Für diese Übung wurden einige Vereinfachungen vorgenommen.*\n",
    "\n",
    "**Beschreibung**:\n",
    "\n",
    "Habt Ihr jemals von dem Twitter-Account WeRateDogs gehört? Die Leute im Internet sind verrückt nach diesem Twitter-Account. Ich möchte Euch heute zeigen, warum. \n",
    "\n",
    "Heute hat WeRateDogs über 9,3 Millionen Follower. Das Schlüsselkonzept besteht darin, ein hübsches Bild der Doggos, Floofer, Pupper oder Puppos (so definieren sie das Entwicklungsstadium der Hunde) mit einer coolen Bildunterschrift und einer Bewertung mit einem Nenner von 10, aber einem Zähler, der alles sein kann, zu haben. In den meisten Fällen geht der Zähler deutlich über 10.\n",
    "\n",
    "\n",
    "<div>\n",
    "<img src=\"src/Picture 1.jpg\" width=\"400\"/>\n",
    "</div>\n",
    "\n",
    "**Inputdaten:**\n",
    "\n",
    "Ingesamt haben wir 3 verschiedene Dateien, in denen sich aber verschiedene Fehler in den Daten befinden\n",
    "- Das Twitter Archive der Tweets\n",
    "- Eine Datei, in der die Rasse des Hundes vorausgesagt wurde\n",
    "- Eine Datei, in der die Anzahl der Likes, Retweets etc pro Tweet steht\n",
    "\n",
    "\n",
    "**Ziel**: \n",
    "\n",
    "Die Dateien wie unten vorgeschrieben zu bereinigen und zu einem Dataframe zusammenzufassen."
   ]
  },
  {
   "cell_type": "markdown",
   "metadata": {},
   "source": [
    "### Dokumentation der einzelnen Spalten der verschiedenen Quellen"
   ]
  },
  {
   "cell_type": "markdown",
   "metadata": {
    "tags": []
   },
   "source": [
    "Dokumentation Spalten ***Twitter_archive Dataframe***\n",
    "\n",
    "Dieses Dataframe zeigt die Meta Daten jedes einzelnen Tweets für den betrachteten Zeitraum an.\n",
    "\n",
    "- ***tweet_id*** ist die eineindeutige Twitter Post ID\n",
    "- ***in_reply_to_status_id*** nicht relevant für uns\n",
    "- ***in_reply_to_user_id*** nicht relevant für uns\n",
    "- ***timestamp*** Zeitpunkt des posts\n",
    "- ***source*** nicht relevant für uns\n",
    "- ***text*** Tweet text\n",
    "- ***retweeted_status_id*** ID wenn es ein retweet ist\n",
    "- ***retweeted_status_user_id*** User ID wenn es ein retweet ist\n",
    "- ***retweeted_status_user_timestamp*** User ID wenn es ein retweet ist\n",
    "- ***expanded_urls*** URL des Tweets\n",
    "- ***rating_numerator*** Zähler der Bewertung\n",
    "- ***rating_denominator*** Nenner der Bewertung\n",
    "- ***name*** Name des Hundes\n",
    "- ***doggo*** Hundeentwicklungsstatus\n",
    "- ***floofer*** Hundeentwicklungsstatus\n",
    "- ***pupper*** Hundeentwicklungsstatus\n",
    "- ***puppo*** Hundeentwicklungsstatus"
   ]
  },
  {
   "cell_type": "markdown",
   "metadata": {},
   "source": [
    "### Dokumentation Spalten ***Image_prediction Dataframe***\n",
    "\n",
    "Dieses DataFrame stammt aus einem Prediction Maschine Learning Algorithmus, welches an Hand der Bilder, versucht vorauszusagen, welche Rasse der Hund ist\n",
    "\n",
    "- ***tweet_id*** ist die eineindeutige Twitter Post ID\n",
    "- ***jpg_url*** URL des Bildes / der Bilder\n",
    "- ***img_num*** Anzahl der Bilder\n",
    "- ***p1/p2/p3*** Predicted Hunderasse\n",
    "- ***p1_conf/p2_conf/p3_conf*** Wert aus der Klassifikation\n",
    "- ***p1_dog/p2_dog/p3_dog*** Boolean ob der vorausgesagte p1/p2/p3 Wert ein Hund ist ja oder nein\n",
    "\n"
   ]
  },
  {
   "cell_type": "markdown",
   "metadata": {},
   "source": [
    "### Dokumentation Spalten ***Tweet_json Dataframe***\n",
    "\n",
    "Dieses DataFrame zeigt die numerischen Werte der einzelnen Tweets an.\n",
    "\n",
    "- ***tweet_id*** ist die eineindeutige Twitter Post ID\n",
    "- ***favorite_count*** Wie viele Favorites der Tweet bekommen hat\n",
    "- ***retweet_count*** Wie oft der Tweet geretweeted wurde\n",
    "- ***followers_count*** wie viele Follower es damals gab\n",
    "- ***retweeted_status*** Ob der Tweet der Original Tweet war oder ein Retweet\n",
    "- ***url*** URL des Tweets\n"
   ]
  },
  {
   "cell_type": "markdown",
   "metadata": {},
   "source": [
    "## Gathering Data\n",
    "\n",
    "Die nachfolgenden Zellen bis zum Start Der Übung dienen lediglich für Informationszwecke und werden vorgegeben, damit ihr euch schneller auf den wichtigten Teil der Übung, das Data Cleaning fokussieren könnt."
   ]
  },
  {
   "cell_type": "code",
   "execution_count": 2,
   "metadata": {},
   "outputs": [],
   "source": [
    "#Twitter Archive (Dateiformat CSV) in einen DataFrame laden\n",
    "twitter_archive = pd.read_csv(\"src/twitter-archive-enhanced.csv\")"
   ]
  },
  {
   "cell_type": "code",
   "execution_count": 3,
   "metadata": {},
   "outputs": [],
   "source": [
    "#Bild-Vorhersagen (Image-Predictions - TSV file) in einen DataFrame laden\n",
    "image_prediction = pd.read_csv('src/image-predictions.tsv', sep='\\t' )"
   ]
  },
  {
   "cell_type": "code",
   "execution_count": 4,
   "metadata": {},
   "outputs": [],
   "source": [
    "'''\n",
    "Herauslesen der interessanten Informationen aus JSON-Wörterbüchern in einer Txt-Datei\n",
    "und in einen DataFrame tweets_json einfügen\n",
    "'''\n",
    "\n",
    "my_demo_list = []\n",
    "with open('src/tweet_json.txt', encoding='utf-8') as json_file:  \n",
    "    all_data = json.load(json_file)\n",
    "    for each_dictionary in all_data:\n",
    "        tweet_id = each_dictionary['id']\n",
    "        whole_tweet = each_dictionary['text']\n",
    "        only_url = whole_tweet[whole_tweet.find('https'):]\n",
    "        favorite_count = each_dictionary['favorite_count']\n",
    "        retweet_count = each_dictionary['retweet_count']\n",
    "        followers_count = each_dictionary['user']['followers_count']\n",
    "        retweeted_status = each_dictionary['retweeted_status'] = each_dictionary.get('retweeted_status', 'Original tweet')\n",
    "        if retweeted_status == 'Original tweet':\n",
    "            url = only_url\n",
    "        else:\n",
    "            retweeted_status = 'This is a retweet'\n",
    "            url = 'This is a retweet'\n",
    "            \n",
    "        my_demo_list.append({'tweet_id': str(tweet_id),\n",
    "                             'favorite_count': int(favorite_count),\n",
    "                             'retweet_count': int(retweet_count),\n",
    "                             'followers_count': int(followers_count),\n",
    "                             'retweeted_status': retweeted_status,\n",
    "                            })\n",
    "        tweet_json = pd.DataFrame(my_demo_list, columns = ['tweet_id', 'favorite_count','retweet_count', \n",
    "                                                           'followers_count', 'retweeted_status', 'url'])\n",
    "                             \n",
    "                            "
   ]
  },
  {
   "cell_type": "markdown",
   "metadata": {},
   "source": [
    "## Assess"
   ]
  },
  {
   "cell_type": "code",
   "execution_count": 5,
   "metadata": {},
   "outputs": [
    {
     "name": "stdout",
     "output_type": "stream",
     "text": [
      "<class 'pandas.core.frame.DataFrame'>\n",
      "RangeIndex: 2356 entries, 0 to 2355\n",
      "Data columns (total 17 columns):\n",
      " #   Column                      Non-Null Count  Dtype  \n",
      "---  ------                      --------------  -----  \n",
      " 0   tweet_id                    2356 non-null   int64  \n",
      " 1   in_reply_to_status_id       78 non-null     float64\n",
      " 2   in_reply_to_user_id         78 non-null     float64\n",
      " 3   timestamp                   2356 non-null   object \n",
      " 4   source                      2356 non-null   object \n",
      " 5   text                        2356 non-null   object \n",
      " 6   retweeted_status_id         181 non-null    float64\n",
      " 7   retweeted_status_user_id    181 non-null    float64\n",
      " 8   retweeted_status_timestamp  181 non-null    object \n",
      " 9   expanded_urls               2297 non-null   object \n",
      " 10  rating_numerator            2356 non-null   int64  \n",
      " 11  rating_denominator          2356 non-null   int64  \n",
      " 12  name                        2356 non-null   object \n",
      " 13  doggo                       2356 non-null   object \n",
      " 14  floofer                     2356 non-null   object \n",
      " 15  pupper                      2356 non-null   object \n",
      " 16  puppo                       2356 non-null   object \n",
      "dtypes: float64(4), int64(3), object(10)\n",
      "memory usage: 313.0+ KB\n"
     ]
    }
   ],
   "source": [
    "twitter_archive.info()"
   ]
  },
  {
   "cell_type": "code",
   "execution_count": 6,
   "metadata": {},
   "outputs": [],
   "source": [
    "### FINDINGS ###\n",
    "# Es gibt sowohl Originalbewertungen und Retweets\n",
    "# Zeitstempel ist in einem nicht korrekten Datenformat (hier Datetime)\n",
    "# Fehlende Daten in den folgenden Spalten: in_reply_to_status_id, in_reply_to_user_id, retweeted_status_id, \n",
    "#                                          retweeted_status_user_id, retweeted_status_timestamp, expanded_urls\n",
    "# Hundeentwicklungsstufen sind in 4 Spalten"
   ]
  },
  {
   "cell_type": "code",
   "execution_count": 7,
   "metadata": {},
   "outputs": [
    {
     "data": {
      "text/html": [
       "<div>\n",
       "<style scoped>\n",
       "    .dataframe tbody tr th:only-of-type {\n",
       "        vertical-align: middle;\n",
       "    }\n",
       "\n",
       "    .dataframe tbody tr th {\n",
       "        vertical-align: top;\n",
       "    }\n",
       "\n",
       "    .dataframe thead th {\n",
       "        text-align: right;\n",
       "    }\n",
       "</style>\n",
       "<table border=\"1\" class=\"dataframe\">\n",
       "  <thead>\n",
       "    <tr style=\"text-align: right;\">\n",
       "      <th></th>\n",
       "      <th>tweet_id</th>\n",
       "      <th>in_reply_to_status_id</th>\n",
       "      <th>in_reply_to_user_id</th>\n",
       "      <th>timestamp</th>\n",
       "      <th>source</th>\n",
       "      <th>text</th>\n",
       "      <th>retweeted_status_id</th>\n",
       "      <th>retweeted_status_user_id</th>\n",
       "      <th>retweeted_status_timestamp</th>\n",
       "      <th>expanded_urls</th>\n",
       "      <th>rating_numerator</th>\n",
       "      <th>rating_denominator</th>\n",
       "      <th>name</th>\n",
       "      <th>doggo</th>\n",
       "      <th>floofer</th>\n",
       "      <th>pupper</th>\n",
       "      <th>puppo</th>\n",
       "    </tr>\n",
       "  </thead>\n",
       "  <tbody>\n",
       "    <tr>\n",
       "      <th>1170</th>\n",
       "      <td>720775346191278080</td>\n",
       "      <td>NaN</td>\n",
       "      <td>NaN</td>\n",
       "      <td>2016-04-15 00:46:48 +0000</td>\n",
       "      <td>&lt;a href=\"http://twitter.com/download/iphone\" r...</td>\n",
       "      <td>This is Berkeley. He's in a predicament. 10/10...</td>\n",
       "      <td>NaN</td>\n",
       "      <td>NaN</td>\n",
       "      <td>NaN</td>\n",
       "      <td>https://twitter.com/dog_rates/status/720775346...</td>\n",
       "      <td>10</td>\n",
       "      <td>10</td>\n",
       "      <td>Berkeley</td>\n",
       "      <td>None</td>\n",
       "      <td>None</td>\n",
       "      <td>None</td>\n",
       "      <td>None</td>\n",
       "    </tr>\n",
       "    <tr>\n",
       "      <th>2233</th>\n",
       "      <td>668204964695683073</td>\n",
       "      <td>NaN</td>\n",
       "      <td>NaN</td>\n",
       "      <td>2015-11-21 23:10:52 +0000</td>\n",
       "      <td>&lt;a href=\"http://twitter.com/download/iphone\" r...</td>\n",
       "      <td>This is Ron. Ron's currently experiencing a br...</td>\n",
       "      <td>NaN</td>\n",
       "      <td>NaN</td>\n",
       "      <td>NaN</td>\n",
       "      <td>https://twitter.com/dog_rates/status/668204964...</td>\n",
       "      <td>8</td>\n",
       "      <td>10</td>\n",
       "      <td>Ron</td>\n",
       "      <td>None</td>\n",
       "      <td>None</td>\n",
       "      <td>None</td>\n",
       "      <td>None</td>\n",
       "    </tr>\n",
       "    <tr>\n",
       "      <th>605</th>\n",
       "      <td>798576900688019456</td>\n",
       "      <td>NaN</td>\n",
       "      <td>NaN</td>\n",
       "      <td>2016-11-15 17:22:24 +0000</td>\n",
       "      <td>&lt;a href=\"http://twitter.com/download/iphone\" r...</td>\n",
       "      <td>RT @dog_rates: Not familiar with this breed. N...</td>\n",
       "      <td>6.661041e+17</td>\n",
       "      <td>4.196984e+09</td>\n",
       "      <td>2015-11-16 04:02:55 +0000</td>\n",
       "      <td>https://twitter.com/dog_rates/status/666104133...</td>\n",
       "      <td>1</td>\n",
       "      <td>10</td>\n",
       "      <td>None</td>\n",
       "      <td>None</td>\n",
       "      <td>None</td>\n",
       "      <td>None</td>\n",
       "      <td>None</td>\n",
       "    </tr>\n",
       "    <tr>\n",
       "      <th>2187</th>\n",
       "      <td>668979806671884288</td>\n",
       "      <td>NaN</td>\n",
       "      <td>NaN</td>\n",
       "      <td>2015-11-24 02:29:49 +0000</td>\n",
       "      <td>&lt;a href=\"http://twitter.com/download/iphone\" r...</td>\n",
       "      <td>This is Chaz. He's an X Games half pipe supers...</td>\n",
       "      <td>NaN</td>\n",
       "      <td>NaN</td>\n",
       "      <td>NaN</td>\n",
       "      <td>https://twitter.com/dog_rates/status/668979806...</td>\n",
       "      <td>12</td>\n",
       "      <td>10</td>\n",
       "      <td>Chaz</td>\n",
       "      <td>None</td>\n",
       "      <td>None</td>\n",
       "      <td>None</td>\n",
       "      <td>None</td>\n",
       "    </tr>\n",
       "    <tr>\n",
       "      <th>1292</th>\n",
       "      <td>708109389455101952</td>\n",
       "      <td>NaN</td>\n",
       "      <td>NaN</td>\n",
       "      <td>2016-03-11 01:56:49 +0000</td>\n",
       "      <td>&lt;a href=\"http://twitter.com/download/iphone\" r...</td>\n",
       "      <td>This is Remington. He was caught off guard by ...</td>\n",
       "      <td>NaN</td>\n",
       "      <td>NaN</td>\n",
       "      <td>NaN</td>\n",
       "      <td>https://twitter.com/dog_rates/status/708109389...</td>\n",
       "      <td>10</td>\n",
       "      <td>10</td>\n",
       "      <td>Remington</td>\n",
       "      <td>None</td>\n",
       "      <td>None</td>\n",
       "      <td>None</td>\n",
       "      <td>None</td>\n",
       "    </tr>\n",
       "  </tbody>\n",
       "</table>\n",
       "</div>"
      ],
      "text/plain": [
       "                tweet_id  in_reply_to_status_id  in_reply_to_user_id  \\\n",
       "1170  720775346191278080                    NaN                  NaN   \n",
       "2233  668204964695683073                    NaN                  NaN   \n",
       "605   798576900688019456                    NaN                  NaN   \n",
       "2187  668979806671884288                    NaN                  NaN   \n",
       "1292  708109389455101952                    NaN                  NaN   \n",
       "\n",
       "                      timestamp  \\\n",
       "1170  2016-04-15 00:46:48 +0000   \n",
       "2233  2015-11-21 23:10:52 +0000   \n",
       "605   2016-11-15 17:22:24 +0000   \n",
       "2187  2015-11-24 02:29:49 +0000   \n",
       "1292  2016-03-11 01:56:49 +0000   \n",
       "\n",
       "                                                 source  \\\n",
       "1170  <a href=\"http://twitter.com/download/iphone\" r...   \n",
       "2233  <a href=\"http://twitter.com/download/iphone\" r...   \n",
       "605   <a href=\"http://twitter.com/download/iphone\" r...   \n",
       "2187  <a href=\"http://twitter.com/download/iphone\" r...   \n",
       "1292  <a href=\"http://twitter.com/download/iphone\" r...   \n",
       "\n",
       "                                                   text  retweeted_status_id  \\\n",
       "1170  This is Berkeley. He's in a predicament. 10/10...                  NaN   \n",
       "2233  This is Ron. Ron's currently experiencing a br...                  NaN   \n",
       "605   RT @dog_rates: Not familiar with this breed. N...         6.661041e+17   \n",
       "2187  This is Chaz. He's an X Games half pipe supers...                  NaN   \n",
       "1292  This is Remington. He was caught off guard by ...                  NaN   \n",
       "\n",
       "      retweeted_status_user_id retweeted_status_timestamp  \\\n",
       "1170                       NaN                        NaN   \n",
       "2233                       NaN                        NaN   \n",
       "605               4.196984e+09  2015-11-16 04:02:55 +0000   \n",
       "2187                       NaN                        NaN   \n",
       "1292                       NaN                        NaN   \n",
       "\n",
       "                                          expanded_urls  rating_numerator  \\\n",
       "1170  https://twitter.com/dog_rates/status/720775346...                10   \n",
       "2233  https://twitter.com/dog_rates/status/668204964...                 8   \n",
       "605   https://twitter.com/dog_rates/status/666104133...                 1   \n",
       "2187  https://twitter.com/dog_rates/status/668979806...                12   \n",
       "1292  https://twitter.com/dog_rates/status/708109389...                10   \n",
       "\n",
       "      rating_denominator       name doggo floofer pupper puppo  \n",
       "1170                  10   Berkeley  None    None   None  None  \n",
       "2233                  10        Ron  None    None   None  None  \n",
       "605                   10       None  None    None   None  None  \n",
       "2187                  10       Chaz  None    None   None  None  \n",
       "1292                  10  Remington  None    None   None  None  "
      ]
     },
     "execution_count": 7,
     "metadata": {},
     "output_type": "execute_result"
    }
   ],
   "source": [
    "twitter_archive.sample(5)"
   ]
  },
  {
   "cell_type": "code",
   "execution_count": 8,
   "metadata": {},
   "outputs": [],
   "source": [
    "### FINDINGS ###\n",
    "# Hundestufen sind nicht korrekt angegeben\n",
    "# Der Nenner der Bewertung ist zum Teil größer als 10"
   ]
  },
  {
   "cell_type": "code",
   "execution_count": 9,
   "metadata": {},
   "outputs": [
    {
     "data": {
      "text/plain": [
       "1"
      ]
     },
     "execution_count": 9,
     "metadata": {},
     "output_type": "execute_result"
    }
   ],
   "source": [
    "sum(twitter_archive.name.unique()=='None')"
   ]
  },
  {
   "cell_type": "code",
   "execution_count": 10,
   "metadata": {},
   "outputs": [],
   "source": [
    "### FINDINGS ###\n",
    "# Name des Hundes ist nicht immer angegebe [ausgedrückt durch None]"
   ]
  },
  {
   "cell_type": "code",
   "execution_count": 11,
   "metadata": {},
   "outputs": [
    {
     "name": "stdout",
     "output_type": "stream",
     "text": [
      "<class 'pandas.core.frame.DataFrame'>\n",
      "RangeIndex: 2075 entries, 0 to 2074\n",
      "Data columns (total 12 columns):\n",
      " #   Column    Non-Null Count  Dtype  \n",
      "---  ------    --------------  -----  \n",
      " 0   tweet_id  2075 non-null   int64  \n",
      " 1   jpg_url   2075 non-null   object \n",
      " 2   img_num   2075 non-null   int64  \n",
      " 3   p1        2075 non-null   object \n",
      " 4   p1_conf   2075 non-null   float64\n",
      " 5   p1_dog    2075 non-null   bool   \n",
      " 6   p2        2075 non-null   object \n",
      " 7   p2_conf   2075 non-null   float64\n",
      " 8   p2_dog    2075 non-null   bool   \n",
      " 9   p3        2075 non-null   object \n",
      " 10  p3_conf   2075 non-null   float64\n",
      " 11  p3_dog    2075 non-null   bool   \n",
      "dtypes: bool(3), float64(3), int64(2), object(4)\n",
      "memory usage: 152.1+ KB\n"
     ]
    }
   ],
   "source": [
    "image_prediction.info()"
   ]
  },
  {
   "cell_type": "code",
   "execution_count": 12,
   "metadata": {},
   "outputs": [
    {
     "data": {
      "text/html": [
       "<div>\n",
       "<style scoped>\n",
       "    .dataframe tbody tr th:only-of-type {\n",
       "        vertical-align: middle;\n",
       "    }\n",
       "\n",
       "    .dataframe tbody tr th {\n",
       "        vertical-align: top;\n",
       "    }\n",
       "\n",
       "    .dataframe thead th {\n",
       "        text-align: right;\n",
       "    }\n",
       "</style>\n",
       "<table border=\"1\" class=\"dataframe\">\n",
       "  <thead>\n",
       "    <tr style=\"text-align: right;\">\n",
       "      <th></th>\n",
       "      <th>tweet_id</th>\n",
       "      <th>jpg_url</th>\n",
       "      <th>img_num</th>\n",
       "      <th>p1</th>\n",
       "      <th>p1_conf</th>\n",
       "      <th>p1_dog</th>\n",
       "      <th>p2</th>\n",
       "      <th>p2_conf</th>\n",
       "      <th>p2_dog</th>\n",
       "      <th>p3</th>\n",
       "      <th>p3_conf</th>\n",
       "      <th>p3_dog</th>\n",
       "    </tr>\n",
       "  </thead>\n",
       "  <tbody>\n",
       "    <tr>\n",
       "      <th>1718</th>\n",
       "      <td>819015337530290176</td>\n",
       "      <td>https://pbs.twimg.com/media/C12whDoVEAALRxa.jpg</td>\n",
       "      <td>1</td>\n",
       "      <td>standard_poodle</td>\n",
       "      <td>0.351308</td>\n",
       "      <td>True</td>\n",
       "      <td>toy_poodle</td>\n",
       "      <td>0.271929</td>\n",
       "      <td>True</td>\n",
       "      <td>Tibetan_terrier</td>\n",
       "      <td>0.094759</td>\n",
       "      <td>True</td>\n",
       "    </tr>\n",
       "    <tr>\n",
       "      <th>1323</th>\n",
       "      <td>756651752796094464</td>\n",
       "      <td>https://pbs.twimg.com/media/CoAqwPTW8AAiJlz.jpg</td>\n",
       "      <td>1</td>\n",
       "      <td>Pembroke</td>\n",
       "      <td>0.294808</td>\n",
       "      <td>True</td>\n",
       "      <td>kelpie</td>\n",
       "      <td>0.282301</td>\n",
       "      <td>True</td>\n",
       "      <td>Cardigan</td>\n",
       "      <td>0.112601</td>\n",
       "      <td>True</td>\n",
       "    </tr>\n",
       "    <tr>\n",
       "      <th>543</th>\n",
       "      <td>677269281705472000</td>\n",
       "      <td>https://pbs.twimg.com/media/CWYk0WxWoAAEwRt.jpg</td>\n",
       "      <td>1</td>\n",
       "      <td>Shetland_sheepdog</td>\n",
       "      <td>0.656616</td>\n",
       "      <td>True</td>\n",
       "      <td>collie</td>\n",
       "      <td>0.195405</td>\n",
       "      <td>True</td>\n",
       "      <td>German_shepherd</td>\n",
       "      <td>0.013103</td>\n",
       "      <td>True</td>\n",
       "    </tr>\n",
       "    <tr>\n",
       "      <th>738</th>\n",
       "      <td>687124485711986689</td>\n",
       "      <td>https://pbs.twimg.com/media/CYkoE10WEAAWqxm.jpg</td>\n",
       "      <td>1</td>\n",
       "      <td>car_mirror</td>\n",
       "      <td>0.997121</td>\n",
       "      <td>False</td>\n",
       "      <td>seat_belt</td>\n",
       "      <td>0.000375</td>\n",
       "      <td>False</td>\n",
       "      <td>beagle</td>\n",
       "      <td>0.000216</td>\n",
       "      <td>True</td>\n",
       "    </tr>\n",
       "    <tr>\n",
       "      <th>1586</th>\n",
       "      <td>797971864723324932</td>\n",
       "      <td>https://pbs.twimg.com/media/CxL3IWeVEAAAIE2.jpg</td>\n",
       "      <td>1</td>\n",
       "      <td>American_Staffordshire_terrier</td>\n",
       "      <td>0.489845</td>\n",
       "      <td>True</td>\n",
       "      <td>Chihuahua</td>\n",
       "      <td>0.305760</td>\n",
       "      <td>True</td>\n",
       "      <td>Staffordshire_bullterrier</td>\n",
       "      <td>0.072799</td>\n",
       "      <td>True</td>\n",
       "    </tr>\n",
       "    <tr>\n",
       "      <th>1721</th>\n",
       "      <td>819588359383371776</td>\n",
       "      <td>https://pbs.twimg.com/media/C1_DQn3UoAIoJy7.jpg</td>\n",
       "      <td>1</td>\n",
       "      <td>Cardigan</td>\n",
       "      <td>0.547935</td>\n",
       "      <td>True</td>\n",
       "      <td>basenji</td>\n",
       "      <td>0.116442</td>\n",
       "      <td>True</td>\n",
       "      <td>Shetland_sheepdog</td>\n",
       "      <td>0.101681</td>\n",
       "      <td>True</td>\n",
       "    </tr>\n",
       "    <tr>\n",
       "      <th>1777</th>\n",
       "      <td>828381636999917570</td>\n",
       "      <td>https://pbs.twimg.com/media/C38Asz1WEAAvzj3.jpg</td>\n",
       "      <td>1</td>\n",
       "      <td>Bedlington_terrier</td>\n",
       "      <td>0.392535</td>\n",
       "      <td>True</td>\n",
       "      <td>Labrador_retriever</td>\n",
       "      <td>0.089022</td>\n",
       "      <td>True</td>\n",
       "      <td>clumber</td>\n",
       "      <td>0.081800</td>\n",
       "      <td>True</td>\n",
       "    </tr>\n",
       "    <tr>\n",
       "      <th>373</th>\n",
       "      <td>672988786805112832</td>\n",
       "      <td>https://pbs.twimg.com/media/CVbvjKqW4AA_CuD.jpg</td>\n",
       "      <td>1</td>\n",
       "      <td>Lakeland_terrier</td>\n",
       "      <td>0.836632</td>\n",
       "      <td>True</td>\n",
       "      <td>West_Highland_white_terrier</td>\n",
       "      <td>0.073900</td>\n",
       "      <td>True</td>\n",
       "      <td>wire-haired_fox_terrier</td>\n",
       "      <td>0.038160</td>\n",
       "      <td>True</td>\n",
       "    </tr>\n",
       "    <tr>\n",
       "      <th>477</th>\n",
       "      <td>675166823650848770</td>\n",
       "      <td>https://pbs.twimg.com/media/CV6spB7XAAIpMyP.jpg</td>\n",
       "      <td>1</td>\n",
       "      <td>llama</td>\n",
       "      <td>0.284394</td>\n",
       "      <td>False</td>\n",
       "      <td>standard_poodle</td>\n",
       "      <td>0.132569</td>\n",
       "      <td>True</td>\n",
       "      <td>teddy</td>\n",
       "      <td>0.127975</td>\n",
       "      <td>False</td>\n",
       "    </tr>\n",
       "    <tr>\n",
       "      <th>1101</th>\n",
       "      <td>720785406564900865</td>\n",
       "      <td>https://pbs.twimg.com/media/CgC-gMCWcAAawUE.jpg</td>\n",
       "      <td>1</td>\n",
       "      <td>Chihuahua</td>\n",
       "      <td>0.896422</td>\n",
       "      <td>True</td>\n",
       "      <td>dingo</td>\n",
       "      <td>0.027929</td>\n",
       "      <td>False</td>\n",
       "      <td>kelpie</td>\n",
       "      <td>0.017916</td>\n",
       "      <td>True</td>\n",
       "    </tr>\n",
       "    <tr>\n",
       "      <th>881</th>\n",
       "      <td>698703483621523456</td>\n",
       "      <td>https://pbs.twimg.com/media/CbJLG0HWwAAV-ug.jpg</td>\n",
       "      <td>1</td>\n",
       "      <td>Brittany_spaniel</td>\n",
       "      <td>0.931963</td>\n",
       "      <td>True</td>\n",
       "      <td>Welsh_springer_spaniel</td>\n",
       "      <td>0.030695</td>\n",
       "      <td>True</td>\n",
       "      <td>beagle</td>\n",
       "      <td>0.012896</td>\n",
       "      <td>True</td>\n",
       "    </tr>\n",
       "    <tr>\n",
       "      <th>1394</th>\n",
       "      <td>767500508068192258</td>\n",
       "      <td>https://pbs.twimg.com/media/Cqa1ofnXEAAG0yn.jpg</td>\n",
       "      <td>1</td>\n",
       "      <td>chow</td>\n",
       "      <td>0.483228</td>\n",
       "      <td>True</td>\n",
       "      <td>golden_retriever</td>\n",
       "      <td>0.165063</td>\n",
       "      <td>True</td>\n",
       "      <td>Norfolk_terrier</td>\n",
       "      <td>0.060173</td>\n",
       "      <td>True</td>\n",
       "    </tr>\n",
       "    <tr>\n",
       "      <th>17</th>\n",
       "      <td>666104133288665088</td>\n",
       "      <td>https://pbs.twimg.com/media/CT56LSZWoAAlJj2.jpg</td>\n",
       "      <td>1</td>\n",
       "      <td>hen</td>\n",
       "      <td>0.965932</td>\n",
       "      <td>False</td>\n",
       "      <td>cock</td>\n",
       "      <td>0.033919</td>\n",
       "      <td>False</td>\n",
       "      <td>partridge</td>\n",
       "      <td>0.000052</td>\n",
       "      <td>False</td>\n",
       "    </tr>\n",
       "    <tr>\n",
       "      <th>1815</th>\n",
       "      <td>833826103416520705</td>\n",
       "      <td>https://pbs.twimg.com/media/C5JYaYoVYAAcEQw.jpg</td>\n",
       "      <td>1</td>\n",
       "      <td>Chihuahua</td>\n",
       "      <td>0.438054</td>\n",
       "      <td>True</td>\n",
       "      <td>kelpie</td>\n",
       "      <td>0.149706</td>\n",
       "      <td>True</td>\n",
       "      <td>Pembroke</td>\n",
       "      <td>0.096480</td>\n",
       "      <td>True</td>\n",
       "    </tr>\n",
       "    <tr>\n",
       "      <th>433</th>\n",
       "      <td>674318007229923329</td>\n",
       "      <td>https://pbs.twimg.com/media/CVuopr8WwAExw_T.jpg</td>\n",
       "      <td>1</td>\n",
       "      <td>porcupine</td>\n",
       "      <td>0.846628</td>\n",
       "      <td>False</td>\n",
       "      <td>hamster</td>\n",
       "      <td>0.038136</td>\n",
       "      <td>False</td>\n",
       "      <td>echidna</td>\n",
       "      <td>0.014680</td>\n",
       "      <td>False</td>\n",
       "    </tr>\n",
       "    <tr>\n",
       "      <th>1297</th>\n",
       "      <td>752309394570878976</td>\n",
       "      <td>https://pbs.twimg.com/ext_tw_video_thumb/67535...</td>\n",
       "      <td>1</td>\n",
       "      <td>upright</td>\n",
       "      <td>0.303415</td>\n",
       "      <td>False</td>\n",
       "      <td>golden_retriever</td>\n",
       "      <td>0.181351</td>\n",
       "      <td>True</td>\n",
       "      <td>Brittany_spaniel</td>\n",
       "      <td>0.162084</td>\n",
       "      <td>True</td>\n",
       "    </tr>\n",
       "    <tr>\n",
       "      <th>1107</th>\n",
       "      <td>723673163800948736</td>\n",
       "      <td>https://pbs.twimg.com/media/CgsA5eFWgAAu0qn.jpg</td>\n",
       "      <td>1</td>\n",
       "      <td>golden_retriever</td>\n",
       "      <td>0.839390</td>\n",
       "      <td>True</td>\n",
       "      <td>Labrador_retriever</td>\n",
       "      <td>0.065706</td>\n",
       "      <td>True</td>\n",
       "      <td>hand_blower</td>\n",
       "      <td>0.012941</td>\n",
       "      <td>False</td>\n",
       "    </tr>\n",
       "    <tr>\n",
       "      <th>1957</th>\n",
       "      <td>865006731092295680</td>\n",
       "      <td>https://pbs.twimg.com/media/DAEfCFXUIAA1uqj.jpg</td>\n",
       "      <td>1</td>\n",
       "      <td>Pembroke</td>\n",
       "      <td>0.989882</td>\n",
       "      <td>True</td>\n",
       "      <td>Cardigan</td>\n",
       "      <td>0.009906</td>\n",
       "      <td>True</td>\n",
       "      <td>basenji</td>\n",
       "      <td>0.000135</td>\n",
       "      <td>True</td>\n",
       "    </tr>\n",
       "    <tr>\n",
       "      <th>343</th>\n",
       "      <td>672264251789176834</td>\n",
       "      <td>https://pbs.twimg.com/media/CVRcxJ-WsAAXOhO.jpg</td>\n",
       "      <td>1</td>\n",
       "      <td>Chihuahua</td>\n",
       "      <td>0.609860</td>\n",
       "      <td>True</td>\n",
       "      <td>teddy</td>\n",
       "      <td>0.068134</td>\n",
       "      <td>False</td>\n",
       "      <td>Norwich_terrier</td>\n",
       "      <td>0.059227</td>\n",
       "      <td>True</td>\n",
       "    </tr>\n",
       "    <tr>\n",
       "      <th>1767</th>\n",
       "      <td>826958653328592898</td>\n",
       "      <td>https://pbs.twimg.com/media/C3nygbBWQAAjwcW.jpg</td>\n",
       "      <td>1</td>\n",
       "      <td>golden_retriever</td>\n",
       "      <td>0.617389</td>\n",
       "      <td>True</td>\n",
       "      <td>Labrador_retriever</td>\n",
       "      <td>0.337053</td>\n",
       "      <td>True</td>\n",
       "      <td>tennis_ball</td>\n",
       "      <td>0.008554</td>\n",
       "      <td>False</td>\n",
       "    </tr>\n",
       "  </tbody>\n",
       "</table>\n",
       "</div>"
      ],
      "text/plain": [
       "                tweet_id                                            jpg_url  \\\n",
       "1718  819015337530290176    https://pbs.twimg.com/media/C12whDoVEAALRxa.jpg   \n",
       "1323  756651752796094464    https://pbs.twimg.com/media/CoAqwPTW8AAiJlz.jpg   \n",
       "543   677269281705472000    https://pbs.twimg.com/media/CWYk0WxWoAAEwRt.jpg   \n",
       "738   687124485711986689    https://pbs.twimg.com/media/CYkoE10WEAAWqxm.jpg   \n",
       "1586  797971864723324932    https://pbs.twimg.com/media/CxL3IWeVEAAAIE2.jpg   \n",
       "1721  819588359383371776    https://pbs.twimg.com/media/C1_DQn3UoAIoJy7.jpg   \n",
       "1777  828381636999917570    https://pbs.twimg.com/media/C38Asz1WEAAvzj3.jpg   \n",
       "373   672988786805112832    https://pbs.twimg.com/media/CVbvjKqW4AA_CuD.jpg   \n",
       "477   675166823650848770    https://pbs.twimg.com/media/CV6spB7XAAIpMyP.jpg   \n",
       "1101  720785406564900865    https://pbs.twimg.com/media/CgC-gMCWcAAawUE.jpg   \n",
       "881   698703483621523456    https://pbs.twimg.com/media/CbJLG0HWwAAV-ug.jpg   \n",
       "1394  767500508068192258    https://pbs.twimg.com/media/Cqa1ofnXEAAG0yn.jpg   \n",
       "17    666104133288665088    https://pbs.twimg.com/media/CT56LSZWoAAlJj2.jpg   \n",
       "1815  833826103416520705    https://pbs.twimg.com/media/C5JYaYoVYAAcEQw.jpg   \n",
       "433   674318007229923329    https://pbs.twimg.com/media/CVuopr8WwAExw_T.jpg   \n",
       "1297  752309394570878976  https://pbs.twimg.com/ext_tw_video_thumb/67535...   \n",
       "1107  723673163800948736    https://pbs.twimg.com/media/CgsA5eFWgAAu0qn.jpg   \n",
       "1957  865006731092295680    https://pbs.twimg.com/media/DAEfCFXUIAA1uqj.jpg   \n",
       "343   672264251789176834    https://pbs.twimg.com/media/CVRcxJ-WsAAXOhO.jpg   \n",
       "1767  826958653328592898    https://pbs.twimg.com/media/C3nygbBWQAAjwcW.jpg   \n",
       "\n",
       "      img_num                              p1   p1_conf  p1_dog  \\\n",
       "1718        1                 standard_poodle  0.351308    True   \n",
       "1323        1                        Pembroke  0.294808    True   \n",
       "543         1               Shetland_sheepdog  0.656616    True   \n",
       "738         1                      car_mirror  0.997121   False   \n",
       "1586        1  American_Staffordshire_terrier  0.489845    True   \n",
       "1721        1                        Cardigan  0.547935    True   \n",
       "1777        1              Bedlington_terrier  0.392535    True   \n",
       "373         1                Lakeland_terrier  0.836632    True   \n",
       "477         1                           llama  0.284394   False   \n",
       "1101        1                       Chihuahua  0.896422    True   \n",
       "881         1                Brittany_spaniel  0.931963    True   \n",
       "1394        1                            chow  0.483228    True   \n",
       "17          1                             hen  0.965932   False   \n",
       "1815        1                       Chihuahua  0.438054    True   \n",
       "433         1                       porcupine  0.846628   False   \n",
       "1297        1                         upright  0.303415   False   \n",
       "1107        1                golden_retriever  0.839390    True   \n",
       "1957        1                        Pembroke  0.989882    True   \n",
       "343         1                       Chihuahua  0.609860    True   \n",
       "1767        1                golden_retriever  0.617389    True   \n",
       "\n",
       "                               p2   p2_conf  p2_dog  \\\n",
       "1718                   toy_poodle  0.271929    True   \n",
       "1323                       kelpie  0.282301    True   \n",
       "543                        collie  0.195405    True   \n",
       "738                     seat_belt  0.000375   False   \n",
       "1586                    Chihuahua  0.305760    True   \n",
       "1721                      basenji  0.116442    True   \n",
       "1777           Labrador_retriever  0.089022    True   \n",
       "373   West_Highland_white_terrier  0.073900    True   \n",
       "477               standard_poodle  0.132569    True   \n",
       "1101                        dingo  0.027929   False   \n",
       "881        Welsh_springer_spaniel  0.030695    True   \n",
       "1394             golden_retriever  0.165063    True   \n",
       "17                           cock  0.033919   False   \n",
       "1815                       kelpie  0.149706    True   \n",
       "433                       hamster  0.038136   False   \n",
       "1297             golden_retriever  0.181351    True   \n",
       "1107           Labrador_retriever  0.065706    True   \n",
       "1957                     Cardigan  0.009906    True   \n",
       "343                         teddy  0.068134   False   \n",
       "1767           Labrador_retriever  0.337053    True   \n",
       "\n",
       "                             p3   p3_conf  p3_dog  \n",
       "1718            Tibetan_terrier  0.094759    True  \n",
       "1323                   Cardigan  0.112601    True  \n",
       "543             German_shepherd  0.013103    True  \n",
       "738                      beagle  0.000216    True  \n",
       "1586  Staffordshire_bullterrier  0.072799    True  \n",
       "1721          Shetland_sheepdog  0.101681    True  \n",
       "1777                    clumber  0.081800    True  \n",
       "373     wire-haired_fox_terrier  0.038160    True  \n",
       "477                       teddy  0.127975   False  \n",
       "1101                     kelpie  0.017916    True  \n",
       "881                      beagle  0.012896    True  \n",
       "1394            Norfolk_terrier  0.060173    True  \n",
       "17                    partridge  0.000052   False  \n",
       "1815                   Pembroke  0.096480    True  \n",
       "433                     echidna  0.014680   False  \n",
       "1297           Brittany_spaniel  0.162084    True  \n",
       "1107                hand_blower  0.012941   False  \n",
       "1957                    basenji  0.000135    True  \n",
       "343             Norwich_terrier  0.059227    True  \n",
       "1767                tennis_ball  0.008554   False  "
      ]
     },
     "execution_count": 12,
     "metadata": {},
     "output_type": "execute_result"
    }
   ],
   "source": [
    "image_prediction.sample(20)"
   ]
  },
  {
   "cell_type": "code",
   "execution_count": 13,
   "metadata": {},
   "outputs": [],
   "source": [
    "### FINDINGS ###\n",
    "# p1, p2, p3 Hunderassen sind manchmal groß, manchmal klein geschrieben\n",
    "# Die Spalten p1, p2 und p3 enthalten ungültige Daten, wie z. B. ein Vogelhaus, einen Dosenöffner oder einen Brustpanzer usw."
   ]
  },
  {
   "cell_type": "code",
   "execution_count": 14,
   "metadata": {},
   "outputs": [
    {
     "name": "stdout",
     "output_type": "stream",
     "text": [
      "<class 'pandas.core.frame.DataFrame'>\n",
      "RangeIndex: 2331 entries, 0 to 2330\n",
      "Data columns (total 6 columns):\n",
      " #   Column            Non-Null Count  Dtype  \n",
      "---  ------            --------------  -----  \n",
      " 0   tweet_id          2331 non-null   object \n",
      " 1   favorite_count    2331 non-null   int64  \n",
      " 2   retweet_count     2331 non-null   int64  \n",
      " 3   followers_count   2331 non-null   int64  \n",
      " 4   retweeted_status  2331 non-null   object \n",
      " 5   url               0 non-null      float64\n",
      "dtypes: float64(1), int64(3), object(2)\n",
      "memory usage: 109.4+ KB\n"
     ]
    }
   ],
   "source": [
    "tweet_json.info()"
   ]
  },
  {
   "cell_type": "code",
   "execution_count": 15,
   "metadata": {},
   "outputs": [],
   "source": [
    "### FINDINGS ###\n",
    "# tweet_id ist ein String und keine Zahl"
   ]
  },
  {
   "cell_type": "code",
   "execution_count": 16,
   "metadata": {},
   "outputs": [
    {
     "data": {
      "text/html": [
       "<div>\n",
       "<style scoped>\n",
       "    .dataframe tbody tr th:only-of-type {\n",
       "        vertical-align: middle;\n",
       "    }\n",
       "\n",
       "    .dataframe tbody tr th {\n",
       "        vertical-align: top;\n",
       "    }\n",
       "\n",
       "    .dataframe thead th {\n",
       "        text-align: right;\n",
       "    }\n",
       "</style>\n",
       "<table border=\"1\" class=\"dataframe\">\n",
       "  <thead>\n",
       "    <tr style=\"text-align: right;\">\n",
       "      <th></th>\n",
       "      <th>tweet_id</th>\n",
       "      <th>favorite_count</th>\n",
       "      <th>retweet_count</th>\n",
       "      <th>followers_count</th>\n",
       "      <th>retweeted_status</th>\n",
       "      <th>url</th>\n",
       "    </tr>\n",
       "  </thead>\n",
       "  <tbody>\n",
       "    <tr>\n",
       "      <th>1758</th>\n",
       "      <td>677673981332312066</td>\n",
       "      <td>3262</td>\n",
       "      <td>1460</td>\n",
       "      <td>8808553</td>\n",
       "      <td>Original tweet</td>\n",
       "      <td>NaN</td>\n",
       "    </tr>\n",
       "    <tr>\n",
       "      <th>714</th>\n",
       "      <td>781524693396357120</td>\n",
       "      <td>20899</td>\n",
       "      <td>5604</td>\n",
       "      <td>8808456</td>\n",
       "      <td>Original tweet</td>\n",
       "      <td>NaN</td>\n",
       "    </tr>\n",
       "    <tr>\n",
       "      <th>261</th>\n",
       "      <td>840728873075638272</td>\n",
       "      <td>0</td>\n",
       "      <td>15863</td>\n",
       "      <td>8808447</td>\n",
       "      <td>This is a retweet</td>\n",
       "      <td>NaN</td>\n",
       "    </tr>\n",
       "    <tr>\n",
       "      <th>1359</th>\n",
       "      <td>700847567345688576</td>\n",
       "      <td>2424</td>\n",
       "      <td>497</td>\n",
       "      <td>8808535</td>\n",
       "      <td>Original tweet</td>\n",
       "      <td>NaN</td>\n",
       "    </tr>\n",
       "    <tr>\n",
       "      <th>1051</th>\n",
       "      <td>739623569819336705</td>\n",
       "      <td>3731</td>\n",
       "      <td>1334</td>\n",
       "      <td>8808530</td>\n",
       "      <td>Original tweet</td>\n",
       "      <td>NaN</td>\n",
       "    </tr>\n",
       "    <tr>\n",
       "      <th>395</th>\n",
       "      <td>823269594223824897</td>\n",
       "      <td>0</td>\n",
       "      <td>9916</td>\n",
       "      <td>8808456</td>\n",
       "      <td>This is a retweet</td>\n",
       "      <td>NaN</td>\n",
       "    </tr>\n",
       "    <tr>\n",
       "      <th>230</th>\n",
       "      <td>846874817362120707</td>\n",
       "      <td>19751</td>\n",
       "      <td>3840</td>\n",
       "      <td>8808446</td>\n",
       "      <td>Original tweet</td>\n",
       "      <td>NaN</td>\n",
       "    </tr>\n",
       "    <tr>\n",
       "      <th>1121</th>\n",
       "      <td>727175381690781696</td>\n",
       "      <td>3853</td>\n",
       "      <td>1362</td>\n",
       "      <td>8808531</td>\n",
       "      <td>Original tweet</td>\n",
       "      <td>NaN</td>\n",
       "    </tr>\n",
       "    <tr>\n",
       "      <th>943</th>\n",
       "      <td>750381685133418496</td>\n",
       "      <td>690</td>\n",
       "      <td>27</td>\n",
       "      <td>8808526</td>\n",
       "      <td>Original tweet</td>\n",
       "      <td>NaN</td>\n",
       "    </tr>\n",
       "    <tr>\n",
       "      <th>1318</th>\n",
       "      <td>704819833553219584</td>\n",
       "      <td>2611</td>\n",
       "      <td>973</td>\n",
       "      <td>8808535</td>\n",
       "      <td>Original tweet</td>\n",
       "      <td>NaN</td>\n",
       "    </tr>\n",
       "  </tbody>\n",
       "</table>\n",
       "</div>"
      ],
      "text/plain": [
       "                tweet_id  favorite_count  retweet_count  followers_count  \\\n",
       "1758  677673981332312066            3262           1460          8808553   \n",
       "714   781524693396357120           20899           5604          8808456   \n",
       "261   840728873075638272               0          15863          8808447   \n",
       "1359  700847567345688576            2424            497          8808535   \n",
       "1051  739623569819336705            3731           1334          8808530   \n",
       "395   823269594223824897               0           9916          8808456   \n",
       "230   846874817362120707           19751           3840          8808446   \n",
       "1121  727175381690781696            3853           1362          8808531   \n",
       "943   750381685133418496             690             27          8808526   \n",
       "1318  704819833553219584            2611            973          8808535   \n",
       "\n",
       "       retweeted_status  url  \n",
       "1758     Original tweet  NaN  \n",
       "714      Original tweet  NaN  \n",
       "261   This is a retweet  NaN  \n",
       "1359     Original tweet  NaN  \n",
       "1051     Original tweet  NaN  \n",
       "395   This is a retweet  NaN  \n",
       "230      Original tweet  NaN  \n",
       "1121     Original tweet  NaN  \n",
       "943      Original tweet  NaN  \n",
       "1318     Original tweet  NaN  "
      ]
     },
     "execution_count": 16,
     "metadata": {},
     "output_type": "execute_result"
    }
   ],
   "source": [
    "tweet_json.sample(10)"
   ]
  },
  {
   "cell_type": "code",
   "execution_count": 17,
   "metadata": {},
   "outputs": [
    {
     "data": {
      "text/plain": [
       "array(['Original tweet', 'This is a retweet'], dtype=object)"
      ]
     },
     "execution_count": 17,
     "metadata": {},
     "output_type": "execute_result"
    }
   ],
   "source": [
    "tweet_json.retweeted_status.unique()"
   ]
  },
  {
   "cell_type": "code",
   "execution_count": 18,
   "metadata": {},
   "outputs": [],
   "source": [
    "### FINDINGS ###\n",
    "# Retweets in diesem df"
   ]
  },
  {
   "cell_type": "code",
   "execution_count": 19,
   "metadata": {},
   "outputs": [
    {
     "data": {
      "text/plain": [
       "https://pbs.twimg.com/media/CZhn-QAWwAASQan.jpg                                            2\n",
       "https://pbs.twimg.com/media/Cq9guJ5WgAADfpF.jpg                                            2\n",
       "https://pbs.twimg.com/ext_tw_video_thumb/807106774843039744/pu/img/8XZg1xW35Xp2J6JW.jpg    2\n",
       "https://pbs.twimg.com/media/CU1zsMSUAAAS0qW.jpg                                            2\n",
       "https://pbs.twimg.com/media/CsrjryzWgAAZY00.jpg                                            2\n",
       "                                                                                          ..\n",
       "https://pbs.twimg.com/media/CXrmMSpUwAAdeRj.jpg                                            1\n",
       "https://pbs.twimg.com/media/CXrawAhWkAAWSxC.jpg                                            1\n",
       "https://pbs.twimg.com/media/CXrIntsUsAEkv0d.jpg                                            1\n",
       "https://pbs.twimg.com/media/CXqcOHCUQAAugTB.jpg                                            1\n",
       "https://pbs.twimg.com/media/DGKD1-bXoAAIAUK.jpg                                            1\n",
       "Name: jpg_url, Length: 2009, dtype: int64"
      ]
     },
     "execution_count": 19,
     "metadata": {},
     "output_type": "execute_result"
    }
   ],
   "source": [
    "# Doppelte Bilder in den URLs enthalen?\n",
    "image_prediction.jpg_url.value_counts()"
   ]
  },
  {
   "cell_type": "code",
   "execution_count": 20,
   "metadata": {},
   "outputs": [
    {
     "data": {
      "text/plain": [
       "66"
      ]
     },
     "execution_count": 20,
     "metadata": {},
     "output_type": "execute_result"
    }
   ],
   "source": [
    "#Anzahl doppelter URLS\n",
    "len(image_prediction.jpg_url) - image_prediction.jpg_url.nunique()"
   ]
  },
  {
   "cell_type": "code",
   "execution_count": 21,
   "metadata": {},
   "outputs": [],
   "source": [
    "### FINDINGS ###\n",
    "# Es gibt doppelte Einreichungen von Hundebildern (an Hand der URL) "
   ]
  },
  {
   "cell_type": "code",
   "execution_count": 22,
   "metadata": {},
   "outputs": [
    {
     "data": {
      "text/plain": [
       "1776      1\n",
       "960       1\n",
       "666       1\n",
       "420       2\n",
       "204       1\n",
       "182       1\n",
       "165       1\n",
       "144       1\n",
       "143       1\n",
       "121       1\n",
       "99        1\n",
       "88        1\n",
       "84        1\n",
       "80        1\n",
       "75        2\n",
       "60        1\n",
       "50        1\n",
       "45        1\n",
       "44        1\n",
       "27        1\n",
       "26        1\n",
       "24        1\n",
       "20        1\n",
       "17        1\n",
       "15        2\n",
       "14       54\n",
       "13      351\n",
       "12      558\n",
       "11      464\n",
       "10      461\n",
       "9       158\n",
       "8       102\n",
       "7        55\n",
       "6        32\n",
       "5        37\n",
       "4        17\n",
       "3        19\n",
       "2         9\n",
       "1         9\n",
       "0         2\n",
       "Name: rating_numerator, dtype: int64"
      ]
     },
     "execution_count": 22,
     "metadata": {},
     "output_type": "execute_result"
    }
   ],
   "source": [
    "twitter_archive.rating_numerator.value_counts().sort_index(ascending=False)"
   ]
  },
  {
   "cell_type": "code",
   "execution_count": 23,
   "metadata": {},
   "outputs": [
    {
     "name": "stderr",
     "output_type": "stream",
     "text": [
      "/var/folders/2w/s3yyj4_57gz_cgh69ctc_d440000gq/T/ipykernel_73798/2522784004.py:2: UserWarning: This pattern is interpreted as a regular expression, and has match groups. To actually get the groups, use str.extract.\n",
      "  display(twitter_archive[twitter_archive['text'].str.contains(r\"(\\d+\\.\\d*\\/\\d+)\")]\n"
     ]
    },
    {
     "data": {
      "text/html": [
       "<div>\n",
       "<style scoped>\n",
       "    .dataframe tbody tr th:only-of-type {\n",
       "        vertical-align: middle;\n",
       "    }\n",
       "\n",
       "    .dataframe tbody tr th {\n",
       "        vertical-align: top;\n",
       "    }\n",
       "\n",
       "    .dataframe thead th {\n",
       "        text-align: right;\n",
       "    }\n",
       "</style>\n",
       "<table border=\"1\" class=\"dataframe\">\n",
       "  <thead>\n",
       "    <tr style=\"text-align: right;\">\n",
       "      <th></th>\n",
       "      <th>tweet_id</th>\n",
       "      <th>text</th>\n",
       "      <th>rating_numerator</th>\n",
       "      <th>rating_denominator</th>\n",
       "    </tr>\n",
       "  </thead>\n",
       "  <tbody>\n",
       "    <tr>\n",
       "      <th>45</th>\n",
       "      <td>883482846933004288</td>\n",
       "      <td>This is Bella. She hopes her smile made you smile. If not, she is also offering you her favorite monkey. 13.5/10 https://t.co/qjrljjt948</td>\n",
       "      <td>5</td>\n",
       "      <td>10</td>\n",
       "    </tr>\n",
       "    <tr>\n",
       "      <th>340</th>\n",
       "      <td>832215909146226688</td>\n",
       "      <td>RT @dog_rates: This is Logan, the Chow who lived. He solemnly swears he's up to lots of good. H*ckin magical af 9.75/10 https://t.co/yBO5wu…</td>\n",
       "      <td>75</td>\n",
       "      <td>10</td>\n",
       "    </tr>\n",
       "    <tr>\n",
       "      <th>695</th>\n",
       "      <td>786709082849828864</td>\n",
       "      <td>This is Logan, the Chow who lived. He solemnly swears he's up to lots of good. H*ckin magical af 9.75/10 https://t.co/yBO5wuqaPS</td>\n",
       "      <td>75</td>\n",
       "      <td>10</td>\n",
       "    </tr>\n",
       "    <tr>\n",
       "      <th>763</th>\n",
       "      <td>778027034220126208</td>\n",
       "      <td>This is Sophie. She's a Jubilant Bush Pupper. Super h*ckin rare. Appears at random just to smile at the locals. 11.27/10 would smile back https://t.co/QFaUiIHxHq</td>\n",
       "      <td>27</td>\n",
       "      <td>10</td>\n",
       "    </tr>\n",
       "    <tr>\n",
       "      <th>1689</th>\n",
       "      <td>681340665377193984</td>\n",
       "      <td>I've been told there's a slight possibility he's checking his mirror. We'll bump to 9.5/10. Still a menace</td>\n",
       "      <td>5</td>\n",
       "      <td>10</td>\n",
       "    </tr>\n",
       "    <tr>\n",
       "      <th>1712</th>\n",
       "      <td>680494726643068929</td>\n",
       "      <td>Here we have uncovered an entire battalion of holiday puppers. Average of 11.26/10 https://t.co/eNm2S6p9BD</td>\n",
       "      <td>26</td>\n",
       "      <td>10</td>\n",
       "    </tr>\n",
       "  </tbody>\n",
       "</table>\n",
       "</div>"
      ],
      "text/plain": [
       "                tweet_id  \\\n",
       "45    883482846933004288   \n",
       "340   832215909146226688   \n",
       "695   786709082849828864   \n",
       "763   778027034220126208   \n",
       "1689  681340665377193984   \n",
       "1712  680494726643068929   \n",
       "\n",
       "                                                                                                                                                                   text  \\\n",
       "45                             This is Bella. She hopes her smile made you smile. If not, she is also offering you her favorite monkey. 13.5/10 https://t.co/qjrljjt948   \n",
       "340                        RT @dog_rates: This is Logan, the Chow who lived. He solemnly swears he's up to lots of good. H*ckin magical af 9.75/10 https://t.co/yBO5wu…   \n",
       "695                                    This is Logan, the Chow who lived. He solemnly swears he's up to lots of good. H*ckin magical af 9.75/10 https://t.co/yBO5wuqaPS   \n",
       "763   This is Sophie. She's a Jubilant Bush Pupper. Super h*ckin rare. Appears at random just to smile at the locals. 11.27/10 would smile back https://t.co/QFaUiIHxHq   \n",
       "1689                                                         I've been told there's a slight possibility he's checking his mirror. We'll bump to 9.5/10. Still a menace   \n",
       "1712                                                         Here we have uncovered an entire battalion of holiday puppers. Average of 11.26/10 https://t.co/eNm2S6p9BD   \n",
       "\n",
       "      rating_numerator  rating_denominator  \n",
       "45                   5                  10  \n",
       "340                 75                  10  \n",
       "695                 75                  10  \n",
       "763                 27                  10  \n",
       "1689                 5                  10  \n",
       "1712                26                  10  "
      ]
     },
     "metadata": {},
     "output_type": "display_data"
    }
   ],
   "source": [
    "with pd.option_context('max_colwidth', 1000):\n",
    "    display(twitter_archive[twitter_archive['text'].str.contains(r\"(\\d+\\.\\d*\\/\\d+)\")]\n",
    "            [['tweet_id', 'text', 'rating_numerator', 'rating_denominator']])"
   ]
  },
  {
   "cell_type": "code",
   "execution_count": 24,
   "metadata": {},
   "outputs": [],
   "source": [
    "### FINDINGS ###\n",
    "# Wenn der Zähler eine Dezimalzahl ist wie z.B. 13.5 steht in der Spalte rating_numerator nur die \".5\" "
   ]
  },
  {
   "cell_type": "markdown",
   "metadata": {},
   "source": [
    "![purple-divider](https://user-images.githubusercontent.com/7065401/52071927-c1cd7100-2562-11e9-908a-dde91ba14e59.png)\n"
   ]
  },
  {
   "cell_type": "markdown",
   "metadata": {},
   "source": [
    "# Start der Übung"
   ]
  },
  {
   "cell_type": "markdown",
   "metadata": {
    "tags": []
   },
   "source": [
    "## Zusammenfassung der Beobachtungen aus erster Datenexploration \n",
    "\n",
    "##### **`twitter_archive`** \n",
    " - Es gibt sowohl Originalbewertungen und Retweets\n",
    " - Es müssen Spalten gelöscht werden, die nicht für die Analyse verwendet werden\n",
    " - Hundestufen sind nicht korrekt angegeben\n",
    " - Zeitstempel ist in einem nicht korrekten Datenformat (hier Datetime)\n",
    " - Fehlende Daten in den folgenden Spalten: in_reply_to_status_id, in_reply_to_user_id, retweeted_status_id, retweeted_status_user_id, retweeted_status_timestamp, expanded_urls\n",
    " - Der Nenner der Bewertung wird größer als 10\n",
    " - Wenn der Zähler eine Dezimalzahl ist wie z.B. 13.5 steht in der Spalte rating_numerator nur die \".5\" \n",
    " - Manchmal ist der Name des Hundes None\n",
    " - Hundeentwicklungsstufen sind in 4 Spalten\n",
    " - Alle drei Quellen sollen zum Schluss in einem DataFrame sein\n",
    " \n",
    "  \n",
    " ##### **`tweet_json`**\n",
    " - tweet_id ist ein String und keine Zahl\n",
    " - fehlende Daten für die tweet_ids\n",
    " - Retweets in diesem df\n",
    " - Alle drei Quellen sollen zum Schluss in einem DataFrame sein\n",
    " \n",
    " \n",
    " ##### **`image_prediction`** \n",
    " - p1, p2, p3 Hunderassen sind manchmal groß, manchmal klein geschrieben\n",
    " - Die Spalten p1, p2 und p3 enthalten ungültige Daten, wie z. B. ein Vogelhaus, einen Dosenöffner oder einen Brustpanzer usw.\n",
    " - Doppelte Zeilen\n",
    " - Alle drei Quellen sollen zum Schluss in einem DataFrame sein"
   ]
  },
  {
   "cell_type": "markdown",
   "metadata": {
    "tags": []
   },
   "source": [
    "## Aufgaben für euer Data Cleaning"
   ]
  },
  {
   "cell_type": "markdown",
   "metadata": {
    "tags": []
   },
   "source": [
    "**`twitter_archive`**</br>\n",
    "1. Lösche alle Retweets und behalte die Originalbewertungen in `twitter_archive`\n",
    "2. Lösche folgende Spalten in `twitter_archive`: 'source','in_reply_to_status_id', 'in_reply_to_user_id', 'retweeted_status_id', 'retweeted_status_user_id', 'retweeted_status_timestamp', 'expanded_urls'\n",
    "3. Konvertiere den Zeitstempel in `twitter_archive` als Datumsformat\n",
    "4. Korrigiere den Zähler in `twitter_archive`. Wandle es erst als `float` um, und korrigiere die 6 falschen Werte manuell\n",
    "5. Entferne alle Zeilen in `twitter_archive`, deren Nenner nicht 10 ist\n",
    "6. Kombinieren alle Spalten der Dog Stages in eine gemeinsame Spalte in `twitter_archive`\n",
    "</br>\n",
    "**`tweet_json`**</br>\n",
    "7. Wandle die tweet_id in ein `int` Format in `tweet_json`</br>\n",
    "8. Lösche alle Retweets und behalte die Originalbewertungen in `tweet_json`\n",
    "</br></br>\n",
    "**`image_predictions`**</br>\n",
    "9. Überabeite die Spalten der Hunderassen in `image_predictions` so, dass nur Kleinbuchstaben enthalten sind</br>\n",
    "10. Lösche alle duplizierten Zeilen (ca. 66) mit Bild in `image_predictions`\n",
    "</br></br>\n",
    "**Übergreifend**</br>\n",
    "11. Erstelle einen DataFrame aus den drei bereinigten DataFrames mit Namen `df`</br>\n",
    "12. Nenne die Spalte text in tweet_text um im Dataframe `df` </br>\n",
    "13. Outlier Rating_numerator erkennen und droppen, mit Hilfe der IQR"
   ]
  },
  {
   "cell_type": "code",
   "execution_count": 25,
   "metadata": {},
   "outputs": [],
   "source": [
    "'''\n",
    "Wir erstellen im ersten Schritt immer eine \"Hartcopy\", \n",
    "auf deren Basis wir dann das Data Cleaning machen damit wir später immer Vergleichen können,\n",
    "ob die Transformationen wirklich funktioniert haben\n",
    "'''\n",
    "twitter_archive_clean = twitter_archive.copy()\n",
    "image_prediction_clean = image_prediction.copy()\n",
    "tweet_json_clean = tweet_json.copy()"
   ]
  },
  {
   "cell_type": "markdown",
   "metadata": {},
   "source": [
    "**1. Lösche alle Retweets und behalte die Originalbewertungen**"
   ]
  },
  {
   "cell_type": "code",
   "execution_count": 26,
   "metadata": {},
   "outputs": [],
   "source": [
    "#Code\n",
    "twitter_archive_clean = twitter_archive_clean[pd.isnull(twitter_archive_clean['retweeted_status_user_id'])]"
   ]
  },
  {
   "cell_type": "code",
   "execution_count": 27,
   "metadata": {},
   "outputs": [
    {
     "data": {
      "text/plain": [
       "0"
      ]
     },
     "execution_count": 27,
     "metadata": {},
     "output_type": "execute_result"
    }
   ],
   "source": [
    "#Test\n",
    "sum(twitter_archive_clean.retweeted_status_id.value_counts())"
   ]
  },
  {
   "cell_type": "markdown",
   "metadata": {},
   "source": [
    "**2. Lösche folgende Spalten in `twitter_archive`: \n",
    "`source`,`in_reply_to_status_id`, `in_reply_to_user_id`, `retweeted_status_id`, `retweeted_status_user_id`, `retweeted_status_timestamp`, `expanded_urls`**"
   ]
  },
  {
   "cell_type": "code",
   "execution_count": 28,
   "metadata": {},
   "outputs": [],
   "source": [
    "#Code\n",
    "twitter_archive_clean = twitter_archive_clean.drop(['source','in_reply_to_status_id', 'in_reply_to_user_id', 'retweeted_status_id', \n",
    "                                                    'retweeted_status_user_id', 'retweeted_status_timestamp', 'expanded_urls'],\n",
    "                                                   axis=1)"
   ]
  },
  {
   "cell_type": "code",
   "execution_count": 29,
   "metadata": {},
   "outputs": [
    {
     "data": {
      "text/html": [
       "<div>\n",
       "<style scoped>\n",
       "    .dataframe tbody tr th:only-of-type {\n",
       "        vertical-align: middle;\n",
       "    }\n",
       "\n",
       "    .dataframe tbody tr th {\n",
       "        vertical-align: top;\n",
       "    }\n",
       "\n",
       "    .dataframe thead th {\n",
       "        text-align: right;\n",
       "    }\n",
       "</style>\n",
       "<table border=\"1\" class=\"dataframe\">\n",
       "  <thead>\n",
       "    <tr style=\"text-align: right;\">\n",
       "      <th></th>\n",
       "      <th>tweet_id</th>\n",
       "      <th>timestamp</th>\n",
       "      <th>text</th>\n",
       "      <th>rating_numerator</th>\n",
       "      <th>rating_denominator</th>\n",
       "      <th>name</th>\n",
       "      <th>doggo</th>\n",
       "      <th>floofer</th>\n",
       "      <th>pupper</th>\n",
       "      <th>puppo</th>\n",
       "    </tr>\n",
       "  </thead>\n",
       "  <tbody>\n",
       "    <tr>\n",
       "      <th>0</th>\n",
       "      <td>892420643555336193</td>\n",
       "      <td>2017-08-01 16:23:56 +0000</td>\n",
       "      <td>This is Phineas. He's a mystical boy. Only eve...</td>\n",
       "      <td>13</td>\n",
       "      <td>10</td>\n",
       "      <td>Phineas</td>\n",
       "      <td>None</td>\n",
       "      <td>None</td>\n",
       "      <td>None</td>\n",
       "      <td>None</td>\n",
       "    </tr>\n",
       "  </tbody>\n",
       "</table>\n",
       "</div>"
      ],
      "text/plain": [
       "             tweet_id                  timestamp  \\\n",
       "0  892420643555336193  2017-08-01 16:23:56 +0000   \n",
       "\n",
       "                                                text  rating_numerator  \\\n",
       "0  This is Phineas. He's a mystical boy. Only eve...                13   \n",
       "\n",
       "   rating_denominator     name doggo floofer pupper puppo  \n",
       "0                  10  Phineas  None    None   None  None  "
      ]
     },
     "execution_count": 29,
     "metadata": {},
     "output_type": "execute_result"
    }
   ],
   "source": [
    "#Test\n",
    "twitter_archive_clean.head(1)"
   ]
  },
  {
   "cell_type": "markdown",
   "metadata": {},
   "source": [
    "**3. Konvertiere den Zeitstempel in `twitter_archive` als Datumsformat**"
   ]
  },
  {
   "cell_type": "code",
   "execution_count": 30,
   "metadata": {},
   "outputs": [],
   "source": [
    "#Code\n",
    "twitter_archive_clean.timestamp = pd.to_datetime(twitter_archive_clean.timestamp)"
   ]
  },
  {
   "cell_type": "code",
   "execution_count": 31,
   "metadata": {},
   "outputs": [
    {
     "name": "stdout",
     "output_type": "stream",
     "text": [
      "<class 'pandas.core.frame.DataFrame'>\n",
      "Int64Index: 2175 entries, 0 to 2355\n",
      "Data columns (total 10 columns):\n",
      " #   Column              Non-Null Count  Dtype              \n",
      "---  ------              --------------  -----              \n",
      " 0   tweet_id            2175 non-null   int64              \n",
      " 1   timestamp           2175 non-null   datetime64[ns, UTC]\n",
      " 2   text                2175 non-null   object             \n",
      " 3   rating_numerator    2175 non-null   int64              \n",
      " 4   rating_denominator  2175 non-null   int64              \n",
      " 5   name                2175 non-null   object             \n",
      " 6   doggo               2175 non-null   object             \n",
      " 7   floofer             2175 non-null   object             \n",
      " 8   pupper              2175 non-null   object             \n",
      " 9   puppo               2175 non-null   object             \n",
      "dtypes: datetime64[ns, UTC](1), int64(3), object(6)\n",
      "memory usage: 186.9+ KB\n"
     ]
    }
   ],
   "source": [
    "#Test\n",
    "twitter_archive_clean.info()"
   ]
  },
  {
   "cell_type": "markdown",
   "metadata": {},
   "source": [
    "**4. Korrigiere den Zähler in `twitter_archive`. Wandle es erst als `float` um, und korrigiere die 6 falschen Werte manuell**"
   ]
  },
  {
   "cell_type": "code",
   "execution_count": 32,
   "metadata": {},
   "outputs": [
    {
     "name": "stdout",
     "output_type": "stream",
     "text": [
      "<class 'pandas.core.frame.DataFrame'>\n",
      "Int64Index: 2175 entries, 0 to 2355\n",
      "Data columns (total 10 columns):\n",
      " #   Column              Non-Null Count  Dtype              \n",
      "---  ------              --------------  -----              \n",
      " 0   tweet_id            2175 non-null   int64              \n",
      " 1   timestamp           2175 non-null   datetime64[ns, UTC]\n",
      " 2   text                2175 non-null   object             \n",
      " 3   rating_numerator    2175 non-null   int64              \n",
      " 4   rating_denominator  2175 non-null   int64              \n",
      " 5   name                2175 non-null   object             \n",
      " 6   doggo               2175 non-null   object             \n",
      " 7   floofer             2175 non-null   object             \n",
      " 8   pupper              2175 non-null   object             \n",
      " 9   puppo               2175 non-null   object             \n",
      "dtypes: datetime64[ns, UTC](1), int64(3), object(6)\n",
      "memory usage: 186.9+ KB\n"
     ]
    }
   ],
   "source": [
    "twitter_archive_clean.info()"
   ]
  },
  {
   "cell_type": "code",
   "execution_count": 33,
   "metadata": {},
   "outputs": [
    {
     "name": "stdout",
     "output_type": "stream",
     "text": [
      "<class 'pandas.core.frame.DataFrame'>\n",
      "Int64Index: 2175 entries, 0 to 2355\n",
      "Data columns (total 10 columns):\n",
      " #   Column              Non-Null Count  Dtype              \n",
      "---  ------              --------------  -----              \n",
      " 0   tweet_id            2175 non-null   int64              \n",
      " 1   timestamp           2175 non-null   datetime64[ns, UTC]\n",
      " 2   text                2175 non-null   object             \n",
      " 3   rating_numerator    2175 non-null   float64            \n",
      " 4   rating_denominator  2175 non-null   float64            \n",
      " 5   name                2175 non-null   object             \n",
      " 6   doggo               2175 non-null   object             \n",
      " 7   floofer             2175 non-null   object             \n",
      " 8   pupper              2175 non-null   object             \n",
      " 9   puppo               2175 non-null   object             \n",
      "dtypes: datetime64[ns, UTC](1), float64(2), int64(1), object(6)\n",
      "memory usage: 186.9+ KB\n"
     ]
    }
   ],
   "source": [
    "#Code\n",
    "twitter_archive_clean[[\"rating_numerator\",\"rating_denominator\"]] = twitter_archive_clean[[\"rating_numerator\",\n",
    "                                                                                          \"rating_denominator\"]].astype(float)\n",
    "twitter_archive_clean.info()\n",
    "\n",
    "#Manuelles Updaten der Nenner (numerators)\n",
    "twitter_archive_clean.loc[(twitter_archive_clean.tweet_id == 883482846933004288), 'rating_numerator'] = 13.5\n",
    "twitter_archive_clean.loc[(twitter_archive_clean.tweet_id == 786709082849828864), 'rating_numerator'] = 9.75\n",
    "twitter_archive_clean.loc[(twitter_archive_clean.tweet_id == 778027034220126208), 'rating_numerator'] = 11.27\n",
    "twitter_archive_clean.loc[(twitter_archive_clean.tweet_id == 681340665377193984), 'rating_numerator'] = 9.5\n",
    "twitter_archive_clean.loc[(twitter_archive_clean.tweet_id == 680494726643068929), 'rating_numerator'] = 11.26\n",
    "twitter_archive_clean.loc[(twitter_archive_clean.tweet_id == 832215909146226688), 'rating_numerator'] = 9.75"
   ]
  },
  {
   "cell_type": "code",
   "execution_count": 34,
   "metadata": {},
   "outputs": [
    {
     "name": "stderr",
     "output_type": "stream",
     "text": [
      "/var/folders/2w/s3yyj4_57gz_cgh69ctc_d440000gq/T/ipykernel_73798/3408918035.py:3: UserWarning: This pattern is interpreted as a regular expression, and has match groups. To actually get the groups, use str.extract.\n",
      "  display(twitter_archive_clean[twitter_archive_clean['text'].str.contains(r\"(\\d+\\.\\d*\\/\\d+)\")]\n"
     ]
    },
    {
     "data": {
      "text/html": [
       "<div>\n",
       "<style scoped>\n",
       "    .dataframe tbody tr th:only-of-type {\n",
       "        vertical-align: middle;\n",
       "    }\n",
       "\n",
       "    .dataframe tbody tr th {\n",
       "        vertical-align: top;\n",
       "    }\n",
       "\n",
       "    .dataframe thead th {\n",
       "        text-align: right;\n",
       "    }\n",
       "</style>\n",
       "<table border=\"1\" class=\"dataframe\">\n",
       "  <thead>\n",
       "    <tr style=\"text-align: right;\">\n",
       "      <th></th>\n",
       "      <th>tweet_id</th>\n",
       "      <th>text</th>\n",
       "      <th>rating_numerator</th>\n",
       "      <th>rating_denominator</th>\n",
       "    </tr>\n",
       "  </thead>\n",
       "  <tbody>\n",
       "    <tr>\n",
       "      <th>45</th>\n",
       "      <td>883482846933004288</td>\n",
       "      <td>This is Bella. She hopes her smile made you smile. If not, she is also offering you her favorite monkey. 13.5/10 https://t.co/qjrljjt948</td>\n",
       "      <td>13.50</td>\n",
       "      <td>10.0</td>\n",
       "    </tr>\n",
       "    <tr>\n",
       "      <th>695</th>\n",
       "      <td>786709082849828864</td>\n",
       "      <td>This is Logan, the Chow who lived. He solemnly swears he's up to lots of good. H*ckin magical af 9.75/10 https://t.co/yBO5wuqaPS</td>\n",
       "      <td>9.75</td>\n",
       "      <td>10.0</td>\n",
       "    </tr>\n",
       "    <tr>\n",
       "      <th>763</th>\n",
       "      <td>778027034220126208</td>\n",
       "      <td>This is Sophie. She's a Jubilant Bush Pupper. Super h*ckin rare. Appears at random just to smile at the locals. 11.27/10 would smile back https://t.co/QFaUiIHxHq</td>\n",
       "      <td>11.27</td>\n",
       "      <td>10.0</td>\n",
       "    </tr>\n",
       "    <tr>\n",
       "      <th>1689</th>\n",
       "      <td>681340665377193984</td>\n",
       "      <td>I've been told there's a slight possibility he's checking his mirror. We'll bump to 9.5/10. Still a menace</td>\n",
       "      <td>9.50</td>\n",
       "      <td>10.0</td>\n",
       "    </tr>\n",
       "    <tr>\n",
       "      <th>1712</th>\n",
       "      <td>680494726643068929</td>\n",
       "      <td>Here we have uncovered an entire battalion of holiday puppers. Average of 11.26/10 https://t.co/eNm2S6p9BD</td>\n",
       "      <td>11.26</td>\n",
       "      <td>10.0</td>\n",
       "    </tr>\n",
       "  </tbody>\n",
       "</table>\n",
       "</div>"
      ],
      "text/plain": [
       "                tweet_id  \\\n",
       "45    883482846933004288   \n",
       "695   786709082849828864   \n",
       "763   778027034220126208   \n",
       "1689  681340665377193984   \n",
       "1712  680494726643068929   \n",
       "\n",
       "                                                                                                                                                                   text  \\\n",
       "45                             This is Bella. She hopes her smile made you smile. If not, she is also offering you her favorite monkey. 13.5/10 https://t.co/qjrljjt948   \n",
       "695                                    This is Logan, the Chow who lived. He solemnly swears he's up to lots of good. H*ckin magical af 9.75/10 https://t.co/yBO5wuqaPS   \n",
       "763   This is Sophie. She's a Jubilant Bush Pupper. Super h*ckin rare. Appears at random just to smile at the locals. 11.27/10 would smile back https://t.co/QFaUiIHxHq   \n",
       "1689                                                         I've been told there's a slight possibility he's checking his mirror. We'll bump to 9.5/10. Still a menace   \n",
       "1712                                                         Here we have uncovered an entire battalion of holiday puppers. Average of 11.26/10 https://t.co/eNm2S6p9BD   \n",
       "\n",
       "      rating_numerator  rating_denominator  \n",
       "45               13.50                10.0  \n",
       "695               9.75                10.0  \n",
       "763              11.27                10.0  \n",
       "1689              9.50                10.0  \n",
       "1712             11.26                10.0  "
      ]
     },
     "metadata": {},
     "output_type": "display_data"
    }
   ],
   "source": [
    "#Test\n",
    "with pd.option_context('max_colwidth', 300):\n",
    "    display(twitter_archive_clean[twitter_archive_clean['text'].str.contains(r\"(\\d+\\.\\d*\\/\\d+)\")]\n",
    "            [['tweet_id', 'text', 'rating_numerator', 'rating_denominator']])"
   ]
  },
  {
   "cell_type": "markdown",
   "metadata": {},
   "source": [
    "**5. Entferne alle Zeilen in `tweet_archive`, deren Nenner nicht 10 ist**"
   ]
  },
  {
   "cell_type": "code",
   "execution_count": 35,
   "metadata": {},
   "outputs": [
    {
     "data": {
      "text/plain": [
       "22"
      ]
     },
     "execution_count": 35,
     "metadata": {},
     "output_type": "execute_result"
    }
   ],
   "source": [
    "len(twitter_archive_clean[twitter_archive_clean[\"rating_denominator\"] != 10])"
   ]
  },
  {
   "cell_type": "code",
   "execution_count": 36,
   "metadata": {},
   "outputs": [],
   "source": [
    "#code\n",
    "twitter_archive_clean = twitter_archive_clean[twitter_archive_clean['rating_denominator'] == 10]"
   ]
  },
  {
   "cell_type": "code",
   "execution_count": 37,
   "metadata": {},
   "outputs": [
    {
     "data": {
      "text/plain": [
       "0"
      ]
     },
     "execution_count": 37,
     "metadata": {},
     "output_type": "execute_result"
    }
   ],
   "source": [
    "#Test\n",
    "len(twitter_archive_clean[twitter_archive_clean[\"rating_denominator\"] != 10])"
   ]
  },
  {
   "cell_type": "markdown",
   "metadata": {},
   "source": [
    "**6. Kombinieren alle Spalten der Dog Stages in eine gemeinsame Spalte in `twitter_archive`**"
   ]
  },
  {
   "cell_type": "code",
   "execution_count": 38,
   "metadata": {},
   "outputs": [],
   "source": [
    "#CODE: Melt the doggo, floofer, pupper and puppo columns to dogs and dogs_stage column\n",
    "twitter_archive_clean = pd.melt(twitter_archive_clean, id_vars=['tweet_id',                                          \n",
    "                                                                'timestamp',\n",
    "                                                                'text',\n",
    "                                                                'rating_numerator',\n",
    "                                                                'rating_denominator',\n",
    "                                                                'name'],\n",
    "                               var_name='dogs', value_name='dogs_stage')"
   ]
  },
  {
   "cell_type": "code",
   "execution_count": 40,
   "metadata": {},
   "outputs": [
    {
     "name": "stderr",
     "output_type": "stream",
     "text": [
      "/var/folders/2w/s3yyj4_57gz_cgh69ctc_d440000gq/T/ipykernel_73798/874816696.py:2: FutureWarning: In a future version of pandas all arguments of DataFrame.drop except for the argument 'labels' will be keyword-only.\n",
      "  twitter_archive_clean = twitter_archive_clean.drop('dogs', 1)\n"
     ]
    }
   ],
   "source": [
    "#CODE: drop dogs\n",
    "twitter_archive_clean = twitter_archive_clean.drop('dogs', 1)\n",
    "\n",
    "#CODE: Sort by dogs_stage then drop duplicated based on tweet_id except the last occurrence\n",
    "twitter_archive_clean = twitter_archive_clean.sort_values('dogs_stage').drop_duplicates(subset='tweet_id', \n",
    "                                                                                        keep='last')"
   ]
  },
  {
   "cell_type": "code",
   "execution_count": 41,
   "metadata": {},
   "outputs": [
    {
     "data": {
      "text/plain": [
       "None       1809\n",
       "pupper      234\n",
       "doggo        75\n",
       "puppo        25\n",
       "floofer      10\n",
       "Name: dogs_stage, dtype: int64"
      ]
     },
     "execution_count": 41,
     "metadata": {},
     "output_type": "execute_result"
    }
   ],
   "source": [
    "#TEST\n",
    "twitter_archive_clean.dogs_stage.value_counts()"
   ]
  },
  {
   "cell_type": "markdown",
   "metadata": {},
   "source": [
    "**7. Wandle die tweet_id in ein `int` Format in `tweet_json`**"
   ]
  },
  {
   "cell_type": "code",
   "execution_count": 42,
   "metadata": {},
   "outputs": [],
   "source": [
    "#Code\n",
    "tweet_json_clean.tweet_id = tweet_json_clean.tweet_id.astype(int)"
   ]
  },
  {
   "cell_type": "code",
   "execution_count": 43,
   "metadata": {},
   "outputs": [
    {
     "name": "stdout",
     "output_type": "stream",
     "text": [
      "<class 'pandas.core.frame.DataFrame'>\n",
      "RangeIndex: 2331 entries, 0 to 2330\n",
      "Data columns (total 6 columns):\n",
      " #   Column            Non-Null Count  Dtype  \n",
      "---  ------            --------------  -----  \n",
      " 0   tweet_id          2331 non-null   int64  \n",
      " 1   favorite_count    2331 non-null   int64  \n",
      " 2   retweet_count     2331 non-null   int64  \n",
      " 3   followers_count   2331 non-null   int64  \n",
      " 4   retweeted_status  2331 non-null   object \n",
      " 5   url               0 non-null      float64\n",
      "dtypes: float64(1), int64(4), object(1)\n",
      "memory usage: 109.4+ KB\n"
     ]
    }
   ],
   "source": [
    "#Test\n",
    "tweet_json_clean.info()"
   ]
  },
  {
   "cell_type": "markdown",
   "metadata": {},
   "source": [
    "**8. Lösche alle Retweets und behalte die Originalbewertungen in `tweet_json`**"
   ]
  },
  {
   "cell_type": "code",
   "execution_count": 44,
   "metadata": {},
   "outputs": [],
   "source": [
    "#Code\n",
    "tweet_json_clean = tweet_json_clean[tweet_json_clean[\"retweeted_status\"]==\"Original tweet\"]"
   ]
  },
  {
   "cell_type": "code",
   "execution_count": 45,
   "metadata": {},
   "outputs": [
    {
     "data": {
      "text/plain": [
       "Original tweet    2168\n",
       "Name: retweeted_status, dtype: int64"
      ]
     },
     "execution_count": 45,
     "metadata": {},
     "output_type": "execute_result"
    }
   ],
   "source": [
    "#Test\n",
    "tweet_json_clean.retweeted_status.value_counts()"
   ]
  },
  {
   "cell_type": "markdown",
   "metadata": {},
   "source": [
    "**9. Überarbeite die Spalten der Hunderassen in `image_predictions` so, dass nur Kleinbuchstaben enthalten sind**"
   ]
  },
  {
   "cell_type": "code",
   "execution_count": 46,
   "metadata": {},
   "outputs": [],
   "source": [
    "#Code\n",
    "image_prediction_clean.p1 =image_prediction_clean.p1.str.lower()\n",
    "image_prediction_clean.p2 =image_prediction_clean.p2.str.lower()\n",
    "image_prediction_clean.p3 =image_prediction_clean.p3.str.lower()"
   ]
  },
  {
   "cell_type": "code",
   "execution_count": 47,
   "metadata": {},
   "outputs": [
    {
     "data": {
      "text/html": [
       "<div>\n",
       "<style scoped>\n",
       "    .dataframe tbody tr th:only-of-type {\n",
       "        vertical-align: middle;\n",
       "    }\n",
       "\n",
       "    .dataframe tbody tr th {\n",
       "        vertical-align: top;\n",
       "    }\n",
       "\n",
       "    .dataframe thead th {\n",
       "        text-align: right;\n",
       "    }\n",
       "</style>\n",
       "<table border=\"1\" class=\"dataframe\">\n",
       "  <thead>\n",
       "    <tr style=\"text-align: right;\">\n",
       "      <th></th>\n",
       "      <th>tweet_id</th>\n",
       "      <th>jpg_url</th>\n",
       "      <th>img_num</th>\n",
       "      <th>p1</th>\n",
       "      <th>p1_conf</th>\n",
       "      <th>p1_dog</th>\n",
       "      <th>p2</th>\n",
       "      <th>p2_conf</th>\n",
       "      <th>p2_dog</th>\n",
       "      <th>p3</th>\n",
       "      <th>p3_conf</th>\n",
       "      <th>p3_dog</th>\n",
       "    </tr>\n",
       "  </thead>\n",
       "  <tbody>\n",
       "    <tr>\n",
       "      <th>1356</th>\n",
       "      <td>760539183865880579</td>\n",
       "      <td>https://pbs.twimg.com/media/Co36VZfWcAEN3R3.jpg</td>\n",
       "      <td>1</td>\n",
       "      <td>samoyed</td>\n",
       "      <td>0.988013</td>\n",
       "      <td>True</td>\n",
       "      <td>malamute</td>\n",
       "      <td>0.004518</td>\n",
       "      <td>True</td>\n",
       "      <td>west_highland_white_terrier</td>\n",
       "      <td>0.001189</td>\n",
       "      <td>True</td>\n",
       "    </tr>\n",
       "    <tr>\n",
       "      <th>544</th>\n",
       "      <td>677301033169788928</td>\n",
       "      <td>https://pbs.twimg.com/media/CWZBsjPWsAAZFFl.jpg</td>\n",
       "      <td>1</td>\n",
       "      <td>japanese_spaniel</td>\n",
       "      <td>0.661178</td>\n",
       "      <td>True</td>\n",
       "      <td>pekinese</td>\n",
       "      <td>0.150119</td>\n",
       "      <td>True</td>\n",
       "      <td>chihuahua</td>\n",
       "      <td>0.119720</td>\n",
       "      <td>True</td>\n",
       "    </tr>\n",
       "    <tr>\n",
       "      <th>2045</th>\n",
       "      <td>886366144734445568</td>\n",
       "      <td>https://pbs.twimg.com/media/DE0BTnQUwAApKEH.jpg</td>\n",
       "      <td>1</td>\n",
       "      <td>french_bulldog</td>\n",
       "      <td>0.999201</td>\n",
       "      <td>True</td>\n",
       "      <td>chihuahua</td>\n",
       "      <td>0.000361</td>\n",
       "      <td>True</td>\n",
       "      <td>boston_bull</td>\n",
       "      <td>0.000076</td>\n",
       "      <td>True</td>\n",
       "    </tr>\n",
       "    <tr>\n",
       "      <th>1014</th>\n",
       "      <td>709566166965075968</td>\n",
       "      <td>https://pbs.twimg.com/media/Cdjiqi6XIAIUOg-.jpg</td>\n",
       "      <td>1</td>\n",
       "      <td>chow</td>\n",
       "      <td>0.999837</td>\n",
       "      <td>True</td>\n",
       "      <td>tibetan_mastiff</td>\n",
       "      <td>0.000117</td>\n",
       "      <td>True</td>\n",
       "      <td>australian_terrier</td>\n",
       "      <td>0.000011</td>\n",
       "      <td>True</td>\n",
       "    </tr>\n",
       "    <tr>\n",
       "      <th>698</th>\n",
       "      <td>684567543613382656</td>\n",
       "      <td>https://pbs.twimg.com/media/CYASi6FWQAEQMW2.jpg</td>\n",
       "      <td>1</td>\n",
       "      <td>minibus</td>\n",
       "      <td>0.401942</td>\n",
       "      <td>False</td>\n",
       "      <td>llama</td>\n",
       "      <td>0.229145</td>\n",
       "      <td>False</td>\n",
       "      <td>seat_belt</td>\n",
       "      <td>0.209393</td>\n",
       "      <td>False</td>\n",
       "    </tr>\n",
       "    <tr>\n",
       "      <th>711</th>\n",
       "      <td>685315239903100929</td>\n",
       "      <td>https://pbs.twimg.com/media/CYK6kf0WMAAzP-0.jpg</td>\n",
       "      <td>2</td>\n",
       "      <td>chow</td>\n",
       "      <td>0.470162</td>\n",
       "      <td>True</td>\n",
       "      <td>pomeranian</td>\n",
       "      <td>0.159677</td>\n",
       "      <td>True</td>\n",
       "      <td>eskimo_dog</td>\n",
       "      <td>0.105074</td>\n",
       "      <td>True</td>\n",
       "    </tr>\n",
       "    <tr>\n",
       "      <th>1928</th>\n",
       "      <td>858107933456039936</td>\n",
       "      <td>https://pbs.twimg.com/media/C-icm_WXUAAmuRR.jpg</td>\n",
       "      <td>1</td>\n",
       "      <td>golden_retriever</td>\n",
       "      <td>0.863874</td>\n",
       "      <td>True</td>\n",
       "      <td>labrador_retriever</td>\n",
       "      <td>0.015920</td>\n",
       "      <td>True</td>\n",
       "      <td>doormat</td>\n",
       "      <td>0.010615</td>\n",
       "      <td>False</td>\n",
       "    </tr>\n",
       "    <tr>\n",
       "      <th>1991</th>\n",
       "      <td>873580283840344065</td>\n",
       "      <td>https://pbs.twimg.com/media/DB-UotKXkAEHXVi.jpg</td>\n",
       "      <td>1</td>\n",
       "      <td>newfoundland</td>\n",
       "      <td>0.678537</td>\n",
       "      <td>True</td>\n",
       "      <td>tibetan_mastiff</td>\n",
       "      <td>0.244022</td>\n",
       "      <td>True</td>\n",
       "      <td>chow</td>\n",
       "      <td>0.048530</td>\n",
       "      <td>True</td>\n",
       "    </tr>\n",
       "    <tr>\n",
       "      <th>1294</th>\n",
       "      <td>751830394383790080</td>\n",
       "      <td>https://pbs.twimg.com/media/Cm8JwBqW8AAFOEn.jpg</td>\n",
       "      <td>1</td>\n",
       "      <td>chow</td>\n",
       "      <td>0.703569</td>\n",
       "      <td>True</td>\n",
       "      <td>pomeranian</td>\n",
       "      <td>0.076637</td>\n",
       "      <td>True</td>\n",
       "      <td>siamese_cat</td>\n",
       "      <td>0.045959</td>\n",
       "      <td>False</td>\n",
       "    </tr>\n",
       "    <tr>\n",
       "      <th>697</th>\n",
       "      <td>684538444857667585</td>\n",
       "      <td>https://pbs.twimg.com/ext_tw_video_thumb/68453...</td>\n",
       "      <td>1</td>\n",
       "      <td>chihuahua</td>\n",
       "      <td>0.702583</td>\n",
       "      <td>True</td>\n",
       "      <td>siamese_cat</td>\n",
       "      <td>0.068218</td>\n",
       "      <td>False</td>\n",
       "      <td>macaque</td>\n",
       "      <td>0.043325</td>\n",
       "      <td>False</td>\n",
       "    </tr>\n",
       "    <tr>\n",
       "      <th>1042</th>\n",
       "      <td>712438159032893441</td>\n",
       "      <td>https://pbs.twimg.com/media/CeMWubMWwAA6GwF.jpg</td>\n",
       "      <td>1</td>\n",
       "      <td>ice_bear</td>\n",
       "      <td>0.869477</td>\n",
       "      <td>False</td>\n",
       "      <td>great_pyrenees</td>\n",
       "      <td>0.069457</td>\n",
       "      <td>True</td>\n",
       "      <td>labrador_retriever</td>\n",
       "      <td>0.024740</td>\n",
       "      <td>True</td>\n",
       "    </tr>\n",
       "    <tr>\n",
       "      <th>1155</th>\n",
       "      <td>733109485275860992</td>\n",
       "      <td>https://pbs.twimg.com/media/CiyHLocU4AI2pJu.jpg</td>\n",
       "      <td>1</td>\n",
       "      <td>golden_retriever</td>\n",
       "      <td>0.945523</td>\n",
       "      <td>True</td>\n",
       "      <td>labrador_retriever</td>\n",
       "      <td>0.042319</td>\n",
       "      <td>True</td>\n",
       "      <td>doormat</td>\n",
       "      <td>0.003956</td>\n",
       "      <td>False</td>\n",
       "    </tr>\n",
       "    <tr>\n",
       "      <th>77</th>\n",
       "      <td>667437278097252352</td>\n",
       "      <td>https://pbs.twimg.com/media/CUM2qWaWoAUZ06L.jpg</td>\n",
       "      <td>1</td>\n",
       "      <td>porcupine</td>\n",
       "      <td>0.989154</td>\n",
       "      <td>False</td>\n",
       "      <td>bath_towel</td>\n",
       "      <td>0.006300</td>\n",
       "      <td>False</td>\n",
       "      <td>badger</td>\n",
       "      <td>0.000966</td>\n",
       "      <td>False</td>\n",
       "    </tr>\n",
       "    <tr>\n",
       "      <th>163</th>\n",
       "      <td>668960084974809088</td>\n",
       "      <td>https://pbs.twimg.com/media/CUifpn4WUAAS5X3.jpg</td>\n",
       "      <td>1</td>\n",
       "      <td>shower_curtain</td>\n",
       "      <td>0.226309</td>\n",
       "      <td>False</td>\n",
       "      <td>chesapeake_bay_retriever</td>\n",
       "      <td>0.165878</td>\n",
       "      <td>True</td>\n",
       "      <td>bathtub</td>\n",
       "      <td>0.056726</td>\n",
       "      <td>False</td>\n",
       "    </tr>\n",
       "    <tr>\n",
       "      <th>1095</th>\n",
       "      <td>720043174954147842</td>\n",
       "      <td>https://pbs.twimg.com/media/Cf4bcm8XEAAX4xV.jpg</td>\n",
       "      <td>1</td>\n",
       "      <td>samoyed</td>\n",
       "      <td>0.954517</td>\n",
       "      <td>True</td>\n",
       "      <td>eskimo_dog</td>\n",
       "      <td>0.029130</td>\n",
       "      <td>True</td>\n",
       "      <td>white_wolf</td>\n",
       "      <td>0.004462</td>\n",
       "      <td>False</td>\n",
       "    </tr>\n",
       "    <tr>\n",
       "      <th>436</th>\n",
       "      <td>674410619106390016</td>\n",
       "      <td>https://pbs.twimg.com/media/CVv84VDUEAEm3dW.jpg</td>\n",
       "      <td>1</td>\n",
       "      <td>brown_bear</td>\n",
       "      <td>0.698207</td>\n",
       "      <td>False</td>\n",
       "      <td>sea_lion</td>\n",
       "      <td>0.046475</td>\n",
       "      <td>False</td>\n",
       "      <td>beagle</td>\n",
       "      <td>0.019427</td>\n",
       "      <td>True</td>\n",
       "    </tr>\n",
       "    <tr>\n",
       "      <th>686</th>\n",
       "      <td>684097758874210310</td>\n",
       "      <td>https://pbs.twimg.com/media/CX5nR5oWsAAiclh.jpg</td>\n",
       "      <td>1</td>\n",
       "      <td>labrador_retriever</td>\n",
       "      <td>0.627856</td>\n",
       "      <td>True</td>\n",
       "      <td>german_short-haired_pointer</td>\n",
       "      <td>0.173675</td>\n",
       "      <td>True</td>\n",
       "      <td>chesapeake_bay_retriever</td>\n",
       "      <td>0.041342</td>\n",
       "      <td>True</td>\n",
       "    </tr>\n",
       "    <tr>\n",
       "      <th>547</th>\n",
       "      <td>677331501395156992</td>\n",
       "      <td>https://pbs.twimg.com/media/CWZdaGxXAAAjGjb.jpg</td>\n",
       "      <td>1</td>\n",
       "      <td>beagle</td>\n",
       "      <td>0.313464</td>\n",
       "      <td>True</td>\n",
       "      <td>boxer</td>\n",
       "      <td>0.218503</td>\n",
       "      <td>True</td>\n",
       "      <td>french_bulldog</td>\n",
       "      <td>0.106462</td>\n",
       "      <td>True</td>\n",
       "    </tr>\n",
       "    <tr>\n",
       "      <th>539</th>\n",
       "      <td>676957860086095872</td>\n",
       "      <td>https://pbs.twimg.com/ext_tw_video_thumb/67695...</td>\n",
       "      <td>1</td>\n",
       "      <td>labrador_retriever</td>\n",
       "      <td>0.772423</td>\n",
       "      <td>True</td>\n",
       "      <td>beagle</td>\n",
       "      <td>0.055902</td>\n",
       "      <td>True</td>\n",
       "      <td>golden_retriever</td>\n",
       "      <td>0.031152</td>\n",
       "      <td>True</td>\n",
       "    </tr>\n",
       "    <tr>\n",
       "      <th>871</th>\n",
       "      <td>697943111201378304</td>\n",
       "      <td>https://pbs.twimg.com/media/Ca-XjfiUsAAUa8f.jpg</td>\n",
       "      <td>1</td>\n",
       "      <td>great_dane</td>\n",
       "      <td>0.126924</td>\n",
       "      <td>True</td>\n",
       "      <td>greater_swiss_mountain_dog</td>\n",
       "      <td>0.110037</td>\n",
       "      <td>True</td>\n",
       "      <td>german_short-haired_pointer</td>\n",
       "      <td>0.090816</td>\n",
       "      <td>True</td>\n",
       "    </tr>\n",
       "  </tbody>\n",
       "</table>\n",
       "</div>"
      ],
      "text/plain": [
       "                tweet_id                                            jpg_url  \\\n",
       "1356  760539183865880579    https://pbs.twimg.com/media/Co36VZfWcAEN3R3.jpg   \n",
       "544   677301033169788928    https://pbs.twimg.com/media/CWZBsjPWsAAZFFl.jpg   \n",
       "2045  886366144734445568    https://pbs.twimg.com/media/DE0BTnQUwAApKEH.jpg   \n",
       "1014  709566166965075968    https://pbs.twimg.com/media/Cdjiqi6XIAIUOg-.jpg   \n",
       "698   684567543613382656    https://pbs.twimg.com/media/CYASi6FWQAEQMW2.jpg   \n",
       "711   685315239903100929    https://pbs.twimg.com/media/CYK6kf0WMAAzP-0.jpg   \n",
       "1928  858107933456039936    https://pbs.twimg.com/media/C-icm_WXUAAmuRR.jpg   \n",
       "1991  873580283840344065    https://pbs.twimg.com/media/DB-UotKXkAEHXVi.jpg   \n",
       "1294  751830394383790080    https://pbs.twimg.com/media/Cm8JwBqW8AAFOEn.jpg   \n",
       "697   684538444857667585  https://pbs.twimg.com/ext_tw_video_thumb/68453...   \n",
       "1042  712438159032893441    https://pbs.twimg.com/media/CeMWubMWwAA6GwF.jpg   \n",
       "1155  733109485275860992    https://pbs.twimg.com/media/CiyHLocU4AI2pJu.jpg   \n",
       "77    667437278097252352    https://pbs.twimg.com/media/CUM2qWaWoAUZ06L.jpg   \n",
       "163   668960084974809088    https://pbs.twimg.com/media/CUifpn4WUAAS5X3.jpg   \n",
       "1095  720043174954147842    https://pbs.twimg.com/media/Cf4bcm8XEAAX4xV.jpg   \n",
       "436   674410619106390016    https://pbs.twimg.com/media/CVv84VDUEAEm3dW.jpg   \n",
       "686   684097758874210310    https://pbs.twimg.com/media/CX5nR5oWsAAiclh.jpg   \n",
       "547   677331501395156992    https://pbs.twimg.com/media/CWZdaGxXAAAjGjb.jpg   \n",
       "539   676957860086095872  https://pbs.twimg.com/ext_tw_video_thumb/67695...   \n",
       "871   697943111201378304    https://pbs.twimg.com/media/Ca-XjfiUsAAUa8f.jpg   \n",
       "\n",
       "      img_num                  p1   p1_conf  p1_dog  \\\n",
       "1356        1             samoyed  0.988013    True   \n",
       "544         1    japanese_spaniel  0.661178    True   \n",
       "2045        1      french_bulldog  0.999201    True   \n",
       "1014        1                chow  0.999837    True   \n",
       "698         1             minibus  0.401942   False   \n",
       "711         2                chow  0.470162    True   \n",
       "1928        1    golden_retriever  0.863874    True   \n",
       "1991        1        newfoundland  0.678537    True   \n",
       "1294        1                chow  0.703569    True   \n",
       "697         1           chihuahua  0.702583    True   \n",
       "1042        1            ice_bear  0.869477   False   \n",
       "1155        1    golden_retriever  0.945523    True   \n",
       "77          1           porcupine  0.989154   False   \n",
       "163         1      shower_curtain  0.226309   False   \n",
       "1095        1             samoyed  0.954517    True   \n",
       "436         1          brown_bear  0.698207   False   \n",
       "686         1  labrador_retriever  0.627856    True   \n",
       "547         1              beagle  0.313464    True   \n",
       "539         1  labrador_retriever  0.772423    True   \n",
       "871         1          great_dane  0.126924    True   \n",
       "\n",
       "                               p2   p2_conf  p2_dog  \\\n",
       "1356                     malamute  0.004518    True   \n",
       "544                      pekinese  0.150119    True   \n",
       "2045                    chihuahua  0.000361    True   \n",
       "1014              tibetan_mastiff  0.000117    True   \n",
       "698                         llama  0.229145   False   \n",
       "711                    pomeranian  0.159677    True   \n",
       "1928           labrador_retriever  0.015920    True   \n",
       "1991              tibetan_mastiff  0.244022    True   \n",
       "1294                   pomeranian  0.076637    True   \n",
       "697                   siamese_cat  0.068218   False   \n",
       "1042               great_pyrenees  0.069457    True   \n",
       "1155           labrador_retriever  0.042319    True   \n",
       "77                     bath_towel  0.006300   False   \n",
       "163      chesapeake_bay_retriever  0.165878    True   \n",
       "1095                   eskimo_dog  0.029130    True   \n",
       "436                      sea_lion  0.046475   False   \n",
       "686   german_short-haired_pointer  0.173675    True   \n",
       "547                         boxer  0.218503    True   \n",
       "539                        beagle  0.055902    True   \n",
       "871    greater_swiss_mountain_dog  0.110037    True   \n",
       "\n",
       "                               p3   p3_conf  p3_dog  \n",
       "1356  west_highland_white_terrier  0.001189    True  \n",
       "544                     chihuahua  0.119720    True  \n",
       "2045                  boston_bull  0.000076    True  \n",
       "1014           australian_terrier  0.000011    True  \n",
       "698                     seat_belt  0.209393   False  \n",
       "711                    eskimo_dog  0.105074    True  \n",
       "1928                      doormat  0.010615   False  \n",
       "1991                         chow  0.048530    True  \n",
       "1294                  siamese_cat  0.045959   False  \n",
       "697                       macaque  0.043325   False  \n",
       "1042           labrador_retriever  0.024740    True  \n",
       "1155                      doormat  0.003956   False  \n",
       "77                         badger  0.000966   False  \n",
       "163                       bathtub  0.056726   False  \n",
       "1095                   white_wolf  0.004462   False  \n",
       "436                        beagle  0.019427    True  \n",
       "686      chesapeake_bay_retriever  0.041342    True  \n",
       "547                french_bulldog  0.106462    True  \n",
       "539              golden_retriever  0.031152    True  \n",
       "871   german_short-haired_pointer  0.090816    True  "
      ]
     },
     "execution_count": 47,
     "metadata": {},
     "output_type": "execute_result"
    }
   ],
   "source": [
    "#Test\n",
    "image_prediction_clean.sample(20)"
   ]
  },
  {
   "cell_type": "markdown",
   "metadata": {},
   "source": [
    "**10. Lösche alle duplizierten Zeilen (ca. 66) mit Bild in `image_predictions`**"
   ]
  },
  {
   "cell_type": "code",
   "execution_count": 48,
   "metadata": {},
   "outputs": [],
   "source": [
    "#Code\n",
    "image_prediction_clean = image_prediction_clean.drop_duplicates(subset=['jpg_url'], keep='last')"
   ]
  },
  {
   "cell_type": "code",
   "execution_count": 49,
   "metadata": {},
   "outputs": [
    {
     "data": {
      "text/plain": [
       "0"
      ]
     },
     "execution_count": 49,
     "metadata": {},
     "output_type": "execute_result"
    }
   ],
   "source": [
    "#TEST\n",
    "sum(image_prediction_clean['jpg_url'].duplicated())"
   ]
  },
  {
   "cell_type": "markdown",
   "metadata": {},
   "source": [
    "**11. Erstelle einen DataFrame aus den drei bereinigten DataFrames mit Namen `df`**"
   ]
  },
  {
   "cell_type": "code",
   "execution_count": 50,
   "metadata": {},
   "outputs": [],
   "source": [
    "#CODE: Erstellen eines neuen Dataframes df, welches twitter_archive_clean und image_prediction_clean merged\n",
    "df_merge1 = pd.merge(twitter_archive_clean, \n",
    "                      image_prediction_clean, \n",
    "                      how = 'left', on = ['tweet_id'])\n",
    "\n",
    "#keep rows that have picture (jpg_url)\n",
    "df_merge1 = df_merge1[df_merge1['jpg_url'].notnull()]"
   ]
  },
  {
   "cell_type": "code",
   "execution_count": 51,
   "metadata": {},
   "outputs": [
    {
     "name": "stdout",
     "output_type": "stream",
     "text": [
      "<class 'pandas.core.frame.DataFrame'>\n",
      "Int64Index: 1910 entries, 0 to 2152\n",
      "Data columns (total 18 columns):\n",
      " #   Column              Non-Null Count  Dtype              \n",
      "---  ------              --------------  -----              \n",
      " 0   tweet_id            1910 non-null   int64              \n",
      " 1   timestamp           1910 non-null   datetime64[ns, UTC]\n",
      " 2   text                1910 non-null   object             \n",
      " 3   rating_numerator    1910 non-null   float64            \n",
      " 4   rating_denominator  1910 non-null   float64            \n",
      " 5   name                1910 non-null   object             \n",
      " 6   dogs_stage          1910 non-null   object             \n",
      " 7   jpg_url             1910 non-null   object             \n",
      " 8   img_num             1910 non-null   float64            \n",
      " 9   p1                  1910 non-null   object             \n",
      " 10  p1_conf             1910 non-null   float64            \n",
      " 11  p1_dog              1910 non-null   object             \n",
      " 12  p2                  1910 non-null   object             \n",
      " 13  p2_conf             1910 non-null   float64            \n",
      " 14  p2_dog              1910 non-null   object             \n",
      " 15  p3                  1910 non-null   object             \n",
      " 16  p3_conf             1910 non-null   float64            \n",
      " 17  p3_dog              1910 non-null   object             \n",
      "dtypes: datetime64[ns, UTC](1), float64(6), int64(1), object(10)\n",
      "memory usage: 283.5+ KB\n"
     ]
    }
   ],
   "source": [
    "#TEST\n",
    "df_merge1.info()"
   ]
  },
  {
   "cell_type": "code",
   "execution_count": 52,
   "metadata": {},
   "outputs": [
    {
     "name": "stdout",
     "output_type": "stream",
     "text": [
      "<class 'pandas.core.frame.DataFrame'>\n",
      "Int64Index: 1910 entries, 0 to 1909\n",
      "Data columns (total 23 columns):\n",
      " #   Column              Non-Null Count  Dtype              \n",
      "---  ------              --------------  -----              \n",
      " 0   tweet_id            1910 non-null   int64              \n",
      " 1   timestamp           1910 non-null   datetime64[ns, UTC]\n",
      " 2   text                1910 non-null   object             \n",
      " 3   rating_numerator    1910 non-null   float64            \n",
      " 4   rating_denominator  1910 non-null   float64            \n",
      " 5   name                1910 non-null   object             \n",
      " 6   dogs_stage          1910 non-null   object             \n",
      " 7   jpg_url             1910 non-null   object             \n",
      " 8   img_num             1910 non-null   float64            \n",
      " 9   p1                  1910 non-null   object             \n",
      " 10  p1_conf             1910 non-null   float64            \n",
      " 11  p1_dog              1910 non-null   object             \n",
      " 12  p2                  1910 non-null   object             \n",
      " 13  p2_conf             1910 non-null   float64            \n",
      " 14  p2_dog              1910 non-null   object             \n",
      " 15  p3                  1910 non-null   object             \n",
      " 16  p3_conf             1910 non-null   float64            \n",
      " 17  p3_dog              1910 non-null   object             \n",
      " 18  favorite_count      1904 non-null   float64            \n",
      " 19  retweet_count       1904 non-null   float64            \n",
      " 20  followers_count     1904 non-null   float64            \n",
      " 21  retweeted_status    1904 non-null   object             \n",
      " 22  url                 0 non-null      float64            \n",
      "dtypes: datetime64[ns, UTC](1), float64(10), int64(1), object(11)\n",
      "memory usage: 358.1+ KB\n"
     ]
    }
   ],
   "source": [
    "#CODE: Erstellen eines neuen Dataframes df, welches df_twitter und tweet_json_clean merged\n",
    "df = pd.merge(df_merge1, tweet_json_clean, \n",
    "                      how = 'left', on = ['tweet_id'])\n",
    "\n",
    "#TEST\n",
    "df.info()"
   ]
  },
  {
   "cell_type": "code",
   "execution_count": 53,
   "metadata": {},
   "outputs": [
    {
     "data": {
      "text/html": [
       "<div>\n",
       "<style scoped>\n",
       "    .dataframe tbody tr th:only-of-type {\n",
       "        vertical-align: middle;\n",
       "    }\n",
       "\n",
       "    .dataframe tbody tr th {\n",
       "        vertical-align: top;\n",
       "    }\n",
       "\n",
       "    .dataframe thead th {\n",
       "        text-align: right;\n",
       "    }\n",
       "</style>\n",
       "<table border=\"1\" class=\"dataframe\">\n",
       "  <thead>\n",
       "    <tr style=\"text-align: right;\">\n",
       "      <th></th>\n",
       "      <th>tweet_id</th>\n",
       "      <th>timestamp</th>\n",
       "      <th>text</th>\n",
       "      <th>rating_numerator</th>\n",
       "      <th>rating_denominator</th>\n",
       "      <th>name</th>\n",
       "      <th>dogs_stage</th>\n",
       "      <th>jpg_url</th>\n",
       "      <th>img_num</th>\n",
       "      <th>p1</th>\n",
       "      <th>...</th>\n",
       "      <th>p2_conf</th>\n",
       "      <th>p2_dog</th>\n",
       "      <th>p3</th>\n",
       "      <th>p3_conf</th>\n",
       "      <th>p3_dog</th>\n",
       "      <th>favorite_count</th>\n",
       "      <th>retweet_count</th>\n",
       "      <th>followers_count</th>\n",
       "      <th>retweeted_status</th>\n",
       "      <th>url</th>\n",
       "    </tr>\n",
       "  </thead>\n",
       "  <tbody>\n",
       "    <tr>\n",
       "      <th>0</th>\n",
       "      <td>667437278097252352</td>\n",
       "      <td>2015-11-19 20:20:22+00:00</td>\n",
       "      <td>Never seen this breed before. Very pointy pup....</td>\n",
       "      <td>10.0</td>\n",
       "      <td>10.0</td>\n",
       "      <td>None</td>\n",
       "      <td>None</td>\n",
       "      <td>https://pbs.twimg.com/media/CUM2qWaWoAUZ06L.jpg</td>\n",
       "      <td>1.0</td>\n",
       "      <td>porcupine</td>\n",
       "      <td>...</td>\n",
       "      <td>0.006300</td>\n",
       "      <td>False</td>\n",
       "      <td>badger</td>\n",
       "      <td>0.000966</td>\n",
       "      <td>False</td>\n",
       "      <td>428.0</td>\n",
       "      <td>223.0</td>\n",
       "      <td>8808648.0</td>\n",
       "      <td>Original tweet</td>\n",
       "      <td>NaN</td>\n",
       "    </tr>\n",
       "    <tr>\n",
       "      <th>1</th>\n",
       "      <td>667443425659232256</td>\n",
       "      <td>2015-11-19 20:44:47+00:00</td>\n",
       "      <td>Exotic dog here. Long neck. Weird paws. Obsess...</td>\n",
       "      <td>6.0</td>\n",
       "      <td>10.0</td>\n",
       "      <td>None</td>\n",
       "      <td>None</td>\n",
       "      <td>https://pbs.twimg.com/media/CUM8QZwW4AAVsBl.jpg</td>\n",
       "      <td>1.0</td>\n",
       "      <td>goose</td>\n",
       "      <td>...</td>\n",
       "      <td>0.006918</td>\n",
       "      <td>False</td>\n",
       "      <td>hen</td>\n",
       "      <td>0.005255</td>\n",
       "      <td>False</td>\n",
       "      <td>745.0</td>\n",
       "      <td>541.0</td>\n",
       "      <td>8808653.0</td>\n",
       "      <td>Original tweet</td>\n",
       "      <td>NaN</td>\n",
       "    </tr>\n",
       "    <tr>\n",
       "      <th>2</th>\n",
       "      <td>667453023279554560</td>\n",
       "      <td>2015-11-19 21:22:56+00:00</td>\n",
       "      <td>Meet Cupcake. I would do unspeakable things fo...</td>\n",
       "      <td>11.0</td>\n",
       "      <td>10.0</td>\n",
       "      <td>Cupcake</td>\n",
       "      <td>None</td>\n",
       "      <td>https://pbs.twimg.com/media/CUNE_OSUwAAdHhX.jpg</td>\n",
       "      <td>1.0</td>\n",
       "      <td>labrador_retriever</td>\n",
       "      <td>...</td>\n",
       "      <td>0.056639</td>\n",
       "      <td>True</td>\n",
       "      <td>staffordshire_bullterrier</td>\n",
       "      <td>0.054018</td>\n",
       "      <td>True</td>\n",
       "      <td>297.0</td>\n",
       "      <td>84.0</td>\n",
       "      <td>8808653.0</td>\n",
       "      <td>Original tweet</td>\n",
       "      <td>NaN</td>\n",
       "    </tr>\n",
       "    <tr>\n",
       "      <th>3</th>\n",
       "      <td>667455448082227200</td>\n",
       "      <td>2015-11-19 21:32:34+00:00</td>\n",
       "      <td>This is Reese and Twips. Reese protects Twips....</td>\n",
       "      <td>7.0</td>\n",
       "      <td>10.0</td>\n",
       "      <td>Reese</td>\n",
       "      <td>None</td>\n",
       "      <td>https://pbs.twimg.com/media/CUNHMXTU8AAS3HH.jpg</td>\n",
       "      <td>1.0</td>\n",
       "      <td>tibetan_terrier</td>\n",
       "      <td>...</td>\n",
       "      <td>0.054933</td>\n",
       "      <td>True</td>\n",
       "      <td>yorkshire_terrier</td>\n",
       "      <td>0.040576</td>\n",
       "      <td>True</td>\n",
       "      <td>181.0</td>\n",
       "      <td>56.0</td>\n",
       "      <td>8808652.0</td>\n",
       "      <td>Original tweet</td>\n",
       "      <td>NaN</td>\n",
       "    </tr>\n",
       "    <tr>\n",
       "      <th>4</th>\n",
       "      <td>667470559035432960</td>\n",
       "      <td>2015-11-19 22:32:36+00:00</td>\n",
       "      <td>This is a northern Wahoo named Kohl. He runs t...</td>\n",
       "      <td>11.0</td>\n",
       "      <td>10.0</td>\n",
       "      <td>a</td>\n",
       "      <td>None</td>\n",
       "      <td>https://pbs.twimg.com/media/CUNU78YWEAECmpB.jpg</td>\n",
       "      <td>1.0</td>\n",
       "      <td>toy_poodle</td>\n",
       "      <td>...</td>\n",
       "      <td>0.223427</td>\n",
       "      <td>True</td>\n",
       "      <td>lakeland_terrier</td>\n",
       "      <td>0.073316</td>\n",
       "      <td>True</td>\n",
       "      <td>243.0</td>\n",
       "      <td>90.0</td>\n",
       "      <td>8808652.0</td>\n",
       "      <td>Original tweet</td>\n",
       "      <td>NaN</td>\n",
       "    </tr>\n",
       "  </tbody>\n",
       "</table>\n",
       "<p>5 rows × 23 columns</p>\n",
       "</div>"
      ],
      "text/plain": [
       "             tweet_id                 timestamp  \\\n",
       "0  667437278097252352 2015-11-19 20:20:22+00:00   \n",
       "1  667443425659232256 2015-11-19 20:44:47+00:00   \n",
       "2  667453023279554560 2015-11-19 21:22:56+00:00   \n",
       "3  667455448082227200 2015-11-19 21:32:34+00:00   \n",
       "4  667470559035432960 2015-11-19 22:32:36+00:00   \n",
       "\n",
       "                                                text  rating_numerator  \\\n",
       "0  Never seen this breed before. Very pointy pup....              10.0   \n",
       "1  Exotic dog here. Long neck. Weird paws. Obsess...               6.0   \n",
       "2  Meet Cupcake. I would do unspeakable things fo...              11.0   \n",
       "3  This is Reese and Twips. Reese protects Twips....               7.0   \n",
       "4  This is a northern Wahoo named Kohl. He runs t...              11.0   \n",
       "\n",
       "   rating_denominator     name dogs_stage  \\\n",
       "0                10.0     None       None   \n",
       "1                10.0     None       None   \n",
       "2                10.0  Cupcake       None   \n",
       "3                10.0    Reese       None   \n",
       "4                10.0        a       None   \n",
       "\n",
       "                                           jpg_url  img_num  \\\n",
       "0  https://pbs.twimg.com/media/CUM2qWaWoAUZ06L.jpg      1.0   \n",
       "1  https://pbs.twimg.com/media/CUM8QZwW4AAVsBl.jpg      1.0   \n",
       "2  https://pbs.twimg.com/media/CUNE_OSUwAAdHhX.jpg      1.0   \n",
       "3  https://pbs.twimg.com/media/CUNHMXTU8AAS3HH.jpg      1.0   \n",
       "4  https://pbs.twimg.com/media/CUNU78YWEAECmpB.jpg      1.0   \n",
       "\n",
       "                   p1  ...   p2_conf p2_dog                         p3  \\\n",
       "0           porcupine  ...  0.006300  False                     badger   \n",
       "1               goose  ...  0.006918  False                        hen   \n",
       "2  labrador_retriever  ...  0.056639   True  staffordshire_bullterrier   \n",
       "3     tibetan_terrier  ...  0.054933   True          yorkshire_terrier   \n",
       "4          toy_poodle  ...  0.223427   True           lakeland_terrier   \n",
       "\n",
       "    p3_conf p3_dog favorite_count  retweet_count followers_count  \\\n",
       "0  0.000966  False          428.0          223.0       8808648.0   \n",
       "1  0.005255  False          745.0          541.0       8808653.0   \n",
       "2  0.054018   True          297.0           84.0       8808653.0   \n",
       "3  0.040576   True          181.0           56.0       8808652.0   \n",
       "4  0.073316   True          243.0           90.0       8808652.0   \n",
       "\n",
       "   retweeted_status  url  \n",
       "0    Original tweet  NaN  \n",
       "1    Original tweet  NaN  \n",
       "2    Original tweet  NaN  \n",
       "3    Original tweet  NaN  \n",
       "4    Original tweet  NaN  \n",
       "\n",
       "[5 rows x 23 columns]"
      ]
     },
     "execution_count": 53,
     "metadata": {},
     "output_type": "execute_result"
    }
   ],
   "source": [
    "df.head()"
   ]
  },
  {
   "cell_type": "code",
   "execution_count": 55,
   "metadata": {},
   "outputs": [],
   "source": [
    "df = df[df['retweet_count'].notnull()]\n",
    "df = df.drop(\"url\", axis =1)"
   ]
  },
  {
   "cell_type": "code",
   "execution_count": 56,
   "metadata": {},
   "outputs": [
    {
     "name": "stdout",
     "output_type": "stream",
     "text": [
      "<class 'pandas.core.frame.DataFrame'>\n",
      "Int64Index: 1904 entries, 0 to 1909\n",
      "Data columns (total 22 columns):\n",
      " #   Column              Non-Null Count  Dtype              \n",
      "---  ------              --------------  -----              \n",
      " 0   tweet_id            1904 non-null   int64              \n",
      " 1   timestamp           1904 non-null   datetime64[ns, UTC]\n",
      " 2   text                1904 non-null   object             \n",
      " 3   rating_numerator    1904 non-null   float64            \n",
      " 4   rating_denominator  1904 non-null   float64            \n",
      " 5   name                1904 non-null   object             \n",
      " 6   dogs_stage          1904 non-null   object             \n",
      " 7   jpg_url             1904 non-null   object             \n",
      " 8   img_num             1904 non-null   float64            \n",
      " 9   p1                  1904 non-null   object             \n",
      " 10  p1_conf             1904 non-null   float64            \n",
      " 11  p1_dog              1904 non-null   object             \n",
      " 12  p2                  1904 non-null   object             \n",
      " 13  p2_conf             1904 non-null   float64            \n",
      " 14  p2_dog              1904 non-null   object             \n",
      " 15  p3                  1904 non-null   object             \n",
      " 16  p3_conf             1904 non-null   float64            \n",
      " 17  p3_dog              1904 non-null   object             \n",
      " 18  favorite_count      1904 non-null   float64            \n",
      " 19  retweet_count       1904 non-null   float64            \n",
      " 20  followers_count     1904 non-null   float64            \n",
      " 21  retweeted_status    1904 non-null   object             \n",
      "dtypes: datetime64[ns, UTC](1), float64(9), int64(1), object(11)\n",
      "memory usage: 342.1+ KB\n"
     ]
    }
   ],
   "source": [
    "df.info()"
   ]
  },
  {
   "cell_type": "markdown",
   "metadata": {},
   "source": [
    "**12. Nenne die Spalte text in tweet_text um im Dataframe `df`**"
   ]
  },
  {
   "cell_type": "code",
   "execution_count": 57,
   "metadata": {},
   "outputs": [],
   "source": [
    "#CODE\n",
    "df.rename(columns={'text': 'tweet_text'}, inplace=True)"
   ]
  },
  {
   "cell_type": "code",
   "execution_count": 58,
   "metadata": {},
   "outputs": [
    {
     "data": {
      "text/plain": [
       "Index(['tweet_id', 'timestamp', 'tweet_text', 'rating_numerator',\n",
       "       'rating_denominator', 'name', 'dogs_stage', 'jpg_url', 'img_num', 'p1',\n",
       "       'p1_conf', 'p1_dog', 'p2', 'p2_conf', 'p2_dog', 'p3', 'p3_conf',\n",
       "       'p3_dog', 'favorite_count', 'retweet_count', 'followers_count',\n",
       "       'retweeted_status'],\n",
       "      dtype='object')"
      ]
     },
     "execution_count": 58,
     "metadata": {},
     "output_type": "execute_result"
    }
   ],
   "source": [
    "#TEST\n",
    "df.columns"
   ]
  },
  {
   "cell_type": "markdown",
   "metadata": {},
   "source": [
    "**13. Outlier Rating_numerator erkennen und droppen, mit Hilfe der IQR**"
   ]
  },
  {
   "cell_type": "code",
   "execution_count": 59,
   "metadata": {},
   "outputs": [
    {
     "data": {
      "text/plain": [
       "1458    1776.0\n",
       "620      420.0\n",
       "1771      14.0\n",
       "1228      14.0\n",
       "1087      14.0\n",
       "         ...  \n",
       "98         1.0\n",
       "687        1.0\n",
       "1002       1.0\n",
       "1475       0.0\n",
       "1362       0.0\n",
       "Name: rating_numerator, Length: 1904, dtype: float64"
      ]
     },
     "execution_count": 59,
     "metadata": {},
     "output_type": "execute_result"
    }
   ],
   "source": [
    "df.rating_numerator.sort_values(ascending=False)"
   ]
  },
  {
   "cell_type": "code",
   "execution_count": 60,
   "metadata": {},
   "outputs": [
    {
     "name": "stdout",
     "output_type": "stream",
     "text": [
      "Untere Grenze:  7.0 , Obere Grenze:  15.0\n"
     ]
    }
   ],
   "source": [
    "# CODE - Detect Outlier\n",
    "Q1 = df.rating_numerator.quantile(0.25)\n",
    "Q3 = df.rating_numerator.quantile(0.75)\n",
    "IQR = float(Q3 - Q1)\n",
    "lower_bound = float(Q1 - 1.5 * IQR)\n",
    "upper_bound = float(Q3 + 1.5 * IQR)\n",
    "print('Untere Grenze: ' , lower_bound, ', Obere Grenze: ', upper_bound)"
   ]
  },
  {
   "cell_type": "code",
   "execution_count": 61,
   "metadata": {},
   "outputs": [],
   "source": [
    "IQR_out = df.rating_numerator[((df.rating_numerator < lower_bound)\n",
    "                               |(df.rating_numerator > upper_bound))]"
   ]
  },
  {
   "cell_type": "code",
   "execution_count": 62,
   "metadata": {},
   "outputs": [
    {
     "data": {
      "text/plain": [
       "1475       0.0\n",
       "1362       0.0\n",
       "98         1.0\n",
       "15         1.0\n",
       "1002       1.0\n",
       "         ...  \n",
       "525        6.0\n",
       "623        6.0\n",
       "1          6.0\n",
       "620      420.0\n",
       "1458    1776.0\n",
       "Name: rating_numerator, Length: 115, dtype: float64"
      ]
     },
     "execution_count": 62,
     "metadata": {},
     "output_type": "execute_result"
    }
   ],
   "source": [
    "IQR_out.sort_values()"
   ]
  },
  {
   "cell_type": "code",
   "execution_count": 63,
   "metadata": {},
   "outputs": [],
   "source": [
    "IQR_numerator = df.rating_numerator[~((df.rating_numerator < lower_bound)\n",
    "                               |(df.rating_numerator > upper_bound))]"
   ]
  },
  {
   "cell_type": "code",
   "execution_count": 64,
   "metadata": {},
   "outputs": [
    {
     "data": {
      "text/plain": [
       "571      7.0\n",
       "890      7.0\n",
       "717      7.0\n",
       "953      7.0\n",
       "1423     7.0\n",
       "        ... \n",
       "1266    14.0\n",
       "154     14.0\n",
       "1414    14.0\n",
       "1292    14.0\n",
       "1755    14.0\n",
       "Name: rating_numerator, Length: 1789, dtype: float64"
      ]
     },
     "execution_count": 64,
     "metadata": {},
     "output_type": "execute_result"
    }
   ],
   "source": [
    "IQR_numerator.sort_values()"
   ]
  },
  {
   "cell_type": "code",
   "execution_count": 65,
   "metadata": {},
   "outputs": [],
   "source": [
    "# CODE - Delete Outliers\n",
    "df.loc[(df.rating_numerator < lower_bound), 'rating_numerator'] = lower_bound\n",
    "df.loc[(df.rating_numerator > upper_bound), 'rating_numerator'] = upper_bound"
   ]
  },
  {
   "cell_type": "code",
   "execution_count": 66,
   "metadata": {},
   "outputs": [
    {
     "data": {
      "text/plain": [
       "953      7.0\n",
       "999      7.0\n",
       "338      7.0\n",
       "997      7.0\n",
       "345      7.0\n",
       "        ... \n",
       "1771    14.0\n",
       "1266    14.0\n",
       "145     14.0\n",
       "620     15.0\n",
       "1458    15.0\n",
       "Name: rating_numerator, Length: 1904, dtype: float64"
      ]
     },
     "execution_count": 66,
     "metadata": {},
     "output_type": "execute_result"
    }
   ],
   "source": [
    "# TEST\n",
    "df.rating_numerator.sort_values()"
   ]
  },
  {
   "cell_type": "markdown",
   "metadata": {},
   "source": [
    "**FRAGE: Hat es Sinn gemacht, hier die vermeintlichen Outlier rauszuschmeißen?**"
   ]
  },
  {
   "cell_type": "markdown",
   "metadata": {},
   "source": [
    "# ÜBUNG ENDE\n",
    "![purple-divider](https://user-images.githubusercontent.com/7065401/52071927-c1cd7100-2562-11e9-908a-dde91ba14e59.png)"
   ]
  },
  {
   "cell_type": "markdown",
   "metadata": {},
   "source": [
    "## Speichern, Analysieren und Visualisieren der Daten\n",
    "\n",
    "Ein kleiner Ausblick in die Übung 5, bei der es dann um die Visualisierung von Daten geht."
   ]
  },
  {
   "cell_type": "code",
   "execution_count": 67,
   "metadata": {},
   "outputs": [],
   "source": [
    "#Speichern der twitter_dogs df in eine CSV Datei\n",
    "df.to_csv('twitter_archive_master.csv', encoding='utf-8', index=False)"
   ]
  },
  {
   "cell_type": "code",
   "execution_count": 68,
   "metadata": {},
   "outputs": [
    {
     "name": "stdout",
     "output_type": "stream",
     "text": [
      "<class 'pandas.core.frame.DataFrame'>\n",
      "Int64Index: 1904 entries, 0 to 1909\n",
      "Data columns (total 22 columns):\n",
      " #   Column              Non-Null Count  Dtype              \n",
      "---  ------              --------------  -----              \n",
      " 0   tweet_id            1904 non-null   int64              \n",
      " 1   timestamp           1904 non-null   datetime64[ns, UTC]\n",
      " 2   tweet_text          1904 non-null   object             \n",
      " 3   rating_numerator    1904 non-null   float64            \n",
      " 4   rating_denominator  1904 non-null   float64            \n",
      " 5   name                1904 non-null   object             \n",
      " 6   dogs_stage          1904 non-null   object             \n",
      " 7   jpg_url             1904 non-null   object             \n",
      " 8   img_num             1904 non-null   float64            \n",
      " 9   p1                  1904 non-null   object             \n",
      " 10  p1_conf             1904 non-null   float64            \n",
      " 11  p1_dog              1904 non-null   object             \n",
      " 12  p2                  1904 non-null   object             \n",
      " 13  p2_conf             1904 non-null   float64            \n",
      " 14  p2_dog              1904 non-null   object             \n",
      " 15  p3                  1904 non-null   object             \n",
      " 16  p3_conf             1904 non-null   float64            \n",
      " 17  p3_dog              1904 non-null   object             \n",
      " 18  favorite_count      1904 non-null   float64            \n",
      " 19  retweet_count       1904 non-null   float64            \n",
      " 20  followers_count     1904 non-null   float64            \n",
      " 21  retweeted_status    1904 non-null   object             \n",
      "dtypes: datetime64[ns, UTC](1), float64(9), int64(1), object(11)\n",
      "memory usage: 342.1+ KB\n"
     ]
    }
   ],
   "source": [
    "df.info()"
   ]
  },
  {
   "cell_type": "code",
   "execution_count": 69,
   "metadata": {},
   "outputs": [
    {
     "data": {
      "text/html": [
       "<div>\n",
       "<style scoped>\n",
       "    .dataframe tbody tr th:only-of-type {\n",
       "        vertical-align: middle;\n",
       "    }\n",
       "\n",
       "    .dataframe tbody tr th {\n",
       "        vertical-align: top;\n",
       "    }\n",
       "\n",
       "    .dataframe thead tr th {\n",
       "        text-align: left;\n",
       "    }\n",
       "\n",
       "    .dataframe thead tr:last-of-type th {\n",
       "        text-align: right;\n",
       "    }\n",
       "</style>\n",
       "<table border=\"1\" class=\"dataframe\">\n",
       "  <thead>\n",
       "    <tr>\n",
       "      <th></th>\n",
       "      <th colspan=\"8\" halign=\"left\">tweet_id</th>\n",
       "      <th colspan=\"2\" halign=\"left\">rating_numerator</th>\n",
       "      <th>...</th>\n",
       "      <th colspan=\"2\" halign=\"left\">retweet_count</th>\n",
       "      <th colspan=\"8\" halign=\"left\">followers_count</th>\n",
       "    </tr>\n",
       "    <tr>\n",
       "      <th></th>\n",
       "      <th>count</th>\n",
       "      <th>mean</th>\n",
       "      <th>std</th>\n",
       "      <th>min</th>\n",
       "      <th>25%</th>\n",
       "      <th>50%</th>\n",
       "      <th>75%</th>\n",
       "      <th>max</th>\n",
       "      <th>count</th>\n",
       "      <th>mean</th>\n",
       "      <th>...</th>\n",
       "      <th>75%</th>\n",
       "      <th>max</th>\n",
       "      <th>count</th>\n",
       "      <th>mean</th>\n",
       "      <th>std</th>\n",
       "      <th>min</th>\n",
       "      <th>25%</th>\n",
       "      <th>50%</th>\n",
       "      <th>75%</th>\n",
       "      <th>max</th>\n",
       "    </tr>\n",
       "    <tr>\n",
       "      <th>dogs_stage</th>\n",
       "      <th></th>\n",
       "      <th></th>\n",
       "      <th></th>\n",
       "      <th></th>\n",
       "      <th></th>\n",
       "      <th></th>\n",
       "      <th></th>\n",
       "      <th></th>\n",
       "      <th></th>\n",
       "      <th></th>\n",
       "      <th></th>\n",
       "      <th></th>\n",
       "      <th></th>\n",
       "      <th></th>\n",
       "      <th></th>\n",
       "      <th></th>\n",
       "      <th></th>\n",
       "      <th></th>\n",
       "      <th></th>\n",
       "      <th></th>\n",
       "      <th></th>\n",
       "    </tr>\n",
       "  </thead>\n",
       "  <tbody>\n",
       "    <tr>\n",
       "      <th>None</th>\n",
       "      <td>1609.0</td>\n",
       "      <td>7.333983e+17</td>\n",
       "      <td>6.822415e+16</td>\n",
       "      <td>6.660209e+17</td>\n",
       "      <td>6.743948e+17</td>\n",
       "      <td>7.052392e+17</td>\n",
       "      <td>7.844314e+17</td>\n",
       "      <td>8.924206e+17</td>\n",
       "      <td>1609.0</td>\n",
       "      <td>10.598204</td>\n",
       "      <td>...</td>\n",
       "      <td>2451.00</td>\n",
       "      <td>40231.0</td>\n",
       "      <td>1609.0</td>\n",
       "      <td>8.808543e+06</td>\n",
       "      <td>76.993591</td>\n",
       "      <td>8808437.0</td>\n",
       "      <td>8808458.00</td>\n",
       "      <td>8808535.0</td>\n",
       "      <td>8808641.00</td>\n",
       "      <td>8808654.0</td>\n",
       "    </tr>\n",
       "    <tr>\n",
       "      <th>doggo</th>\n",
       "      <td>59.0</td>\n",
       "      <td>7.958449e+17</td>\n",
       "      <td>4.578293e+16</td>\n",
       "      <td>7.160809e+17</td>\n",
       "      <td>7.539443e+17</td>\n",
       "      <td>7.997580e+17</td>\n",
       "      <td>8.303864e+17</td>\n",
       "      <td>8.902403e+17</td>\n",
       "      <td>59.0</td>\n",
       "      <td>11.796610</td>\n",
       "      <td>...</td>\n",
       "      <td>4271.50</td>\n",
       "      <td>76922.0</td>\n",
       "      <td>59.0</td>\n",
       "      <td>8.808476e+06</td>\n",
       "      <td>36.070082</td>\n",
       "      <td>8808437.0</td>\n",
       "      <td>8808453.00</td>\n",
       "      <td>8808456.0</td>\n",
       "      <td>8808528.00</td>\n",
       "      <td>8808532.0</td>\n",
       "    </tr>\n",
       "    <tr>\n",
       "      <th>floofer</th>\n",
       "      <td>8.0</td>\n",
       "      <td>7.774838e+17</td>\n",
       "      <td>6.589128e+16</td>\n",
       "      <td>6.853075e+17</td>\n",
       "      <td>7.365400e+17</td>\n",
       "      <td>7.627676e+17</td>\n",
       "      <td>8.137937e+17</td>\n",
       "      <td>8.833607e+17</td>\n",
       "      <td>8.0</td>\n",
       "      <td>11.875000</td>\n",
       "      <td>...</td>\n",
       "      <td>3603.75</td>\n",
       "      <td>15939.0</td>\n",
       "      <td>8.0</td>\n",
       "      <td>8.808492e+06</td>\n",
       "      <td>45.366563</td>\n",
       "      <td>8808442.0</td>\n",
       "      <td>8808453.25</td>\n",
       "      <td>8808492.5</td>\n",
       "      <td>8808530.25</td>\n",
       "      <td>8808546.0</td>\n",
       "    </tr>\n",
       "    <tr>\n",
       "      <th>pupper</th>\n",
       "      <td>206.0</td>\n",
       "      <td>7.200976e+17</td>\n",
       "      <td>5.625781e+16</td>\n",
       "      <td>6.721600e+17</td>\n",
       "      <td>6.801535e+17</td>\n",
       "      <td>6.943432e+17</td>\n",
       "      <td>7.423869e+17</td>\n",
       "      <td>8.863661e+17</td>\n",
       "      <td>206.0</td>\n",
       "      <td>10.656650</td>\n",
       "      <td>...</td>\n",
       "      <td>2112.00</td>\n",
       "      <td>32630.0</td>\n",
       "      <td>206.0</td>\n",
       "      <td>8.808542e+06</td>\n",
       "      <td>60.117182</td>\n",
       "      <td>8808437.0</td>\n",
       "      <td>8808530.00</td>\n",
       "      <td>8808541.0</td>\n",
       "      <td>8808548.75</td>\n",
       "      <td>8808646.0</td>\n",
       "    </tr>\n",
       "    <tr>\n",
       "      <th>puppo</th>\n",
       "      <td>22.0</td>\n",
       "      <td>8.119466e+17</td>\n",
       "      <td>5.125782e+16</td>\n",
       "      <td>7.385375e+17</td>\n",
       "      <td>7.624398e+17</td>\n",
       "      <td>8.118628e+17</td>\n",
       "      <td>8.586687e+17</td>\n",
       "      <td>8.896654e+17</td>\n",
       "      <td>22.0</td>\n",
       "      <td>12.045455</td>\n",
       "      <td>...</td>\n",
       "      <td>6957.75</td>\n",
       "      <td>43371.0</td>\n",
       "      <td>22.0</td>\n",
       "      <td>8.808471e+06</td>\n",
       "      <td>36.779794</td>\n",
       "      <td>8808437.0</td>\n",
       "      <td>8808444.00</td>\n",
       "      <td>8808456.0</td>\n",
       "      <td>8808509.00</td>\n",
       "      <td>8808530.0</td>\n",
       "    </tr>\n",
       "  </tbody>\n",
       "</table>\n",
       "<p>5 rows × 80 columns</p>\n",
       "</div>"
      ],
      "text/plain": [
       "           tweet_id                                                          \\\n",
       "              count          mean           std           min           25%   \n",
       "dogs_stage                                                                    \n",
       "None         1609.0  7.333983e+17  6.822415e+16  6.660209e+17  6.743948e+17   \n",
       "doggo          59.0  7.958449e+17  4.578293e+16  7.160809e+17  7.539443e+17   \n",
       "floofer         8.0  7.774838e+17  6.589128e+16  6.853075e+17  7.365400e+17   \n",
       "pupper        206.0  7.200976e+17  5.625781e+16  6.721600e+17  6.801535e+17   \n",
       "puppo          22.0  8.119466e+17  5.125782e+16  7.385375e+17  7.624398e+17   \n",
       "\n",
       "                                                     rating_numerator  \\\n",
       "                     50%           75%           max            count   \n",
       "dogs_stage                                                              \n",
       "None        7.052392e+17  7.844314e+17  8.924206e+17           1609.0   \n",
       "doggo       7.997580e+17  8.303864e+17  8.902403e+17             59.0   \n",
       "floofer     7.627676e+17  8.137937e+17  8.833607e+17              8.0   \n",
       "pupper      6.943432e+17  7.423869e+17  8.863661e+17            206.0   \n",
       "puppo       8.118628e+17  8.586687e+17  8.896654e+17             22.0   \n",
       "\n",
       "                       ... retweet_count          followers_count  \\\n",
       "                 mean  ...           75%      max           count   \n",
       "dogs_stage             ...                                          \n",
       "None        10.598204  ...       2451.00  40231.0          1609.0   \n",
       "doggo       11.796610  ...       4271.50  76922.0            59.0   \n",
       "floofer     11.875000  ...       3603.75  15939.0             8.0   \n",
       "pupper      10.656650  ...       2112.00  32630.0           206.0   \n",
       "puppo       12.045455  ...       6957.75  43371.0            22.0   \n",
       "\n",
       "                                                                       \\\n",
       "                    mean        std        min         25%        50%   \n",
       "dogs_stage                                                              \n",
       "None        8.808543e+06  76.993591  8808437.0  8808458.00  8808535.0   \n",
       "doggo       8.808476e+06  36.070082  8808437.0  8808453.00  8808456.0   \n",
       "floofer     8.808492e+06  45.366563  8808442.0  8808453.25  8808492.5   \n",
       "pupper      8.808542e+06  60.117182  8808437.0  8808530.00  8808541.0   \n",
       "puppo       8.808471e+06  36.779794  8808437.0  8808444.00  8808456.0   \n",
       "\n",
       "                                   \n",
       "                   75%        max  \n",
       "dogs_stage                         \n",
       "None        8808641.00  8808654.0  \n",
       "doggo       8808528.00  8808532.0  \n",
       "floofer     8808530.25  8808546.0  \n",
       "pupper      8808548.75  8808646.0  \n",
       "puppo       8808509.00  8808530.0  \n",
       "\n",
       "[5 rows x 80 columns]"
      ]
     },
     "execution_count": 69,
     "metadata": {},
     "output_type": "execute_result"
    }
   ],
   "source": [
    "dog_stages = df.groupby(\"dogs_stage\")\n",
    "dog_stages.describe()"
   ]
  },
  {
   "cell_type": "code",
   "execution_count": 70,
   "metadata": {},
   "outputs": [
    {
     "data": {
      "image/png": "[encoded data removed]",
      "text/plain": [
       "<Figure size 720x720 with 1 Axes>"
      ]
     },
     "metadata": {
      "needs_background": "light"
     },
     "output_type": "display_data"
    }
   ],
   "source": [
    "plt.figure(figsize=(10,10))\n",
    "g = sns.boxplot(x='dogs_stage',y='retweet_count',data= df,palette='rainbow')\n",
    "g.axes.set_title('Boxplot dog stages and retweet', fontsize=14);"
   ]
  },
  {
   "cell_type": "markdown",
   "metadata": {},
   "source": [
    "Doggo stages has huge outliers, there needs to be more investigation to see why this happens at the doggo stages, besides that puppos have on average the most retweets followed by doggo and floofer"
   ]
  },
  {
   "cell_type": "code",
   "execution_count": 71,
   "metadata": {},
   "outputs": [
    {
     "data": {
      "image/png": "[encoded data removed]",
      "text/plain": [
       "<Figure size 432x288 with 1 Axes>"
      ]
     },
     "metadata": {
      "needs_background": "light"
     },
     "output_type": "display_data"
    }
   ],
   "source": [
    "df.plot(y='retweet_count', x='rating_numerator', kind='scatter')\n",
    "plt.xlabel('Ratings')\n",
    "plt.ylabel('Retweet Counts')\n",
    "plt.title('Retweet Counts by Ratings Scatter Plot')\n",
    "\n",
    "fig = plt.gcf()"
   ]
  },
  {
   "cell_type": "markdown",
   "metadata": {},
   "source": [
    "As seen here, the better the rating the more retweets happened the most retweets happend between 12-14"
   ]
  },
  {
   "cell_type": "code",
   "execution_count": 72,
   "metadata": {},
   "outputs": [
    {
     "data": {
      "image/png": "[encoded data removed]",
      "text/plain": [
       "<Figure size 432x288 with 1 Axes>"
      ]
     },
     "metadata": {
      "needs_background": "light"
     },
     "output_type": "display_data"
    }
   ],
   "source": [
    "df_dog_type = df.groupby('p1').filter(lambda x: len(x) >= 25)\n",
    "\n",
    "df_dog_type['p1'].value_counts().plot(kind = 'barh')\n",
    "plt.title('Histogram of the Most Rated Dog Type')\n",
    "plt.xlabel('Count')\n",
    "plt.ylabel('Type of dog')\n",
    "\n",
    "fig = plt.gcf() \n",
    "fig.savefig('output.png',bbox_inches='tight');"
   ]
  },
  {
   "cell_type": "code",
   "execution_count": 73,
   "metadata": {},
   "outputs": [
    {
     "data": {
      "text/plain": [
       "golden_retriever      124\n",
       "pembroke               87\n",
       "labrador_retriever     85\n",
       "chihuahua              75\n",
       "pug                    52\n",
       "pomeranian             38\n",
       "chow                   38\n",
       "toy_poodle             36\n",
       "samoyed                36\n",
       "malamute               28\n",
       "french_bulldog         25\n",
       "Name: p1, dtype: int64"
      ]
     },
     "execution_count": 73,
     "metadata": {},
     "output_type": "execute_result"
    }
   ],
   "source": [
    "dog_types_count = df_dog_type.p1.value_counts()\n",
    "dog_types_avg_rating = df_dog_type.groupby('p1').rating_numerator.mean()\n",
    "\n",
    "df_dog_type.p1.value_counts()"
   ]
  },
  {
   "cell_type": "code",
   "execution_count": 74,
   "metadata": {},
   "outputs": [
    {
     "data": {
      "image/png": "[encoded data removed]",
      "text/plain": [
       "<Figure size 720x720 with 1 Axes>"
      ]
     },
     "metadata": {
      "needs_background": "light"
     },
     "output_type": "display_data"
    }
   ],
   "source": [
    "plt.figure(figsize = (10, 10))\n",
    "plt.plot(df.timestamp,df.favorite_count, marker = 'o', linestyle = '', ms = 2)\n",
    "plt.title('Favorite tweet over year')\n",
    "plt.xlabel('Date')\n",
    "plt.ylabel('Fovorite Count')\n",
    "plt.show()"
   ]
  },
  {
   "cell_type": "code",
   "execution_count": 75,
   "metadata": {},
   "outputs": [
    {
     "data": {
      "image/png": "[encoded data removed]",
      "text/plain": [
       "<Figure size 720x720 with 1 Axes>"
      ]
     },
     "metadata": {
      "needs_background": "light"
     },
     "output_type": "display_data"
    }
   ],
   "source": [
    "plt.figure(figsize = (10, 10))\n",
    "plt.plot(df.timestamp,df.retweet_count, marker = 'o', linestyle = '', ms = 2)\n",
    "plt.title('Retweets over year')\n",
    "plt.xlabel('Date')\n",
    "plt.ylabel('Retweets Count')\n",
    "plt.show()"
   ]
  }
 ],
 "metadata": {
  "kernelspec": {
   "display_name": "Python 3 (ipykernel)",
   "language": "python",
   "name": "python3"
  },
  "language_info": {
   "codemirror_mode": {
    "name": "ipython",
    "version": 3
   },
   "file_extension": ".py",
   "mimetype": "text/x-python",
   "name": "python",
   "nbconvert_exporter": "python",
   "pygments_lexer": "ipython3",
   "version": "3.9.12"
  }
 },
 "nbformat": 4,
 "nbformat_minor": 4
}

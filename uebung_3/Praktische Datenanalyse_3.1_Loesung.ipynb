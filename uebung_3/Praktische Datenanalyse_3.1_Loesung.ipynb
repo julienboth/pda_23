{
 "cells": [
  {
   "cell_type": "code",
   "execution_count": 1,
   "metadata": {},
   "outputs": [],
   "source": [
    "#Import all packages needed\n",
    "import pandas as pd \n",
    "import numpy as np\n",
    "import matplotlib.pyplot as plt #Visualisierungs Package (Vorlesung 5)\n",
    "#Magic command, damit die Diagramme im Notebook angezeigt werden\n",
    "%matplotlib inline \n",
    "\n",
    "import json  #Package um mit json files arbeiten zu können\n",
    "import seaborn as sns #Visualisierungs Package (Vorlesung 5)"
   ]
  },
  {
   "cell_type": "markdown",
   "metadata": {},
   "source": [
    "# Aufgabe\n",
    "\n",
    "Quelle: *Diese Übung ist ein Teil aus einem Cornerstone Projekt aus dem Data Analyst Nanodegree von Udacity. Für diese Übung wurden einige Vereinfachungen vorgenommen.*\n",
    "\n",
    "**Beschreibung**:\n",
    "\n",
    "Habt Ihr jemals von dem Twitter-Account WeRateDogs gehört? Die Leute im Internet sind verrückt nach diesem Twitter-Account. Ich möchte Euch heute zeigen, warum. \n",
    "\n",
    "Heute hat WeRateDogs über 9,3 Millionen Follower. Das Schlüsselkonzept besteht darin, ein hübsches Bild der Doggos, Floofer, Pupper oder Puppos (so definieren sie das Entwicklungsstadium der Hunde) mit einer coolen Bildunterschrift und einer Bewertung mit einem Nenner von 10, aber einem Zähler, der alles sein kann, zu haben. In den meisten Fällen geht der Zähler deutlich über 10.\n",
    "\n",
    "\n",
    "<div>\n",
    "<img src=\"src/Picture 1.jpg\" width=\"400\"/>\n",
    "</div>\n",
    "\n",
    "**Inputdaten:**\n",
    "\n",
    "Ingesamt haben wir 3 verschiedene Dateien, in denen sich aber verschiedene Fehler in den Daten befinden\n",
    "- Das Twitter Archive der Tweets\n",
    "- Eine Datei, in der die Rasse des Hundes vorausgesagt wurde\n",
    "- Eine Datei, in der die Anzahl der Likes, Retweets etc pro Tweet steht\n",
    "\n",
    "\n",
    "**Ziel**: \n",
    "\n",
    "Die Dateien wie unten vorgeschrieben zu bereinigen und zu einem Dataframe zusammenzufassen."
   ]
  },
  {
   "cell_type": "markdown",
   "metadata": {},
   "source": [
    "### Dokumentation der einzelnen Spalten der verschiedenen Quellen"
   ]
  },
  {
   "cell_type": "markdown",
   "metadata": {
    "tags": []
   },
   "source": [
    "Dokumentation Spalten ***Twitter_archive Dataframe***\n",
    "\n",
    "Dieses Dataframe zeigt die Meta Daten jedes einzelnen Tweets für den betrachteten Zeitraum an.\n",
    "\n",
    "- ***tweet_id*** ist die eineindeutige Twitter Post ID\n",
    "- ***in_reply_to_status_id*** nicht relevant für uns\n",
    "- ***in_reply_to_user_id*** nicht relevant für uns\n",
    "- ***timestamp*** Zeitpunkt des posts\n",
    "- ***source*** nicht relevant für uns\n",
    "- ***text*** Tweet text\n",
    "- ***retweeted_status_id*** ID wenn es ein retweet ist\n",
    "- ***retweeted_status_user_id*** User ID wenn es ein retweet ist\n",
    "- ***retweeted_status_user_timestamp*** User ID wenn es ein retweet ist\n",
    "- ***expanded_urls*** URL des Tweets\n",
    "- ***rating_numerator*** Zähler der Bewertung\n",
    "- ***rating_denominator*** Nenner der Bewertung\n",
    "- ***name*** Name des Hundes\n",
    "- ***doggo*** Hundeentwicklungsstatus\n",
    "- ***floofer*** Hundeentwicklungsstatus\n",
    "- ***pupper*** Hundeentwicklungsstatus\n",
    "- ***puppo*** Hundeentwicklungsstatus"
   ]
  },
  {
   "cell_type": "markdown",
   "metadata": {},
   "source": [
    "### Dokumentation Spalten ***Image_prediction Dataframe***\n",
    "\n",
    "Dieses DataFrame stammt aus einem Prediction Maschine Learning Algorithmus, welches an Hand der Bilder, versucht vorauszusagen, welche Rasse der Hund ist\n",
    "\n",
    "- ***tweet_id*** ist die eineindeutige Twitter Post ID\n",
    "- ***jpg_url*** URL des Bildes / der Bilder\n",
    "- ***img_num*** Anzahl der Bilder\n",
    "- ***p1/p2/p3*** Predicted Hunderasse\n",
    "- ***p1_conf/p2_conf/p3_conf*** Wert aus der Klassifikation\n",
    "- ***p1_dog/p2_dog/p3_dog*** Boolean ob der vorausgesagte p1/p2/p3 Wert ein Hund ist ja oder nein\n",
    "\n"
   ]
  },
  {
   "cell_type": "markdown",
   "metadata": {},
   "source": [
    "### Dokumentation Spalten ***Tweet_json Dataframe***\n",
    "\n",
    "Dieses DataFrame zeigt die numerischen Werte der einzelnen Tweets an.\n",
    "\n",
    "- ***tweet_id*** ist die eineindeutige Twitter Post ID\n",
    "- ***favorite_count*** Wie viele Favorites der Tweet bekommen hat\n",
    "- ***retweet_count*** Wie oft der Tweet geretweeted wurde\n",
    "- ***followers_count*** wie viele Follower es damals gab\n",
    "- ***retweeted_status*** Ob der Tweet der Original Tweet war oder ein Retweet\n",
    "- ***url*** URL des Tweets\n"
   ]
  },
  {
   "cell_type": "markdown",
   "metadata": {},
   "source": [
    "## Gathering Data\n",
    "\n",
    "Die nachfolgenden Zellen bis zum Start Der Übung dienen lediglich für Informationszwecke und werden vorgegeben, damit ihr euch schneller auf den wichtigten Teil der Übung, das Data Cleaning fokussieren könnt."
   ]
  },
  {
   "cell_type": "code",
   "execution_count": 2,
   "metadata": {},
   "outputs": [],
   "source": [
    "#Twitter Archive (Dateiformat CSV) in einen DataFrame laden\n",
    "twitter_archive = pd.read_csv(\"src/twitter-archive-enhanced.csv\")"
   ]
  },
  {
   "cell_type": "code",
   "execution_count": 3,
   "metadata": {},
   "outputs": [],
   "source": [
    "#Bild-Vorhersagen (Image-Predictions - TSV file) in einen DataFrame laden\n",
    "image_prediction = pd.read_csv('src/image-predictions.tsv', sep='\\t' )"
   ]
  },
  {
   "cell_type": "code",
   "execution_count": 4,
   "metadata": {},
   "outputs": [],
   "source": [
    "'''\n",
    "Herauslesen der interessanten Informationen aus JSON-Wörterbüchern in einer Txt-Datei\n",
    "und in einen DataFrame tweets_json einfügen\n",
    "'''\n",
    "\n",
    "my_demo_list = []\n",
    "\n",
    "with open('src/tweet_json.txt', encoding='utf-8') as json_file:  \n",
    "    all_data = json.load(json_file)\n",
    "    for each_dictionary in all_data:\n",
    "        tweet_id = each_dictionary['id']\n",
    "        favorite_count = each_dictionary['favorite_count']\n",
    "        retweet_count = each_dictionary['retweet_count']\n",
    "        followers_count = each_dictionary['user']['followers_count']\n",
    "        retweeted_status = each_dictionary['retweeted_status'] = each_dictionary.get('retweeted_status', 'Original tweet')\n",
    "        if retweeted_status == 'Original tweet':\n",
    "            url = 'Tis is a original tweet'\n",
    "        else:\n",
    "            retweeted_status = 'This is a retweet'\n",
    "            url = 'This is a retweet'\n",
    "            \n",
    "        my_demo_list.append({'tweet_id': str(tweet_id),\n",
    "                             'favorite_count': int(favorite_count),\n",
    "                             'retweet_count': int(retweet_count),\n",
    "                             'followers_count': int(followers_count),\n",
    "                             'retweeted_status': retweeted_status,\n",
    "                            })\n",
    "        \n",
    "        tweet_json = pd.DataFrame(my_demo_list, columns = ['tweet_id', 'favorite_count','retweet_count', \n",
    "                                                           'followers_count', 'retweeted_status'])"
   ]
  },
  {
   "cell_type": "markdown",
   "metadata": {},
   "source": [
    "## Assess"
   ]
  },
  {
   "cell_type": "markdown",
   "metadata": {
    "tags": []
   },
   "source": [
    "#### Twitter_archive Dataframe"
   ]
  },
  {
   "cell_type": "code",
   "execution_count": 5,
   "metadata": {},
   "outputs": [
    {
     "name": "stdout",
     "output_type": "stream",
     "text": [
      "<class 'pandas.core.frame.DataFrame'>\n",
      "RangeIndex: 2356 entries, 0 to 2355\n",
      "Data columns (total 17 columns):\n",
      " #   Column                      Non-Null Count  Dtype  \n",
      "---  ------                      --------------  -----  \n",
      " 0   tweet_id                    2356 non-null   int64  \n",
      " 1   in_reply_to_status_id       78 non-null     float64\n",
      " 2   in_reply_to_user_id         78 non-null     float64\n",
      " 3   timestamp                   2356 non-null   object \n",
      " 4   source                      2356 non-null   object \n",
      " 5   text                        2356 non-null   object \n",
      " 6   retweeted_status_id         181 non-null    float64\n",
      " 7   retweeted_status_user_id    181 non-null    float64\n",
      " 8   retweeted_status_timestamp  181 non-null    object \n",
      " 9   expanded_urls               2297 non-null   object \n",
      " 10  rating_numerator            2356 non-null   int64  \n",
      " 11  rating_denominator          2356 non-null   int64  \n",
      " 12  name                        2356 non-null   object \n",
      " 13  doggo                       2356 non-null   object \n",
      " 14  floofer                     2356 non-null   object \n",
      " 15  pupper                      2356 non-null   object \n",
      " 16  puppo                       2356 non-null   object \n",
      "dtypes: float64(4), int64(3), object(10)\n",
      "memory usage: 313.0+ KB\n"
     ]
    }
   ],
   "source": [
    "twitter_archive.info()"
   ]
  },
  {
   "cell_type": "code",
   "execution_count": 6,
   "metadata": {},
   "outputs": [],
   "source": [
    "### FINDINGS ###\n",
    "# Es gibt sowohl Originalbewertungen und Retweets\n",
    "# Zeitstempel ist in einem nicht korrekten Datenformat (hier Datetime)\n",
    "# Fehlende Daten in den folgenden Spalten: in_reply_to_status_id, in_reply_to_user_id, retweeted_status_id, \n",
    "#                                          retweeted_status_user_id, retweeted_status_timestamp, expanded_urls\n",
    "# Hundeentwicklungsstufen sind in 4 Spalten"
   ]
  },
  {
   "cell_type": "code",
   "execution_count": 7,
   "metadata": {},
   "outputs": [
    {
     "data": {
      "text/html": [
       "<div>\n",
       "<style scoped>\n",
       "    .dataframe tbody tr th:only-of-type {\n",
       "        vertical-align: middle;\n",
       "    }\n",
       "\n",
       "    .dataframe tbody tr th {\n",
       "        vertical-align: top;\n",
       "    }\n",
       "\n",
       "    .dataframe thead th {\n",
       "        text-align: right;\n",
       "    }\n",
       "</style>\n",
       "<table border=\"1\" class=\"dataframe\">\n",
       "  <thead>\n",
       "    <tr style=\"text-align: right;\">\n",
       "      <th></th>\n",
       "      <th>tweet_id</th>\n",
       "      <th>in_reply_to_status_id</th>\n",
       "      <th>in_reply_to_user_id</th>\n",
       "      <th>timestamp</th>\n",
       "      <th>source</th>\n",
       "      <th>text</th>\n",
       "      <th>retweeted_status_id</th>\n",
       "      <th>retweeted_status_user_id</th>\n",
       "      <th>retweeted_status_timestamp</th>\n",
       "      <th>expanded_urls</th>\n",
       "      <th>rating_numerator</th>\n",
       "      <th>rating_denominator</th>\n",
       "      <th>name</th>\n",
       "      <th>doggo</th>\n",
       "      <th>floofer</th>\n",
       "      <th>pupper</th>\n",
       "      <th>puppo</th>\n",
       "    </tr>\n",
       "  </thead>\n",
       "  <tbody>\n",
       "    <tr>\n",
       "      <th>98</th>\n",
       "      <td>873213775632977920</td>\n",
       "      <td>NaN</td>\n",
       "      <td>NaN</td>\n",
       "      <td>2017-06-09 16:22:42 +0000</td>\n",
       "      <td>&lt;a href=\"http://twitter.com/download/iphone\" r...</td>\n",
       "      <td>This is Sierra. She's one precious pupper. Abs...</td>\n",
       "      <td>NaN</td>\n",
       "      <td>NaN</td>\n",
       "      <td>NaN</td>\n",
       "      <td>https://www.gofundme.com/help-my-baby-sierra-g...</td>\n",
       "      <td>12</td>\n",
       "      <td>10</td>\n",
       "      <td>Sierra</td>\n",
       "      <td>None</td>\n",
       "      <td>None</td>\n",
       "      <td>pupper</td>\n",
       "      <td>None</td>\n",
       "    </tr>\n",
       "    <tr>\n",
       "      <th>178</th>\n",
       "      <td>857263160327368704</td>\n",
       "      <td>NaN</td>\n",
       "      <td>NaN</td>\n",
       "      <td>2017-04-26 16:00:39 +0000</td>\n",
       "      <td>&lt;a href=\"http://twitter.com/download/iphone\" r...</td>\n",
       "      <td>This is Oscar and Oliver. Oliver shrunk Oscar....</td>\n",
       "      <td>NaN</td>\n",
       "      <td>NaN</td>\n",
       "      <td>NaN</td>\n",
       "      <td>https://twitter.com/dog_rates/status/857263160...</td>\n",
       "      <td>13</td>\n",
       "      <td>10</td>\n",
       "      <td>Oscar</td>\n",
       "      <td>None</td>\n",
       "      <td>None</td>\n",
       "      <td>None</td>\n",
       "      <td>None</td>\n",
       "    </tr>\n",
       "    <tr>\n",
       "      <th>1111</th>\n",
       "      <td>733482008106668032</td>\n",
       "      <td>NaN</td>\n",
       "      <td>NaN</td>\n",
       "      <td>2016-05-20 02:18:32 +0000</td>\n",
       "      <td>&lt;a href=\"http://twitter.com/download/iphone\" r...</td>\n",
       "      <td>\"Ello this is dog how may I assist\" ...10/10 h...</td>\n",
       "      <td>NaN</td>\n",
       "      <td>NaN</td>\n",
       "      <td>NaN</td>\n",
       "      <td>https://twitter.com/dog_rates/status/733482008...</td>\n",
       "      <td>10</td>\n",
       "      <td>10</td>\n",
       "      <td>None</td>\n",
       "      <td>None</td>\n",
       "      <td>None</td>\n",
       "      <td>None</td>\n",
       "      <td>None</td>\n",
       "    </tr>\n",
       "    <tr>\n",
       "      <th>878</th>\n",
       "      <td>760656994973933572</td>\n",
       "      <td>NaN</td>\n",
       "      <td>NaN</td>\n",
       "      <td>2016-08-03 02:02:14 +0000</td>\n",
       "      <td>&lt;a href=\"http://twitter.com/download/iphone\" r...</td>\n",
       "      <td>This is Rose. Her face is stuck like that. 11/...</td>\n",
       "      <td>NaN</td>\n",
       "      <td>NaN</td>\n",
       "      <td>NaN</td>\n",
       "      <td>https://twitter.com/dog_rates/status/760656994...</td>\n",
       "      <td>11</td>\n",
       "      <td>10</td>\n",
       "      <td>Rose</td>\n",
       "      <td>None</td>\n",
       "      <td>None</td>\n",
       "      <td>None</td>\n",
       "      <td>None</td>\n",
       "    </tr>\n",
       "    <tr>\n",
       "      <th>1290</th>\n",
       "      <td>708130923141795840</td>\n",
       "      <td>NaN</td>\n",
       "      <td>NaN</td>\n",
       "      <td>2016-03-11 03:22:23 +0000</td>\n",
       "      <td>&lt;a href=\"http://twitter.com/download/iphone\" r...</td>\n",
       "      <td>Please stop sending in non canines like this G...</td>\n",
       "      <td>NaN</td>\n",
       "      <td>NaN</td>\n",
       "      <td>NaN</td>\n",
       "      <td>https://twitter.com/dog_rates/status/708130923...</td>\n",
       "      <td>11</td>\n",
       "      <td>10</td>\n",
       "      <td>None</td>\n",
       "      <td>None</td>\n",
       "      <td>None</td>\n",
       "      <td>None</td>\n",
       "      <td>None</td>\n",
       "    </tr>\n",
       "  </tbody>\n",
       "</table>\n",
       "</div>"
      ],
      "text/plain": [
       "                tweet_id  in_reply_to_status_id  in_reply_to_user_id  \\\n",
       "98    873213775632977920                    NaN                  NaN   \n",
       "178   857263160327368704                    NaN                  NaN   \n",
       "1111  733482008106668032                    NaN                  NaN   \n",
       "878   760656994973933572                    NaN                  NaN   \n",
       "1290  708130923141795840                    NaN                  NaN   \n",
       "\n",
       "                      timestamp  \\\n",
       "98    2017-06-09 16:22:42 +0000   \n",
       "178   2017-04-26 16:00:39 +0000   \n",
       "1111  2016-05-20 02:18:32 +0000   \n",
       "878   2016-08-03 02:02:14 +0000   \n",
       "1290  2016-03-11 03:22:23 +0000   \n",
       "\n",
       "                                                 source  \\\n",
       "98    <a href=\"http://twitter.com/download/iphone\" r...   \n",
       "178   <a href=\"http://twitter.com/download/iphone\" r...   \n",
       "1111  <a href=\"http://twitter.com/download/iphone\" r...   \n",
       "878   <a href=\"http://twitter.com/download/iphone\" r...   \n",
       "1290  <a href=\"http://twitter.com/download/iphone\" r...   \n",
       "\n",
       "                                                   text  retweeted_status_id  \\\n",
       "98    This is Sierra. She's one precious pupper. Abs...                  NaN   \n",
       "178   This is Oscar and Oliver. Oliver shrunk Oscar....                  NaN   \n",
       "1111  \"Ello this is dog how may I assist\" ...10/10 h...                  NaN   \n",
       "878   This is Rose. Her face is stuck like that. 11/...                  NaN   \n",
       "1290  Please stop sending in non canines like this G...                  NaN   \n",
       "\n",
       "      retweeted_status_user_id retweeted_status_timestamp  \\\n",
       "98                         NaN                        NaN   \n",
       "178                        NaN                        NaN   \n",
       "1111                       NaN                        NaN   \n",
       "878                        NaN                        NaN   \n",
       "1290                       NaN                        NaN   \n",
       "\n",
       "                                          expanded_urls  rating_numerator  \\\n",
       "98    https://www.gofundme.com/help-my-baby-sierra-g...                12   \n",
       "178   https://twitter.com/dog_rates/status/857263160...                13   \n",
       "1111  https://twitter.com/dog_rates/status/733482008...                10   \n",
       "878   https://twitter.com/dog_rates/status/760656994...                11   \n",
       "1290  https://twitter.com/dog_rates/status/708130923...                11   \n",
       "\n",
       "      rating_denominator    name doggo floofer  pupper puppo  \n",
       "98                    10  Sierra  None    None  pupper  None  \n",
       "178                   10   Oscar  None    None    None  None  \n",
       "1111                  10    None  None    None    None  None  \n",
       "878                   10    Rose  None    None    None  None  \n",
       "1290                  10    None  None    None    None  None  "
      ]
     },
     "execution_count": 7,
     "metadata": {},
     "output_type": "execute_result"
    }
   ],
   "source": [
    "twitter_archive.sample(5)"
   ]
  },
  {
   "cell_type": "code",
   "execution_count": 8,
   "metadata": {},
   "outputs": [],
   "source": [
    "### FINDINGS ###\n",
    "# Hundestufen sind nicht korrekt angegeben\n",
    "# Der Nenner der Bewertung ist zum Teil größer als 10"
   ]
  },
  {
   "cell_type": "code",
   "execution_count": 9,
   "metadata": {},
   "outputs": [
    {
     "data": {
      "text/plain": [
       "1"
      ]
     },
     "execution_count": 9,
     "metadata": {},
     "output_type": "execute_result"
    }
   ],
   "source": [
    "sum(twitter_archive.name.unique()=='None')"
   ]
  },
  {
   "cell_type": "code",
   "execution_count": 10,
   "metadata": {},
   "outputs": [
    {
     "data": {
      "text/plain": [
       "['none']"
      ]
     },
     "execution_count": 10,
     "metadata": {},
     "output_type": "execute_result"
    }
   ],
   "source": [
    "# Alternative approach\n",
    "def intersection(lst1, lst2):\n",
    "        return [value for value in [x.lower() for x in lst1] if value in lst2]\n",
    "\n",
    "intersection(list(twitter_archive.name.unique()),['nan', 'none', 'na'])"
   ]
  },
  {
   "cell_type": "code",
   "execution_count": 11,
   "metadata": {},
   "outputs": [],
   "source": [
    "### FINDINGS ###\n",
    "# Name des Hundes ist nicht immer angegebe [ausgedrückt durch None]"
   ]
  },
  {
   "cell_type": "code",
   "execution_count": 12,
   "metadata": {},
   "outputs": [
    {
     "data": {
      "text/plain": [
       "1776      1\n",
       "960       1\n",
       "666       1\n",
       "420       2\n",
       "204       1\n",
       "182       1\n",
       "165       1\n",
       "144       1\n",
       "143       1\n",
       "121       1\n",
       "99        1\n",
       "88        1\n",
       "84        1\n",
       "80        1\n",
       "75        2\n",
       "60        1\n",
       "50        1\n",
       "45        1\n",
       "44        1\n",
       "27        1\n",
       "26        1\n",
       "24        1\n",
       "20        1\n",
       "17        1\n",
       "15        2\n",
       "14       54\n",
       "13      351\n",
       "12      558\n",
       "11      464\n",
       "10      461\n",
       "9       158\n",
       "8       102\n",
       "7        55\n",
       "6        32\n",
       "5        37\n",
       "4        17\n",
       "3        19\n",
       "2         9\n",
       "1         9\n",
       "0         2\n",
       "Name: rating_numerator, dtype: int64"
      ]
     },
     "execution_count": 12,
     "metadata": {},
     "output_type": "execute_result"
    }
   ],
   "source": [
    "twitter_archive.rating_numerator.value_counts().sort_index(ascending=False)"
   ]
  },
  {
   "cell_type": "code",
   "execution_count": 13,
   "metadata": {},
   "outputs": [
    {
     "name": "stderr",
     "output_type": "stream",
     "text": [
      "/var/folders/2w/s3yyj4_57gz_cgh69ctc_d440000gq/T/ipykernel_10071/279887636.py:2: UserWarning: This pattern is interpreted as a regular expression, and has match groups. To actually get the groups, use str.extract.\n",
      "  display(twitter_archive[twitter_archive['text'].str.contains(r\"(\\d+\\.\\d*\\/\\d+)\")]\n"
     ]
    },
    {
     "data": {
      "text/html": [
       "<div>\n",
       "<style scoped>\n",
       "    .dataframe tbody tr th:only-of-type {\n",
       "        vertical-align: middle;\n",
       "    }\n",
       "\n",
       "    .dataframe tbody tr th {\n",
       "        vertical-align: top;\n",
       "    }\n",
       "\n",
       "    .dataframe thead th {\n",
       "        text-align: right;\n",
       "    }\n",
       "</style>\n",
       "<table border=\"1\" class=\"dataframe\">\n",
       "  <thead>\n",
       "    <tr style=\"text-align: right;\">\n",
       "      <th></th>\n",
       "      <th>tweet_id</th>\n",
       "      <th>text</th>\n",
       "      <th>rating_numerator</th>\n",
       "      <th>retweeted_status_id</th>\n",
       "      <th>rating_denominator</th>\n",
       "    </tr>\n",
       "  </thead>\n",
       "  <tbody>\n",
       "    <tr>\n",
       "      <th>45</th>\n",
       "      <td>883482846933004288</td>\n",
       "      <td>This is Bella. She hopes her smile made you smile. If not, she is also offering you her favorite monkey. 13.5/10 https://t.co/qjrljjt948</td>\n",
       "      <td>5</td>\n",
       "      <td>NaN</td>\n",
       "      <td>10</td>\n",
       "    </tr>\n",
       "    <tr>\n",
       "      <th>340</th>\n",
       "      <td>832215909146226688</td>\n",
       "      <td>RT @dog_rates: This is Logan, the Chow who lived. He solemnly swears he's up to lots of good. H*ckin magical af 9.75/10 https://t.co/yBO5wu…</td>\n",
       "      <td>75</td>\n",
       "      <td>7.867091e+17</td>\n",
       "      <td>10</td>\n",
       "    </tr>\n",
       "    <tr>\n",
       "      <th>695</th>\n",
       "      <td>786709082849828864</td>\n",
       "      <td>This is Logan, the Chow who lived. He solemnly swears he's up to lots of good. H*ckin magical af 9.75/10 https://t.co/yBO5wuqaPS</td>\n",
       "      <td>75</td>\n",
       "      <td>NaN</td>\n",
       "      <td>10</td>\n",
       "    </tr>\n",
       "    <tr>\n",
       "      <th>763</th>\n",
       "      <td>778027034220126208</td>\n",
       "      <td>This is Sophie. She's a Jubilant Bush Pupper. Super h*ckin rare. Appears at random just to smile at the locals. 11.27/10 would smile back https://t.co/QFaUiIHxHq</td>\n",
       "      <td>27</td>\n",
       "      <td>NaN</td>\n",
       "      <td>10</td>\n",
       "    </tr>\n",
       "    <tr>\n",
       "      <th>1689</th>\n",
       "      <td>681340665377193984</td>\n",
       "      <td>I've been told there's a slight possibility he's checking his mirror. We'll bump to 9.5/10. Still a menace</td>\n",
       "      <td>5</td>\n",
       "      <td>NaN</td>\n",
       "      <td>10</td>\n",
       "    </tr>\n",
       "    <tr>\n",
       "      <th>1712</th>\n",
       "      <td>680494726643068929</td>\n",
       "      <td>Here we have uncovered an entire battalion of holiday puppers. Average of 11.26/10 https://t.co/eNm2S6p9BD</td>\n",
       "      <td>26</td>\n",
       "      <td>NaN</td>\n",
       "      <td>10</td>\n",
       "    </tr>\n",
       "  </tbody>\n",
       "</table>\n",
       "</div>"
      ],
      "text/plain": [
       "                tweet_id  \\\n",
       "45    883482846933004288   \n",
       "340   832215909146226688   \n",
       "695   786709082849828864   \n",
       "763   778027034220126208   \n",
       "1689  681340665377193984   \n",
       "1712  680494726643068929   \n",
       "\n",
       "                                                                                                                                                                   text  \\\n",
       "45                             This is Bella. She hopes her smile made you smile. If not, she is also offering you her favorite monkey. 13.5/10 https://t.co/qjrljjt948   \n",
       "340                        RT @dog_rates: This is Logan, the Chow who lived. He solemnly swears he's up to lots of good. H*ckin magical af 9.75/10 https://t.co/yBO5wu…   \n",
       "695                                    This is Logan, the Chow who lived. He solemnly swears he's up to lots of good. H*ckin magical af 9.75/10 https://t.co/yBO5wuqaPS   \n",
       "763   This is Sophie. She's a Jubilant Bush Pupper. Super h*ckin rare. Appears at random just to smile at the locals. 11.27/10 would smile back https://t.co/QFaUiIHxHq   \n",
       "1689                                                         I've been told there's a slight possibility he's checking his mirror. We'll bump to 9.5/10. Still a menace   \n",
       "1712                                                         Here we have uncovered an entire battalion of holiday puppers. Average of 11.26/10 https://t.co/eNm2S6p9BD   \n",
       "\n",
       "      rating_numerator  retweeted_status_id  rating_denominator  \n",
       "45                   5                  NaN                  10  \n",
       "340                 75         7.867091e+17                  10  \n",
       "695                 75                  NaN                  10  \n",
       "763                 27                  NaN                  10  \n",
       "1689                 5                  NaN                  10  \n",
       "1712                26                  NaN                  10  "
      ]
     },
     "metadata": {},
     "output_type": "display_data"
    }
   ],
   "source": [
    "with pd.option_context('max_colwidth', 1000):\n",
    "    display(twitter_archive[twitter_archive['text'].str.contains(r\"(\\d+\\.\\d*\\/\\d+)\")]\n",
    "            [['tweet_id', 'text', 'rating_numerator', 'retweeted_status_id', 'rating_denominator']])"
   ]
  },
  {
   "cell_type": "code",
   "execution_count": 14,
   "metadata": {},
   "outputs": [],
   "source": [
    "### FINDINGS ###\n",
    "# Wenn der Zähler eine Dezimalzahl ist wie z.B. 13.5 steht in der Spalte rating_numerator nur die \".5\" "
   ]
  },
  {
   "cell_type": "markdown",
   "metadata": {
    "jp-MarkdownHeadingCollapsed": true,
    "tags": []
   },
   "source": [
    "### Image_prediction Dataframe"
   ]
  },
  {
   "cell_type": "code",
   "execution_count": 15,
   "metadata": {},
   "outputs": [
    {
     "name": "stdout",
     "output_type": "stream",
     "text": [
      "<class 'pandas.core.frame.DataFrame'>\n",
      "RangeIndex: 2075 entries, 0 to 2074\n",
      "Data columns (total 12 columns):\n",
      " #   Column    Non-Null Count  Dtype  \n",
      "---  ------    --------------  -----  \n",
      " 0   tweet_id  2075 non-null   int64  \n",
      " 1   jpg_url   2075 non-null   object \n",
      " 2   img_num   2075 non-null   int64  \n",
      " 3   p1        2075 non-null   object \n",
      " 4   p1_conf   2075 non-null   float64\n",
      " 5   p1_dog    2075 non-null   bool   \n",
      " 6   p2        2075 non-null   object \n",
      " 7   p2_conf   2075 non-null   float64\n",
      " 8   p2_dog    2075 non-null   bool   \n",
      " 9   p3        2075 non-null   object \n",
      " 10  p3_conf   2075 non-null   float64\n",
      " 11  p3_dog    2075 non-null   bool   \n",
      "dtypes: bool(3), float64(3), int64(2), object(4)\n",
      "memory usage: 152.1+ KB\n"
     ]
    }
   ],
   "source": [
    "image_prediction.info()"
   ]
  },
  {
   "cell_type": "code",
   "execution_count": 16,
   "metadata": {},
   "outputs": [
    {
     "data": {
      "text/html": [
       "<div>\n",
       "<style scoped>\n",
       "    .dataframe tbody tr th:only-of-type {\n",
       "        vertical-align: middle;\n",
       "    }\n",
       "\n",
       "    .dataframe tbody tr th {\n",
       "        vertical-align: top;\n",
       "    }\n",
       "\n",
       "    .dataframe thead th {\n",
       "        text-align: right;\n",
       "    }\n",
       "</style>\n",
       "<table border=\"1\" class=\"dataframe\">\n",
       "  <thead>\n",
       "    <tr style=\"text-align: right;\">\n",
       "      <th></th>\n",
       "      <th>tweet_id</th>\n",
       "      <th>jpg_url</th>\n",
       "      <th>img_num</th>\n",
       "      <th>p1</th>\n",
       "      <th>p1_conf</th>\n",
       "      <th>p1_dog</th>\n",
       "      <th>p2</th>\n",
       "      <th>p2_conf</th>\n",
       "      <th>p2_dog</th>\n",
       "      <th>p3</th>\n",
       "      <th>p3_conf</th>\n",
       "      <th>p3_dog</th>\n",
       "    </tr>\n",
       "  </thead>\n",
       "  <tbody>\n",
       "    <tr>\n",
       "      <th>382</th>\n",
       "      <td>673320132811366400</td>\n",
       "      <td>https://pbs.twimg.com/media/CVgdFjNWEAAxmbq.jpg</td>\n",
       "      <td>3</td>\n",
       "      <td>Samoyed</td>\n",
       "      <td>0.978833</td>\n",
       "      <td>True</td>\n",
       "      <td>Pomeranian</td>\n",
       "      <td>0.012763</td>\n",
       "      <td>True</td>\n",
       "      <td>Eskimo_dog</td>\n",
       "      <td>0.001853</td>\n",
       "      <td>True</td>\n",
       "    </tr>\n",
       "    <tr>\n",
       "      <th>330</th>\n",
       "      <td>672095186491711488</td>\n",
       "      <td>https://pbs.twimg.com/media/CVPDAR9XIAAm8QB.jpg</td>\n",
       "      <td>1</td>\n",
       "      <td>pug</td>\n",
       "      <td>0.794087</td>\n",
       "      <td>True</td>\n",
       "      <td>French_bulldog</td>\n",
       "      <td>0.140796</td>\n",
       "      <td>True</td>\n",
       "      <td>bull_mastiff</td>\n",
       "      <td>0.044681</td>\n",
       "      <td>True</td>\n",
       "    </tr>\n",
       "    <tr>\n",
       "      <th>619</th>\n",
       "      <td>680440374763077632</td>\n",
       "      <td>https://pbs.twimg.com/ext_tw_video_thumb/68044...</td>\n",
       "      <td>1</td>\n",
       "      <td>space_heater</td>\n",
       "      <td>0.920367</td>\n",
       "      <td>False</td>\n",
       "      <td>radiator</td>\n",
       "      <td>0.049933</td>\n",
       "      <td>False</td>\n",
       "      <td>electric_fan</td>\n",
       "      <td>0.006719</td>\n",
       "      <td>False</td>\n",
       "    </tr>\n",
       "    <tr>\n",
       "      <th>1948</th>\n",
       "      <td>862831371563274240</td>\n",
       "      <td>https://pbs.twimg.com/media/C_lkieeVwAAm0L4.jpg</td>\n",
       "      <td>2</td>\n",
       "      <td>Australian_terrier</td>\n",
       "      <td>0.207281</td>\n",
       "      <td>True</td>\n",
       "      <td>Irish_terrier</td>\n",
       "      <td>0.156296</td>\n",
       "      <td>True</td>\n",
       "      <td>German_shepherd</td>\n",
       "      <td>0.123536</td>\n",
       "      <td>True</td>\n",
       "    </tr>\n",
       "    <tr>\n",
       "      <th>1225</th>\n",
       "      <td>744995568523612160</td>\n",
       "      <td>https://pbs.twimg.com/media/ClbBg4WWEAMjwJu.jpg</td>\n",
       "      <td>1</td>\n",
       "      <td>Old_English_sheepdog</td>\n",
       "      <td>0.427481</td>\n",
       "      <td>True</td>\n",
       "      <td>Shih-Tzu</td>\n",
       "      <td>0.146336</td>\n",
       "      <td>True</td>\n",
       "      <td>Tibetan_terrier</td>\n",
       "      <td>0.134269</td>\n",
       "      <td>True</td>\n",
       "    </tr>\n",
       "    <tr>\n",
       "      <th>1624</th>\n",
       "      <td>803692223237865472</td>\n",
       "      <td>https://pbs.twimg.com/media/CZhn-QAWwAASQan.jpg</td>\n",
       "      <td>1</td>\n",
       "      <td>Lakeland_terrier</td>\n",
       "      <td>0.530104</td>\n",
       "      <td>True</td>\n",
       "      <td>Irish_terrier</td>\n",
       "      <td>0.197314</td>\n",
       "      <td>True</td>\n",
       "      <td>Airedale</td>\n",
       "      <td>0.082515</td>\n",
       "      <td>True</td>\n",
       "    </tr>\n",
       "    <tr>\n",
       "      <th>567</th>\n",
       "      <td>678341075375947776</td>\n",
       "      <td>https://pbs.twimg.com/media/CWnznDTU4AAa-6P.jpg</td>\n",
       "      <td>1</td>\n",
       "      <td>golden_retriever</td>\n",
       "      <td>0.853284</td>\n",
       "      <td>True</td>\n",
       "      <td>cocker_spaniel</td>\n",
       "      <td>0.026230</td>\n",
       "      <td>True</td>\n",
       "      <td>Labrador_retriever</td>\n",
       "      <td>0.024123</td>\n",
       "      <td>True</td>\n",
       "    </tr>\n",
       "    <tr>\n",
       "      <th>1770</th>\n",
       "      <td>827600520311402496</td>\n",
       "      <td>https://pbs.twimg.com/media/C3w6RYbWQAAEQ25.jpg</td>\n",
       "      <td>1</td>\n",
       "      <td>Pembroke</td>\n",
       "      <td>0.325638</td>\n",
       "      <td>True</td>\n",
       "      <td>golden_retriever</td>\n",
       "      <td>0.317235</td>\n",
       "      <td>True</td>\n",
       "      <td>Labrador_retriever</td>\n",
       "      <td>0.116087</td>\n",
       "      <td>True</td>\n",
       "    </tr>\n",
       "    <tr>\n",
       "      <th>1738</th>\n",
       "      <td>822244816520155136</td>\n",
       "      <td>https://pbs.twimg.com/media/C2kzTGxWEAEOpPL.jpg</td>\n",
       "      <td>1</td>\n",
       "      <td>Samoyed</td>\n",
       "      <td>0.585441</td>\n",
       "      <td>True</td>\n",
       "      <td>Pomeranian</td>\n",
       "      <td>0.193654</td>\n",
       "      <td>True</td>\n",
       "      <td>Arctic_fox</td>\n",
       "      <td>0.071648</td>\n",
       "      <td>False</td>\n",
       "    </tr>\n",
       "    <tr>\n",
       "      <th>1306</th>\n",
       "      <td>753398408988139520</td>\n",
       "      <td>https://pbs.twimg.com/ext_tw_video_thumb/75339...</td>\n",
       "      <td>1</td>\n",
       "      <td>whippet</td>\n",
       "      <td>0.163794</td>\n",
       "      <td>True</td>\n",
       "      <td>Italian_greyhound</td>\n",
       "      <td>0.157192</td>\n",
       "      <td>True</td>\n",
       "      <td>English_foxhound</td>\n",
       "      <td>0.142995</td>\n",
       "      <td>True</td>\n",
       "    </tr>\n",
       "    <tr>\n",
       "      <th>845</th>\n",
       "      <td>695095422348574720</td>\n",
       "      <td>https://pbs.twimg.com/media/CaV5mRDXEAAR8iG.jpg</td>\n",
       "      <td>1</td>\n",
       "      <td>papillon</td>\n",
       "      <td>0.227784</td>\n",
       "      <td>True</td>\n",
       "      <td>Chihuahua</td>\n",
       "      <td>0.218128</td>\n",
       "      <td>True</td>\n",
       "      <td>Border_collie</td>\n",
       "      <td>0.093457</td>\n",
       "      <td>True</td>\n",
       "    </tr>\n",
       "    <tr>\n",
       "      <th>7</th>\n",
       "      <td>666055525042405380</td>\n",
       "      <td>https://pbs.twimg.com/media/CT5N9tpXIAAifs1.jpg</td>\n",
       "      <td>1</td>\n",
       "      <td>chow</td>\n",
       "      <td>0.692517</td>\n",
       "      <td>True</td>\n",
       "      <td>Tibetan_mastiff</td>\n",
       "      <td>0.058279</td>\n",
       "      <td>True</td>\n",
       "      <td>fur_coat</td>\n",
       "      <td>0.054449</td>\n",
       "      <td>False</td>\n",
       "    </tr>\n",
       "    <tr>\n",
       "      <th>446</th>\n",
       "      <td>674664755118911488</td>\n",
       "      <td>https://pbs.twimg.com/media/CVzkA7-WsAAcXz6.jpg</td>\n",
       "      <td>1</td>\n",
       "      <td>African_crocodile</td>\n",
       "      <td>0.330625</td>\n",
       "      <td>False</td>\n",
       "      <td>American_alligator</td>\n",
       "      <td>0.075356</td>\n",
       "      <td>False</td>\n",
       "      <td>mink</td>\n",
       "      <td>0.057481</td>\n",
       "      <td>False</td>\n",
       "    </tr>\n",
       "    <tr>\n",
       "      <th>1868</th>\n",
       "      <td>844223788422217728</td>\n",
       "      <td>https://pbs.twimg.com/media/C7dJCnqU4AAswat.jpg</td>\n",
       "      <td>1</td>\n",
       "      <td>Labrador_retriever</td>\n",
       "      <td>0.719510</td>\n",
       "      <td>True</td>\n",
       "      <td>Chesapeake_Bay_retriever</td>\n",
       "      <td>0.122019</td>\n",
       "      <td>True</td>\n",
       "      <td>Newfoundland</td>\n",
       "      <td>0.038828</td>\n",
       "      <td>True</td>\n",
       "    </tr>\n",
       "    <tr>\n",
       "      <th>1872</th>\n",
       "      <td>844979544864018432</td>\n",
       "      <td>https://pbs.twimg.com/media/C7n4aQ0VAAAohkL.jpg</td>\n",
       "      <td>3</td>\n",
       "      <td>tennis_ball</td>\n",
       "      <td>0.999281</td>\n",
       "      <td>False</td>\n",
       "      <td>racket</td>\n",
       "      <td>0.000370</td>\n",
       "      <td>False</td>\n",
       "      <td>Shetland_sheepdog</td>\n",
       "      <td>0.000132</td>\n",
       "      <td>True</td>\n",
       "    </tr>\n",
       "    <tr>\n",
       "      <th>1671</th>\n",
       "      <td>813096984823349248</td>\n",
       "      <td>https://pbs.twimg.com/media/C0izZULWgAAKD-F.jpg</td>\n",
       "      <td>1</td>\n",
       "      <td>Great_Dane</td>\n",
       "      <td>0.128056</td>\n",
       "      <td>True</td>\n",
       "      <td>Boston_bull</td>\n",
       "      <td>0.117003</td>\n",
       "      <td>True</td>\n",
       "      <td>kelpie</td>\n",
       "      <td>0.086964</td>\n",
       "      <td>True</td>\n",
       "    </tr>\n",
       "    <tr>\n",
       "      <th>1277</th>\n",
       "      <td>750086836815486976</td>\n",
       "      <td>https://pbs.twimg.com/media/Cmf5WLGWYAAcmRw.jpg</td>\n",
       "      <td>1</td>\n",
       "      <td>pug</td>\n",
       "      <td>0.978277</td>\n",
       "      <td>True</td>\n",
       "      <td>teddy</td>\n",
       "      <td>0.003134</td>\n",
       "      <td>False</td>\n",
       "      <td>Brabancon_griffon</td>\n",
       "      <td>0.003061</td>\n",
       "      <td>True</td>\n",
       "    </tr>\n",
       "    <tr>\n",
       "      <th>1103</th>\n",
       "      <td>721503162398597120</td>\n",
       "      <td>https://pbs.twimg.com/media/CgNLS1PW8AAxWSN.jpg</td>\n",
       "      <td>3</td>\n",
       "      <td>Pomeranian</td>\n",
       "      <td>0.997750</td>\n",
       "      <td>True</td>\n",
       "      <td>Chihuahua</td>\n",
       "      <td>0.001248</td>\n",
       "      <td>True</td>\n",
       "      <td>Pekinese</td>\n",
       "      <td>0.000775</td>\n",
       "      <td>True</td>\n",
       "    </tr>\n",
       "    <tr>\n",
       "      <th>295</th>\n",
       "      <td>671357843010908160</td>\n",
       "      <td>https://pbs.twimg.com/media/CVEkZaPXIAEw5vr.jpg</td>\n",
       "      <td>1</td>\n",
       "      <td>Italian_greyhound</td>\n",
       "      <td>0.831757</td>\n",
       "      <td>True</td>\n",
       "      <td>toy_terrier</td>\n",
       "      <td>0.043306</td>\n",
       "      <td>True</td>\n",
       "      <td>Chihuahua</td>\n",
       "      <td>0.036773</td>\n",
       "      <td>True</td>\n",
       "    </tr>\n",
       "    <tr>\n",
       "      <th>6</th>\n",
       "      <td>666051853826850816</td>\n",
       "      <td>https://pbs.twimg.com/media/CT5KoJ1WoAAJash.jpg</td>\n",
       "      <td>1</td>\n",
       "      <td>box_turtle</td>\n",
       "      <td>0.933012</td>\n",
       "      <td>False</td>\n",
       "      <td>mud_turtle</td>\n",
       "      <td>0.045885</td>\n",
       "      <td>False</td>\n",
       "      <td>terrapin</td>\n",
       "      <td>0.017885</td>\n",
       "      <td>False</td>\n",
       "    </tr>\n",
       "  </tbody>\n",
       "</table>\n",
       "</div>"
      ],
      "text/plain": [
       "                tweet_id                                            jpg_url  \\\n",
       "382   673320132811366400    https://pbs.twimg.com/media/CVgdFjNWEAAxmbq.jpg   \n",
       "330   672095186491711488    https://pbs.twimg.com/media/CVPDAR9XIAAm8QB.jpg   \n",
       "619   680440374763077632  https://pbs.twimg.com/ext_tw_video_thumb/68044...   \n",
       "1948  862831371563274240    https://pbs.twimg.com/media/C_lkieeVwAAm0L4.jpg   \n",
       "1225  744995568523612160    https://pbs.twimg.com/media/ClbBg4WWEAMjwJu.jpg   \n",
       "1624  803692223237865472    https://pbs.twimg.com/media/CZhn-QAWwAASQan.jpg   \n",
       "567   678341075375947776    https://pbs.twimg.com/media/CWnznDTU4AAa-6P.jpg   \n",
       "1770  827600520311402496    https://pbs.twimg.com/media/C3w6RYbWQAAEQ25.jpg   \n",
       "1738  822244816520155136    https://pbs.twimg.com/media/C2kzTGxWEAEOpPL.jpg   \n",
       "1306  753398408988139520  https://pbs.twimg.com/ext_tw_video_thumb/75339...   \n",
       "845   695095422348574720    https://pbs.twimg.com/media/CaV5mRDXEAAR8iG.jpg   \n",
       "7     666055525042405380    https://pbs.twimg.com/media/CT5N9tpXIAAifs1.jpg   \n",
       "446   674664755118911488    https://pbs.twimg.com/media/CVzkA7-WsAAcXz6.jpg   \n",
       "1868  844223788422217728    https://pbs.twimg.com/media/C7dJCnqU4AAswat.jpg   \n",
       "1872  844979544864018432    https://pbs.twimg.com/media/C7n4aQ0VAAAohkL.jpg   \n",
       "1671  813096984823349248    https://pbs.twimg.com/media/C0izZULWgAAKD-F.jpg   \n",
       "1277  750086836815486976    https://pbs.twimg.com/media/Cmf5WLGWYAAcmRw.jpg   \n",
       "1103  721503162398597120    https://pbs.twimg.com/media/CgNLS1PW8AAxWSN.jpg   \n",
       "295   671357843010908160    https://pbs.twimg.com/media/CVEkZaPXIAEw5vr.jpg   \n",
       "6     666051853826850816    https://pbs.twimg.com/media/CT5KoJ1WoAAJash.jpg   \n",
       "\n",
       "      img_num                    p1   p1_conf  p1_dog  \\\n",
       "382         3               Samoyed  0.978833    True   \n",
       "330         1                   pug  0.794087    True   \n",
       "619         1          space_heater  0.920367   False   \n",
       "1948        2    Australian_terrier  0.207281    True   \n",
       "1225        1  Old_English_sheepdog  0.427481    True   \n",
       "1624        1      Lakeland_terrier  0.530104    True   \n",
       "567         1      golden_retriever  0.853284    True   \n",
       "1770        1              Pembroke  0.325638    True   \n",
       "1738        1               Samoyed  0.585441    True   \n",
       "1306        1               whippet  0.163794    True   \n",
       "845         1              papillon  0.227784    True   \n",
       "7           1                  chow  0.692517    True   \n",
       "446         1     African_crocodile  0.330625   False   \n",
       "1868        1    Labrador_retriever  0.719510    True   \n",
       "1872        3           tennis_ball  0.999281   False   \n",
       "1671        1            Great_Dane  0.128056    True   \n",
       "1277        1                   pug  0.978277    True   \n",
       "1103        3            Pomeranian  0.997750    True   \n",
       "295         1     Italian_greyhound  0.831757    True   \n",
       "6           1            box_turtle  0.933012   False   \n",
       "\n",
       "                            p2   p2_conf  p2_dog                  p3  \\\n",
       "382                 Pomeranian  0.012763    True          Eskimo_dog   \n",
       "330             French_bulldog  0.140796    True        bull_mastiff   \n",
       "619                   radiator  0.049933   False        electric_fan   \n",
       "1948             Irish_terrier  0.156296    True     German_shepherd   \n",
       "1225                  Shih-Tzu  0.146336    True     Tibetan_terrier   \n",
       "1624             Irish_terrier  0.197314    True            Airedale   \n",
       "567             cocker_spaniel  0.026230    True  Labrador_retriever   \n",
       "1770          golden_retriever  0.317235    True  Labrador_retriever   \n",
       "1738                Pomeranian  0.193654    True          Arctic_fox   \n",
       "1306         Italian_greyhound  0.157192    True    English_foxhound   \n",
       "845                  Chihuahua  0.218128    True       Border_collie   \n",
       "7              Tibetan_mastiff  0.058279    True            fur_coat   \n",
       "446         American_alligator  0.075356   False                mink   \n",
       "1868  Chesapeake_Bay_retriever  0.122019    True        Newfoundland   \n",
       "1872                    racket  0.000370   False   Shetland_sheepdog   \n",
       "1671               Boston_bull  0.117003    True              kelpie   \n",
       "1277                     teddy  0.003134   False   Brabancon_griffon   \n",
       "1103                 Chihuahua  0.001248    True            Pekinese   \n",
       "295                toy_terrier  0.043306    True           Chihuahua   \n",
       "6                   mud_turtle  0.045885   False            terrapin   \n",
       "\n",
       "       p3_conf  p3_dog  \n",
       "382   0.001853    True  \n",
       "330   0.044681    True  \n",
       "619   0.006719   False  \n",
       "1948  0.123536    True  \n",
       "1225  0.134269    True  \n",
       "1624  0.082515    True  \n",
       "567   0.024123    True  \n",
       "1770  0.116087    True  \n",
       "1738  0.071648   False  \n",
       "1306  0.142995    True  \n",
       "845   0.093457    True  \n",
       "7     0.054449   False  \n",
       "446   0.057481   False  \n",
       "1868  0.038828    True  \n",
       "1872  0.000132    True  \n",
       "1671  0.086964    True  \n",
       "1277  0.003061    True  \n",
       "1103  0.000775    True  \n",
       "295   0.036773    True  \n",
       "6     0.017885   False  "
      ]
     },
     "execution_count": 16,
     "metadata": {},
     "output_type": "execute_result"
    }
   ],
   "source": [
    "image_prediction.sample(20)"
   ]
  },
  {
   "cell_type": "code",
   "execution_count": 17,
   "metadata": {},
   "outputs": [],
   "source": [
    "### FINDINGS ###\n",
    "# p1, p2, p3 Hunderassen sind manchmal groß, manchmal klein geschrieben\n",
    "# Die Spalten p1, p2 und p3 enthalten ungültige Daten, wie z. B. ein Vogelhaus, einen Dosenöffner oder einen Brustpanzer usw."
   ]
  },
  {
   "cell_type": "code",
   "execution_count": 18,
   "metadata": {},
   "outputs": [
    {
     "data": {
      "text/plain": [
       "https://pbs.twimg.com/media/CZhn-QAWwAASQan.jpg                                            2\n",
       "https://pbs.twimg.com/media/Cq9guJ5WgAADfpF.jpg                                            2\n",
       "https://pbs.twimg.com/ext_tw_video_thumb/807106774843039744/pu/img/8XZg1xW35Xp2J6JW.jpg    2\n",
       "https://pbs.twimg.com/media/CU1zsMSUAAAS0qW.jpg                                            2\n",
       "https://pbs.twimg.com/media/CsrjryzWgAAZY00.jpg                                            2\n",
       "                                                                                          ..\n",
       "https://pbs.twimg.com/media/CXrmMSpUwAAdeRj.jpg                                            1\n",
       "https://pbs.twimg.com/media/CXrawAhWkAAWSxC.jpg                                            1\n",
       "https://pbs.twimg.com/media/CXrIntsUsAEkv0d.jpg                                            1\n",
       "https://pbs.twimg.com/media/CXqcOHCUQAAugTB.jpg                                            1\n",
       "https://pbs.twimg.com/media/DGKD1-bXoAAIAUK.jpg                                            1\n",
       "Name: jpg_url, Length: 2009, dtype: int64"
      ]
     },
     "execution_count": 18,
     "metadata": {},
     "output_type": "execute_result"
    }
   ],
   "source": [
    "# Doppelte Bilder in den URLs enthalen?\n",
    "image_prediction.jpg_url.value_counts()"
   ]
  },
  {
   "cell_type": "code",
   "execution_count": 19,
   "metadata": {},
   "outputs": [
    {
     "data": {
      "text/plain": [
       "66"
      ]
     },
     "execution_count": 19,
     "metadata": {},
     "output_type": "execute_result"
    }
   ],
   "source": [
    "#Anzahl doppelter URLS\n",
    "len(image_prediction.jpg_url) - image_prediction.jpg_url.nunique()"
   ]
  },
  {
   "cell_type": "code",
   "execution_count": 20,
   "metadata": {},
   "outputs": [],
   "source": [
    "### FINDINGS ###\n",
    "# Es gibt doppelte Einreichungen von Hundebildern (an Hand der URL) "
   ]
  },
  {
   "cell_type": "markdown",
   "metadata": {
    "jp-MarkdownHeadingCollapsed": true,
    "tags": []
   },
   "source": [
    "### Tweet_json Dataframe"
   ]
  },
  {
   "cell_type": "code",
   "execution_count": 21,
   "metadata": {},
   "outputs": [
    {
     "name": "stdout",
     "output_type": "stream",
     "text": [
      "<class 'pandas.core.frame.DataFrame'>\n",
      "RangeIndex: 2331 entries, 0 to 2330\n",
      "Data columns (total 5 columns):\n",
      " #   Column            Non-Null Count  Dtype \n",
      "---  ------            --------------  ----- \n",
      " 0   tweet_id          2331 non-null   object\n",
      " 1   favorite_count    2331 non-null   int64 \n",
      " 2   retweet_count     2331 non-null   int64 \n",
      " 3   followers_count   2331 non-null   int64 \n",
      " 4   retweeted_status  2331 non-null   object\n",
      "dtypes: int64(3), object(2)\n",
      "memory usage: 91.2+ KB\n"
     ]
    }
   ],
   "source": [
    "tweet_json.info()"
   ]
  },
  {
   "cell_type": "code",
   "execution_count": 22,
   "metadata": {},
   "outputs": [],
   "source": [
    "### FINDINGS ###\n",
    "# tweet_id ist ein String und keine Zahl"
   ]
  },
  {
   "cell_type": "code",
   "execution_count": 23,
   "metadata": {},
   "outputs": [
    {
     "data": {
      "text/html": [
       "<div>\n",
       "<style scoped>\n",
       "    .dataframe tbody tr th:only-of-type {\n",
       "        vertical-align: middle;\n",
       "    }\n",
       "\n",
       "    .dataframe tbody tr th {\n",
       "        vertical-align: top;\n",
       "    }\n",
       "\n",
       "    .dataframe thead th {\n",
       "        text-align: right;\n",
       "    }\n",
       "</style>\n",
       "<table border=\"1\" class=\"dataframe\">\n",
       "  <thead>\n",
       "    <tr style=\"text-align: right;\">\n",
       "      <th></th>\n",
       "      <th>tweet_id</th>\n",
       "      <th>favorite_count</th>\n",
       "      <th>retweet_count</th>\n",
       "      <th>followers_count</th>\n",
       "      <th>retweeted_status</th>\n",
       "    </tr>\n",
       "  </thead>\n",
       "  <tbody>\n",
       "    <tr>\n",
       "      <th>1988</th>\n",
       "      <td>672231046314901505</td>\n",
       "      <td>1747</td>\n",
       "      <td>956</td>\n",
       "      <td>8808646</td>\n",
       "      <td>Original tweet</td>\n",
       "    </tr>\n",
       "    <tr>\n",
       "      <th>1024</th>\n",
       "      <td>743253157753532416</td>\n",
       "      <td>4188</td>\n",
       "      <td>1210</td>\n",
       "      <td>8808530</td>\n",
       "      <td>Original tweet</td>\n",
       "    </tr>\n",
       "    <tr>\n",
       "      <th>613</th>\n",
       "      <td>794205286408003585</td>\n",
       "      <td>9341</td>\n",
       "      <td>3366</td>\n",
       "      <td>8808456</td>\n",
       "      <td>Original tweet</td>\n",
       "    </tr>\n",
       "    <tr>\n",
       "      <th>1412</th>\n",
       "      <td>697255105972801536</td>\n",
       "      <td>3007</td>\n",
       "      <td>1150</td>\n",
       "      <td>8808539</td>\n",
       "      <td>Original tweet</td>\n",
       "    </tr>\n",
       "    <tr>\n",
       "      <th>1661</th>\n",
       "      <td>681654059175129088</td>\n",
       "      <td>2608</td>\n",
       "      <td>911</td>\n",
       "      <td>8808548</td>\n",
       "      <td>Original tweet</td>\n",
       "    </tr>\n",
       "    <tr>\n",
       "      <th>1850</th>\n",
       "      <td>675113801096802304</td>\n",
       "      <td>1877</td>\n",
       "      <td>754</td>\n",
       "      <td>8808641</td>\n",
       "      <td>Original tweet</td>\n",
       "    </tr>\n",
       "    <tr>\n",
       "      <th>862</th>\n",
       "      <td>760190180481531904</td>\n",
       "      <td>5690</td>\n",
       "      <td>1797</td>\n",
       "      <td>8808463</td>\n",
       "      <td>Original tweet</td>\n",
       "    </tr>\n",
       "    <tr>\n",
       "      <th>2138</th>\n",
       "      <td>669375718304980992</td>\n",
       "      <td>1266</td>\n",
       "      <td>685</td>\n",
       "      <td>8808646</td>\n",
       "      <td>Original tweet</td>\n",
       "    </tr>\n",
       "    <tr>\n",
       "      <th>66</th>\n",
       "      <td>879376492567855104</td>\n",
       "      <td>15672</td>\n",
       "      <td>2831</td>\n",
       "      <td>8808437</td>\n",
       "      <td>Original tweet</td>\n",
       "    </tr>\n",
       "    <tr>\n",
       "      <th>1896</th>\n",
       "      <td>674262580978937856</td>\n",
       "      <td>1258</td>\n",
       "      <td>431</td>\n",
       "      <td>8808641</td>\n",
       "      <td>Original tweet</td>\n",
       "    </tr>\n",
       "  </tbody>\n",
       "</table>\n",
       "</div>"
      ],
      "text/plain": [
       "                tweet_id  favorite_count  retweet_count  followers_count  \\\n",
       "1988  672231046314901505            1747            956          8808646   \n",
       "1024  743253157753532416            4188           1210          8808530   \n",
       "613   794205286408003585            9341           3366          8808456   \n",
       "1412  697255105972801536            3007           1150          8808539   \n",
       "1661  681654059175129088            2608            911          8808548   \n",
       "1850  675113801096802304            1877            754          8808641   \n",
       "862   760190180481531904            5690           1797          8808463   \n",
       "2138  669375718304980992            1266            685          8808646   \n",
       "66    879376492567855104           15672           2831          8808437   \n",
       "1896  674262580978937856            1258            431          8808641   \n",
       "\n",
       "     retweeted_status  \n",
       "1988   Original tweet  \n",
       "1024   Original tweet  \n",
       "613    Original tweet  \n",
       "1412   Original tweet  \n",
       "1661   Original tweet  \n",
       "1850   Original tweet  \n",
       "862    Original tweet  \n",
       "2138   Original tweet  \n",
       "66     Original tweet  \n",
       "1896   Original tweet  "
      ]
     },
     "execution_count": 23,
     "metadata": {},
     "output_type": "execute_result"
    }
   ],
   "source": [
    "tweet_json.sample(10)"
   ]
  },
  {
   "cell_type": "code",
   "execution_count": 24,
   "metadata": {},
   "outputs": [
    {
     "data": {
      "text/plain": [
       "array(['Original tweet', 'This is a retweet'], dtype=object)"
      ]
     },
     "execution_count": 24,
     "metadata": {},
     "output_type": "execute_result"
    }
   ],
   "source": [
    "tweet_json.retweeted_status.unique()"
   ]
  },
  {
   "cell_type": "code",
   "execution_count": 25,
   "metadata": {},
   "outputs": [],
   "source": [
    "### FINDINGS ###\n",
    "# Retweets in diesem df"
   ]
  },
  {
   "cell_type": "markdown",
   "metadata": {},
   "source": [
    "![purple-divider](https://user-images.githubusercontent.com/7065401/52071927-c1cd7100-2562-11e9-908a-dde91ba14e59.png)\n"
   ]
  },
  {
   "cell_type": "markdown",
   "metadata": {},
   "source": [
    "# Start der Übung"
   ]
  },
  {
   "cell_type": "markdown",
   "metadata": {
    "tags": []
   },
   "source": [
    "## Zusammenfassung der Beobachtungen aus erster Datenexploration \n",
    "\n",
    "##### **`twitter_archive`** \n",
    " - Es gibt sowohl Originalbewertungen und Retweets\n",
    " - Es müssen Spalten gelöscht werden, die nicht für die Analyse verwendet werden\n",
    " - Hundestufen sind nicht korrekt angegeben\n",
    " - Zeitstempel ist in einem nicht korrekten Datenformat (hier Datetime)\n",
    " - Fehlende Daten in den folgenden Spalten: in_reply_to_status_id, in_reply_to_user_id, retweeted_status_id, retweeted_status_user_id, retweeted_status_timestamp, expanded_urls\n",
    " - Der Nenner der Bewertung wird größer als 10\n",
    " - Wenn der Zähler eine Dezimalzahl ist wie z.B. 13.5 steht in der Spalte rating_numerator nur die \".5\" \n",
    " - Manchmal ist der Name des Hundes None\n",
    " - Hundeentwicklungsstufen sind in 4 Spalten\n",
    " - Alle drei Quellen sollen zum Schluss in einem DataFrame sein\n",
    " \n",
    "  \n",
    " ##### **`tweet_json`**\n",
    " - tweet_id ist ein String und keine Zahl\n",
    " - fehlende Daten für die tweet_ids\n",
    " - Retweets in diesem df\n",
    " - Alle drei Quellen sollen zum Schluss in einem DataFrame sein\n",
    " \n",
    " \n",
    " ##### **`image_prediction`** \n",
    " - p1, p2, p3 Hunderassen sind manchmal groß, manchmal klein geschrieben\n",
    " - Die Spalten p1, p2 und p3 enthalten ungültige Daten, wie z. B. ein Vogelhaus, einen Dosenöffner oder einen Brustpanzer usw.\n",
    " - Doppelte Zeilen\n",
    " - Alle drei Quellen sollen zum Schluss in einem DataFrame sein"
   ]
  },
  {
   "cell_type": "markdown",
   "metadata": {
    "tags": []
   },
   "source": [
    "## Aufgaben für euer Data Cleaning"
   ]
  },
  {
   "cell_type": "markdown",
   "metadata": {
    "tags": []
   },
   "source": [
    "**`twitter_archive`**</br>\n",
    "1. Lösche alle Retweets und behalte die Originalbewertungen in `twitter_archive`\n",
    "2. Lösche folgende Spalten in `twitter_archive`: 'source','in_reply_to_status_id', 'in_reply_to_user_id', 'retweeted_status_id', 'retweeted_status_user_id', 'retweeted_status_timestamp', 'expanded_urls'\n",
    "3. Konvertiere den Zeitstempel in `twitter_archive` als Datumsformat\n",
    "4. Korrigiere den Zähler in `twitter_archive`. Wandle es erst als `float` um, und korrigiere die 6 falschen Werte manuell\n",
    "5. Entferne alle Zeilen in `twitter_archive`, deren Nenner nicht 10 ist\n",
    "6. Kombinieren alle Spalten der Dog Stages in eine gemeinsame Spalte in `twitter_archive`\n",
    "</br>\n",
    "**`tweet_json`**</br>\n",
    "7. Wandle die tweet_id in ein `int` Format in `tweet_json`</br>\n",
    "8. Lösche alle Retweets und behalte die Originalbewertungen in `tweet_json`\n",
    "</br></br>\n",
    "**`image_predictions`**</br>\n",
    "9. Überabeite die Spalten der Hunderassen in `image_predictions` so, dass nur Kleinbuchstaben enthalten sind</br>\n",
    "10. Lösche alle duplizierten Zeilen (ca. 66) mit Bild in `image_predictions`\n",
    "</br></br>\n",
    "**Übergreifend**</br>\n",
    "11. Erstelle einen DataFrame aus den drei bereinigten DataFrames mit Namen `df`</br>\n",
    "12. Nenne die Spalte text in tweet_text um im Dataframe `df` </br>\n",
    "13. Outlier Rating_numerator erkennen und droppen, mit Hilfe der IQR"
   ]
  },
  {
   "cell_type": "code",
   "execution_count": 26,
   "metadata": {},
   "outputs": [],
   "source": [
    "'''\n",
    "Wir erstellen im ersten Schritt immer eine \"Hartcopy\", \n",
    "auf deren Basis wir dann das Data Cleaning machen damit wir später immer Vergleichen können,\n",
    "ob die Transformationen wirklich funktioniert haben\n",
    "'''\n",
    "twitter_archive_clean = twitter_archive.copy()\n",
    "image_prediction_clean = image_prediction.copy()\n",
    "tweet_json_clean = tweet_json.copy()"
   ]
  },
  {
   "cell_type": "markdown",
   "metadata": {},
   "source": [
    "**1. Lösche alle Retweets und behalte die Originalbewertungen**"
   ]
  },
  {
   "cell_type": "code",
   "execution_count": 27,
   "metadata": {},
   "outputs": [],
   "source": [
    "#Code\n",
    "twitter_archive_clean = twitter_archive_clean[pd.isnull(twitter_archive_clean['retweeted_status_user_id'])]"
   ]
  },
  {
   "cell_type": "code",
   "execution_count": 28,
   "metadata": {},
   "outputs": [
    {
     "data": {
      "text/plain": [
       "0"
      ]
     },
     "execution_count": 28,
     "metadata": {},
     "output_type": "execute_result"
    }
   ],
   "source": [
    "#Test\n",
    "sum(twitter_archive_clean.retweeted_status_id.value_counts())"
   ]
  },
  {
   "cell_type": "markdown",
   "metadata": {},
   "source": [
    "**2. Lösche folgende Spalten in `twitter_archive`: \n",
    "`source`,`in_reply_to_status_id`, `in_reply_to_user_id`, `retweeted_status_id`, `retweeted_status_user_id`, `retweeted_status_timestamp`, `expanded_urls`**"
   ]
  },
  {
   "cell_type": "code",
   "execution_count": 29,
   "metadata": {},
   "outputs": [],
   "source": [
    "#Code\n",
    "twitter_archive_clean = twitter_archive_clean.drop(['source','in_reply_to_status_id', 'in_reply_to_user_id', 'retweeted_status_id', \n",
    "                                                    'retweeted_status_user_id', 'retweeted_status_timestamp', 'expanded_urls'],\n",
    "                                                   axis=1)"
   ]
  },
  {
   "cell_type": "code",
   "execution_count": 30,
   "metadata": {},
   "outputs": [
    {
     "data": {
      "text/html": [
       "<div>\n",
       "<style scoped>\n",
       "    .dataframe tbody tr th:only-of-type {\n",
       "        vertical-align: middle;\n",
       "    }\n",
       "\n",
       "    .dataframe tbody tr th {\n",
       "        vertical-align: top;\n",
       "    }\n",
       "\n",
       "    .dataframe thead th {\n",
       "        text-align: right;\n",
       "    }\n",
       "</style>\n",
       "<table border=\"1\" class=\"dataframe\">\n",
       "  <thead>\n",
       "    <tr style=\"text-align: right;\">\n",
       "      <th></th>\n",
       "      <th>tweet_id</th>\n",
       "      <th>timestamp</th>\n",
       "      <th>text</th>\n",
       "      <th>rating_numerator</th>\n",
       "      <th>rating_denominator</th>\n",
       "      <th>name</th>\n",
       "      <th>doggo</th>\n",
       "      <th>floofer</th>\n",
       "      <th>pupper</th>\n",
       "      <th>puppo</th>\n",
       "    </tr>\n",
       "  </thead>\n",
       "  <tbody>\n",
       "    <tr>\n",
       "      <th>0</th>\n",
       "      <td>892420643555336193</td>\n",
       "      <td>2017-08-01 16:23:56 +0000</td>\n",
       "      <td>This is Phineas. He's a mystical boy. Only eve...</td>\n",
       "      <td>13</td>\n",
       "      <td>10</td>\n",
       "      <td>Phineas</td>\n",
       "      <td>None</td>\n",
       "      <td>None</td>\n",
       "      <td>None</td>\n",
       "      <td>None</td>\n",
       "    </tr>\n",
       "  </tbody>\n",
       "</table>\n",
       "</div>"
      ],
      "text/plain": [
       "             tweet_id                  timestamp  \\\n",
       "0  892420643555336193  2017-08-01 16:23:56 +0000   \n",
       "\n",
       "                                                text  rating_numerator  \\\n",
       "0  This is Phineas. He's a mystical boy. Only eve...                13   \n",
       "\n",
       "   rating_denominator     name doggo floofer pupper puppo  \n",
       "0                  10  Phineas  None    None   None  None  "
      ]
     },
     "execution_count": 30,
     "metadata": {},
     "output_type": "execute_result"
    }
   ],
   "source": [
    "#Test\n",
    "twitter_archive_clean.head(1)"
   ]
  },
  {
   "cell_type": "markdown",
   "metadata": {},
   "source": [
    "**3. Konvertiere den Zeitstempel in `twitter_archive` als Datumsformat**"
   ]
  },
  {
   "cell_type": "code",
   "execution_count": 31,
   "metadata": {},
   "outputs": [],
   "source": [
    "#Code\n",
    "twitter_archive_clean.timestamp = pd.to_datetime(twitter_archive_clean.timestamp)"
   ]
  },
  {
   "cell_type": "code",
   "execution_count": 32,
   "metadata": {},
   "outputs": [
    {
     "name": "stdout",
     "output_type": "stream",
     "text": [
      "<class 'pandas.core.frame.DataFrame'>\n",
      "Int64Index: 2175 entries, 0 to 2355\n",
      "Data columns (total 10 columns):\n",
      " #   Column              Non-Null Count  Dtype              \n",
      "---  ------              --------------  -----              \n",
      " 0   tweet_id            2175 non-null   int64              \n",
      " 1   timestamp           2175 non-null   datetime64[ns, UTC]\n",
      " 2   text                2175 non-null   object             \n",
      " 3   rating_numerator    2175 non-null   int64              \n",
      " 4   rating_denominator  2175 non-null   int64              \n",
      " 5   name                2175 non-null   object             \n",
      " 6   doggo               2175 non-null   object             \n",
      " 7   floofer             2175 non-null   object             \n",
      " 8   pupper              2175 non-null   object             \n",
      " 9   puppo               2175 non-null   object             \n",
      "dtypes: datetime64[ns, UTC](1), int64(3), object(6)\n",
      "memory usage: 186.9+ KB\n"
     ]
    }
   ],
   "source": [
    "#Test\n",
    "twitter_archive_clean.info()"
   ]
  },
  {
   "cell_type": "markdown",
   "metadata": {},
   "source": [
    "**4. Korrigiere den Zähler in `twitter_archive`. Wandle es erst als `float` um, und korrigiere die 6 falschen Werte manuell**"
   ]
  },
  {
   "cell_type": "code",
   "execution_count": 33,
   "metadata": {},
   "outputs": [
    {
     "name": "stdout",
     "output_type": "stream",
     "text": [
      "<class 'pandas.core.frame.DataFrame'>\n",
      "Int64Index: 2175 entries, 0 to 2355\n",
      "Data columns (total 10 columns):\n",
      " #   Column              Non-Null Count  Dtype              \n",
      "---  ------              --------------  -----              \n",
      " 0   tweet_id            2175 non-null   int64              \n",
      " 1   timestamp           2175 non-null   datetime64[ns, UTC]\n",
      " 2   text                2175 non-null   object             \n",
      " 3   rating_numerator    2175 non-null   float64            \n",
      " 4   rating_denominator  2175 non-null   float64            \n",
      " 5   name                2175 non-null   object             \n",
      " 6   doggo               2175 non-null   object             \n",
      " 7   floofer             2175 non-null   object             \n",
      " 8   pupper              2175 non-null   object             \n",
      " 9   puppo               2175 non-null   object             \n",
      "dtypes: datetime64[ns, UTC](1), float64(2), int64(1), object(6)\n",
      "memory usage: 186.9+ KB\n"
     ]
    },
    {
     "data": {
      "text/html": [
       "<div>\n",
       "<style scoped>\n",
       "    .dataframe tbody tr th:only-of-type {\n",
       "        vertical-align: middle;\n",
       "    }\n",
       "\n",
       "    .dataframe tbody tr th {\n",
       "        vertical-align: top;\n",
       "    }\n",
       "\n",
       "    .dataframe thead th {\n",
       "        text-align: right;\n",
       "    }\n",
       "</style>\n",
       "<table border=\"1\" class=\"dataframe\">\n",
       "  <thead>\n",
       "    <tr style=\"text-align: right;\">\n",
       "      <th></th>\n",
       "      <th>tweet_id</th>\n",
       "      <th>timestamp</th>\n",
       "      <th>text</th>\n",
       "      <th>rating_numerator</th>\n",
       "      <th>rating_denominator</th>\n",
       "      <th>name</th>\n",
       "      <th>doggo</th>\n",
       "      <th>floofer</th>\n",
       "      <th>pupper</th>\n",
       "      <th>puppo</th>\n",
       "    </tr>\n",
       "  </thead>\n",
       "  <tbody>\n",
       "    <tr>\n",
       "      <th>2351</th>\n",
       "      <td>666049248165822465</td>\n",
       "      <td>2015-11-16 00:24:50+00:00</td>\n",
       "      <td>Here we have a 1949 1st generation vulpix. Enj...</td>\n",
       "      <td>5.0</td>\n",
       "      <td>10.0</td>\n",
       "      <td>None</td>\n",
       "      <td>None</td>\n",
       "      <td>None</td>\n",
       "      <td>None</td>\n",
       "      <td>None</td>\n",
       "    </tr>\n",
       "    <tr>\n",
       "      <th>2352</th>\n",
       "      <td>666044226329800704</td>\n",
       "      <td>2015-11-16 00:04:52+00:00</td>\n",
       "      <td>This is a purebred Piers Morgan. Loves to Netf...</td>\n",
       "      <td>6.0</td>\n",
       "      <td>10.0</td>\n",
       "      <td>a</td>\n",
       "      <td>None</td>\n",
       "      <td>None</td>\n",
       "      <td>None</td>\n",
       "      <td>None</td>\n",
       "    </tr>\n",
       "    <tr>\n",
       "      <th>2353</th>\n",
       "      <td>666033412701032449</td>\n",
       "      <td>2015-11-15 23:21:54+00:00</td>\n",
       "      <td>Here is a very happy pup. Big fan of well-main...</td>\n",
       "      <td>9.0</td>\n",
       "      <td>10.0</td>\n",
       "      <td>a</td>\n",
       "      <td>None</td>\n",
       "      <td>None</td>\n",
       "      <td>None</td>\n",
       "      <td>None</td>\n",
       "    </tr>\n",
       "    <tr>\n",
       "      <th>2354</th>\n",
       "      <td>666029285002620928</td>\n",
       "      <td>2015-11-15 23:05:30+00:00</td>\n",
       "      <td>This is a western brown Mitsubishi terrier. Up...</td>\n",
       "      <td>7.0</td>\n",
       "      <td>10.0</td>\n",
       "      <td>a</td>\n",
       "      <td>None</td>\n",
       "      <td>None</td>\n",
       "      <td>None</td>\n",
       "      <td>None</td>\n",
       "    </tr>\n",
       "    <tr>\n",
       "      <th>2355</th>\n",
       "      <td>666020888022790149</td>\n",
       "      <td>2015-11-15 22:32:08+00:00</td>\n",
       "      <td>Here we have a Japanese Irish Setter. Lost eye...</td>\n",
       "      <td>8.0</td>\n",
       "      <td>10.0</td>\n",
       "      <td>None</td>\n",
       "      <td>None</td>\n",
       "      <td>None</td>\n",
       "      <td>None</td>\n",
       "      <td>None</td>\n",
       "    </tr>\n",
       "  </tbody>\n",
       "</table>\n",
       "</div>"
      ],
      "text/plain": [
       "                tweet_id                 timestamp  \\\n",
       "2351  666049248165822465 2015-11-16 00:24:50+00:00   \n",
       "2352  666044226329800704 2015-11-16 00:04:52+00:00   \n",
       "2353  666033412701032449 2015-11-15 23:21:54+00:00   \n",
       "2354  666029285002620928 2015-11-15 23:05:30+00:00   \n",
       "2355  666020888022790149 2015-11-15 22:32:08+00:00   \n",
       "\n",
       "                                                   text  rating_numerator  \\\n",
       "2351  Here we have a 1949 1st generation vulpix. Enj...               5.0   \n",
       "2352  This is a purebred Piers Morgan. Loves to Netf...               6.0   \n",
       "2353  Here is a very happy pup. Big fan of well-main...               9.0   \n",
       "2354  This is a western brown Mitsubishi terrier. Up...               7.0   \n",
       "2355  Here we have a Japanese Irish Setter. Lost eye...               8.0   \n",
       "\n",
       "      rating_denominator  name doggo floofer pupper puppo  \n",
       "2351                10.0  None  None    None   None  None  \n",
       "2352                10.0     a  None    None   None  None  \n",
       "2353                10.0     a  None    None   None  None  \n",
       "2354                10.0     a  None    None   None  None  \n",
       "2355                10.0  None  None    None   None  None  "
      ]
     },
     "execution_count": 33,
     "metadata": {},
     "output_type": "execute_result"
    }
   ],
   "source": [
    "#Code\n",
    "twitter_archive_clean[[\"rating_numerator\",\"rating_denominator\"]] = twitter_archive_clean[[\"rating_numerator\",\n",
    "                                                                                          \"rating_denominator\"]].astype(float)\n",
    "twitter_archive_clean.info()\n",
    "\n",
    "#Manuelles Updaten der Nenner (numerators)\n",
    "twitter_archive_clean.loc[(twitter_archive_clean.tweet_id == 883482846933004288), 'rating_numerator'] = 13.5\n",
    "twitter_archive_clean.loc[(twitter_archive_clean.tweet_id == 786709082849828864), 'rating_numerator'] = 9.75\n",
    "twitter_archive_clean.loc[(twitter_archive_clean.tweet_id == 778027034220126208), 'rating_numerator'] = 11.27\n",
    "twitter_archive_clean.loc[(twitter_archive_clean.tweet_id == 681340665377193984), 'rating_numerator'] = 9.5\n",
    "twitter_archive_clean.loc[(twitter_archive_clean.tweet_id == 680494726643068929), 'rating_numerator'] = 11.26\n",
    "\n",
    "twitter_archive_clean.tail(5)"
   ]
  },
  {
   "cell_type": "code",
   "execution_count": 34,
   "metadata": {},
   "outputs": [
    {
     "name": "stderr",
     "output_type": "stream",
     "text": [
      "/var/folders/2w/s3yyj4_57gz_cgh69ctc_d440000gq/T/ipykernel_10071/3408918035.py:3: UserWarning: This pattern is interpreted as a regular expression, and has match groups. To actually get the groups, use str.extract.\n",
      "  display(twitter_archive_clean[twitter_archive_clean['text'].str.contains(r\"(\\d+\\.\\d*\\/\\d+)\")]\n"
     ]
    },
    {
     "data": {
      "text/html": [
       "<div>\n",
       "<style scoped>\n",
       "    .dataframe tbody tr th:only-of-type {\n",
       "        vertical-align: middle;\n",
       "    }\n",
       "\n",
       "    .dataframe tbody tr th {\n",
       "        vertical-align: top;\n",
       "    }\n",
       "\n",
       "    .dataframe thead th {\n",
       "        text-align: right;\n",
       "    }\n",
       "</style>\n",
       "<table border=\"1\" class=\"dataframe\">\n",
       "  <thead>\n",
       "    <tr style=\"text-align: right;\">\n",
       "      <th></th>\n",
       "      <th>tweet_id</th>\n",
       "      <th>text</th>\n",
       "      <th>rating_numerator</th>\n",
       "      <th>rating_denominator</th>\n",
       "    </tr>\n",
       "  </thead>\n",
       "  <tbody>\n",
       "    <tr>\n",
       "      <th>45</th>\n",
       "      <td>883482846933004288</td>\n",
       "      <td>This is Bella. She hopes her smile made you smile. If not, she is also offering you her favorite monkey. 13.5/10 https://t.co/qjrljjt948</td>\n",
       "      <td>13.50</td>\n",
       "      <td>10.0</td>\n",
       "    </tr>\n",
       "    <tr>\n",
       "      <th>695</th>\n",
       "      <td>786709082849828864</td>\n",
       "      <td>This is Logan, the Chow who lived. He solemnly swears he's up to lots of good. H*ckin magical af 9.75/10 https://t.co/yBO5wuqaPS</td>\n",
       "      <td>9.75</td>\n",
       "      <td>10.0</td>\n",
       "    </tr>\n",
       "    <tr>\n",
       "      <th>763</th>\n",
       "      <td>778027034220126208</td>\n",
       "      <td>This is Sophie. She's a Jubilant Bush Pupper. Super h*ckin rare. Appears at random just to smile at the locals. 11.27/10 would smile back https://t.co/QFaUiIHxHq</td>\n",
       "      <td>11.27</td>\n",
       "      <td>10.0</td>\n",
       "    </tr>\n",
       "    <tr>\n",
       "      <th>1689</th>\n",
       "      <td>681340665377193984</td>\n",
       "      <td>I've been told there's a slight possibility he's checking his mirror. We'll bump to 9.5/10. Still a menace</td>\n",
       "      <td>9.50</td>\n",
       "      <td>10.0</td>\n",
       "    </tr>\n",
       "    <tr>\n",
       "      <th>1712</th>\n",
       "      <td>680494726643068929</td>\n",
       "      <td>Here we have uncovered an entire battalion of holiday puppers. Average of 11.26/10 https://t.co/eNm2S6p9BD</td>\n",
       "      <td>11.26</td>\n",
       "      <td>10.0</td>\n",
       "    </tr>\n",
       "  </tbody>\n",
       "</table>\n",
       "</div>"
      ],
      "text/plain": [
       "                tweet_id  \\\n",
       "45    883482846933004288   \n",
       "695   786709082849828864   \n",
       "763   778027034220126208   \n",
       "1689  681340665377193984   \n",
       "1712  680494726643068929   \n",
       "\n",
       "                                                                                                                                                                   text  \\\n",
       "45                             This is Bella. She hopes her smile made you smile. If not, she is also offering you her favorite monkey. 13.5/10 https://t.co/qjrljjt948   \n",
       "695                                    This is Logan, the Chow who lived. He solemnly swears he's up to lots of good. H*ckin magical af 9.75/10 https://t.co/yBO5wuqaPS   \n",
       "763   This is Sophie. She's a Jubilant Bush Pupper. Super h*ckin rare. Appears at random just to smile at the locals. 11.27/10 would smile back https://t.co/QFaUiIHxHq   \n",
       "1689                                                         I've been told there's a slight possibility he's checking his mirror. We'll bump to 9.5/10. Still a menace   \n",
       "1712                                                         Here we have uncovered an entire battalion of holiday puppers. Average of 11.26/10 https://t.co/eNm2S6p9BD   \n",
       "\n",
       "      rating_numerator  rating_denominator  \n",
       "45               13.50                10.0  \n",
       "695               9.75                10.0  \n",
       "763              11.27                10.0  \n",
       "1689              9.50                10.0  \n",
       "1712             11.26                10.0  "
      ]
     },
     "metadata": {},
     "output_type": "display_data"
    }
   ],
   "source": [
    "#Test\n",
    "with pd.option_context('max_colwidth', 300):\n",
    "    display(twitter_archive_clean[twitter_archive_clean['text'].str.contains(r\"(\\d+\\.\\d*\\/\\d+)\")]\n",
    "            [['tweet_id', 'text', 'rating_numerator', 'rating_denominator']])"
   ]
  },
  {
   "cell_type": "markdown",
   "metadata": {},
   "source": [
    "**5. Entferne alle Zeilen in `tweet_archive`, deren Nenner nicht 10 ist**"
   ]
  },
  {
   "cell_type": "code",
   "execution_count": 35,
   "metadata": {
    "tags": []
   },
   "outputs": [
    {
     "data": {
      "text/plain": [
       "22"
      ]
     },
     "execution_count": 35,
     "metadata": {},
     "output_type": "execute_result"
    }
   ],
   "source": [
    "len(twitter_archive_clean[twitter_archive_clean[\"rating_denominator\"] != 10])"
   ]
  },
  {
   "cell_type": "code",
   "execution_count": 36,
   "metadata": {},
   "outputs": [],
   "source": [
    "#Code\n",
    "twitter_archive_clean = twitter_archive_clean[twitter_archive_clean['rating_denominator'] == 10]"
   ]
  },
  {
   "cell_type": "code",
   "execution_count": 38,
   "metadata": {},
   "outputs": [
    {
     "data": {
      "text/plain": [
       "0"
      ]
     },
     "execution_count": 38,
     "metadata": {},
     "output_type": "execute_result"
    }
   ],
   "source": [
    "#Test\n",
    "len(twitter_archive_clean[twitter_archive_clean[\"rating_denominator\"] != 10])"
   ]
  },
  {
   "cell_type": "markdown",
   "metadata": {},
   "source": [
    "**6. Kombinieren alle Spalten der Dog Stages in eine gemeinsame Spalte in `twitter_archive`**"
   ]
  },
  {
   "cell_type": "code",
   "execution_count": 39,
   "metadata": {
    "tags": []
   },
   "outputs": [
    {
     "name": "stderr",
     "output_type": "stream",
     "text": [
      "/var/folders/2w/s3yyj4_57gz_cgh69ctc_d440000gq/T/ipykernel_10071/3816786505.py:24: FutureWarning: In a future version of pandas all arguments of DataFrame.drop except for the argument 'labels' will be keyword-only.\n",
      "  twitter_archive_clean.drop(['doggo', 'pupper', 'floofer','puppo'], 1, inplace = True)\n"
     ]
    }
   ],
   "source": [
    "# CODE: \n",
    "dog_stage = []\n",
    "\n",
    "for index, value in twitter_archive_clean.iterrows():\n",
    "    dog_stages = (value.loc[['doggo', 'pupper', 'floofer','puppo']].values)\n",
    "    set_dogs = set(dog_stages)\n",
    "    \n",
    "    if len(set_dogs) <= 1:\n",
    "        dog_stage.append(list(set_dogs)[0])\n",
    "\n",
    "    else:\n",
    "        if \"None\" in list(set_dogs) and len(set_dogs) <= 2:\n",
    "            for dog in list(set_dogs):\n",
    "                if dog == \"None\":\n",
    "                    continue\n",
    "                else:\n",
    "                    dog_stage.append(dog)\n",
    "        else:\n",
    "            if 'doggo' in list(set_dogs):\n",
    "                dog_stage.append('doggo')\n",
    "            \n",
    "twitter_archive_clean['dogs_stage'] = dog_stage\n",
    "twitter_archive_clean['dogs_stage'] = twitter_archive_clean['dogs_stage'].apply(str)\n",
    "twitter_archive_clean.drop(['doggo', 'pupper', 'floofer','puppo'], 1, inplace = True)\n",
    "\n",
    "#CODE: Melt the doggo, floofer, pupper and puppo columns to dogs and dogs_stage column\n",
    "#twitter_archive_clean = pd.melt(twitter_archive_clean, id_vars=['tweet_id',                                          \n",
    "#                                                                'timestamp',\n",
    "#                                                                'text',\n",
    "#                                                                'rating_numerator',\n",
    "#                                                                'rating_denominator',\n",
    "#                                                                'name'],\n",
    "#                               var_name='dogs', value_name='dogs_stage')\n",
    "\n",
    "# twitter_archive_clean[(twitter_archive_clean[\"dogs_stage\"] != twitter_archive_clean[\"dogs\"]) & (twitter_archive_clean[\"dogs_stage\"] != \"None\")]\n",
    "\n",
    "# twitter_archive_clean = twitter_archive_clean.drop('dogs', 1)"
   ]
  },
  {
   "cell_type": "code",
   "execution_count": 40,
   "metadata": {},
   "outputs": [
    {
     "name": "stdout",
     "output_type": "stream",
     "text": [
      "<class 'pandas.core.frame.DataFrame'>\n",
      "Int64Index: 2153 entries, 0 to 2355\n",
      "Data columns (total 7 columns):\n",
      " #   Column              Non-Null Count  Dtype              \n",
      "---  ------              --------------  -----              \n",
      " 0   tweet_id            2153 non-null   int64              \n",
      " 1   timestamp           2153 non-null   datetime64[ns, UTC]\n",
      " 2   text                2153 non-null   object             \n",
      " 3   rating_numerator    2153 non-null   float64            \n",
      " 4   rating_denominator  2153 non-null   float64            \n",
      " 5   name                2153 non-null   object             \n",
      " 6   dogs_stage          2153 non-null   object             \n",
      "dtypes: datetime64[ns, UTC](1), float64(2), int64(1), object(3)\n",
      "memory usage: 134.6+ KB\n"
     ]
    }
   ],
   "source": [
    "twitter_archive_clean.info()"
   ]
  },
  {
   "cell_type": "code",
   "execution_count": 41,
   "metadata": {},
   "outputs": [],
   "source": [
    "#CODE: Sort by dogs_stage then drop duplicated based on tweet_id except the last occurrence\n",
    "twitter_archive_clean.drop_duplicates(subset=['tweet_id'], keep = 'last', inplace = True)"
   ]
  },
  {
   "cell_type": "code",
   "execution_count": 42,
   "metadata": {},
   "outputs": [
    {
     "data": {
      "text/plain": [
       "None       1809\n",
       "pupper      224\n",
       "doggo        87\n",
       "puppo        24\n",
       "floofer       9\n",
       "Name: dogs_stage, dtype: int64"
      ]
     },
     "execution_count": 42,
     "metadata": {},
     "output_type": "execute_result"
    }
   ],
   "source": [
    "#TEST\n",
    "twitter_archive_clean['dogs_stage'].value_counts()"
   ]
  },
  {
   "cell_type": "markdown",
   "metadata": {},
   "source": [
    "**7. Wandle die tweet_id in ein `int` Format in `tweet_json`**"
   ]
  },
  {
   "cell_type": "code",
   "execution_count": 43,
   "metadata": {},
   "outputs": [],
   "source": [
    "#Code\n",
    "tweet_json_clean.tweet_id = tweet_json_clean.tweet_id.astype(int)"
   ]
  },
  {
   "cell_type": "code",
   "execution_count": 44,
   "metadata": {},
   "outputs": [
    {
     "name": "stdout",
     "output_type": "stream",
     "text": [
      "<class 'pandas.core.frame.DataFrame'>\n",
      "RangeIndex: 2331 entries, 0 to 2330\n",
      "Data columns (total 5 columns):\n",
      " #   Column            Non-Null Count  Dtype \n",
      "---  ------            --------------  ----- \n",
      " 0   tweet_id          2331 non-null   int64 \n",
      " 1   favorite_count    2331 non-null   int64 \n",
      " 2   retweet_count     2331 non-null   int64 \n",
      " 3   followers_count   2331 non-null   int64 \n",
      " 4   retweeted_status  2331 non-null   object\n",
      "dtypes: int64(4), object(1)\n",
      "memory usage: 91.2+ KB\n"
     ]
    }
   ],
   "source": [
    "#Test\n",
    "tweet_json_clean.info()"
   ]
  },
  {
   "cell_type": "markdown",
   "metadata": {},
   "source": [
    "**8. Lösche alle Retweets und behalte die Originalbewertungen in `tweet_json`**"
   ]
  },
  {
   "cell_type": "code",
   "execution_count": 45,
   "metadata": {},
   "outputs": [],
   "source": [
    "#Code\n",
    "tweet_json_clean = tweet_json_clean[tweet_json_clean[\"retweeted_status\"] == \"Original tweet\"]"
   ]
  },
  {
   "cell_type": "code",
   "execution_count": 46,
   "metadata": {},
   "outputs": [
    {
     "data": {
      "text/plain": [
       "Original tweet    2168\n",
       "Name: retweeted_status, dtype: int64"
      ]
     },
     "execution_count": 46,
     "metadata": {},
     "output_type": "execute_result"
    }
   ],
   "source": [
    "#Test\n",
    "tweet_json_clean.retweeted_status.value_counts()"
   ]
  },
  {
   "cell_type": "markdown",
   "metadata": {},
   "source": [
    "**9. Überarbeite die Spalten der Hunderassen in `image_predictions` so, dass nur Kleinbuchstaben enthalten sind**"
   ]
  },
  {
   "cell_type": "code",
   "execution_count": 47,
   "metadata": {},
   "outputs": [],
   "source": [
    "#Code\n",
    "image_prediction_clean.p1 =image_prediction_clean.p1.str.lower()\n",
    "image_prediction_clean.p2 =image_prediction_clean.p2.str.lower()\n",
    "image_prediction_clean.p3 =image_prediction_clean.p3.str.lower()"
   ]
  },
  {
   "cell_type": "code",
   "execution_count": 48,
   "metadata": {},
   "outputs": [
    {
     "data": {
      "text/html": [
       "<div>\n",
       "<style scoped>\n",
       "    .dataframe tbody tr th:only-of-type {\n",
       "        vertical-align: middle;\n",
       "    }\n",
       "\n",
       "    .dataframe tbody tr th {\n",
       "        vertical-align: top;\n",
       "    }\n",
       "\n",
       "    .dataframe thead th {\n",
       "        text-align: right;\n",
       "    }\n",
       "</style>\n",
       "<table border=\"1\" class=\"dataframe\">\n",
       "  <thead>\n",
       "    <tr style=\"text-align: right;\">\n",
       "      <th></th>\n",
       "      <th>tweet_id</th>\n",
       "      <th>jpg_url</th>\n",
       "      <th>img_num</th>\n",
       "      <th>p1</th>\n",
       "      <th>p1_conf</th>\n",
       "      <th>p1_dog</th>\n",
       "      <th>p2</th>\n",
       "      <th>p2_conf</th>\n",
       "      <th>p2_dog</th>\n",
       "      <th>p3</th>\n",
       "      <th>p3_conf</th>\n",
       "      <th>p3_dog</th>\n",
       "    </tr>\n",
       "  </thead>\n",
       "  <tbody>\n",
       "    <tr>\n",
       "      <th>1399</th>\n",
       "      <td>768596291618299904</td>\n",
       "      <td>https://pbs.twimg.com/media/CqqaPjqWIAAOyNL.jpg</td>\n",
       "      <td>1</td>\n",
       "      <td>great_pyrenees</td>\n",
       "      <td>0.729745</td>\n",
       "      <td>True</td>\n",
       "      <td>golden_retriever</td>\n",
       "      <td>0.237961</td>\n",
       "      <td>True</td>\n",
       "      <td>labrador_retriever</td>\n",
       "      <td>0.020903</td>\n",
       "      <td>True</td>\n",
       "    </tr>\n",
       "    <tr>\n",
       "      <th>1181</th>\n",
       "      <td>738184450748633089</td>\n",
       "      <td>https://pbs.twimg.com/media/Cj6O1G9UYAAIU-1.jpg</td>\n",
       "      <td>1</td>\n",
       "      <td>bedlington_terrier</td>\n",
       "      <td>0.289471</td>\n",
       "      <td>True</td>\n",
       "      <td>standard_poodle</td>\n",
       "      <td>0.173685</td>\n",
       "      <td>True</td>\n",
       "      <td>great_pyrenees</td>\n",
       "      <td>0.157081</td>\n",
       "      <td>True</td>\n",
       "    </tr>\n",
       "    <tr>\n",
       "      <th>723</th>\n",
       "      <td>686007916130873345</td>\n",
       "      <td>https://pbs.twimg.com/media/CYUwjz-UAAEcdi8.jpg</td>\n",
       "      <td>1</td>\n",
       "      <td>rhodesian_ridgeback</td>\n",
       "      <td>0.885301</td>\n",
       "      <td>True</td>\n",
       "      <td>redbone</td>\n",
       "      <td>0.042335</td>\n",
       "      <td>True</td>\n",
       "      <td>seat_belt</td>\n",
       "      <td>0.010493</td>\n",
       "      <td>False</td>\n",
       "    </tr>\n",
       "    <tr>\n",
       "      <th>2040</th>\n",
       "      <td>885167619883638784</td>\n",
       "      <td>https://pbs.twimg.com/media/DEi_N9qXYAAgEEw.jpg</td>\n",
       "      <td>4</td>\n",
       "      <td>malamute</td>\n",
       "      <td>0.812482</td>\n",
       "      <td>True</td>\n",
       "      <td>siberian_husky</td>\n",
       "      <td>0.071712</td>\n",
       "      <td>True</td>\n",
       "      <td>eskimo_dog</td>\n",
       "      <td>0.055770</td>\n",
       "      <td>True</td>\n",
       "    </tr>\n",
       "    <tr>\n",
       "      <th>553</th>\n",
       "      <td>677573743309385728</td>\n",
       "      <td>https://pbs.twimg.com/media/CWc5uVPXIAErLYr.jpg</td>\n",
       "      <td>2</td>\n",
       "      <td>patio</td>\n",
       "      <td>0.535070</td>\n",
       "      <td>False</td>\n",
       "      <td>folding_chair</td>\n",
       "      <td>0.080419</td>\n",
       "      <td>False</td>\n",
       "      <td>parallel_bars</td>\n",
       "      <td>0.034796</td>\n",
       "      <td>False</td>\n",
       "    </tr>\n",
       "    <tr>\n",
       "      <th>1856</th>\n",
       "      <td>841439858740625411</td>\n",
       "      <td>https://pbs.twimg.com/media/C61lFFiWoAAJdiL.jpg</td>\n",
       "      <td>3</td>\n",
       "      <td>military_uniform</td>\n",
       "      <td>0.853684</td>\n",
       "      <td>False</td>\n",
       "      <td>labrador_retriever</td>\n",
       "      <td>0.048200</td>\n",
       "      <td>True</td>\n",
       "      <td>groenendael</td>\n",
       "      <td>0.015394</td>\n",
       "      <td>True</td>\n",
       "    </tr>\n",
       "    <tr>\n",
       "      <th>27</th>\n",
       "      <td>666396247373291520</td>\n",
       "      <td>https://pbs.twimg.com/media/CT-D2ZHWIAA3gK1.jpg</td>\n",
       "      <td>1</td>\n",
       "      <td>chihuahua</td>\n",
       "      <td>0.978108</td>\n",
       "      <td>True</td>\n",
       "      <td>toy_terrier</td>\n",
       "      <td>0.009397</td>\n",
       "      <td>True</td>\n",
       "      <td>papillon</td>\n",
       "      <td>0.004577</td>\n",
       "      <td>True</td>\n",
       "    </tr>\n",
       "    <tr>\n",
       "      <th>286</th>\n",
       "      <td>671151324042559489</td>\n",
       "      <td>https://pbs.twimg.com/media/CVBokRSWsAADuXx.jpg</td>\n",
       "      <td>1</td>\n",
       "      <td>rottweiler</td>\n",
       "      <td>0.781201</td>\n",
       "      <td>True</td>\n",
       "      <td>black-and-tan_coonhound</td>\n",
       "      <td>0.061206</td>\n",
       "      <td>True</td>\n",
       "      <td>kelpie</td>\n",
       "      <td>0.048856</td>\n",
       "      <td>True</td>\n",
       "    </tr>\n",
       "    <tr>\n",
       "      <th>433</th>\n",
       "      <td>674318007229923329</td>\n",
       "      <td>https://pbs.twimg.com/media/CVuopr8WwAExw_T.jpg</td>\n",
       "      <td>1</td>\n",
       "      <td>porcupine</td>\n",
       "      <td>0.846628</td>\n",
       "      <td>False</td>\n",
       "      <td>hamster</td>\n",
       "      <td>0.038136</td>\n",
       "      <td>False</td>\n",
       "      <td>echidna</td>\n",
       "      <td>0.014680</td>\n",
       "      <td>False</td>\n",
       "    </tr>\n",
       "    <tr>\n",
       "      <th>1433</th>\n",
       "      <td>773547596996571136</td>\n",
       "      <td>https://pbs.twimg.com/media/Crwxb5yWgAAX5P_.jpg</td>\n",
       "      <td>1</td>\n",
       "      <td>norwegian_elkhound</td>\n",
       "      <td>0.372202</td>\n",
       "      <td>True</td>\n",
       "      <td>chesapeake_bay_retriever</td>\n",
       "      <td>0.137187</td>\n",
       "      <td>True</td>\n",
       "      <td>malamute</td>\n",
       "      <td>0.071436</td>\n",
       "      <td>True</td>\n",
       "    </tr>\n",
       "    <tr>\n",
       "      <th>611</th>\n",
       "      <td>680115823365742593</td>\n",
       "      <td>https://pbs.twimg.com/media/CXBBurSWMAELewi.jpg</td>\n",
       "      <td>1</td>\n",
       "      <td>pug</td>\n",
       "      <td>0.999365</td>\n",
       "      <td>True</td>\n",
       "      <td>french_bulldog</td>\n",
       "      <td>0.000544</td>\n",
       "      <td>True</td>\n",
       "      <td>boston_bull</td>\n",
       "      <td>0.000028</td>\n",
       "      <td>True</td>\n",
       "    </tr>\n",
       "    <tr>\n",
       "      <th>976</th>\n",
       "      <td>707021089608753152</td>\n",
       "      <td>https://pbs.twimg.com/media/Cc_XtkRW8AEE7Fn.jpg</td>\n",
       "      <td>2</td>\n",
       "      <td>cocker_spaniel</td>\n",
       "      <td>0.559658</td>\n",
       "      <td>True</td>\n",
       "      <td>golden_retriever</td>\n",
       "      <td>0.314673</td>\n",
       "      <td>True</td>\n",
       "      <td>pekinese</td>\n",
       "      <td>0.066672</td>\n",
       "      <td>True</td>\n",
       "    </tr>\n",
       "    <tr>\n",
       "      <th>1364</th>\n",
       "      <td>761371037149827077</td>\n",
       "      <td>https://pbs.twimg.com/tweet_video_thumb/CeBym7...</td>\n",
       "      <td>1</td>\n",
       "      <td>brown_bear</td>\n",
       "      <td>0.713293</td>\n",
       "      <td>False</td>\n",
       "      <td>indian_elephant</td>\n",
       "      <td>0.172844</td>\n",
       "      <td>False</td>\n",
       "      <td>water_buffalo</td>\n",
       "      <td>0.038902</td>\n",
       "      <td>False</td>\n",
       "    </tr>\n",
       "    <tr>\n",
       "      <th>25</th>\n",
       "      <td>666362758909284353</td>\n",
       "      <td>https://pbs.twimg.com/media/CT9lXGsUcAAyUFt.jpg</td>\n",
       "      <td>1</td>\n",
       "      <td>guinea_pig</td>\n",
       "      <td>0.996496</td>\n",
       "      <td>False</td>\n",
       "      <td>skunk</td>\n",
       "      <td>0.002402</td>\n",
       "      <td>False</td>\n",
       "      <td>hamster</td>\n",
       "      <td>0.000461</td>\n",
       "      <td>False</td>\n",
       "    </tr>\n",
       "    <tr>\n",
       "      <th>698</th>\n",
       "      <td>684567543613382656</td>\n",
       "      <td>https://pbs.twimg.com/media/CYASi6FWQAEQMW2.jpg</td>\n",
       "      <td>1</td>\n",
       "      <td>minibus</td>\n",
       "      <td>0.401942</td>\n",
       "      <td>False</td>\n",
       "      <td>llama</td>\n",
       "      <td>0.229145</td>\n",
       "      <td>False</td>\n",
       "      <td>seat_belt</td>\n",
       "      <td>0.209393</td>\n",
       "      <td>False</td>\n",
       "    </tr>\n",
       "    <tr>\n",
       "      <th>1909</th>\n",
       "      <td>852912242202992640</td>\n",
       "      <td>https://pbs.twimg.com/media/C9YnKK3VoAAxn1E.jpg</td>\n",
       "      <td>1</td>\n",
       "      <td>great_dane</td>\n",
       "      <td>0.783765</td>\n",
       "      <td>True</td>\n",
       "      <td>rhodesian_ridgeback</td>\n",
       "      <td>0.114147</td>\n",
       "      <td>True</td>\n",
       "      <td>english_foxhound</td>\n",
       "      <td>0.046440</td>\n",
       "      <td>True</td>\n",
       "    </tr>\n",
       "    <tr>\n",
       "      <th>799</th>\n",
       "      <td>691321916024623104</td>\n",
       "      <td>https://pbs.twimg.com/media/CZgRmk0UcAAxeuQ.jpg</td>\n",
       "      <td>1</td>\n",
       "      <td>rottweiler</td>\n",
       "      <td>0.508981</td>\n",
       "      <td>True</td>\n",
       "      <td>german_shepherd</td>\n",
       "      <td>0.207897</td>\n",
       "      <td>True</td>\n",
       "      <td>kelpie</td>\n",
       "      <td>0.094353</td>\n",
       "      <td>True</td>\n",
       "    </tr>\n",
       "    <tr>\n",
       "      <th>1777</th>\n",
       "      <td>828381636999917570</td>\n",
       "      <td>https://pbs.twimg.com/media/C38Asz1WEAAvzj3.jpg</td>\n",
       "      <td>1</td>\n",
       "      <td>bedlington_terrier</td>\n",
       "      <td>0.392535</td>\n",
       "      <td>True</td>\n",
       "      <td>labrador_retriever</td>\n",
       "      <td>0.089022</td>\n",
       "      <td>True</td>\n",
       "      <td>clumber</td>\n",
       "      <td>0.081800</td>\n",
       "      <td>True</td>\n",
       "    </tr>\n",
       "    <tr>\n",
       "      <th>1723</th>\n",
       "      <td>819924195358416896</td>\n",
       "      <td>https://pbs.twimg.com/ext_tw_video_thumb/81992...</td>\n",
       "      <td>1</td>\n",
       "      <td>bathtub</td>\n",
       "      <td>0.100896</td>\n",
       "      <td>False</td>\n",
       "      <td>shower_curtain</td>\n",
       "      <td>0.091866</td>\n",
       "      <td>False</td>\n",
       "      <td>tub</td>\n",
       "      <td>0.049176</td>\n",
       "      <td>False</td>\n",
       "    </tr>\n",
       "    <tr>\n",
       "      <th>2048</th>\n",
       "      <td>886983233522544640</td>\n",
       "      <td>https://pbs.twimg.com/media/DE8yicJW0AAAvBJ.jpg</td>\n",
       "      <td>2</td>\n",
       "      <td>chihuahua</td>\n",
       "      <td>0.793469</td>\n",
       "      <td>True</td>\n",
       "      <td>toy_terrier</td>\n",
       "      <td>0.143528</td>\n",
       "      <td>True</td>\n",
       "      <td>can_opener</td>\n",
       "      <td>0.032253</td>\n",
       "      <td>False</td>\n",
       "    </tr>\n",
       "  </tbody>\n",
       "</table>\n",
       "</div>"
      ],
      "text/plain": [
       "                tweet_id                                            jpg_url  \\\n",
       "1399  768596291618299904    https://pbs.twimg.com/media/CqqaPjqWIAAOyNL.jpg   \n",
       "1181  738184450748633089    https://pbs.twimg.com/media/Cj6O1G9UYAAIU-1.jpg   \n",
       "723   686007916130873345    https://pbs.twimg.com/media/CYUwjz-UAAEcdi8.jpg   \n",
       "2040  885167619883638784    https://pbs.twimg.com/media/DEi_N9qXYAAgEEw.jpg   \n",
       "553   677573743309385728    https://pbs.twimg.com/media/CWc5uVPXIAErLYr.jpg   \n",
       "1856  841439858740625411    https://pbs.twimg.com/media/C61lFFiWoAAJdiL.jpg   \n",
       "27    666396247373291520    https://pbs.twimg.com/media/CT-D2ZHWIAA3gK1.jpg   \n",
       "286   671151324042559489    https://pbs.twimg.com/media/CVBokRSWsAADuXx.jpg   \n",
       "433   674318007229923329    https://pbs.twimg.com/media/CVuopr8WwAExw_T.jpg   \n",
       "1433  773547596996571136    https://pbs.twimg.com/media/Crwxb5yWgAAX5P_.jpg   \n",
       "611   680115823365742593    https://pbs.twimg.com/media/CXBBurSWMAELewi.jpg   \n",
       "976   707021089608753152    https://pbs.twimg.com/media/Cc_XtkRW8AEE7Fn.jpg   \n",
       "1364  761371037149827077  https://pbs.twimg.com/tweet_video_thumb/CeBym7...   \n",
       "25    666362758909284353    https://pbs.twimg.com/media/CT9lXGsUcAAyUFt.jpg   \n",
       "698   684567543613382656    https://pbs.twimg.com/media/CYASi6FWQAEQMW2.jpg   \n",
       "1909  852912242202992640    https://pbs.twimg.com/media/C9YnKK3VoAAxn1E.jpg   \n",
       "799   691321916024623104    https://pbs.twimg.com/media/CZgRmk0UcAAxeuQ.jpg   \n",
       "1777  828381636999917570    https://pbs.twimg.com/media/C38Asz1WEAAvzj3.jpg   \n",
       "1723  819924195358416896  https://pbs.twimg.com/ext_tw_video_thumb/81992...   \n",
       "2048  886983233522544640    https://pbs.twimg.com/media/DE8yicJW0AAAvBJ.jpg   \n",
       "\n",
       "      img_num                   p1   p1_conf  p1_dog  \\\n",
       "1399        1       great_pyrenees  0.729745    True   \n",
       "1181        1   bedlington_terrier  0.289471    True   \n",
       "723         1  rhodesian_ridgeback  0.885301    True   \n",
       "2040        4             malamute  0.812482    True   \n",
       "553         2                patio  0.535070   False   \n",
       "1856        3     military_uniform  0.853684   False   \n",
       "27          1            chihuahua  0.978108    True   \n",
       "286         1           rottweiler  0.781201    True   \n",
       "433         1            porcupine  0.846628   False   \n",
       "1433        1   norwegian_elkhound  0.372202    True   \n",
       "611         1                  pug  0.999365    True   \n",
       "976         2       cocker_spaniel  0.559658    True   \n",
       "1364        1           brown_bear  0.713293   False   \n",
       "25          1           guinea_pig  0.996496   False   \n",
       "698         1              minibus  0.401942   False   \n",
       "1909        1           great_dane  0.783765    True   \n",
       "799         1           rottweiler  0.508981    True   \n",
       "1777        1   bedlington_terrier  0.392535    True   \n",
       "1723        1              bathtub  0.100896   False   \n",
       "2048        2            chihuahua  0.793469    True   \n",
       "\n",
       "                            p2   p2_conf  p2_dog                  p3  \\\n",
       "1399          golden_retriever  0.237961    True  labrador_retriever   \n",
       "1181           standard_poodle  0.173685    True      great_pyrenees   \n",
       "723                    redbone  0.042335    True           seat_belt   \n",
       "2040            siberian_husky  0.071712    True          eskimo_dog   \n",
       "553              folding_chair  0.080419   False       parallel_bars   \n",
       "1856        labrador_retriever  0.048200    True         groenendael   \n",
       "27                 toy_terrier  0.009397    True            papillon   \n",
       "286    black-and-tan_coonhound  0.061206    True              kelpie   \n",
       "433                    hamster  0.038136   False             echidna   \n",
       "1433  chesapeake_bay_retriever  0.137187    True            malamute   \n",
       "611             french_bulldog  0.000544    True         boston_bull   \n",
       "976           golden_retriever  0.314673    True            pekinese   \n",
       "1364           indian_elephant  0.172844   False       water_buffalo   \n",
       "25                       skunk  0.002402   False             hamster   \n",
       "698                      llama  0.229145   False           seat_belt   \n",
       "1909       rhodesian_ridgeback  0.114147    True    english_foxhound   \n",
       "799            german_shepherd  0.207897    True              kelpie   \n",
       "1777        labrador_retriever  0.089022    True             clumber   \n",
       "1723            shower_curtain  0.091866   False                 tub   \n",
       "2048               toy_terrier  0.143528    True          can_opener   \n",
       "\n",
       "       p3_conf  p3_dog  \n",
       "1399  0.020903    True  \n",
       "1181  0.157081    True  \n",
       "723   0.010493   False  \n",
       "2040  0.055770    True  \n",
       "553   0.034796   False  \n",
       "1856  0.015394    True  \n",
       "27    0.004577    True  \n",
       "286   0.048856    True  \n",
       "433   0.014680   False  \n",
       "1433  0.071436    True  \n",
       "611   0.000028    True  \n",
       "976   0.066672    True  \n",
       "1364  0.038902   False  \n",
       "25    0.000461   False  \n",
       "698   0.209393   False  \n",
       "1909  0.046440    True  \n",
       "799   0.094353    True  \n",
       "1777  0.081800    True  \n",
       "1723  0.049176   False  \n",
       "2048  0.032253   False  "
      ]
     },
     "execution_count": 48,
     "metadata": {},
     "output_type": "execute_result"
    }
   ],
   "source": [
    "#Test\n",
    "image_prediction_clean.sample(20)"
   ]
  },
  {
   "cell_type": "markdown",
   "metadata": {},
   "source": [
    "**10. Lösche alle duplizierten Zeilen (ca. 66) mit Bild in `image_predictions`**"
   ]
  },
  {
   "cell_type": "code",
   "execution_count": 49,
   "metadata": {},
   "outputs": [],
   "source": [
    "#Code\n",
    "image_prediction_clean = image_prediction_clean.drop_duplicates(subset=['jpg_url'], keep='last')"
   ]
  },
  {
   "cell_type": "code",
   "execution_count": 50,
   "metadata": {},
   "outputs": [
    {
     "data": {
      "text/plain": [
       "0"
      ]
     },
     "execution_count": 50,
     "metadata": {},
     "output_type": "execute_result"
    }
   ],
   "source": [
    "#TEST\n",
    "sum(image_prediction_clean['jpg_url'].duplicated())"
   ]
  },
  {
   "cell_type": "markdown",
   "metadata": {},
   "source": [
    "**11. Erstelle einen DataFrame aus den drei bereinigten DataFrames mit Namen `df`**"
   ]
  },
  {
   "cell_type": "code",
   "execution_count": 51,
   "metadata": {},
   "outputs": [],
   "source": [
    "#CODE: Erstellen eines neuen Dataframes df, welches twitter_archive_clean und image_prediction_clean merged\n",
    "df_merge1 = pd.merge(twitter_archive_clean, \n",
    "                      image_prediction_clean, \n",
    "                      how = 'left', on = ['tweet_id'])\n",
    "\n",
    "#keep rows that have picture (jpg_url)\n",
    "df_merge1 = df_merge1[df_merge1['jpg_url'].notnull()]"
   ]
  },
  {
   "cell_type": "code",
   "execution_count": 52,
   "metadata": {},
   "outputs": [
    {
     "name": "stdout",
     "output_type": "stream",
     "text": [
      "<class 'pandas.core.frame.DataFrame'>\n",
      "Int64Index: 1910 entries, 0 to 2152\n",
      "Data columns (total 18 columns):\n",
      " #   Column              Non-Null Count  Dtype              \n",
      "---  ------              --------------  -----              \n",
      " 0   tweet_id            1910 non-null   int64              \n",
      " 1   timestamp           1910 non-null   datetime64[ns, UTC]\n",
      " 2   text                1910 non-null   object             \n",
      " 3   rating_numerator    1910 non-null   float64            \n",
      " 4   rating_denominator  1910 non-null   float64            \n",
      " 5   name                1910 non-null   object             \n",
      " 6   dogs_stage          1910 non-null   object             \n",
      " 7   jpg_url             1910 non-null   object             \n",
      " 8   img_num             1910 non-null   float64            \n",
      " 9   p1                  1910 non-null   object             \n",
      " 10  p1_conf             1910 non-null   float64            \n",
      " 11  p1_dog              1910 non-null   object             \n",
      " 12  p2                  1910 non-null   object             \n",
      " 13  p2_conf             1910 non-null   float64            \n",
      " 14  p2_dog              1910 non-null   object             \n",
      " 15  p3                  1910 non-null   object             \n",
      " 16  p3_conf             1910 non-null   float64            \n",
      " 17  p3_dog              1910 non-null   object             \n",
      "dtypes: datetime64[ns, UTC](1), float64(6), int64(1), object(10)\n",
      "memory usage: 283.5+ KB\n"
     ]
    }
   ],
   "source": [
    "#TEST\n",
    "df_merge1.info()"
   ]
  },
  {
   "cell_type": "code",
   "execution_count": 54,
   "metadata": {},
   "outputs": [],
   "source": [
    "#CODE: Erstellen eines neuen Dataframes df, welches df_twitter und tweet_json_clean merged\n",
    "df = pd.merge(df_merge1, tweet_json_clean, \n",
    "                      how = 'left', on = ['tweet_id'])"
   ]
  },
  {
   "cell_type": "code",
   "execution_count": 56,
   "metadata": {},
   "outputs": [
    {
     "data": {
      "text/html": [
       "<div>\n",
       "<style scoped>\n",
       "    .dataframe tbody tr th:only-of-type {\n",
       "        vertical-align: middle;\n",
       "    }\n",
       "\n",
       "    .dataframe tbody tr th {\n",
       "        vertical-align: top;\n",
       "    }\n",
       "\n",
       "    .dataframe thead th {\n",
       "        text-align: right;\n",
       "    }\n",
       "</style>\n",
       "<table border=\"1\" class=\"dataframe\">\n",
       "  <thead>\n",
       "    <tr style=\"text-align: right;\">\n",
       "      <th></th>\n",
       "      <th>tweet_id</th>\n",
       "      <th>timestamp</th>\n",
       "      <th>text</th>\n",
       "      <th>rating_numerator</th>\n",
       "      <th>rating_denominator</th>\n",
       "      <th>name</th>\n",
       "      <th>dogs_stage</th>\n",
       "      <th>jpg_url</th>\n",
       "      <th>img_num</th>\n",
       "      <th>p1</th>\n",
       "      <th>...</th>\n",
       "      <th>p2</th>\n",
       "      <th>p2_conf</th>\n",
       "      <th>p2_dog</th>\n",
       "      <th>p3</th>\n",
       "      <th>p3_conf</th>\n",
       "      <th>p3_dog</th>\n",
       "      <th>favorite_count</th>\n",
       "      <th>retweet_count</th>\n",
       "      <th>followers_count</th>\n",
       "      <th>retweeted_status</th>\n",
       "    </tr>\n",
       "  </thead>\n",
       "  <tbody>\n",
       "    <tr>\n",
       "      <th>0</th>\n",
       "      <td>892420643555336193</td>\n",
       "      <td>2017-08-01 16:23:56+00:00</td>\n",
       "      <td>This is Phineas. He's a mystical boy. Only eve...</td>\n",
       "      <td>13.0</td>\n",
       "      <td>10.0</td>\n",
       "      <td>Phineas</td>\n",
       "      <td>None</td>\n",
       "      <td>https://pbs.twimg.com/media/DGKD1-bXoAAIAUK.jpg</td>\n",
       "      <td>1.0</td>\n",
       "      <td>orange</td>\n",
       "      <td>...</td>\n",
       "      <td>bagel</td>\n",
       "      <td>0.085851</td>\n",
       "      <td>False</td>\n",
       "      <td>banana</td>\n",
       "      <td>0.076110</td>\n",
       "      <td>False</td>\n",
       "      <td>35908.0</td>\n",
       "      <td>7624.0</td>\n",
       "      <td>8808438.0</td>\n",
       "      <td>Original tweet</td>\n",
       "    </tr>\n",
       "    <tr>\n",
       "      <th>1</th>\n",
       "      <td>892177421306343426</td>\n",
       "      <td>2017-08-01 00:17:27+00:00</td>\n",
       "      <td>This is Tilly. She's just checking pup on you....</td>\n",
       "      <td>13.0</td>\n",
       "      <td>10.0</td>\n",
       "      <td>Tilly</td>\n",
       "      <td>None</td>\n",
       "      <td>https://pbs.twimg.com/media/DGGmoV4XsAAUL6n.jpg</td>\n",
       "      <td>1.0</td>\n",
       "      <td>chihuahua</td>\n",
       "      <td>...</td>\n",
       "      <td>pekinese</td>\n",
       "      <td>0.090647</td>\n",
       "      <td>True</td>\n",
       "      <td>papillon</td>\n",
       "      <td>0.068957</td>\n",
       "      <td>True</td>\n",
       "      <td>30982.0</td>\n",
       "      <td>5644.0</td>\n",
       "      <td>8808438.0</td>\n",
       "      <td>Original tweet</td>\n",
       "    </tr>\n",
       "    <tr>\n",
       "      <th>2</th>\n",
       "      <td>891815181378084864</td>\n",
       "      <td>2017-07-31 00:18:03+00:00</td>\n",
       "      <td>This is Archie. He is a rare Norwegian Pouncin...</td>\n",
       "      <td>12.0</td>\n",
       "      <td>10.0</td>\n",
       "      <td>Archie</td>\n",
       "      <td>None</td>\n",
       "      <td>https://pbs.twimg.com/media/DGBdLU1WsAANxJ9.jpg</td>\n",
       "      <td>1.0</td>\n",
       "      <td>chihuahua</td>\n",
       "      <td>...</td>\n",
       "      <td>malamute</td>\n",
       "      <td>0.078253</td>\n",
       "      <td>True</td>\n",
       "      <td>kelpie</td>\n",
       "      <td>0.031379</td>\n",
       "      <td>True</td>\n",
       "      <td>23309.0</td>\n",
       "      <td>3736.0</td>\n",
       "      <td>8808438.0</td>\n",
       "      <td>Original tweet</td>\n",
       "    </tr>\n",
       "    <tr>\n",
       "      <th>3</th>\n",
       "      <td>891689557279858688</td>\n",
       "      <td>2017-07-30 15:58:51+00:00</td>\n",
       "      <td>This is Darla. She commenced a snooze mid meal...</td>\n",
       "      <td>13.0</td>\n",
       "      <td>10.0</td>\n",
       "      <td>Darla</td>\n",
       "      <td>None</td>\n",
       "      <td>https://pbs.twimg.com/media/DF_q7IAWsAEuuN8.jpg</td>\n",
       "      <td>1.0</td>\n",
       "      <td>paper_towel</td>\n",
       "      <td>...</td>\n",
       "      <td>labrador_retriever</td>\n",
       "      <td>0.168086</td>\n",
       "      <td>True</td>\n",
       "      <td>spatula</td>\n",
       "      <td>0.040836</td>\n",
       "      <td>False</td>\n",
       "      <td>39189.0</td>\n",
       "      <td>7790.0</td>\n",
       "      <td>8808437.0</td>\n",
       "      <td>Original tweet</td>\n",
       "    </tr>\n",
       "    <tr>\n",
       "      <th>4</th>\n",
       "      <td>891327558926688256</td>\n",
       "      <td>2017-07-29 16:00:24+00:00</td>\n",
       "      <td>This is Franklin. He would like you to stop ca...</td>\n",
       "      <td>12.0</td>\n",
       "      <td>10.0</td>\n",
       "      <td>Franklin</td>\n",
       "      <td>None</td>\n",
       "      <td>https://pbs.twimg.com/media/DF6hr6BUMAAzZgT.jpg</td>\n",
       "      <td>2.0</td>\n",
       "      <td>basset</td>\n",
       "      <td>...</td>\n",
       "      <td>english_springer</td>\n",
       "      <td>0.225770</td>\n",
       "      <td>True</td>\n",
       "      <td>german_short-haired_pointer</td>\n",
       "      <td>0.175219</td>\n",
       "      <td>True</td>\n",
       "      <td>37440.0</td>\n",
       "      <td>8392.0</td>\n",
       "      <td>8808438.0</td>\n",
       "      <td>Original tweet</td>\n",
       "    </tr>\n",
       "  </tbody>\n",
       "</table>\n",
       "<p>5 rows × 22 columns</p>\n",
       "</div>"
      ],
      "text/plain": [
       "             tweet_id                 timestamp  \\\n",
       "0  892420643555336193 2017-08-01 16:23:56+00:00   \n",
       "1  892177421306343426 2017-08-01 00:17:27+00:00   \n",
       "2  891815181378084864 2017-07-31 00:18:03+00:00   \n",
       "3  891689557279858688 2017-07-30 15:58:51+00:00   \n",
       "4  891327558926688256 2017-07-29 16:00:24+00:00   \n",
       "\n",
       "                                                text  rating_numerator  \\\n",
       "0  This is Phineas. He's a mystical boy. Only eve...              13.0   \n",
       "1  This is Tilly. She's just checking pup on you....              13.0   \n",
       "2  This is Archie. He is a rare Norwegian Pouncin...              12.0   \n",
       "3  This is Darla. She commenced a snooze mid meal...              13.0   \n",
       "4  This is Franklin. He would like you to stop ca...              12.0   \n",
       "\n",
       "   rating_denominator      name dogs_stage  \\\n",
       "0                10.0   Phineas       None   \n",
       "1                10.0     Tilly       None   \n",
       "2                10.0    Archie       None   \n",
       "3                10.0     Darla       None   \n",
       "4                10.0  Franklin       None   \n",
       "\n",
       "                                           jpg_url  img_num           p1  ...  \\\n",
       "0  https://pbs.twimg.com/media/DGKD1-bXoAAIAUK.jpg      1.0       orange  ...   \n",
       "1  https://pbs.twimg.com/media/DGGmoV4XsAAUL6n.jpg      1.0    chihuahua  ...   \n",
       "2  https://pbs.twimg.com/media/DGBdLU1WsAANxJ9.jpg      1.0    chihuahua  ...   \n",
       "3  https://pbs.twimg.com/media/DF_q7IAWsAEuuN8.jpg      1.0  paper_towel  ...   \n",
       "4  https://pbs.twimg.com/media/DF6hr6BUMAAzZgT.jpg      2.0       basset  ...   \n",
       "\n",
       "                   p2   p2_conf p2_dog                           p3   p3_conf  \\\n",
       "0               bagel  0.085851  False                       banana  0.076110   \n",
       "1            pekinese  0.090647   True                     papillon  0.068957   \n",
       "2            malamute  0.078253   True                       kelpie  0.031379   \n",
       "3  labrador_retriever  0.168086   True                      spatula  0.040836   \n",
       "4    english_springer  0.225770   True  german_short-haired_pointer  0.175219   \n",
       "\n",
       "  p3_dog  favorite_count retweet_count  followers_count  retweeted_status  \n",
       "0  False         35908.0        7624.0        8808438.0    Original tweet  \n",
       "1   True         30982.0        5644.0        8808438.0    Original tweet  \n",
       "2   True         23309.0        3736.0        8808438.0    Original tweet  \n",
       "3  False         39189.0        7790.0        8808437.0    Original tweet  \n",
       "4   True         37440.0        8392.0        8808438.0    Original tweet  \n",
       "\n",
       "[5 rows x 22 columns]"
      ]
     },
     "execution_count": 56,
     "metadata": {},
     "output_type": "execute_result"
    }
   ],
   "source": [
    "#Test\n",
    "df.head()"
   ]
  },
  {
   "cell_type": "code",
   "execution_count": 57,
   "metadata": {},
   "outputs": [
    {
     "name": "stdout",
     "output_type": "stream",
     "text": [
      "<class 'pandas.core.frame.DataFrame'>\n",
      "Int64Index: 1910 entries, 0 to 1909\n",
      "Data columns (total 22 columns):\n",
      " #   Column              Non-Null Count  Dtype              \n",
      "---  ------              --------------  -----              \n",
      " 0   tweet_id            1910 non-null   int64              \n",
      " 1   timestamp           1910 non-null   datetime64[ns, UTC]\n",
      " 2   text                1910 non-null   object             \n",
      " 3   rating_numerator    1910 non-null   float64            \n",
      " 4   rating_denominator  1910 non-null   float64            \n",
      " 5   name                1910 non-null   object             \n",
      " 6   dogs_stage          1910 non-null   object             \n",
      " 7   jpg_url             1910 non-null   object             \n",
      " 8   img_num             1910 non-null   float64            \n",
      " 9   p1                  1910 non-null   object             \n",
      " 10  p1_conf             1910 non-null   float64            \n",
      " 11  p1_dog              1910 non-null   object             \n",
      " 12  p2                  1910 non-null   object             \n",
      " 13  p2_conf             1910 non-null   float64            \n",
      " 14  p2_dog              1910 non-null   object             \n",
      " 15  p3                  1910 non-null   object             \n",
      " 16  p3_conf             1910 non-null   float64            \n",
      " 17  p3_dog              1910 non-null   object             \n",
      " 18  favorite_count      1904 non-null   float64            \n",
      " 19  retweet_count       1904 non-null   float64            \n",
      " 20  followers_count     1904 non-null   float64            \n",
      " 21  retweeted_status    1904 non-null   object             \n",
      "dtypes: datetime64[ns, UTC](1), float64(9), int64(1), object(11)\n",
      "memory usage: 343.2+ KB\n"
     ]
    }
   ],
   "source": [
    "df.info()"
   ]
  },
  {
   "cell_type": "markdown",
   "metadata": {},
   "source": [
    "**12. Nenne die Spalte text in tweet_text um im Dataframe `df`**"
   ]
  },
  {
   "cell_type": "code",
   "execution_count": 58,
   "metadata": {},
   "outputs": [],
   "source": [
    "#CODE\n",
    "df.rename(columns={'text': 'tweet_text'}, inplace=True)"
   ]
  },
  {
   "cell_type": "code",
   "execution_count": 59,
   "metadata": {},
   "outputs": [
    {
     "data": {
      "text/plain": [
       "Index(['tweet_id', 'timestamp', 'tweet_text', 'rating_numerator',\n",
       "       'rating_denominator', 'name', 'dogs_stage', 'jpg_url', 'img_num', 'p1',\n",
       "       'p1_conf', 'p1_dog', 'p2', 'p2_conf', 'p2_dog', 'p3', 'p3_conf',\n",
       "       'p3_dog', 'favorite_count', 'retweet_count', 'followers_count',\n",
       "       'retweeted_status'],\n",
       "      dtype='object')"
      ]
     },
     "execution_count": 59,
     "metadata": {},
     "output_type": "execute_result"
    }
   ],
   "source": [
    "#TEST\n",
    "df.columns"
   ]
  },
  {
   "cell_type": "markdown",
   "metadata": {},
   "source": [
    "**13. Outlier Rating_numerator erkennen und droppen, mit Hilfe der IQR**"
   ]
  },
  {
   "cell_type": "code",
   "execution_count": 60,
   "metadata": {},
   "outputs": [
    {
     "data": {
      "text/plain": [
       "681     1776.0\n",
       "1638     420.0\n",
       "271       14.0\n",
       "350       14.0\n",
       "21        14.0\n",
       "         ...  \n",
       "1442       1.0\n",
       "1818       1.0\n",
       "1655       1.0\n",
       "233        0.0\n",
       "711        0.0\n",
       "Name: rating_numerator, Length: 1910, dtype: float64"
      ]
     },
     "execution_count": 60,
     "metadata": {},
     "output_type": "execute_result"
    }
   ],
   "source": [
    "df.rating_numerator.sort_values(ascending=False)"
   ]
  },
  {
   "cell_type": "code",
   "execution_count": 61,
   "metadata": {},
   "outputs": [
    {
     "name": "stdout",
     "output_type": "stream",
     "text": [
      "Untere Grenze:  7.0 , Obere Grenze:  15.0\n"
     ]
    }
   ],
   "source": [
    "# CODE - Detect Outlier\n",
    "Q1 = df.rating_numerator.quantile(0.25)\n",
    "Q3 = df.rating_numerator.quantile(0.75)\n",
    "IQR = float(Q3 - Q1)\n",
    "lower_bound = float(Q1 - 1.5 * IQR)\n",
    "upper_bound = float(Q3 + 1.5 * IQR)\n",
    "print('Untere Grenze: ' , lower_bound, ', Obere Grenze: ', upper_bound)"
   ]
  },
  {
   "cell_type": "code",
   "execution_count": 62,
   "metadata": {},
   "outputs": [],
   "source": [
    "IQR_out = df.rating_numerator[((df.rating_numerator < lower_bound)\n",
    "                               |(df.rating_numerator > upper_bound))]"
   ]
  },
  {
   "cell_type": "code",
   "execution_count": 63,
   "metadata": {},
   "outputs": [
    {
     "data": {
      "text/plain": [
       "233        0.0\n",
       "711        0.0\n",
       "1818       1.0\n",
       "1655       1.0\n",
       "1442       1.0\n",
       "         ...  \n",
       "1664       6.0\n",
       "1369       6.0\n",
       "1906       6.0\n",
       "1638     420.0\n",
       "681     1776.0\n",
       "Name: rating_numerator, Length: 115, dtype: float64"
      ]
     },
     "execution_count": 63,
     "metadata": {},
     "output_type": "execute_result"
    }
   ],
   "source": [
    "IQR_out.sort_values()"
   ]
  },
  {
   "cell_type": "code",
   "execution_count": 64,
   "metadata": {},
   "outputs": [],
   "source": [
    "IQR_numerator = df.rating_numerator[~((df.rating_numerator < lower_bound)\n",
    "                               |(df.rating_numerator > upper_bound))]"
   ]
  },
  {
   "cell_type": "code",
   "execution_count": 65,
   "metadata": {},
   "outputs": [
    {
     "data": {
      "text/plain": [
       "1908     7.0\n",
       "1340     7.0\n",
       "1329     7.0\n",
       "1745     7.0\n",
       "1321     7.0\n",
       "        ... \n",
       "129     14.0\n",
       "592     14.0\n",
       "35      14.0\n",
       "144     14.0\n",
       "350     14.0\n",
       "Name: rating_numerator, Length: 1795, dtype: float64"
      ]
     },
     "execution_count": 65,
     "metadata": {},
     "output_type": "execute_result"
    }
   ],
   "source": [
    "IQR_numerator.sort_values()"
   ]
  },
  {
   "cell_type": "code",
   "execution_count": 66,
   "metadata": {},
   "outputs": [],
   "source": [
    "# CODE - Delete Outliers\n",
    "df.loc[(df.rating_numerator < lower_bound), 'rating_numerator'] = lower_bound\n",
    "df.loc[(df.rating_numerator > upper_bound), 'rating_numerator'] = upper_bound"
   ]
  },
  {
   "cell_type": "code",
   "execution_count": 67,
   "metadata": {},
   "outputs": [
    {
     "data": {
      "text/plain": [
       "1265     7.0\n",
       "1744     7.0\n",
       "1327     7.0\n",
       "1742     7.0\n",
       "1329     7.0\n",
       "        ... \n",
       "436     14.0\n",
       "637     14.0\n",
       "94      14.0\n",
       "1638    15.0\n",
       "681     15.0\n",
       "Name: rating_numerator, Length: 1910, dtype: float64"
      ]
     },
     "execution_count": 67,
     "metadata": {},
     "output_type": "execute_result"
    }
   ],
   "source": [
    "# TEST\n",
    "df.rating_numerator.sort_values()"
   ]
  },
  {
   "cell_type": "markdown",
   "metadata": {},
   "source": [
    "**FRAGE: Hat es Sinn gemacht, hier die vermeintlichen Outlier rauszuschmeißen?**"
   ]
  },
  {
   "cell_type": "markdown",
   "metadata": {},
   "source": [
    "# ÜBUNG ENDE\n",
    "![purple-divider](https://user-images.githubusercontent.com/7065401/52071927-c1cd7100-2562-11e9-908a-dde91ba14e59.png)"
   ]
  },
  {
   "cell_type": "markdown",
   "metadata": {},
   "source": [
    "## Speichern, Analysieren und Visualisieren der Daten\n",
    "\n",
    "Ein kleiner Ausblick in die Übung 5, bei der es dann um die Visualisierung von Daten geht."
   ]
  },
  {
   "cell_type": "code",
   "execution_count": 68,
   "metadata": {},
   "outputs": [],
   "source": [
    "#Speichern der twitter_dogs df in eine CSV Datei\n",
    "df.to_csv('twitter_archive_master.csv', encoding='utf-8', index=False)"
   ]
  },
  {
   "cell_type": "code",
   "execution_count": 69,
   "metadata": {},
   "outputs": [
    {
     "name": "stdout",
     "output_type": "stream",
     "text": [
      "<class 'pandas.core.frame.DataFrame'>\n",
      "Int64Index: 1910 entries, 0 to 1909\n",
      "Data columns (total 22 columns):\n",
      " #   Column              Non-Null Count  Dtype              \n",
      "---  ------              --------------  -----              \n",
      " 0   tweet_id            1910 non-null   int64              \n",
      " 1   timestamp           1910 non-null   datetime64[ns, UTC]\n",
      " 2   tweet_text          1910 non-null   object             \n",
      " 3   rating_numerator    1910 non-null   float64            \n",
      " 4   rating_denominator  1910 non-null   float64            \n",
      " 5   name                1910 non-null   object             \n",
      " 6   dogs_stage          1910 non-null   object             \n",
      " 7   jpg_url             1910 non-null   object             \n",
      " 8   img_num             1910 non-null   float64            \n",
      " 9   p1                  1910 non-null   object             \n",
      " 10  p1_conf             1910 non-null   float64            \n",
      " 11  p1_dog              1910 non-null   object             \n",
      " 12  p2                  1910 non-null   object             \n",
      " 13  p2_conf             1910 non-null   float64            \n",
      " 14  p2_dog              1910 non-null   object             \n",
      " 15  p3                  1910 non-null   object             \n",
      " 16  p3_conf             1910 non-null   float64            \n",
      " 17  p3_dog              1910 non-null   object             \n",
      " 18  favorite_count      1904 non-null   float64            \n",
      " 19  retweet_count       1904 non-null   float64            \n",
      " 20  followers_count     1904 non-null   float64            \n",
      " 21  retweeted_status    1904 non-null   object             \n",
      "dtypes: datetime64[ns, UTC](1), float64(9), int64(1), object(11)\n",
      "memory usage: 343.2+ KB\n"
     ]
    }
   ],
   "source": [
    "df.info()"
   ]
  },
  {
   "cell_type": "code",
   "execution_count": 70,
   "metadata": {},
   "outputs": [
    {
     "data": {
      "text/html": [
       "<div>\n",
       "<style scoped>\n",
       "    .dataframe tbody tr th:only-of-type {\n",
       "        vertical-align: middle;\n",
       "    }\n",
       "\n",
       "    .dataframe tbody tr th {\n",
       "        vertical-align: top;\n",
       "    }\n",
       "\n",
       "    .dataframe thead tr th {\n",
       "        text-align: left;\n",
       "    }\n",
       "\n",
       "    .dataframe thead tr:last-of-type th {\n",
       "        text-align: right;\n",
       "    }\n",
       "</style>\n",
       "<table border=\"1\" class=\"dataframe\">\n",
       "  <thead>\n",
       "    <tr>\n",
       "      <th></th>\n",
       "      <th colspan=\"8\" halign=\"left\">tweet_id</th>\n",
       "      <th colspan=\"2\" halign=\"left\">rating_numerator</th>\n",
       "      <th>...</th>\n",
       "      <th colspan=\"2\" halign=\"left\">retweet_count</th>\n",
       "      <th colspan=\"8\" halign=\"left\">followers_count</th>\n",
       "    </tr>\n",
       "    <tr>\n",
       "      <th></th>\n",
       "      <th>count</th>\n",
       "      <th>mean</th>\n",
       "      <th>std</th>\n",
       "      <th>min</th>\n",
       "      <th>25%</th>\n",
       "      <th>50%</th>\n",
       "      <th>75%</th>\n",
       "      <th>max</th>\n",
       "      <th>count</th>\n",
       "      <th>mean</th>\n",
       "      <th>...</th>\n",
       "      <th>75%</th>\n",
       "      <th>max</th>\n",
       "      <th>count</th>\n",
       "      <th>mean</th>\n",
       "      <th>std</th>\n",
       "      <th>min</th>\n",
       "      <th>25%</th>\n",
       "      <th>50%</th>\n",
       "      <th>75%</th>\n",
       "      <th>max</th>\n",
       "    </tr>\n",
       "    <tr>\n",
       "      <th>dogs_stage</th>\n",
       "      <th></th>\n",
       "      <th></th>\n",
       "      <th></th>\n",
       "      <th></th>\n",
       "      <th></th>\n",
       "      <th></th>\n",
       "      <th></th>\n",
       "      <th></th>\n",
       "      <th></th>\n",
       "      <th></th>\n",
       "      <th></th>\n",
       "      <th></th>\n",
       "      <th></th>\n",
       "      <th></th>\n",
       "      <th></th>\n",
       "      <th></th>\n",
       "      <th></th>\n",
       "      <th></th>\n",
       "      <th></th>\n",
       "      <th></th>\n",
       "      <th></th>\n",
       "    </tr>\n",
       "  </thead>\n",
       "  <tbody>\n",
       "    <tr>\n",
       "      <th>None</th>\n",
       "      <td>1615.0</td>\n",
       "      <td>7.336256e+17</td>\n",
       "      <td>6.831415e+16</td>\n",
       "      <td>6.660209e+17</td>\n",
       "      <td>6.744137e+17</td>\n",
       "      <td>7.054760e+17</td>\n",
       "      <td>7.848442e+17</td>\n",
       "      <td>8.924206e+17</td>\n",
       "      <td>1615.0</td>\n",
       "      <td>10.604031</td>\n",
       "      <td>...</td>\n",
       "      <td>2451.00</td>\n",
       "      <td>40231.0</td>\n",
       "      <td>1609.0</td>\n",
       "      <td>8.808543e+06</td>\n",
       "      <td>76.993591</td>\n",
       "      <td>8808437.0</td>\n",
       "      <td>8808458.0</td>\n",
       "      <td>8808535.0</td>\n",
       "      <td>8808641.0</td>\n",
       "      <td>8808654.0</td>\n",
       "    </tr>\n",
       "    <tr>\n",
       "      <th>doggo</th>\n",
       "      <td>68.0</td>\n",
       "      <td>7.969264e+17</td>\n",
       "      <td>4.447709e+16</td>\n",
       "      <td>7.160809e+17</td>\n",
       "      <td>7.561963e+17</td>\n",
       "      <td>8.005667e+17</td>\n",
       "      <td>8.299182e+17</td>\n",
       "      <td>8.902403e+17</td>\n",
       "      <td>68.0</td>\n",
       "      <td>11.720588</td>\n",
       "      <td>...</td>\n",
       "      <td>4049.75</td>\n",
       "      <td>76922.0</td>\n",
       "      <td>68.0</td>\n",
       "      <td>8.808474e+06</td>\n",
       "      <td>35.010180</td>\n",
       "      <td>8808437.0</td>\n",
       "      <td>8808453.0</td>\n",
       "      <td>8808456.0</td>\n",
       "      <td>8808527.0</td>\n",
       "      <td>8808532.0</td>\n",
       "    </tr>\n",
       "    <tr>\n",
       "      <th>floofer</th>\n",
       "      <td>7.0</td>\n",
       "      <td>7.665514e+17</td>\n",
       "      <td>6.284733e+16</td>\n",
       "      <td>6.853075e+17</td>\n",
       "      <td>7.356341e+17</td>\n",
       "      <td>7.493170e+17</td>\n",
       "      <td>7.883032e+17</td>\n",
       "      <td>8.833607e+17</td>\n",
       "      <td>7.0</td>\n",
       "      <td>12.000000</td>\n",
       "      <td>...</td>\n",
       "      <td>3867.50</td>\n",
       "      <td>15939.0</td>\n",
       "      <td>7.0</td>\n",
       "      <td>8.808499e+06</td>\n",
       "      <td>44.526611</td>\n",
       "      <td>8808442.0</td>\n",
       "      <td>8808456.5</td>\n",
       "      <td>8808528.0</td>\n",
       "      <td>8808530.5</td>\n",
       "      <td>8808546.0</td>\n",
       "    </tr>\n",
       "    <tr>\n",
       "      <th>pupper</th>\n",
       "      <td>199.0</td>\n",
       "      <td>7.176574e+17</td>\n",
       "      <td>5.551243e+16</td>\n",
       "      <td>6.721600e+17</td>\n",
       "      <td>6.799393e+17</td>\n",
       "      <td>6.932629e+17</td>\n",
       "      <td>7.360072e+17</td>\n",
       "      <td>8.863661e+17</td>\n",
       "      <td>199.0</td>\n",
       "      <td>10.644573</td>\n",
       "      <td>...</td>\n",
       "      <td>1979.00</td>\n",
       "      <td>32630.0</td>\n",
       "      <td>199.0</td>\n",
       "      <td>8.808545e+06</td>\n",
       "      <td>59.251653</td>\n",
       "      <td>8808437.0</td>\n",
       "      <td>8808530.0</td>\n",
       "      <td>8808541.0</td>\n",
       "      <td>8808549.5</td>\n",
       "      <td>8808646.0</td>\n",
       "    </tr>\n",
       "    <tr>\n",
       "      <th>puppo</th>\n",
       "      <td>21.0</td>\n",
       "      <td>8.098559e+17</td>\n",
       "      <td>5.155348e+16</td>\n",
       "      <td>7.385375e+17</td>\n",
       "      <td>7.562758e+17</td>\n",
       "      <td>8.037733e+17</td>\n",
       "      <td>8.596078e+17</td>\n",
       "      <td>8.896654e+17</td>\n",
       "      <td>21.0</td>\n",
       "      <td>12.000000</td>\n",
       "      <td>...</td>\n",
       "      <td>5697.00</td>\n",
       "      <td>43371.0</td>\n",
       "      <td>21.0</td>\n",
       "      <td>8.808472e+06</td>\n",
       "      <td>37.102753</td>\n",
       "      <td>8808437.0</td>\n",
       "      <td>8808444.0</td>\n",
       "      <td>8808456.0</td>\n",
       "      <td>8808526.0</td>\n",
       "      <td>8808530.0</td>\n",
       "    </tr>\n",
       "  </tbody>\n",
       "</table>\n",
       "<p>5 rows × 80 columns</p>\n",
       "</div>"
      ],
      "text/plain": [
       "           tweet_id                                                          \\\n",
       "              count          mean           std           min           25%   \n",
       "dogs_stage                                                                    \n",
       "None         1615.0  7.336256e+17  6.831415e+16  6.660209e+17  6.744137e+17   \n",
       "doggo          68.0  7.969264e+17  4.447709e+16  7.160809e+17  7.561963e+17   \n",
       "floofer         7.0  7.665514e+17  6.284733e+16  6.853075e+17  7.356341e+17   \n",
       "pupper        199.0  7.176574e+17  5.551243e+16  6.721600e+17  6.799393e+17   \n",
       "puppo          21.0  8.098559e+17  5.155348e+16  7.385375e+17  7.562758e+17   \n",
       "\n",
       "                                                     rating_numerator  \\\n",
       "                     50%           75%           max            count   \n",
       "dogs_stage                                                              \n",
       "None        7.054760e+17  7.848442e+17  8.924206e+17           1615.0   \n",
       "doggo       8.005667e+17  8.299182e+17  8.902403e+17             68.0   \n",
       "floofer     7.493170e+17  7.883032e+17  8.833607e+17              7.0   \n",
       "pupper      6.932629e+17  7.360072e+17  8.863661e+17            199.0   \n",
       "puppo       8.037733e+17  8.596078e+17  8.896654e+17             21.0   \n",
       "\n",
       "                       ... retweet_count          followers_count  \\\n",
       "                 mean  ...           75%      max           count   \n",
       "dogs_stage             ...                                          \n",
       "None        10.604031  ...       2451.00  40231.0          1609.0   \n",
       "doggo       11.720588  ...       4049.75  76922.0            68.0   \n",
       "floofer     12.000000  ...       3867.50  15939.0             7.0   \n",
       "pupper      10.644573  ...       1979.00  32630.0           199.0   \n",
       "puppo       12.000000  ...       5697.00  43371.0            21.0   \n",
       "\n",
       "                                                                      \\\n",
       "                    mean        std        min        25%        50%   \n",
       "dogs_stage                                                             \n",
       "None        8.808543e+06  76.993591  8808437.0  8808458.0  8808535.0   \n",
       "doggo       8.808474e+06  35.010180  8808437.0  8808453.0  8808456.0   \n",
       "floofer     8.808499e+06  44.526611  8808442.0  8808456.5  8808528.0   \n",
       "pupper      8.808545e+06  59.251653  8808437.0  8808530.0  8808541.0   \n",
       "puppo       8.808472e+06  37.102753  8808437.0  8808444.0  8808456.0   \n",
       "\n",
       "                                  \n",
       "                  75%        max  \n",
       "dogs_stage                        \n",
       "None        8808641.0  8808654.0  \n",
       "doggo       8808527.0  8808532.0  \n",
       "floofer     8808530.5  8808546.0  \n",
       "pupper      8808549.5  8808646.0  \n",
       "puppo       8808526.0  8808530.0  \n",
       "\n",
       "[5 rows x 80 columns]"
      ]
     },
     "execution_count": 70,
     "metadata": {},
     "output_type": "execute_result"
    }
   ],
   "source": [
    "dog_stages = df.groupby(\"dogs_stage\")\n",
    "dog_stages.describe()"
   ]
  },
  {
   "cell_type": "code",
   "execution_count": 71,
   "metadata": {},
   "outputs": [
    {
     "data": {
      "image/png": "[encoded data removed]",
      "text/plain": [
       "<Figure size 720x720 with 1 Axes>"
      ]
     },
     "metadata": {
      "needs_background": "light"
     },
     "output_type": "display_data"
    }
   ],
   "source": [
    "plt.figure(figsize=(10,10))\n",
    "g = sns.boxplot(x='dogs_stage',y='retweet_count',data= df,palette='rainbow')\n",
    "g.axes.set_title('Boxplot dog stages and retweet', fontsize=14);"
   ]
  },
  {
   "cell_type": "markdown",
   "metadata": {},
   "source": [
    "Doggo stages has huge outliers, there needs to be more investigation to see why this happens at the doggo stages, besides that puppos have on average the most retweets followed by doggo and floofer"
   ]
  },
  {
   "cell_type": "code",
   "execution_count": 72,
   "metadata": {},
   "outputs": [
    {
     "data": {
      "image/png": "[encoded data removed]",
      "text/plain": [
       "<Figure size 432x288 with 1 Axes>"
      ]
     },
     "metadata": {
      "needs_background": "light"
     },
     "output_type": "display_data"
    }
   ],
   "source": [
    "df.plot(y='retweet_count', x='rating_numerator', kind='scatter')\n",
    "plt.xlabel('Ratings')\n",
    "plt.ylabel('Retweet Counts')\n",
    "plt.title('Retweet Counts by Ratings Scatter Plot')\n",
    "\n",
    "fig = plt.gcf()"
   ]
  },
  {
   "cell_type": "markdown",
   "metadata": {},
   "source": [
    "As seen here, the better the rating the more retweets happened the most retweets happend between 12-14"
   ]
  },
  {
   "cell_type": "code",
   "execution_count": 73,
   "metadata": {},
   "outputs": [
    {
     "data": {
      "image/png": "[encoded data removed]",
      "text/plain": [
       "<Figure size 432x288 with 1 Axes>"
      ]
     },
     "metadata": {
      "needs_background": "light"
     },
     "output_type": "display_data"
    }
   ],
   "source": [
    "df_dog_type = df.groupby('p1').filter(lambda x: len(x) >= 25)\n",
    "\n",
    "df_dog_type['p1'].value_counts().plot(kind = 'barh')\n",
    "plt.title('Histogram of the Most Rated Dog Type')\n",
    "plt.xlabel('Count')\n",
    "plt.ylabel('Type of dog')\n",
    "\n",
    "fig = plt.gcf() \n",
    "fig.savefig('output.png',bbox_inches='tight');"
   ]
  },
  {
   "cell_type": "code",
   "execution_count": 74,
   "metadata": {},
   "outputs": [
    {
     "data": {
      "text/plain": [
       "golden_retriever      124\n",
       "pembroke               87\n",
       "labrador_retriever     87\n",
       "chihuahua              75\n",
       "pug                    52\n",
       "pomeranian             38\n",
       "chow                   38\n",
       "samoyed                37\n",
       "toy_poodle             37\n",
       "malamute               28\n",
       "french_bulldog         26\n",
       "Name: p1, dtype: int64"
      ]
     },
     "execution_count": 74,
     "metadata": {},
     "output_type": "execute_result"
    }
   ],
   "source": [
    "dog_types_count = df_dog_type.p1.value_counts()\n",
    "dog_types_avg_rating = df_dog_type.groupby('p1').rating_numerator.mean()\n",
    "\n",
    "df_dog_type.p1.value_counts()"
   ]
  },
  {
   "cell_type": "code",
   "execution_count": 75,
   "metadata": {},
   "outputs": [
    {
     "data": {
      "image/png": "[encoded data removed]",
      "text/plain": [
       "<Figure size 720x720 with 1 Axes>"
      ]
     },
     "metadata": {
      "needs_background": "light"
     },
     "output_type": "display_data"
    }
   ],
   "source": [
    "plt.figure(figsize = (10, 10))\n",
    "plt.plot(df.timestamp,df.favorite_count, marker = 'o', linestyle = '', ms = 2)\n",
    "plt.title('Favorite tweet over year')\n",
    "plt.xlabel('Date')\n",
    "plt.ylabel('Fovorite Count')\n",
    "plt.show()"
   ]
  },
  {
   "cell_type": "code",
   "execution_count": 76,
   "metadata": {},
   "outputs": [
    {
     "data": {
      "image/png": "[encoded data removed]",
      "text/plain": [
       "<Figure size 720x720 with 1 Axes>"
      ]
     },
     "metadata": {
      "needs_background": "light"
     },
     "output_type": "display_data"
    }
   ],
   "source": [
    "plt.figure(figsize = (10, 10))\n",
    "plt.plot(df.timestamp,df.retweet_count, marker = 'o', linestyle = '', ms = 2)\n",
    "plt.title('Retweets over year')\n",
    "plt.xlabel('Date')\n",
    "plt.ylabel('Retweets Count')\n",
    "plt.show()"
   ]
  }
 ],
 "metadata": {
  "kernelspec": {
   "display_name": "Python 3 (ipykernel)",
   "language": "python",
   "name": "python3"
  },
  "language_info": {
   "codemirror_mode": {
    "name": "ipython",
    "version": 3
   },
   "file_extension": ".py",
   "mimetype": "text/x-python",
   "name": "python",
   "nbconvert_exporter": "python",
   "pygments_lexer": "ipython3",
   "version": "3.9.12"
  }
 },
 "nbformat": 4,
 "nbformat_minor": 4
}

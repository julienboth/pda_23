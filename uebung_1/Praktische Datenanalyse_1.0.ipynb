{
 "cells": [
  {
   "cell_type": "markdown",
   "id": "3a104ab6-0806-4831-ba55-092696670e71",
   "metadata": {},
   "source": [
    "# HOW TO: Wie Installiere ich GIT und kann dieses Notebook öffnen"
   ]
  },
  {
   "cell_type": "markdown",
   "id": "cb1c0a76-5115-4d5c-9cdf-98ebaabb4b88",
   "metadata": {},
   "source": [
    "Wir werden alle unsere Übungen mit Git bearbeiten. Dies wird euch helfen, sobald ihr nicht mehr alleine an einem Projekt arbeitet oder ihr euren Code versionieren wollt (btw das solltet ihr IMMER machen). GitHub ist eine opensource Plattform, die es uns einfach ermöglicht eigene Repositories (Versionierte Ordner) zu hosten. Dazu müsst ihr, falls ihr noch keinen Account habt dort einen Account erstellen."
   ]
  },
  {
   "cell_type": "markdown",
   "id": "4413cb62-6bec-4d3c-85a6-e149e7b6b763",
   "metadata": {},
   "source": [
    "**DISCLAIMER**\n",
    "\n",
    "**Wir zeigen euch 2 Wege zur Installation von GIT. Entweder nutzt ihr den GitHub Client, der eine Graphische Oberfläche hat oder ihr nutzt das Git Command Line Interface (kurz CLI), mit dem ihr über die Kommandozeile alles machen könnt, was auch mit dem GitHub Client funktioniert. Wer noch nie mit einem Terminal gearbeitet hat sollte der Client Installation folgen und später mit dem GitHub Client arbeiten.**\n"
   ]
  },
  {
   "cell_type": "markdown",
   "id": "390e27c9-9cee-49b0-8b5a-a4ad477b9adb",
   "metadata": {
    "tags": []
   },
   "source": [
    "## Schritt 1 Anmelden bei GitHub"
   ]
  },
  {
   "cell_type": "markdown",
   "id": "d714c145-9ff2-4147-88c8-a6092357d4cd",
   "metadata": {},
   "source": [
    "a) Account auf Github erstellen [Anmeldung](https://github.com/signup?ref_cta=Sign+up&ref_loc=header+logged+out&ref_page=%2F%3Cuser-name%3E%2F%3Crepo-name%3E&source=header-repo&source_repo=julienboth%2Fpda)"
   ]
  },
  {
   "cell_type": "markdown",
   "id": "c8274838-1019-4256-b8f6-e23bb7c8dd48",
   "metadata": {},
   "source": [
    "---"
   ]
  },
  {
   "cell_type": "markdown",
   "id": "1d91d6dd-493a-4394-bf70-99efa9956374",
   "metadata": {
    "tags": []
   },
   "source": [
    "## Schritt 2 Installieren Git Client oder Git CLI\n"
   ]
  },
  {
   "cell_type": "markdown",
   "id": "bb4e54bf-e1dc-48ef-8aa7-0b10c0ceceb0",
   "metadata": {
    "tags": []
   },
   "source": [
    "### Github Client"
   ]
  },
  {
   "cell_type": "markdown",
   "id": "eedcf89e-c9af-4e86-897a-82fadb8fe430",
   "metadata": {},
   "source": [
    "a) Download des Github Clients [Link to the Github client for Mac and Windows](https://desktop.github.com/)."
   ]
  },
  {
   "cell_type": "markdown",
   "id": "d5cd5dbe-4e72-4ea8-b0bd-18bc30db1889",
   "metadata": {
    "tags": []
   },
   "source": [
    "### Git CLI"
   ]
  },
  {
   "cell_type": "markdown",
   "id": "6802a356-73b3-42ec-999d-f89ec8e0c0ce",
   "metadata": {},
   "source": [
    "\n",
    "Öffne dein Terminal und gebe den folgenden Befehl ein:\n",
    "\n",
    "a) Dieser Befehl zeigt dir welche Version von Git installiert wurde\n",
    "\n",
    "```bash\n",
    "    git --version\n",
    "    \n",
    "    #Erfolgsmeldung: z.B.: git version 2.34.1\n",
    "    #Misserfolgmeldung zsh: command not found: git\n",
    "```\n",
    "\n",
    "Wenn du Git nicht vorher installiert hast, installiere Git mit dem Package Manager deiner Wahl oder solltest du einen Windows Rechner haben, kannst du auch gerne dieser Installation folgen [Install Git auf Windows](https://zarkom.net/blogs/how-to-install-git-and-git-bash-on-windows-9140)\n",
    "\n",
    "Mac zum Beispiel mit Homebrew\n",
    "```bash\n",
    "    brew install git \n",
    "```"
   ]
  },
  {
   "cell_type": "markdown",
   "id": "cf7ca72e-c90b-4c1a-a893-ac1dbb60763a",
   "metadata": {},
   "source": [
    "b) Die beiden Befehle sind notwendig, damit jeder weiß wer welchen Commit gesetzt hat\n",
    "\n",
    "```bash\n",
    "    git config --global user.name \"Your Name\"\n",
    "    git config --global user.email \"your@email.com\"\n",
    "```"
   ]
  },
  {
   "cell_type": "markdown",
   "id": "3cf18f22-9eaa-4e51-aa0e-c0e3262aa17c",
   "metadata": {},
   "source": [
    "c) Damit wir eine Verbindung mit einem remote Repository brauchen müssen wir eine Secure Shell Verbindung mit GitHub aufbauen, dafür müssen wir uns einen SSH Key generieren und den bei GitHub hinterlegen. Setup SSH connection [Gute Anleitung](https://docs.github.com/en/authentication/connecting-to-github-with-ssh/generating-a-new-ssh-key-and-adding-it-to-the-ssh-agent)\n",
    "\n",
    "Gib folgenden Befehl im Terminal ein\n",
    "```bash\n",
    "ssh-keygen -t rsa -b 4096\n",
    "```\n",
    " - Folge der Anleitung im Terminal. Speicher den SSH Key in dem Ordner /User/jbh/.ssh/  (eventuell musst du den .ssh Ordner erst noch anlegen) und vergebe einen Namen für den Key z.B.: *id_github*. Gebe gerne ein passphrase an und merke ihn dir.\n",
    " - Wechsel in den Ordner und öffne den id_github.pub key mit dem Editor deiner Wahl zum Beispiel nano oder vim und kopiere den key.\n",
    " - Gehe in die GitHub Account Settings [LINK](https://github.com/settings/keys) klicke auf New SSH key und füge den Key dort ein\n",
    "\n"
   ]
  },
  {
   "cell_type": "markdown",
   "id": "b66a9bb4-9e47-4cf0-8155-c73ca00af121",
   "metadata": {},
   "source": [
    "<div>\n",
    "<img src=\"./src/ssh_key.png\" width=\"800\"/>\n",
    "</div>\n"
   ]
  },
  {
   "cell_type": "markdown",
   "id": "6c926bdb-57b3-4043-a837-a486c301660c",
   "metadata": {},
   "source": [
    "Letzter Schritt, füge deinen Key mit ss-add in den SSH Agent hinzu. Nutze dazu den Pfad zu deinem Privat Key\n",
    "\n",
    "\n",
    "```bash\n",
    "   ssh-add path/to/key\n",
    "```\n",
    "\n",
    "Beispiel: \n",
    "\n",
    "```bash\n",
    "   ssh-add/User/jbh/.ssh/id_github\n",
    "```"
   ]
  },
  {
   "cell_type": "markdown",
   "id": "ad2deeca-de52-43dd-adc2-fb546f2d7494",
   "metadata": {},
   "source": [
    "---"
   ]
  },
  {
   "cell_type": "markdown",
   "id": "277cb7f4-b772-41a0-b9eb-703aeeb2d58d",
   "metadata": {},
   "source": [
    "## Schritt 3 \"Download\" the repo and make a local copy"
   ]
  },
  {
   "cell_type": "markdown",
   "id": "ffa4e301-ad5f-48ab-af2c-cfa9dce8fc92",
   "metadata": {},
   "source": [
    "Go to the following Website [Repository Praktische Datenanalyse](https://github.com/julienboth/pda)"
   ]
  },
  {
   "cell_type": "markdown",
   "id": "af7bacc2-f056-400c-83aa-67a475ff3597",
   "metadata": {},
   "source": [
    "### Github Client\n",
    "\n",
    "Öffne deine Github Client und clicke auf Clone Repository\n",
    "\n",
    "<div>\n",
    "<img src=\"./src/3.0_githubclient_clone_repo.png\" width=\"800\"/>\n",
    "</div>\n"
   ]
  },
  {
   "cell_type": "markdown",
   "id": "d0f376d0-c61c-4416-b7b0-831ff1658b79",
   "metadata": {},
   "source": [
    "Nun gehe auf den Reiter URL und gib folgende URL ein: julienboth/pda und wähle den lokalen Pfad, in dem du das Repository speichern möchtest. Danach klicke auf Clone. Fertig das Remote Repository ist nun auf deinem Laptop gecloned.\n",
    "\n",
    "<div>\n",
    "<img src=\"./src/3.1_githubclient_clone_repo.png\" width=\"800\"/>\n",
    "</div>\n"
   ]
  },
  {
   "cell_type": "markdown",
   "id": "dea69c20-b053-4fd1-a485-533bf70f3337",
   "metadata": {},
   "source": [
    "### Git CLI"
   ]
  },
  {
   "cell_type": "markdown",
   "id": "2dbc7ee2-6a2a-4fad-a359-7b08b281c0c3",
   "metadata": {},
   "source": [
    "Verwende dein Terminal und gehe in den Ordner, in den du das Repository speichern möchtest\n",
    "Zum Beispiel \"~/Documents/98_Lecture/pda_leuphana\". Dort gibst du dann folgenden Befehl ein:\n",
    "\n",
    "```bash\n",
    "git clone git@github.com:julienboth/pda.git\n",
    "```"
   ]
  },
  {
   "cell_type": "markdown",
   "id": "02d899cc-ef0c-4fdd-b016-84dffaf7362e",
   "metadata": {},
   "source": [
    "<div>\n",
    "<img src=\"./src/git clone befehl.png\" width=\"800\"/>\n",
    "</div>\n"
   ]
  },
  {
   "cell_type": "markdown",
   "id": "75169540-12a9-4d5c-85f4-d838a609903c",
   "metadata": {},
   "source": [
    "Folge den Instructions im Terminal. Danach sollte das Repository in deinem Ordner erstellt worden sein"
   ]
  },
  {
   "cell_type": "markdown",
   "id": "2e8590eb-7fc7-4a48-aecc-1959c6142617",
   "metadata": {},
   "source": [
    "---"
   ]
  },
  {
   "cell_type": "markdown",
   "id": "199ff5f9-4e43-46f9-b83a-6a48b155e61d",
   "metadata": {},
   "source": [
    "## Schritt 4 Erstelle einen Branch mit deinem Namen"
   ]
  },
  {
   "cell_type": "markdown",
   "id": "27121af0-ba2a-47bf-a9e2-5f115006a192",
   "metadata": {
    "tags": []
   },
   "source": [
    "### Github Client"
   ]
  },
  {
   "cell_type": "markdown",
   "id": "fec2f868-8ac0-4e46-b1b8-c7e3e3974dd9",
   "metadata": {},
   "source": [
    "Ein Branch erstellst du, damit du dort an den Themen arbeiten kannst, ohne am Master Branch etwas zu verändern. Wir nutzen dieses Prinzip in unserer Übung, damit du ungestört an den Themen arbeiten und trotzdem die neuen Übungen konsequent herunterladen kannst. Gehe dazu einfach oben im Kontextmenü auf Branch und dann auf New Branch. Benenne den Brach gerne nach folgendem Schema *vorname_nachname*\n",
    "\n",
    "<div>\n",
    "<img src=\"./src/4.1_githubclient_branch.png\" width=\"800\"/>\n",
    "</div>"
   ]
  },
  {
   "cell_type": "markdown",
   "id": "14af2bde-cfba-4dca-8604-30c53e2c0924",
   "metadata": {
    "tags": []
   },
   "source": [
    "### Git CLI"
   ]
  },
  {
   "cell_type": "markdown",
   "id": "add75969-5c37-4cfa-b898-67831cface73",
   "metadata": {},
   "source": [
    "Ein Branch erstellst du, damit du dort an den Themen arbeiten kannst, ohne am master branch etwas zu verändern. Wir nutzen das in der Übung, damit du ungestört an den Themen arbeiten kannst und trotzdem die neuen Übungen konsequent herunterladen kannst.\n",
    "\n",
    "```bash\n",
    "git branch vorname_nachname\n",
    "```"
   ]
  },
  {
   "cell_type": "markdown",
   "id": "497af9ee-4e4a-4750-ace3-87e1555fe9f0",
   "metadata": {},
   "source": [
    "Als nächstes musst du noch in den Branch wechseln. Dies solltest du jedes mal machen, wenn du anfängst zu programmieren. Achte stehts darauf, dass du in dem Branch bist bevor du deine Änderungen stagest, committest und pushed.\n",
    "\n",
    "```bash\n",
    "git checkout vorname_nachname\n",
    "```"
   ]
  },
  {
   "cell_type": "markdown",
   "id": "35e68f0c-aa6e-4fdf-b5fc-3bac8d7280a9",
   "metadata": {},
   "source": [
    "---"
   ]
  },
  {
   "cell_type": "markdown",
   "id": "4e773691-7dd6-459a-8014-67f8d26205bb",
   "metadata": {},
   "source": [
    "## Schritt 5 Updaten des Repos"
   ]
  },
  {
   "cell_type": "markdown",
   "id": "b48d4fdd-4f38-47ca-a066-23037f2ed9ea",
   "metadata": {},
   "source": [
    "<div>\n",
    "<img src=\"./src/git_workflow.png\" width=\"800\"/>\n",
    "</div>"
   ]
  },
  {
   "cell_type": "markdown",
   "id": "6586baf3-5d75-42ff-9bf4-52e31965ba69",
   "metadata": {},
   "source": [
    "Sobald neue Übungsunterlagen vorhanden sind, kannst du mit einem git pull die aktuellen Änderungen von dem remote Server herunterladen und in deinen localen workspace schreiben"
   ]
  },
  {
   "cell_type": "markdown",
   "id": "d05317b4-256c-40d7-82d2-7a68fd88af98",
   "metadata": {},
   "source": [
    "### Github Client"
   ]
  },
  {
   "cell_type": "markdown",
   "id": "3484d3f1-2d82-480b-9467-34de8bbed28d",
   "metadata": {},
   "source": [
    "Dazu gehst du in deinen GitHub Client und gehst in das entsprechende Repository. In dem Fall pda und klickst auf **Fetch origin**, damit aktualisiert der Local Client und guckt ob es etwas Neues in dem Remote Repository gibt. In dem Fall hat er eine Änderung gesehen. Nun klickst du auf **Pull origin** und dein Repository hat die neusten Änderungen.\n",
    "\n",
    "<div>\n",
    "<img src=\"./src/githubclient_pull.png\" width=\"800\"/>\n",
    "</div>"
   ]
  },
  {
   "cell_type": "markdown",
   "id": "d3f50133-5e5b-4933-b682-ed0bdb018ef7",
   "metadata": {},
   "source": [
    "### Git CLI"
   ]
  },
  {
   "cell_type": "markdown",
   "id": "b134bfb0-df68-4663-a72c-feca3d0669f6",
   "metadata": {},
   "source": [
    " Dazu musst du in das Verzeichnis wechseln und dort einfach folgenden Befehl eingeben. Die Remote Änderungen werden dann in dein lokales Repository in dem jeweiligen Branch heruntergeladen. Klassischerweise in den Main Branch.\n",
    "\n",
    "\n",
    "```bash\n",
    "git pull\n",
    "```"
   ]
  },
  {
   "cell_type": "markdown",
   "id": "0ba1331b-1fbd-47f7-a065-d3b833662288",
   "metadata": {},
   "source": [
    "---"
   ]
  },
  {
   "cell_type": "markdown",
   "id": "fb2277a2-bb70-41c7-99ef-c9e4acade005",
   "metadata": {},
   "source": [
    "## Schritt 6 Änderungen speichern"
   ]
  },
  {
   "cell_type": "markdown",
   "id": "095826e0-d85a-4828-9563-f17ee8ba3e98",
   "metadata": {},
   "source": [
    "Der Standard workflow sieht wie folgt aus: \n",
    "1. Wechsel in deinen branch mit **checkout *vorname_nachname***\n",
    "1. Änderungen mit **git status** anzeigen lassen\n",
    "1. Änderungen an den Dateien mit **git add *Pfad zur Datei*** in den Index speichern\n",
    "1. Änderungen aus dem Index mit **git commit -m \"Beschreibung des Commits\"** speichern\n",
    "1. Lokale Änderungen mit **git push** auf den Remote Server pushen"
   ]
  },
  {
   "cell_type": "markdown",
   "id": "47cd75af-1cf5-4534-9930-44a3933bea8d",
   "metadata": {},
   "source": [
    "Hier ein Beispiel in der CLI wie der workflow aussehen kann\n",
    "\n",
    "Nach deinen gesamten Änderungen gibst du *git status ein* und siehst, dass einige Änderungen modifiziert sind, das heißt diese waren schon im Repo vorher und wurden nur verändert und einige sind noch untracked, d.h. diese sind neu hinzugekommen.\n",
    "<div>\n",
    "<img src=\"./src/git_status.png\" width=\"600\"/>\n",
    "</div>\n",
    "\n",
    "Mit einem *git add .* fügst du alle Veränderungen am Repo in deinem Branch in den Index\n",
    "<div>\n",
    "<img src=\"./src/git_add.png\" width=\"600\"/>\n",
    "</div>\n",
    "\n",
    "Danach sehen die Änderungen grün aus und es wird beschrieben was verändert wurde\n",
    "<div>\n",
    "<img src=\"./src/git_status2.png\" width=\"600\"/>\n",
    "</div>\n",
    "\n",
    "Wenn du damit zufrieden bist kannst du nun mit einem *git commit -m \"updated Übung1\"* einen Commit setzen, damit hast du diesen Commit (diese Version) in deinem lokalen Repository gesetzt und könntest jeder Zeit auf diese Version zurückspringen\n",
    "<div>\n",
    "<img src=\"./src/git_commit.png\" width=\"600\"/>\n",
    "</div>\n",
    "\n",
    "Um deine Veränderungen nun noch auf den Remote Server zu pushen nutzt du einfach *git push*\n",
    "<div>\n",
    "<img src=\"./src/git_push.png\" width=\"600\"/>\n",
    "</div>\n",
    "\n"
   ]
  },
  {
   "cell_type": "markdown",
   "id": "46819cf6-f134-4683-9bea-641beead7b44",
   "metadata": {},
   "source": [
    "---"
   ]
  },
  {
   "cell_type": "markdown",
   "id": "6e9f721f-19ec-4ab3-a106-ef191e6fe4f0",
   "metadata": {},
   "source": [
    "## Schritt 7 Änderungen vom remote Server holen (bei neuen Übungen)"
   ]
  },
  {
   "cell_type": "markdown",
   "id": "0f5a1827-b0f5-438e-9469-0169f638fde6",
   "metadata": {},
   "source": [
    "Wenn du neue Dateien in dein Repository holen willst, kannst du mit einem git pull diese Änderungen vom Remote Repository in dein lokales Repository ziehen. Dazu solltest du in deinem derzeitigen Repository sein.\n",
    "\n",
    "```bash\n",
    "git pull\n",
    "```"
   ]
  },
  {
   "cell_type": "markdown",
   "id": "4bc5113b-b729-4402-8254-cf2f62d834ac",
   "metadata": {},
   "source": [
    "## Weitere Informationen\n",
    "\n",
    "\n",
    "### Wichtige Befehle, die wir aber erst einmal nicht brauchen werden\n",
    "\n",
    "\n",
    "To see all the commits that were made for our project, you can use the following command:\n",
    "```bash\n",
    "git log\n",
    "```\n",
    "\n",
    "You can merge branches in situations where you want to implement the code changes that you made in an individual branch to a different branch.\n",
    "For example, after you fully implemented and tested a new feature in your code, you would want to merge those changes to the stable branch of your project (which is usually the default master branch).\n",
    "\n",
    "To merge the changes from a different branch into your current branch, you can use this command:\n",
    "```bash\n",
    "git merge <branch-name>\n",
    "```   \n",
    "    \n",
    "Shows the differences between master and your local version\n",
    "```bash\n",
    "git diff \n",
    "```"
   ]
  },
  {
   "cell_type": "markdown",
   "id": "339b1f54-6a6c-44b5-b95f-f4788336120a",
   "metadata": {},
   "source": [
    "### Weiterführende Links\n",
    "\n",
    "- Git workflow info [Link](https://developpaper.com/git-git-can-learn-this/)\n",
    "- Git official documentation: [](https://git-scm.com/doc)[https://git-scm.com/doc](https://git-scm.com/doc)\n",
    "- The free **Pro Git** book: [](https://git-scm.com/book/en/v2)[https://git-scm.com/book/en/v2](https://git-scm.com/book/en/v2)\n",
    "- Learn about GitHub: [](https://guides.github.com/)[https://guides.github.com/](https://guides.github.com/)\n",
    "- Cat git [Link](https://girliemac.com/blog/2017/12/26/git-purr/)\n",
    "- [Learn git branching](https://learngitbranching.js.org/)\n",
    "- [Install Git auf Windows](https://zarkom.net/blogs/how-to-install-git-and-git-bash-on-windows-9140)\n"
   ]
  }
 ],
 "metadata": {
  "kernelspec": {
   "display_name": "Python 3 (ipykernel)",
   "language": "python",
   "name": "python3"
  },
  "language_info": {
   "codemirror_mode": {
    "name": "ipython",
    "version": 3
   },
   "file_extension": ".py",
   "mimetype": "text/x-python",
   "name": "python",
   "nbconvert_exporter": "python",
   "pygments_lexer": "ipython3",
   "version": "3.9.12"
  }
 },
 "nbformat": 4,
 "nbformat_minor": 5
}

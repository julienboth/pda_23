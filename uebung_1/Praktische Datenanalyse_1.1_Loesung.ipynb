{
 "cells": [
  {
   "cell_type": "markdown",
   "metadata": {},
   "source": [
    "# Euer erstes Notebook zur praktischen Datenanalyse"
   ]
  },
  {
   "cell_type": "markdown",
   "metadata": {},
   "source": [
    "In der ersten Übung würde ich Euch gerne mit den Basisfunktionalitäten eines Jupyter Notebooks vertraut machen."
   ]
  },
  {
   "cell_type": "markdown",
   "metadata": {},
   "source": [
    "Aber zuerst einmal die **Packages**, die wir für unsere weitere Erarbeitung brauchen. Eine Code-Zelle kann entweder mit dem Button \"RUN\" oder mit der Tastenkombination `Shift` + `Enter` ausgeführt werden."
   ]
  },
  {
   "cell_type": "code",
   "execution_count": 5,
   "metadata": {},
   "outputs": [],
   "source": [
    "from IPython.display import Image\n",
    "import time, sys"
   ]
  },
  {
   "cell_type": "markdown",
   "metadata": {},
   "source": [
    "Vorab  einmal ein CheatSheet von Edureka, welches wir Euch für die weiteren Erarbeitungen ans Herz legen kann.\n",
    "\n",
    "![Image](./src/Jupyter_Notebook_CheatSheet_Edureka.PNG)"
   ]
  },
  {
   "cell_type": "markdown",
   "metadata": {
    "tags": []
   },
   "source": [
    "## Keyboard-Navigation"
   ]
  },
  {
   "cell_type": "markdown",
   "metadata": {
    "tags": []
   },
   "source": [
    "Die Benutzeroberfläche des Jupyter Notebooks ist für eine effiziente Tastaturnutzung optimiert. Dies wird durch zwei verschiedene Arten von Tastaturkürzeln ermöglicht, im **Bearbeitungs-** und im **Befehlsmoduls**.\n",
    "\n",
    "Die wichtigsten Tastaturkürzel sind `ENTER` (Aktiviert Bearbeitungsmodus) und `ESC` (Aktiviert Befehlsmodus).\n",
    "\n",
    "Im **Bearbeitungsmodus** ist der größte Teil der Tastatur für die Eingabe in den Editor der Zelle vorgesehen. Daher gibt es im Bearbeitungsmodus relativ wenige Tastenkombinationen. \n",
    "\n",
    "Im **Befehlsmodus** steht die gesamte Tastatur für Tastenkombinationen zur Verfügung."
   ]
  },
  {
   "cell_type": "markdown",
   "metadata": {},
   "source": [
    "---"
   ]
  },
  {
   "cell_type": "markdown",
   "metadata": {},
   "source": [
    "Wichtigste Befehle in beiden **Modi**:\n",
    "\n",
    "1. `Shift` + `Enter` zur Ausführung aktueller Zelle und selektieren der nächsten\n",
    "2. `Ctrl` + `Enter` zur Ausführung selektierter Zellen\n",
    "3. `Alt` + `Enter` zur Ausführung aktueller Zelle und einfügen einer nachfolgenden Zelle "
   ]
  },
  {
   "cell_type": "markdown",
   "metadata": {},
   "source": [
    "---"
   ]
  },
  {
   "cell_type": "markdown",
   "metadata": {},
   "source": [
    "Wichtigste Befehle im **Befehlsmoduls**:\n",
    "\n",
    "1. `UP` + `K` zur Selektion zur vorherigen Zelle\n",
    "2. `Down` + `J` zur Selektion zur nächsten Zelle\n",
    "3. `Shift` + `Up` zur erweiterten Selektion der vorherigen Zelle\n",
    "4. `Shift` + `Down` zur erweiterten Selektion der nachsten Zelle\n",
    "5. `A` zum Hinzufügen einer vorherigen Zelle\n",
    "6. `B` zum Hinzufügen einer nachfolgenden Zelle\n",
    "7. `X` zum Ausschneiden selektierter Zelle(n)\n",
    "8. `C` zum Kopieren selektierter Zelle(n)\n",
    "9. `V` zum Einfügen kopierter Zelle(n)\n",
    "10. `D` + `D` zum Entfernen einer Zelle\n",
    "11. `S` zum Speichern des Notebooks\n",
    "12. `Y` zum Ändern des Zelltypen zu Typ `Code`\n",
    "13. `M` zum Ändern des Zelltypen zu Typ `Markdown`\n",
    "14. `Space` zum Scrollen des Notebooks nach unten\n",
    "15. `Shift` + `Space` zum Scrollen des Notebooks nach oben"
   ]
  },
  {
   "cell_type": "markdown",
   "metadata": {},
   "source": [
    "---"
   ]
  },
  {
   "cell_type": "markdown",
   "metadata": {},
   "source": [
    "Wichtigste Befehle im **Bearbeitungsmodus**:\n",
    "\n",
    "1. `Tab` für Codevollendung oder Einzurücken\n",
    "2. `Ctrl` + `A` um allen Inhalt einer Zelle zu selektieren\n",
    "3. `Ctrl` + `Z` Aktion rückgänging machen\n",
    "\n",
    "Alle weiteren Kurzbefehle sind ähnlich zu Programmen wie `Word`, z. B. das Springen zum nächsten `Wort`."
   ]
  },
  {
   "cell_type": "markdown",
   "metadata": {},
   "source": [
    "## Kernel-Operationen"
   ]
  },
  {
   "cell_type": "markdown",
   "metadata": {},
   "source": [
    "In erster Linie ist das Jupyter Notebook eine interaktive Umgebung zum Schreiben und Ausführen von Code. Das Notebook ist in der Lage, Code in einer breiten Palette von Sprachen auszuführen. Allerdings ist jedes Notebook mit einem **einzigen Kernel** verbunden. Dieses Notebook ist mit dem IPython-Kernel verknüpft, führt also Code in der Programmiersprache Python aus.\n",
    "\n",
    "![Image](./src/python-kernel.PNG)"
   ]
  },
  {
   "cell_type": "markdown",
   "metadata": {},
   "source": [
    "## Codezellen ermöglichen die Eingabe und Ausführung von Code"
   ]
  },
  {
   "cell_type": "markdown",
   "metadata": {},
   "source": [
    "Führen Sie eine Codezelle aus, indem Sie die **Shift-Enter** drücken oder auf die **Schaltfläche \"Run\"** in der Symbolleiste oben klicken:\n"
   ]
  },
  {
   "cell_type": "code",
   "execution_count": 6,
   "metadata": {},
   "outputs": [],
   "source": [
    "a = 10"
   ]
  },
  {
   "cell_type": "code",
   "execution_count": 7,
   "metadata": {},
   "outputs": [
    {
     "name": "stdout",
     "output_type": "stream",
     "text": [
      "10\n"
     ]
    }
   ],
   "source": [
    "print(a)"
   ]
  },
  {
   "cell_type": "markdown",
   "metadata": {},
   "source": [
    "## Ausführen der Codezellen ist asynchron\n",
    "\n",
    "Die gesamte Ausgabe wird **nahe Echtzeit** aktualisiert, während sie im Kernel erzeugt wird. Wenn Sie die nächste Zelle ausführen, sehen Sie die Ausgabe Stück für Stück, nicht alles am Ende."
   ]
  },
  {
   "cell_type": "code",
   "execution_count": 8,
   "metadata": {},
   "outputs": [
    {
     "name": "stdout",
     "output_type": "stream",
     "text": [
      "0\n",
      "1\n",
      "2\n",
      "3\n",
      "4\n",
      "5\n",
      "6\n",
      "7\n"
     ]
    }
   ],
   "source": [
    "for i in range(8):\n",
    "    print(i)\n",
    "    time.sleep(0.5)"
   ]
  },
  {
   "cell_type": "markdown",
   "metadata": {},
   "source": [
    "Um große Ausgaben besser handhaben zu können, kann der Ausgabebereich eingeklappt werden. Führen Sie die folgende Zelle aus und klicken Sie dann einfach oder doppelt auf den aktiven Bereich links neben dem Ausgang:"
   ]
  },
  {
   "cell_type": "code",
   "execution_count": 9,
   "metadata": {
    "scrolled": true,
    "tags": []
   },
   "outputs": [
    {
     "name": "stdout",
     "output_type": "stream",
     "text": [
      "0\n",
      "1\n",
      "2\n",
      "3\n",
      "4\n",
      "5\n",
      "6\n",
      "7\n",
      "8\n",
      "9\n",
      "10\n",
      "11\n",
      "12\n",
      "13\n",
      "14\n",
      "15\n",
      "16\n",
      "17\n",
      "18\n",
      "19\n",
      "20\n",
      "21\n",
      "22\n",
      "23\n",
      "24\n",
      "25\n",
      "26\n",
      "27\n",
      "28\n",
      "29\n",
      "30\n",
      "31\n",
      "32\n",
      "33\n",
      "34\n",
      "35\n",
      "36\n",
      "37\n",
      "38\n",
      "39\n",
      "40\n",
      "41\n",
      "42\n",
      "43\n",
      "44\n",
      "45\n",
      "46\n",
      "47\n",
      "48\n",
      "49\n"
     ]
    }
   ],
   "source": [
    "for i in range(50):\n",
    "    print(i)"
   ]
  },
  {
   "cell_type": "markdown",
   "metadata": {
    "tags": []
   },
   "source": [
    "## Markdown-Zellen"
   ]
  },
  {
   "cell_type": "markdown",
   "metadata": {},
   "source": [
    "Text kann in Jupyter-Notebooks mithilfe von Markdown-Zellen hinzugefügt werden. \n",
    "\n",
    "> Markdown ist eine leichtgewichtige Markup-Sprache zur Erstellung von formatiertem Text mit einem einfachen Texteditor.\n",
    "\n",
    "Der Zelltyp kann über das Menü **Zelle**, die Symbolleiste oder das Tastenkürzel `m` in Markdown geändert werden. \n",
    "\n",
    "Weitere Informationen über Markdown hier: https://daringfireball.net/projects/markdown/syntax"
   ]
  },
  {
   "cell_type": "markdown",
   "metadata": {},
   "source": [
    "### Formatieren von Markdown-Zellen"
   ]
  },
  {
   "cell_type": "markdown",
   "metadata": {},
   "source": [
    "Text kann *kursiv* oder **fett** formatiert werden, indem Sie einen Textblock mit einem einfachen bzw. doppelten * umgeben."
   ]
  },
  {
   "cell_type": "markdown",
   "metadata": {},
   "source": [
    "Text kann verschachtelte itemized oder enumarated Listen enthalten:\n",
    "\n",
    "* One\n",
    "    - Sublist\n",
    "        - This\n",
    "  - Sublist\n",
    "        - That\n",
    "        - The other thing\n",
    "* Two\n",
    "  - Sublist\n",
    "* Three\n",
    "  - Sublist"
   ]
  },
  {
   "cell_type": "markdown",
   "metadata": {},
   "source": [
    "Now another **list**:\n",
    "\n",
    "1. Here we go\n",
    "    1. Sublist\n",
    "    2. Sublist\n",
    "2. There we go\n",
    "3. Now this"
   ]
  },
  {
   "cell_type": "markdown",
   "metadata": {},
   "source": [
    "**Horizontale Linien**:\n",
    "\n",
    "---"
   ]
  },
  {
   "cell_type": "markdown",
   "metadata": {},
   "source": [
    "**Quotes einfügen:**\n",
    "> \"Ich bin ein Berliner\" - United States President John F. Kennedy"
   ]
  },
  {
   "cell_type": "markdown",
   "metadata": {},
   "source": [
    "**Eingebetter Code:**\n",
    "\n",
    "```python\n",
    "    print \"Hello World\"\n",
    "```"
   ]
  },
  {
   "cell_type": "markdown",
   "metadata": {},
   "source": [
    "**HTML-Tabellen**:\n",
    "\n",
    "<table>\n",
    "<tr>\n",
    "<th>Header 1</th>\n",
    "<th>Header 2</th>\n",
    "</tr>\n",
    "<tr>\n",
    "<td>row 1, cell 1</td>\n",
    "<td>row 1, cell 2</td>\n",
    "</tr>\n",
    "<tr>\n",
    "<td>row 2, cell 1</td>\n",
    "<td>row 2, cell 2</td>\n",
    "</tr>\n",
    "</table>"
   ]
  },
  {
   "cell_type": "markdown",
   "metadata": {},
   "source": [
    "### Darstellung von Formeln mit Hilfe von MathJax-aware (Bestandteil Markdown Parser)"
   ]
  },
  {
   "cell_type": "markdown",
   "metadata": {},
   "source": [
    "Der enthaltene Markdown-Parser ist MathJax-fähig. Bedeutet, dass mathematische Ausdrücke unter Verwendung der MathJax-Untermenge von Tex und LaTeX frei einmischen können. Anbei ein Beispiel:"
   ]
  },
  {
   "cell_type": "markdown",
   "metadata": {
    "jp-MarkdownHeadingCollapsed": true,
    "tags": []
   },
   "source": [
    "**The probability of getting (k) heads when flipping (n) coins is**\n"
   ]
  },
  {
   "cell_type": "markdown",
   "metadata": {},
   "source": [
    "\\begin{equation*}\n",
    "P(E)   = {n \\choose k} p^k (1-p)^{ n-k} \n",
    "\\end{equation*}"
   ]
  },
  {
   "cell_type": "markdown",
   "metadata": {},
   "source": [
    "Hier auch noch einmal ein CheatSheet von SqlBak.com, welches wir für die weiteren Erarbeitungen ans Herz legen.\n",
    "\n",
    "![Image](./src/CapJupyter-Notebook-Markdown-Cheatsheet2.PNG)"
   ]
  },
  {
   "cell_type": "markdown",
   "metadata": {},
   "source": [
    "### Referenzierung von Python Klassen und Methoden"
   ]
  },
  {
   "cell_type": "markdown",
   "metadata": {},
   "source": [
    "Es gibt auch die Möglichkeit, dass wir Funktionen von anderen Files importieren und verwenden. Hierfür werden wir in unserem Kurs öffter Gebrauch machen, um uns bei der Datenanalyse auf das wesentliche zu funktionieren.\n",
    "\n",
    "![Class_Example](./src/class_example.PNG)"
   ]
  },
  {
   "cell_type": "code",
   "execution_count": 10,
   "metadata": {},
   "outputs": [],
   "source": [
    "from src.class_example import absolute_value, Bag"
   ]
  },
  {
   "cell_type": "markdown",
   "metadata": {},
   "source": [
    "**Beispiel: Klasse**"
   ]
  },
  {
   "cell_type": "code",
   "execution_count": 11,
   "metadata": {},
   "outputs": [
    {
     "name": "stdout",
     "output_type": "stream",
     "text": [
      "{'data': [1, 2, 2]}\n"
     ]
    }
   ],
   "source": [
    "bag_1 = Bag()\n",
    "bag_1.add(1)\n",
    "bag_1.addtwice(2)\n",
    "print(vars(bag_1))"
   ]
  },
  {
   "cell_type": "markdown",
   "metadata": {},
   "source": [
    "**Beispiel: Funktion**"
   ]
  },
  {
   "cell_type": "code",
   "execution_count": 12,
   "metadata": {},
   "outputs": [
    {
     "data": {
      "text/plain": [
       "5"
      ]
     },
     "execution_count": 12,
     "metadata": {},
     "output_type": "execute_result"
    }
   ],
   "source": [
    "number = -5\n",
    "absolute_value(number)"
   ]
  },
  {
   "cell_type": "markdown",
   "metadata": {},
   "source": [
    "## Übungen fur Jupyer Notebook"
   ]
  },
  {
   "cell_type": "markdown",
   "metadata": {},
   "source": [
    "**Aufgaben**:\n",
    "    \n",
    "1. Füge eine Zelle hinzu, wähle den Typ `Markdown` und füge die Überschrift `Berechnung von pi mit Monte-Carlo-Methoden` mit `Header 3` hinzu\n",
    "2. Dokumentiere die entsprechende Formel in einer neuen Zelle vom Typ `Markdown`. Die Formeln sind hier aufgelistet:\n",
    "    1. square area: $s = (2 r)^2$\n",
    "    2. circle area: $c = \\pi r^2$\n",
    "    3. $c/s = (\\pi r^2) / (4 r^2) = \\pi / 4$\n",
    "    4. $\\pi = 4 * c/s$\n",
    "3. Fügen ein Bild hinzu, um das Konzept zu erklären in einer weiteren Zelle vom Typ `Markdown`. Das Bild kann unter folgenden Path gefunden werden `src/darts.svg`\n",
    "4. Füge eine neue Zelle vom Typ `Code` hinzu und intialisiere eine Variable `num_points` (Anzahl der Würfe) mit dem Wert `1000`\n",
    "5. Importiere die Methode `throw_darts` vom File `src/throw_darts` und führe die Methode aus mit folgenden Code\n",
    "    1. `hits, points = throw_darts(num_points)`\n",
    "    2. Versuche den Code nachzuvollziehen\n",
    "6. Visualisiere die Resultate durch das Importieren der Methode `visualize` und führe die Methode aus mit folgenden Code\n",
    "    1. `visualize(points)`\n",
    "7. Berechne `pi` mit folgenden Code:\n",
    "    1. `fraction = hits / num_points`\n",
    "    2. `4 * fraction`\n",
    "    3. Frage: Ist das Ergebnis korrekt?\n",
    "    4. Bonus: Was passiert, wenn wir von `1000` auf `10000` Würfe gehen?"
   ]
  },
  {
   "cell_type": "markdown",
   "metadata": {},
   "source": [
    "**Lösung:**"
   ]
  },
  {
   "cell_type": "code",
   "execution_count": null,
   "metadata": {},
   "outputs": [],
   "source": [
    "#SOLUTION HERE"
   ]
  },
  {
   "cell_type": "markdown",
   "metadata": {},
   "source": [
    "### Berechnung von pi mit Monte-Carlo-Methoden"
   ]
  },
  {
   "cell_type": "markdown",
   "metadata": {},
   "source": [
    "**Relevante Formeln**:\n",
    "\n",
    "- square area: $s = (2 r)^2$\n",
    "- circle area: $c = \\pi r^2$\n",
    "- $c/s = (\\pi r^2) / (4 r^2) = \\pi / 4$\n",
    "- $\\pi = 4 * c/s$"
   ]
  },
  {
   "cell_type": "markdown",
   "metadata": {},
   "source": [
    "![Darts](src/darts.svg)"
   ]
  },
  {
   "cell_type": "code",
   "execution_count": 22,
   "metadata": {},
   "outputs": [],
   "source": [
    "num_points = 1000"
   ]
  },
  {
   "cell_type": "code",
   "execution_count": 23,
   "metadata": {},
   "outputs": [],
   "source": [
    "from src.throw_darts import throw_darts\n",
    "\n",
    "hits, points = throw_darts(num_points)"
   ]
  },
  {
   "cell_type": "code",
   "execution_count": 24,
   "metadata": {},
   "outputs": [
    {
     "data": {
      "image/png": "[encoded data removed]",
      "text/plain": [
       "<Figure size 432x432 with 1 Axes>"
      ]
     },
     "metadata": {
      "needs_background": "light"
     },
     "output_type": "display_data"
    }
   ],
   "source": [
    "from src.throw_darts import visualize\n",
    "\n",
    "visualize(points)"
   ]
  },
  {
   "cell_type": "code",
   "execution_count": 18,
   "metadata": {},
   "outputs": [
    {
     "data": {
      "text/plain": [
       "3.184"
      ]
     },
     "execution_count": 18,
     "metadata": {},
     "output_type": "execute_result"
    }
   ],
   "source": [
    "fraction = hits / num_points\n",
    "4 * fraction"
   ]
  },
  {
   "cell_type": "markdown",
   "metadata": {},
   "source": [
    "## Weitere Informationen und Ressourcen"
   ]
  },
  {
   "cell_type": "markdown",
   "metadata": {},
   "source": [
    "Wenn Ihr noch weitere Informationen wollt, die Euch dabei helfen besser mit Jupyter Notebook umzugehen, empfehle ich Euch folgende Links und Materialien:"
   ]
  },
  {
   "cell_type": "markdown",
   "metadata": {},
   "source": [
    "- Offizielle Beispiel-Notebooks von Jupyter auf GitHub (https://github.com/jupyter/notebook/tree/master/docs/source/examples/Notebook)\n",
    "- Advanced Tutorial von DataQuest (https://www.dataquest.io/blog/jupyter-notebook-tutorial/)\n",
    "- Advanced Tutorial von DataQuest 2 (https://www.dataquest.io/blog/advanced-jupyter-notebooks-tutorial/)\n",
    "- Tipps, Ticks und Shortcuts (https://www.dataquest.io/blog/jupyter-notebook-tips-tricks-shortcuts/)\n",
    "- More advanced functions (https://towardsdatascience.com/bringing-the-best-out-of-jupyter-notebooks-for-data-science-f0871519ca29)"
   ]
  }
 ],
 "metadata": {
  "kernelspec": {
   "display_name": "Python 3 (ipykernel)",
   "language": "python",
   "name": "python3"
  },
  "language_info": {
   "codemirror_mode": {
    "name": "ipython",
    "version": 3
   },
   "file_extension": ".py",
   "mimetype": "text/x-python",
   "name": "python",
   "nbconvert_exporter": "python",
   "pygments_lexer": "ipython3",
   "version": "3.9.12"
  },
  "toc-autonumbering": true,
  "toc-showcode": false,
  "toc-showmarkdowntxt": false,
  "toc-showtags": false
 },
 "nbformat": 4,
 "nbformat_minor": 4
}

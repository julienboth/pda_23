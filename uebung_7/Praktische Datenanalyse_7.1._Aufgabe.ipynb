{
 "cells": [
  {
   "cell_type": "markdown",
   "id": "057cafae-4669-46fe-a45e-24c26c1750b3",
   "metadata": {},
   "source": [
    "# Übung 7"
   ]
  },
  {
   "cell_type": "code",
   "execution_count": null,
   "id": "af33f65e-1fdf-40a5-a59f-5c7ba233f454",
   "metadata": {},
   "outputs": [],
   "source": [
    "import pandas  as pd #Data manipulation\n",
    "import numpy as np #Data manipulation\n",
    "import matplotlib.pyplot as plt # Visualization\n",
    "import seaborn as sns #Visualization\n",
    "from sklearn.preprocessing import StandardScaler #Data preparation\n",
    "from sklearn.model_selection import train_test_split #Data preparation\n",
    "from sklearn.linear_model import LinearRegression #Modeling\n",
    "from sklearn.tree import DecisionTreeRegressor #Modeling\n",
    "from sklearn.linear_model import LogisticRegression #Modeling\n",
    "from sklearn.naive_bayes import GaussianNB #Modeling\n",
    "from sklearn.cluster import KMeans #Modeling\n",
    "from sklearn.metrics import mean_squared_error #Model evaluation\n",
    "from sklearn.metrics import classification_report #Model evaluation\n",
    "from sklearn.metrics import confusion_matrix #Model evaluation\n",
    "from sklearn.metrics import accuracy_score #Model evaluation"
   ]
  },
  {
   "cell_type": "markdown",
   "id": "658f13b4-d5a9-4e7d-9991-36f5961a955c",
   "metadata": {},
   "source": [
    "![purple-divider](https://user-images.githubusercontent.com/7065401/52071927-c1cd7100-2562-11e9-908a-dde91ba14e59.png)"
   ]
  },
  {
   "cell_type": "markdown",
   "id": "d50d5414-c4c1-476c-bf1d-119eecc50c29",
   "metadata": {},
   "source": [
    "## 1. Regressionsalgorithmen"
   ]
  },
  {
   "cell_type": "markdown",
   "id": "98d1935d-ddde-4ab2-a93f-23c5614af190",
   "metadata": {},
   "source": [
    "Für die erste Aufgabe verwenden wir ein Datenset über Versicherte, und was diese auf Grund Ihrer Informationen als Rate an die jeweilige Versicherung zahlen."
   ]
  },
  {
   "cell_type": "code",
   "execution_count": null,
   "id": "b05deacb-e371-4567-bffc-514b7f2f5cd4",
   "metadata": {},
   "outputs": [],
   "source": [
    "# Importiere den Datensatz\n",
    "path = './src/'\n",
    "insur_df = pd.read_csv(path+'insurance.csv')\n",
    "\n",
    "# Erhalte Überblick über Zeilen und Spalten\n",
    "print('\\nAnzahl der Zeilen und Spalten im Datensatz: ',insur_df.shape)"
   ]
  },
  {
   "cell_type": "code",
   "execution_count": null,
   "id": "8c714f80-05a3-41a9-9dee-7e3516d53a71",
   "metadata": {},
   "outputs": [],
   "source": [
    "# Sehen wir uns die obersten Zeilen und Spalten des Datensatzes an\n",
    "insur_df.head()"
   ]
  },
  {
   "cell_type": "markdown",
   "id": "bb08a884-6cab-4cbd-825d-eadb8bbf2363",
   "metadata": {},
   "source": [
    "Wenn wir uns die Form des Datensatzes ansehen, hat diese den Wert (1338,7). Es gibt also 𝐦=1338 Trainingsbeispiele und 𝐧=7 unabhängige Variablen. Die Zielvariable ist hier die Rate gegenüber der Versicherung und die übrigen sechs Variablen wie Alter, Geschlecht, BMI, Kinder, Raucher, Region sind unabhängige Variablen. Da es mehrere unabhängige Variablen gibt, müssen wir eine **multiple lineare Regression durchführen**."
   ]
  },
  {
   "cell_type": "markdown",
   "id": "be4eeaa9-69af-4484-8867-c3c82c820fdb",
   "metadata": {},
   "source": [
    "---"
   ]
  },
  {
   "cell_type": "markdown",
   "id": "a94094d9-dd97-4ebb-9f57-62e5feccb67d",
   "metadata": {},
   "source": [
    "**Aufgabe 1**: Erstelle ein Streudiagramm mit Hilfe von Seaborns `lmplot()` Funktion. Beschrifte die X- und die Y-Achse und geben der Darstellung einen Titel. Die Eingabevariable auf der X-Achse ist `bmi`, die Ausgabevariable auf der Y-Achse ist `charges`."
   ]
  },
  {
   "cell_type": "code",
   "execution_count": null,
   "id": "61e4041b-f5f4-4668-b5d2-39a6428c9153",
   "metadata": {},
   "outputs": [],
   "source": [
    "### CODE HERE ###"
   ]
  },
  {
   "cell_type": "markdown",
   "id": "64c064d9-2563-4740-af10-164262a96da1",
   "metadata": {},
   "source": [
    "---"
   ]
  },
  {
   "cell_type": "markdown",
   "id": "274e0fb9-2891-489e-82f6-ff4554b74e52",
   "metadata": {},
   "source": [
    "**Aufgabe 2**: Erstelle eine Heatmap mit Hilfe von Seaborn."
   ]
  },
  {
   "cell_type": "code",
   "execution_count": null,
   "id": "7a55b5ca-09b8-4032-b634-fb4adbdba6bc",
   "metadata": {},
   "outputs": [],
   "source": [
    "### CODE HERE ###"
   ]
  },
  {
   "cell_type": "markdown",
   "id": "ef6514be-c883-4403-b5be-1868995bf4d2",
   "metadata": {},
   "source": [
    "---"
   ]
  },
  {
   "cell_type": "markdown",
   "id": "e406a5d4-b9cb-4cf8-abad-52a7e8a1a80b",
   "metadata": {},
   "source": [
    "**Aufgabe 3**: Was ist Eure Interprestation hinsichtlich der dargestellten Heatmap?"
   ]
  },
  {
   "cell_type": "markdown",
   "id": "2a1f1948-8626-4f8c-8317-c712e617ffa3",
   "metadata": {},
   "source": [
    "`### BEGRÜNDUNG HERE ###`"
   ]
  },
  {
   "cell_type": "markdown",
   "id": "ffb4ed2d-e059-41e1-b199-cb5418b3b966",
   "metadata": {},
   "source": [
    "---"
   ]
  },
  {
   "cell_type": "markdown",
   "id": "74c7436a-2c2f-4552-a74d-cdf7175ed626",
   "metadata": {},
   "source": [
    "**Aufgabe 4**: Erstelle zwei Subplots. Das erste hat stellt die `Charges` mit Hilfe von Seaborns `distplot` dar. Der zweite Subplot stellt die Charges nach einer `Log10-Transformation` dar. Gebe beiden Diagrammen einen Titel. Begründe anschließend, warum eine `Log10-Transformation` in dem Fall von Charges vom Vorteil sein kann."
   ]
  },
  {
   "cell_type": "code",
   "execution_count": null,
   "id": "ea26a11a-2e17-457c-a51c-223221f2142e",
   "metadata": {},
   "outputs": [],
   "source": [
    "f= plt.figure(figsize=(12,4))\n",
    "\n",
    "ax=f.add_subplot(121)\n",
    "sns.distplot(insur_df['charges'],bins=50,color='r',ax=ax)\n",
    "ax.set_title('Verteilung der Versicherungsbeiträge')\n",
    "\n",
    "ax=f.add_subplot(122)\n",
    "sns.distplot(np.log10(insur_df['charges']),bins=40,color='b',ax=ax)\n",
    "ax.set_title('Verteilung der Versicherungsbeiträge in $log$ Skala')"
   ]
  },
  {
   "cell_type": "markdown",
   "id": "a840f134-5329-423b-9e9e-b86d7be387e5",
   "metadata": {},
   "source": [
    "`### BEGRÜNDUNG HERE ###`\n",
    "\n",
    "Im linken Diagramm schwanken die Gebühren zwischen 1120 und 63500, das Diagramm ist rechtsschief. Im rechten Diagramm werden wir den natürlichen Logarithmus anwenden, dann tendiert das Diagramm annähernd zur Normalität. für die weitere Analyse werden wir den Logarithmus auf die Zielvariablen anwenden."
   ]
  },
  {
   "cell_type": "markdown",
   "id": "8e507d56-dd78-4cc7-bd1c-a2cb23741afe",
   "metadata": {},
   "source": [
    "---"
   ]
  },
  {
   "cell_type": "markdown",
   "id": "85dfe11f-af3b-4d5f-a516-67d2313447b9",
   "metadata": {},
   "source": [
    "**Aufgabe 5**: Zur Nutzung des Datensatzes müssen die Kategorischen Werte für `['sex','children', 'smoker', 'region']` in einzelne Spalten überführt werden, da diese keiner Ordnung vorliegen. Überführe die Kategorien in separate Spalten, gebe diesen in der Benamung den Prefix `OHE`, droppe das erste Merkmal und nutze den Datentyp `int8`.\n",
    "\n",
    "Nenne den neuen DataFrame `insur_df_ohe`."
   ]
  },
  {
   "cell_type": "code",
   "execution_count": null,
   "id": "3cf2de63-e284-4cf7-80ac-a9613c2656f0",
   "metadata": {},
   "outputs": [],
   "source": [
    "### CODE HERE ###"
   ]
  },
  {
   "cell_type": "markdown",
   "id": "47f71b1f-0b95-4c02-8bb1-12de22b156e3",
   "metadata": {},
   "source": [
    "---"
   ]
  },
  {
   "cell_type": "markdown",
   "id": "7e148d58-effa-4034-bb2e-57c257828dde",
   "metadata": {},
   "source": [
    "**Aufgabe 6**: Transformiere die Spalte `charges` mit Hilfe von Numpys `log` Transformation."
   ]
  },
  {
   "cell_type": "code",
   "execution_count": null,
   "id": "63653004-7d27-4e08-82a1-57e91df9a8f1",
   "metadata": {},
   "outputs": [],
   "source": [
    "### CODE HERE ###"
   ]
  },
  {
   "cell_type": "markdown",
   "id": "b1464bed-5646-444d-8fb4-ae50718db9d8",
   "metadata": {},
   "source": [
    "---"
   ]
  },
  {
   "cell_type": "markdown",
   "id": "d6d696c5-e4b3-4f26-ab46-d911b19c77ca",
   "metadata": {},
   "source": [
    "**Aufgabe 7**: Teile den Datensatz `insur_df_ohe` in Eingabedaten `X` und Ausgabedaten `y` auf. Anschließend führe mit Hilfe von **scikit-learn's** `train_test_split` eine Aufteilung in Trainings- und Testdaten durch. Nutze `random_state=42` und `test_size=0.3`."
   ]
  },
  {
   "cell_type": "code",
   "execution_count": null,
   "id": "40543dd8-6c58-45d3-b6ef-fe853dbcc477",
   "metadata": {},
   "outputs": [],
   "source": [
    "### CODE HERE ###"
   ]
  },
  {
   "cell_type": "markdown",
   "id": "36eb3976-cff9-483e-bd66-3de809932fc7",
   "metadata": {},
   "source": [
    "---"
   ]
  },
  {
   "cell_type": "markdown",
   "id": "3d2a0924-f119-40d5-bcdd-cc9190c8dcc1",
   "metadata": {},
   "source": [
    "**Aufgabe 8**: Setze ein `LinearRegression` Model mit Hilfe von SKlearn auf und trainiere das Model anschließend mit den vorab definierten Trainingsdaten `X_train` und `y_train`."
   ]
  },
  {
   "cell_type": "code",
   "execution_count": null,
   "id": "052264ef-ec41-436f-92a2-371035987749",
   "metadata": {},
   "outputs": [],
   "source": [
    "### CODE HERE ###"
   ]
  },
  {
   "cell_type": "markdown",
   "id": "fbaf1896-8818-4965-9c87-98111bf99451",
   "metadata": {},
   "source": [
    "---"
   ]
  },
  {
   "cell_type": "markdown",
   "id": "b7785666-5f9f-448b-818b-0916c95495ad",
   "metadata": {},
   "source": [
    "**Aufgabe 9**: Erstelle aus den Attributen `coef_` und `feature_names_in_` ein DataFrame und interpretiere die geschätzten Koeffizienten für das lineare Regressionsproblem."
   ]
  },
  {
   "cell_type": "code",
   "execution_count": null,
   "id": "c89a3563-4323-4b90-a33f-3a1a72d7ec96",
   "metadata": {},
   "outputs": [],
   "source": [
    "### CODE HERE ###"
   ]
  },
  {
   "cell_type": "markdown",
   "id": "a72b1040-c701-4c0e-b3ee-a6497ce83b45",
   "metadata": {},
   "source": [
    "`### BEGRÜNDUNG HERE ###`"
   ]
  },
  {
   "cell_type": "markdown",
   "id": "ab611c57-0a98-41e9-924e-7c760dcf80aa",
   "metadata": {},
   "source": [
    "---"
   ]
  },
  {
   "cell_type": "markdown",
   "id": "0465dda8-5cdb-40fe-a4b8-7765801c7a91",
   "metadata": {},
   "source": [
    "**Aufgabe 10**: Erstelle für die Inputdaten der Testmenge `X_test` eine `Prediction` und berechne anschließend den MSE mit `mean_squared_error` von **scikit-learn** mit Hilfe von der `Prediction` und `y_test`."
   ]
  },
  {
   "cell_type": "code",
   "execution_count": null,
   "id": "97a00284-fb4a-4a62-8cf0-fc4bb7f803b6",
   "metadata": {},
   "outputs": [],
   "source": [
    "### CODE HERE ###"
   ]
  },
  {
   "cell_type": "markdown",
   "id": "df4bcd3e-cfb7-474b-a620-c1317f56a526",
   "metadata": {},
   "source": [
    "---"
   ]
  },
  {
   "cell_type": "markdown",
   "id": "50d33ea8-830b-46f6-bf65-b64b08bb1fff",
   "metadata": {},
   "source": [
    "**Aufgabe 11**: Erstelle ein Streudiagramm mit Hilfe von Seaborn, welches die `Prediction` gegen `y_test` darstellt. Gebe der Darstellung einen Titel und interpretiere das Resultat."
   ]
  },
  {
   "cell_type": "code",
   "execution_count": null,
   "id": "534fcb0a-de5a-47a0-a139-e88b847696c3",
   "metadata": {},
   "outputs": [],
   "source": [
    "### CODE HERE ###"
   ]
  },
  {
   "cell_type": "markdown",
   "id": "890bb9bf-b48d-4658-bdae-3d17eb8e5a57",
   "metadata": {},
   "source": [
    "`### BEGRÜNDUNG HERE ###`"
   ]
  },
  {
   "cell_type": "markdown",
   "id": "74536c18-7df7-437a-8605-925b6f6e7cd0",
   "metadata": {},
   "source": [
    "---"
   ]
  },
  {
   "cell_type": "markdown",
   "id": "2285750f-599e-4237-8a08-184cb3eecb63",
   "metadata": {},
   "source": [
    "**Aufgabe 12 (Zusatzaufgabe)**: Erstelle ein Dist-Diagramm mit Hilfe von Seaborn. Der Input ist die Differenz aus `y_test` und `Prediction`. "
   ]
  },
  {
   "cell_type": "code",
   "execution_count": null,
   "id": "ab1ab5b0-b374-4412-836a-8851257d8f73",
   "metadata": {},
   "outputs": [],
   "source": [
    "### CODE HERE ###"
   ]
  },
  {
   "cell_type": "markdown",
   "id": "bc889f96-dfdf-4590-9f17-8bf64cf5d32a",
   "metadata": {},
   "source": [
    "---"
   ]
  },
  {
   "cell_type": "markdown",
   "id": "7b6c598d-6ce5-4d28-975b-5324aa6ec232",
   "metadata": {},
   "source": [
    "**Aufgabe 13**: Setze ein `DecisionTreeClassifier` Model mit Hilfe von SKlearn auf und trainiere das Model anschließend mit den vorab definierten Trainingsdaten `X_train` und `y_train`. Nutze den Parameter `random_state=42`."
   ]
  },
  {
   "cell_type": "code",
   "execution_count": null,
   "id": "c05c9fbc-a2c7-4283-93cf-b908a4cd4bfb",
   "metadata": {},
   "outputs": [],
   "source": [
    "### CODE HERE ###"
   ]
  },
  {
   "cell_type": "markdown",
   "id": "b2ab3068-bc59-44a0-90fa-64157fd50788",
   "metadata": {},
   "source": [
    "---"
   ]
  },
  {
   "cell_type": "markdown",
   "id": "d8816074-3c73-4c28-8d3b-14506eff98cc",
   "metadata": {},
   "source": [
    "**Aufgabe 14**: Erstelle für die Inputdaten der Testmenge `X_test` eine `Prediction` und berechne anschließend den MSE mit `mean_squared_error` von **scikit-learn** mit Hilfe von der `Prediction` und `y_test` für `dtc`."
   ]
  },
  {
   "cell_type": "code",
   "execution_count": null,
   "id": "aba5d7eb-1c87-4228-b32e-cb6fff39b451",
   "metadata": {},
   "outputs": [],
   "source": [
    "### CODE HERE ###"
   ]
  },
  {
   "cell_type": "markdown",
   "id": "2cef0003-8d03-4861-b9a2-06c7f83e0aeb",
   "metadata": {},
   "source": [
    "---"
   ]
  },
  {
   "cell_type": "markdown",
   "id": "d0987821-1beb-42b3-969c-4d037aea8abc",
   "metadata": {},
   "source": [
    "**Aufgabe 15**: Interpretiere und vergleiche die Feature Importance mit den Werten von Linear Regression."
   ]
  },
  {
   "cell_type": "code",
   "execution_count": null,
   "id": "f9b3078b-9630-4e6d-85e9-778a6c3b6253",
   "metadata": {},
   "outputs": [],
   "source": [
    "pd.DataFrame(data = dtc.feature_importances_, index = dtc.feature_names_in_, columns=['coef']).sort_values(by='coef', ascending=False)"
   ]
  },
  {
   "cell_type": "markdown",
   "id": "2ea10f86-0017-422d-a4f0-bed7dc50813c",
   "metadata": {
    "tags": []
   },
   "source": [
    "`### BEGRÜNDUNG HERE ###`"
   ]
  },
  {
   "cell_type": "code",
   "execution_count": null,
   "id": "c781e1b5-bedd-43e4-883a-923189ac5780",
   "metadata": {},
   "outputs": [],
   "source": [
    "from sklearn import tree\n",
    "fig = plt.figure(figsize=(14,10))\n",
    "tree.plot_tree(dtc)\n",
    "plt.show()"
   ]
  },
  {
   "cell_type": "markdown",
   "id": "055f9719-4cf4-41df-afab-19cbce4c8a47",
   "metadata": {},
   "source": [
    "---"
   ]
  },
  {
   "cell_type": "markdown",
   "id": "c89397af-dec3-43eb-8f8d-4221cdc70696",
   "metadata": {},
   "source": [
    "**Aufgabe 16**: Erstelle ein Streudiagramm mit Hilfe von Seaborn, welches die `Prediction` beider Modelle (Linear Regression und Decision Tree Regressior) gegen `y_test` darstellt. Gebe der Darstellung einen Titel und interpretiere das Resultat."
   ]
  },
  {
   "cell_type": "code",
   "execution_count": null,
   "id": "94942b32-9520-4355-9d82-43e3337b0405",
   "metadata": {},
   "outputs": [],
   "source": [
    "### CODE HERE ###"
   ]
  },
  {
   "cell_type": "markdown",
   "id": "f1ba86ed-7bd4-480b-b943-e0aa170dca92",
   "metadata": {},
   "source": [
    "---"
   ]
  },
  {
   "cell_type": "markdown",
   "id": "b8a722af-9072-47dd-8f6d-24a3d6763acc",
   "metadata": {},
   "source": [
    "**Aufgabe 17 (Zusatzaufgabe)**: Erstelle ein Dist-Diagramm mit Hilfe von Seaborn beider Modelle (Linear Regression und Decision Tree Regressior). Der Input ist die Differenz aus `y_test` und `Prediction`."
   ]
  },
  {
   "cell_type": "code",
   "execution_count": null,
   "id": "48a02b05-0ceb-477f-86e7-dfaef0bde81f",
   "metadata": {},
   "outputs": [],
   "source": [
    "### CODE HERE ###"
   ]
  },
  {
   "cell_type": "markdown",
   "id": "61c6532d-b722-4611-8cb0-2c78dcd4cf70",
   "metadata": {},
   "source": [
    "![purple-divider](https://user-images.githubusercontent.com/7065401/52071927-c1cd7100-2562-11e9-908a-dde91ba14e59.png)"
   ]
  },
  {
   "cell_type": "markdown",
   "id": "1be5cbb3-9110-4832-aba7-fec3ba4e3b7e",
   "metadata": {},
   "source": [
    "## 2. Klassifikationsalgorithmen"
   ]
  },
  {
   "cell_type": "markdown",
   "id": "bbc33fda-3c44-4d37-87e4-77f8e386ba1c",
   "metadata": {},
   "source": [
    "Für die Aufgaben für die Klassifikationsalgorithmen habe mich für den beliebten Datensatz [Heart Disease UCI](https://www.kaggle.com/datasets/cherngs/heart-disease-cleveland-uci) auf Kaggle entschieden, um das Vorhandensein von Herzkrankheiten anhand verschiedener gesundheitsbezogener Faktoren vorherzusagen."
   ]
  },
  {
   "cell_type": "code",
   "execution_count": null,
   "id": "97e8489f-bad4-49cd-b683-826c2d71a772",
   "metadata": {},
   "outputs": [],
   "source": [
    "hd_df = pd.read_csv(\"./src/heart_cleveland_upload.csv\")\n",
    "hd_df.head()"
   ]
  },
  {
   "cell_type": "markdown",
   "id": "66f086e2-9ae0-4e38-8091-c82acf2835eb",
   "metadata": {},
   "source": [
    "Verwenden `.info()`, um eine zusammenfassende Ansicht des Datensatzes zu erhalten, einschließlich Datentyp, fehlende Daten und Anzahl der Datensätze."
   ]
  },
  {
   "cell_type": "code",
   "execution_count": null,
   "id": "2aa1f4f6-354c-46ed-bb85-62b0b13ffd82",
   "metadata": {},
   "outputs": [],
   "source": [
    "hd_df.info()"
   ]
  },
  {
   "cell_type": "markdown",
   "id": "a7bea754-46ff-4bb4-8a14-faef11e6e580",
   "metadata": {},
   "source": [
    "---"
   ]
  },
  {
   "cell_type": "markdown",
   "id": "5fa37b41-c446-42a5-98ec-601e6af46928",
   "metadata": {},
   "source": [
    "**Aufgabe 18**: Teile den Datensatz `hd_df` in Eingabedaten `X` und Ausgabedaten `y` (`condition`) auf. Anschließend führe mit Hilfe von **scikit-learn's** `train_test_split` eine Aufteilung in Trainings- und Testdaten durch. Nutze `random_state=42` und `test_size=0.3`."
   ]
  },
  {
   "cell_type": "code",
   "execution_count": null,
   "id": "fa7a8fc9-70a8-44f3-a3dd-a130816848df",
   "metadata": {},
   "outputs": [],
   "source": [
    "### CODE HERE ###"
   ]
  },
  {
   "cell_type": "markdown",
   "id": "0c36b592-f666-4bab-946e-bae9a67a712f",
   "metadata": {},
   "source": [
    "---"
   ]
  },
  {
   "cell_type": "markdown",
   "id": "008edf98-41b3-4d29-94aa-0f108ab79fd6",
   "metadata": {},
   "source": [
    "**Aufgabe 19**: Erstelle eine Liste mit der Variablenbezeichnung `model_pipeline` und füge der Liste zwei Klassifizierungsmodelle zu, `Logistic Regression` und `Guassian Naive Bayes` von **Scikit-Learn**. Nutze für `Logistic Regression` den `solver` `liblinear` und versuche in der Dokumentation zu identifizieren, warum ich diesen initial gewählt habe."
   ]
  },
  {
   "cell_type": "code",
   "execution_count": null,
   "id": "f722553c-e74e-4bc6-b945-0ee31a66ea36",
   "metadata": {},
   "outputs": [],
   "source": [
    "### CODE HERE ###"
   ]
  },
  {
   "cell_type": "markdown",
   "id": "393f9426-0751-457e-9105-78350c4ebc84",
   "metadata": {},
   "source": [
    "---"
   ]
  },
  {
   "cell_type": "markdown",
   "id": "7b5466a3-3d69-4cd6-a2d7-c1cd06a83885",
   "metadata": {},
   "source": [
    "**Aufgabe 20**: Fülle die jeweiligen Lücken in der Model Pipeline aus. Nutze dafür die Kalkulation der Metriken mit Hilfe von **sklearn**."
   ]
  },
  {
   "cell_type": "code",
   "execution_count": null,
   "id": "556a398f-8dcc-4c06-b08a-4cc40445fc24",
   "metadata": {
    "tags": []
   },
   "outputs": [],
   "source": [
    "### CODE HERE ###\n",
    "\n",
    "''' UNCOMMENT FOR CODING\n",
    "model_list = [\"Logistic Regression\", \"Gaussian Naive Bayes\"]\n",
    "acc_list = []\n",
    "cm_list = []\n",
    "\n",
    "for model in model_pipeline:\n",
    "    # Trainiere das Model mit `fit` für `X_train` und `y_train` \n",
    "    \n",
    "    # Erhalte Vorhersage für das jeweilige Model auf `X_test`\n",
    "    y_pred = \n",
    "    # Füge der `acc_list` der Ergebnisse der Methode `accuracy_score` hinzu für `y_test` und `y_pred`\n",
    "    \n",
    "    # Füge der `cm_listz der Ergebnisse der Methode `confusion_matrix` hinzu für `y_test` und `y_pred`\n",
    "''' "
   ]
  },
  {
   "cell_type": "markdown",
   "id": "8ced90d3-0194-4bd6-9327-ecc6d0323556",
   "metadata": {},
   "source": [
    "---"
   ]
  },
  {
   "cell_type": "markdown",
   "id": "f5c0a6e6-7b1a-42b8-a9b2-9e5fa1d8f0f8",
   "metadata": {},
   "source": [
    "Lasst uns nun einen gemeinsamen Blick auf die Ergebnisse werfen. Versucht das Ergebnis bestmöglich zu interpretieren."
   ]
  },
  {
   "cell_type": "code",
   "execution_count": null,
   "id": "7d271089-3215-4378-8e40-b81461e2438c",
   "metadata": {},
   "outputs": [],
   "source": [
    "fig = plt.figure(figsize=(12, 5))\n",
    "for i in range(len(cm_list)):\n",
    "    print(model_list[i] + ' Accuracy Score: ' + str(acc_list[i]))\n",
    "    cm = cm_list[i]\n",
    "    model = model_list[i]\n",
    "    sub=fig.add_subplot(1,2,i+1).set_title(model)\n",
    "    cm_plot = sns.heatmap(cm, annot=True, cmap = 'Blues_r')\n",
    "    cm_plot.set_xlabel('Vorhergesagte Values')\n",
    "    cm_plot.set_ylabel('Tatsächliche Werte')"
   ]
  },
  {
   "cell_type": "markdown",
   "id": "777425c8-7a9d-4611-a7b4-438273a43c81",
   "metadata": {},
   "source": [
    "![purple-divider](https://user-images.githubusercontent.com/7065401/52071927-c1cd7100-2562-11e9-908a-dde91ba14e59.png)"
   ]
  },
  {
   "cell_type": "markdown",
   "id": "1a77d513-7a5f-4af9-ab09-33bff7d0c1c9",
   "metadata": {},
   "source": [
    "## 3. Clustering-Algorithmen"
   ]
  },
  {
   "cell_type": "markdown",
   "id": "8f9c0436-7c12-4a4d-ac01-5d4f5b2fda34",
   "metadata": {},
   "source": [
    "**Informationen zum Dataset:** Wir werden an einem Problem der Kundensegmentierung im Großhandel arbeiten."
   ]
  },
  {
   "cell_type": "code",
   "execution_count": null,
   "id": "af5ec58f-d2c1-4bdf-979b-70e5a76af0f2",
   "metadata": {},
   "outputs": [],
   "source": [
    "# Laden des Datensatzes\n",
    "wc_df = pd.read_csv('./src/Wholesale customers data.csv')\n",
    "\n",
    "# Erste Übersicht über die Daten\n",
    "wc_df.head()"
   ]
  },
  {
   "cell_type": "code",
   "execution_count": null,
   "id": "16bd96ce-1f96-45fe-9318-d754fa2d3d89",
   "metadata": {},
   "outputs": [],
   "source": [
    "# Erhalte eine erste detaillierte Übersicht über die Daten\n",
    "wc_df.info()"
   ]
  },
  {
   "cell_type": "code",
   "execution_count": null,
   "id": "b3279807-2a1e-4ed4-819c-3edd380ea98d",
   "metadata": {},
   "outputs": [],
   "source": [
    "# Erhalte eine erste detaillierte Übersicht über die Daten\n",
    "wc_df.describe()"
   ]
  },
  {
   "cell_type": "markdown",
   "id": "043fe514-996b-4d82-bf5a-75cb27a2ba58",
   "metadata": {},
   "source": [
    "---"
   ]
  },
  {
   "cell_type": "markdown",
   "id": "6628472b-58f5-458e-bbff-456e4bd54a7c",
   "metadata": {},
   "source": [
    "**Aufgabe 21**: Nach der Prüfung, dass alle Werte bereits vollständig sind und als Integer vorhanden, müssen wir die Daten für K-Means auf eine gemeinsame Skalenbasis bringen. Nutze dafür die **Z-Score Transformation** von **SKlearn** über den `StandardScaler`. Sichere den skalierten DataFrame under `wct_df` und überprüfe anschließend das Ergebnis."
   ]
  },
  {
   "cell_type": "code",
   "execution_count": null,
   "id": "912a482f-beae-4da8-aea1-e12d7d436008",
   "metadata": {},
   "outputs": [],
   "source": [
    "### CODE HERE ###"
   ]
  },
  {
   "cell_type": "markdown",
   "id": "afe959a3-191b-45ce-a8f7-72bd1baac81d",
   "metadata": {},
   "source": [
    "Die Größenordnung sollte nun ähnlich aussehen. Als Nächstes erstellen wir eine kmeans-Funktion und passen sie an die Daten an."
   ]
  },
  {
   "cell_type": "markdown",
   "id": "bddf1536-86ff-49b4-b085-428d1b973b9c",
   "metadata": {},
   "source": [
    "---"
   ]
  },
  {
   "cell_type": "markdown",
   "id": "a5cd5552-d33d-41b4-9960-f58e8604465c",
   "metadata": {},
   "source": [
    "**Aufgabe 22**: Erstelle ein Modell mit Hilfe von **SKlearn's** `KMeans` Klasse. Führe als Parameter **zwei Cluster** ein und passe den Algorithmus mit der passenden Funktion anschließend auf das Datenset an."
   ]
  },
  {
   "cell_type": "code",
   "execution_count": null,
   "id": "b3e382b6-1d07-4c06-87cf-957b5c95a04f",
   "metadata": {},
   "outputs": [],
   "source": [
    "### CODE HERE ###"
   ]
  },
  {
   "cell_type": "markdown",
   "id": "94d13e1e-d023-434d-8229-ace6dc2ecb3e",
   "metadata": {},
   "source": [
    "Wir wollen nun bewerten, wie gut die gebildeten Cluster sind. Zu diesem Zweck berechnen wir die Trägheit (**intertia_**) des Clusters.\n",
    "\n",
    "> **inertia_float**: Summe der quadrierten Abstände der Stichproben zu ihrem nächstgelegenen Clusterzentrum, gewichtet mit den Stichprobengewichten, falls angegeben."
   ]
  },
  {
   "cell_type": "code",
   "execution_count": null,
   "id": "8e4d0ef9-b1bd-46f9-a0b0-92e4ba3c4e69",
   "metadata": {},
   "outputs": [],
   "source": [
    "kmeans.inertia_"
   ]
  },
  {
   "cell_type": "markdown",
   "id": "571ade8c-cea9-469c-b74f-98b4f6aa8035",
   "metadata": {},
   "source": [
    "Wir haben einen Trägheitswert von fast **2600**. Nun wollen wir sehen, wie wir die **Elbow Curve** nutzen können, um die optimale Anzahl von Clustern zu bestimmen."
   ]
  },
  {
   "cell_type": "markdown",
   "id": "310217cd-a0d9-4a58-9966-3b9457872df6",
   "metadata": {},
   "source": [
    "---"
   ]
  },
  {
   "cell_type": "markdown",
   "id": "1e0e59b2-6557-4cdb-a735-52e77cda840e",
   "metadata": {},
   "source": [
    "**Aufgabe 23**: Iteriere über KMeans Modelle mit den Cluster Werten von 1 zu 20. Folge der Sequenz:\n",
    "1. Erstelle das Modell für die jeweilige Anzahl der Cluster\n",
    "2. Fitte die Daten auf das jeweilige Modell an\n",
    "3. Erhallte den Trägheitswert und speicher diesen in der Liste `inertia_values`"
   ]
  },
  {
   "cell_type": "code",
   "execution_count": null,
   "id": "c99a7e26-c198-48e6-84c5-60bd4f6a6e88",
   "metadata": {},
   "outputs": [],
   "source": [
    "### CODE HERE ###"
   ]
  },
  {
   "cell_type": "code",
   "execution_count": null,
   "id": "1719411d-20db-4f99-91c4-e28840c58d09",
   "metadata": {},
   "outputs": [],
   "source": [
    "# Überprüfe dein Ergebnis, gibt es 20 Werte in der Liste\n",
    "print(len(inertia_list))\n",
    "print(inertia_list)"
   ]
  },
  {
   "cell_type": "markdown",
   "id": "c0da9989-eed7-41ad-9d2d-e2e17b6ea90f",
   "metadata": {},
   "source": [
    "---"
   ]
  },
  {
   "cell_type": "markdown",
   "id": "990d3553-7643-4342-8815-29679fd64b82",
   "metadata": {},
   "source": [
    "**Aufgabe 24**: Überführe die Ergebnisse in einen Dateframe mit Namen `inertia_df` welches zwei Spalten hat. Eins mit der Anzahl der Cluster mit Namen `Cluster` und eine Spalte mit dem Namen `intertia` mit den eigentlichen Werten."
   ]
  },
  {
   "cell_type": "code",
   "execution_count": null,
   "id": "a3466fcf-d8d4-41a9-a604-c0a4519d5456",
   "metadata": {},
   "outputs": [],
   "source": [
    "### CODE HERE ###"
   ]
  },
  {
   "cell_type": "markdown",
   "id": "de82ac3d-bee5-43d7-80ea-50da9fe038bd",
   "metadata": {},
   "source": [
    "Anschließend visualisieren wir die Resultate."
   ]
  },
  {
   "cell_type": "code",
   "execution_count": null,
   "id": "3f655973-7d08-4629-ace7-4bd1f9c68fbe",
   "metadata": {},
   "outputs": [],
   "source": [
    "plt.figure(figsize=(12,6))\n",
    "plt.plot(inertia_df['Cluster'], inertia_df['Inertia'], marker='o')\n",
    "plt.xlabel('Anzahl der Cluster')\n",
    "plt.ylabel('Trägheitswerte');"
   ]
  },
  {
   "cell_type": "markdown",
   "id": "9b945c59-d3b6-458a-95d5-a41588f75091",
   "metadata": {},
   "source": [
    "---"
   ]
  },
  {
   "cell_type": "markdown",
   "id": "88c3eae9-be92-4ff5-b82e-6a65a22ca431",
   "metadata": {},
   "source": [
    "**Aufgabe 25**: Interpretiere die Ergebnisse, was ist der optimale Punkt aus Deiner Sicht?"
   ]
  },
  {
   "cell_type": "markdown",
   "id": "31349b83-22ce-4fa9-b625-a424448cdb1c",
   "metadata": {},
   "source": [
    "`### BEGRÜNDUNG HERE ###`"
   ]
  },
  {
   "cell_type": "markdown",
   "id": "38d05e4b-9670-41cd-869d-2615de60c0be",
   "metadata": {},
   "source": [
    "**Solution**: Wenn man sich die obige Ellbogenkurve ansieht, kann man eine beliebige Anzahl von Clustern zwischen 5 und 8 wählen. "
   ]
  },
  {
   "cell_type": "markdown",
   "id": "e9591372-93fb-4f65-9639-2273dc63e916",
   "metadata": {},
   "source": [
    "---"
   ]
  },
  {
   "cell_type": "markdown",
   "id": "5d784130-d42b-46bd-9ebc-0a620eb3af03",
   "metadata": {},
   "source": [
    "**Aufgabe 26**: Berechne das Modell mit 6 Clustern und führe danach eine Einteilung Deiner Daten in Cluster durch. Speichere das Ergebnis in der Variable `pred`."
   ]
  },
  {
   "cell_type": "code",
   "execution_count": null,
   "id": "d7886539-c375-4895-963c-d3f832984501",
   "metadata": {},
   "outputs": [],
   "source": [
    "### CODE HERE ###"
   ]
  },
  {
   "cell_type": "markdown",
   "id": "cabff510-3aca-4fad-8747-6111b99a556b",
   "metadata": {},
   "source": [
    "Betrachten wir schließlich die Anzahl der Punkte in jedem der oben gebildeten Cluster."
   ]
  },
  {
   "cell_type": "markdown",
   "id": "e4543e43-2448-443d-b90a-44f868e9c769",
   "metadata": {},
   "source": [
    "---"
   ]
  },
  {
   "cell_type": "markdown",
   "id": "bd46bc1b-f503-4510-a0d3-ffa45eb5459b",
   "metadata": {},
   "source": [
    "**Aufgabe 27**: Überführe das Ergebnis in einen DataFrame mit dem Namen `pred_df`. Der DateFrame sollte neben dem eigentlichen Datensatz eine zusätzliche Spalte haben, welche die `pred` widergibt mit dem Spaltennamen `cluster`. Führe anschließend einen `value_count` durch für die Spalte `cluster`."
   ]
  },
  {
   "cell_type": "code",
   "execution_count": null,
   "id": "a080daf9-920b-4756-88ee-290f8dbfb10f",
   "metadata": {},
   "outputs": [],
   "source": [
    "### CODE HERE ###"
   ]
  },
  {
   "cell_type": "markdown",
   "id": "68548394-470d-454d-b9d7-f12b96a84cce",
   "metadata": {},
   "source": [
    "Des Weiteren können wir die Punkte darstellen, um einen besseren Einblick in die Clusterung zu erhalten."
   ]
  },
  {
   "cell_type": "code",
   "execution_count": null,
   "id": "fa1ff50b-911e-468c-9fb7-a6fae3285115",
   "metadata": {},
   "outputs": [],
   "source": [
    "fig = plt.figure(figsize=(24, 8))\n",
    "\n",
    "sub1 = plt.subplot(1, 3, 1)\n",
    "sub1 = plt.scatter(np.log(pred_df.Fresh), np.log(pred_df.Milk), c=pred_df.cluster, alpha = 0.6, s=15)\n",
    "sub1 = plt.legend(*sub1.legend_elements(),loc=\"lower left\", title=\"Cluster\");\n",
    "\n",
    "sub2 = plt.subplot(1, 3, 2)\n",
    "sub2 = plt.scatter(np.log(pred_df.Grocery), np.log(pred_df.Frozen), c=pred_df.cluster, alpha = 0.6, s=15)\n",
    "sub2 = plt.legend(*sub2.legend_elements(),loc=\"lower left\", title=\"Cluster\");\n",
    "\n",
    "sub2 = plt.subplot(1, 3, 3)\n",
    "sub3 = plt.scatter(np.log(pred_df.Delicassen), np.log(pred_df.Detergents_Paper), c=pred_df.cluster, alpha = 0.6, s=15)\n",
    "sub3 = plt.legend(*sub3.legend_elements(),loc=\"lower left\", title=\"Cluster\");\n",
    "\n",
    "plt.show()"
   ]
  },
  {
   "cell_type": "markdown",
   "id": "af6d2549-677c-4d9e-87ab-36d14a372179",
   "metadata": {},
   "source": [
    "Wenn Ihr noch weitere Visualisierungsmöglichkeiten haben wollt, kann ich Euch diesen [Artikel](https://towardsdatascience.com/visualizing-clusters-with-pythons-matplolib-35ae03d87489) empfehlen!"
   ]
  }
 ],
 "metadata": {
  "kernelspec": {
   "display_name": "Python 3 (ipykernel)",
   "language": "python",
   "name": "python3"
  },
  "language_info": {
   "codemirror_mode": {
    "name": "ipython",
    "version": 3
   },
   "file_extension": ".py",
   "mimetype": "text/x-python",
   "name": "python",
   "nbconvert_exporter": "python",
   "pygments_lexer": "ipython3",
   "version": "3.9.12"
  }
 },
 "nbformat": 4,
 "nbformat_minor": 5
}
